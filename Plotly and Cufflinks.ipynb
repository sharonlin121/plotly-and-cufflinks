{
 "cells": [
  {
   "cell_type": "markdown",
   "metadata": {},
   "source": [
    "## Imports and  Installation"
   ]
  },
  {
   "cell_type": "code",
   "execution_count": 18,
   "metadata": {},
   "outputs": [],
   "source": [
    "import pandas as pd\n",
    "import numpy as np\n",
    "%matplotlib inline"
   ]
  },
  {
   "cell_type": "code",
   "execution_count": 19,
   "metadata": {
    "scrolled": true
   },
   "outputs": [
    {
     "name": "stdout",
     "output_type": "stream",
     "text": [
      "Requirement already satisfied: cufflinks in /Users/linyixi/anaconda3/lib/python3.11/site-packages (0.17.3)\n",
      "Requirement already satisfied: numpy>=1.9.2 in /Users/linyixi/anaconda3/lib/python3.11/site-packages (from cufflinks) (1.24.3)\n",
      "Requirement already satisfied: pandas>=0.19.2 in /Users/linyixi/anaconda3/lib/python3.11/site-packages (from cufflinks) (1.5.3)\n",
      "Requirement already satisfied: plotly>=4.1.1 in /Users/linyixi/anaconda3/lib/python3.11/site-packages (from cufflinks) (5.9.0)\n",
      "Requirement already satisfied: six>=1.9.0 in /Users/linyixi/anaconda3/lib/python3.11/site-packages (from cufflinks) (1.16.0)\n",
      "Requirement already satisfied: colorlover>=0.2.1 in /Users/linyixi/anaconda3/lib/python3.11/site-packages (from cufflinks) (0.3.0)\n",
      "Requirement already satisfied: setuptools>=34.4.1 in /Users/linyixi/anaconda3/lib/python3.11/site-packages (from cufflinks) (68.0.0)\n",
      "Requirement already satisfied: ipython>=5.3.0 in /Users/linyixi/anaconda3/lib/python3.11/site-packages (from cufflinks) (8.12.0)\n",
      "Requirement already satisfied: ipywidgets>=7.0.0 in /Users/linyixi/anaconda3/lib/python3.11/site-packages (from cufflinks) (8.0.4)\n",
      "Requirement already satisfied: backcall in /Users/linyixi/anaconda3/lib/python3.11/site-packages (from ipython>=5.3.0->cufflinks) (0.2.0)\n",
      "Requirement already satisfied: decorator in /Users/linyixi/anaconda3/lib/python3.11/site-packages (from ipython>=5.3.0->cufflinks) (5.1.1)\n",
      "Requirement already satisfied: jedi>=0.16 in /Users/linyixi/anaconda3/lib/python3.11/site-packages (from ipython>=5.3.0->cufflinks) (0.18.1)\n",
      "Requirement already satisfied: matplotlib-inline in /Users/linyixi/anaconda3/lib/python3.11/site-packages (from ipython>=5.3.0->cufflinks) (0.1.6)\n",
      "Requirement already satisfied: pickleshare in /Users/linyixi/anaconda3/lib/python3.11/site-packages (from ipython>=5.3.0->cufflinks) (0.7.5)\n",
      "Requirement already satisfied: prompt-toolkit!=3.0.37,<3.1.0,>=3.0.30 in /Users/linyixi/anaconda3/lib/python3.11/site-packages (from ipython>=5.3.0->cufflinks) (3.0.36)\n",
      "Requirement already satisfied: pygments>=2.4.0 in /Users/linyixi/anaconda3/lib/python3.11/site-packages (from ipython>=5.3.0->cufflinks) (2.15.1)\n",
      "Requirement already satisfied: stack-data in /Users/linyixi/anaconda3/lib/python3.11/site-packages (from ipython>=5.3.0->cufflinks) (0.2.0)\n",
      "Requirement already satisfied: traitlets>=5 in /Users/linyixi/anaconda3/lib/python3.11/site-packages (from ipython>=5.3.0->cufflinks) (5.7.1)\n",
      "Requirement already satisfied: pexpect>4.3 in /Users/linyixi/anaconda3/lib/python3.11/site-packages (from ipython>=5.3.0->cufflinks) (4.8.0)\n",
      "Requirement already satisfied: appnope in /Users/linyixi/anaconda3/lib/python3.11/site-packages (from ipython>=5.3.0->cufflinks) (0.1.2)\n",
      "Requirement already satisfied: ipykernel>=4.5.1 in /Users/linyixi/anaconda3/lib/python3.11/site-packages (from ipywidgets>=7.0.0->cufflinks) (6.19.2)\n",
      "Requirement already satisfied: widgetsnbextension~=4.0 in /Users/linyixi/anaconda3/lib/python3.11/site-packages (from ipywidgets>=7.0.0->cufflinks) (4.0.5)\n",
      "Requirement already satisfied: jupyterlab-widgets~=3.0 in /Users/linyixi/anaconda3/lib/python3.11/site-packages (from ipywidgets>=7.0.0->cufflinks) (3.0.5)\n",
      "Requirement already satisfied: python-dateutil>=2.8.1 in /Users/linyixi/anaconda3/lib/python3.11/site-packages (from pandas>=0.19.2->cufflinks) (2.8.2)\n",
      "Requirement already satisfied: pytz>=2020.1 in /Users/linyixi/anaconda3/lib/python3.11/site-packages (from pandas>=0.19.2->cufflinks) (2022.7)\n",
      "Requirement already satisfied: tenacity>=6.2.0 in /Users/linyixi/anaconda3/lib/python3.11/site-packages (from plotly>=4.1.1->cufflinks) (8.2.2)\n",
      "Requirement already satisfied: comm>=0.1.1 in /Users/linyixi/anaconda3/lib/python3.11/site-packages (from ipykernel>=4.5.1->ipywidgets>=7.0.0->cufflinks) (0.1.2)\n",
      "Requirement already satisfied: debugpy>=1.0 in /Users/linyixi/anaconda3/lib/python3.11/site-packages (from ipykernel>=4.5.1->ipywidgets>=7.0.0->cufflinks) (1.6.7)\n",
      "Requirement already satisfied: jupyter-client>=6.1.12 in /Users/linyixi/anaconda3/lib/python3.11/site-packages (from ipykernel>=4.5.1->ipywidgets>=7.0.0->cufflinks) (7.4.9)\n",
      "Requirement already satisfied: nest-asyncio in /Users/linyixi/anaconda3/lib/python3.11/site-packages (from ipykernel>=4.5.1->ipywidgets>=7.0.0->cufflinks) (1.5.6)\n",
      "Requirement already satisfied: packaging in /Users/linyixi/anaconda3/lib/python3.11/site-packages (from ipykernel>=4.5.1->ipywidgets>=7.0.0->cufflinks) (23.0)\n",
      "Requirement already satisfied: psutil in /Users/linyixi/anaconda3/lib/python3.11/site-packages (from ipykernel>=4.5.1->ipywidgets>=7.0.0->cufflinks) (5.9.0)\n",
      "Requirement already satisfied: pyzmq>=17 in /Users/linyixi/anaconda3/lib/python3.11/site-packages (from ipykernel>=4.5.1->ipywidgets>=7.0.0->cufflinks) (23.2.0)\n",
      "Requirement already satisfied: tornado>=6.1 in /Users/linyixi/anaconda3/lib/python3.11/site-packages (from ipykernel>=4.5.1->ipywidgets>=7.0.0->cufflinks) (6.3.2)\n",
      "Requirement already satisfied: parso<0.9.0,>=0.8.0 in /Users/linyixi/anaconda3/lib/python3.11/site-packages (from jedi>=0.16->ipython>=5.3.0->cufflinks) (0.8.3)\n",
      "Requirement already satisfied: ptyprocess>=0.5 in /Users/linyixi/anaconda3/lib/python3.11/site-packages (from pexpect>4.3->ipython>=5.3.0->cufflinks) (0.7.0)\n",
      "Requirement already satisfied: wcwidth in /Users/linyixi/anaconda3/lib/python3.11/site-packages (from prompt-toolkit!=3.0.37,<3.1.0,>=3.0.30->ipython>=5.3.0->cufflinks) (0.2.5)\n",
      "Requirement already satisfied: executing in /Users/linyixi/anaconda3/lib/python3.11/site-packages (from stack-data->ipython>=5.3.0->cufflinks) (0.8.3)\n",
      "Requirement already satisfied: asttokens in /Users/linyixi/anaconda3/lib/python3.11/site-packages (from stack-data->ipython>=5.3.0->cufflinks) (2.0.5)\n",
      "Requirement already satisfied: pure-eval in /Users/linyixi/anaconda3/lib/python3.11/site-packages (from stack-data->ipython>=5.3.0->cufflinks) (0.2.2)\n",
      "Requirement already satisfied: entrypoints in /Users/linyixi/anaconda3/lib/python3.11/site-packages (from jupyter-client>=6.1.12->ipykernel>=4.5.1->ipywidgets>=7.0.0->cufflinks) (0.4)\n",
      "Requirement already satisfied: jupyter-core>=4.9.2 in /Users/linyixi/anaconda3/lib/python3.11/site-packages (from jupyter-client>=6.1.12->ipykernel>=4.5.1->ipywidgets>=7.0.0->cufflinks) (5.3.0)\n",
      "Requirement already satisfied: platformdirs>=2.5 in /Users/linyixi/anaconda3/lib/python3.11/site-packages (from jupyter-core>=4.9.2->jupyter-client>=6.1.12->ipykernel>=4.5.1->ipywidgets>=7.0.0->cufflinks) (2.5.2)\n",
      "Note: you may need to restart the kernel to use updated packages.\n"
     ]
    }
   ],
   "source": [
    "pip install cufflinks"
   ]
  },
  {
   "cell_type": "code",
   "execution_count": 20,
   "metadata": {},
   "outputs": [
    {
     "name": "stdout",
     "output_type": "stream",
     "text": [
      "5.9.0\n"
     ]
    }
   ],
   "source": [
    "from plotly import __version__\n",
    "from plotly.offline import download_plotlyjs, init_notebook_mode, plot, iplot\n",
    "import cufflinks as cf\n",
    "print(__version__)"
   ]
  },
  {
   "cell_type": "code",
   "execution_count": 21,
   "metadata": {},
   "outputs": [
    {
     "data": {
      "text/html": [
       "        <script type=\"text/javascript\">\n",
       "        window.PlotlyConfig = {MathJaxConfig: 'local'};\n",
       "        if (window.MathJax && window.MathJax.Hub && window.MathJax.Hub.Config) {window.MathJax.Hub.Config({SVG: {font: \"STIX-Web\"}});}\n",
       "        if (typeof require !== 'undefined') {\n",
       "        require.undef(\"plotly\");\n",
       "        requirejs.config({\n",
       "            paths: {\n",
       "                'plotly': ['https://cdn.plot.ly/plotly-2.12.1.min']\n",
       "            }\n",
       "        });\n",
       "        require(['plotly'], function(Plotly) {\n",
       "            window._Plotly = Plotly;\n",
       "        });\n",
       "        }\n",
       "        </script>\n",
       "        "
      ]
     },
     "metadata": {},
     "output_type": "display_data"
    }
   ],
   "source": [
    "# For jupyter notebook\n",
    "init_notebook_mode(connected=True)"
   ]
  },
  {
   "cell_type": "code",
   "execution_count": 22,
   "metadata": {},
   "outputs": [
    {
     "data": {
      "text/html": [
       "        <script type=\"text/javascript\">\n",
       "        window.PlotlyConfig = {MathJaxConfig: 'local'};\n",
       "        if (window.MathJax && window.MathJax.Hub && window.MathJax.Hub.Config) {window.MathJax.Hub.Config({SVG: {font: \"STIX-Web\"}});}\n",
       "        if (typeof require !== 'undefined') {\n",
       "        require.undef(\"plotly\");\n",
       "        requirejs.config({\n",
       "            paths: {\n",
       "                'plotly': ['https://cdn.plot.ly/plotly-2.12.1.min']\n",
       "            }\n",
       "        });\n",
       "        require(['plotly'], function(Plotly) {\n",
       "            window._Plotly = Plotly;\n",
       "        });\n",
       "        }\n",
       "        </script>\n",
       "        "
      ]
     },
     "metadata": {},
     "output_type": "display_data"
    }
   ],
   "source": [
    "# For offline use\n",
    "cf.go_offline()"
   ]
  },
  {
   "cell_type": "markdown",
   "metadata": {},
   "source": [
    "### Fake Data"
   ]
  },
  {
   "cell_type": "code",
   "execution_count": 23,
   "metadata": {},
   "outputs": [],
   "source": [
    "df = pd.DataFrame(np.random.randn(100,4),columns='A B C D'.split())"
   ]
  },
  {
   "cell_type": "code",
   "execution_count": 24,
   "metadata": {},
   "outputs": [
    {
     "data": {
      "text/html": [
       "<div>\n",
       "<style scoped>\n",
       "    .dataframe tbody tr th:only-of-type {\n",
       "        vertical-align: middle;\n",
       "    }\n",
       "\n",
       "    .dataframe tbody tr th {\n",
       "        vertical-align: top;\n",
       "    }\n",
       "\n",
       "    .dataframe thead th {\n",
       "        text-align: right;\n",
       "    }\n",
       "</style>\n",
       "<table border=\"1\" class=\"dataframe\">\n",
       "  <thead>\n",
       "    <tr style=\"text-align: right;\">\n",
       "      <th></th>\n",
       "      <th>A</th>\n",
       "      <th>B</th>\n",
       "      <th>C</th>\n",
       "      <th>D</th>\n",
       "    </tr>\n",
       "  </thead>\n",
       "  <tbody>\n",
       "    <tr>\n",
       "      <th>0</th>\n",
       "      <td>-1.344681</td>\n",
       "      <td>-0.614152</td>\n",
       "      <td>-0.004602</td>\n",
       "      <td>-1.019845</td>\n",
       "    </tr>\n",
       "    <tr>\n",
       "      <th>1</th>\n",
       "      <td>-0.259908</td>\n",
       "      <td>-0.428208</td>\n",
       "      <td>0.790648</td>\n",
       "      <td>0.987737</td>\n",
       "    </tr>\n",
       "    <tr>\n",
       "      <th>2</th>\n",
       "      <td>0.615954</td>\n",
       "      <td>1.560950</td>\n",
       "      <td>-0.035907</td>\n",
       "      <td>-0.000241</td>\n",
       "    </tr>\n",
       "    <tr>\n",
       "      <th>3</th>\n",
       "      <td>-0.325716</td>\n",
       "      <td>-0.016367</td>\n",
       "      <td>0.616207</td>\n",
       "      <td>-0.300950</td>\n",
       "    </tr>\n",
       "    <tr>\n",
       "      <th>4</th>\n",
       "      <td>-1.104512</td>\n",
       "      <td>-0.201557</td>\n",
       "      <td>-0.154118</td>\n",
       "      <td>0.152844</td>\n",
       "    </tr>\n",
       "  </tbody>\n",
       "</table>\n",
       "</div>"
      ],
      "text/plain": [
       "          A         B         C         D\n",
       "0 -1.344681 -0.614152 -0.004602 -1.019845\n",
       "1 -0.259908 -0.428208  0.790648  0.987737\n",
       "2  0.615954  1.560950 -0.035907 -0.000241\n",
       "3 -0.325716 -0.016367  0.616207 -0.300950\n",
       "4 -1.104512 -0.201557 -0.154118  0.152844"
      ]
     },
     "execution_count": 24,
     "metadata": {},
     "output_type": "execute_result"
    }
   ],
   "source": [
    "df.head()"
   ]
  },
  {
   "cell_type": "code",
   "execution_count": 25,
   "metadata": {},
   "outputs": [],
   "source": [
    "df2 = pd.DataFrame({'Category':['A','B','C'],'Values':[32,43,50]})"
   ]
  },
  {
   "cell_type": "code",
   "execution_count": 26,
   "metadata": {},
   "outputs": [
    {
     "data": {
      "text/html": [
       "<div>\n",
       "<style scoped>\n",
       "    .dataframe tbody tr th:only-of-type {\n",
       "        vertical-align: middle;\n",
       "    }\n",
       "\n",
       "    .dataframe tbody tr th {\n",
       "        vertical-align: top;\n",
       "    }\n",
       "\n",
       "    .dataframe thead th {\n",
       "        text-align: right;\n",
       "    }\n",
       "</style>\n",
       "<table border=\"1\" class=\"dataframe\">\n",
       "  <thead>\n",
       "    <tr style=\"text-align: right;\">\n",
       "      <th></th>\n",
       "      <th>Category</th>\n",
       "      <th>Values</th>\n",
       "    </tr>\n",
       "  </thead>\n",
       "  <tbody>\n",
       "    <tr>\n",
       "      <th>0</th>\n",
       "      <td>A</td>\n",
       "      <td>32</td>\n",
       "    </tr>\n",
       "    <tr>\n",
       "      <th>1</th>\n",
       "      <td>B</td>\n",
       "      <td>43</td>\n",
       "    </tr>\n",
       "    <tr>\n",
       "      <th>2</th>\n",
       "      <td>C</td>\n",
       "      <td>50</td>\n",
       "    </tr>\n",
       "  </tbody>\n",
       "</table>\n",
       "</div>"
      ],
      "text/plain": [
       "  Category  Values\n",
       "0        A      32\n",
       "1        B      43\n",
       "2        C      50"
      ]
     },
     "execution_count": 26,
     "metadata": {},
     "output_type": "execute_result"
    }
   ],
   "source": [
    "df2.head()"
   ]
  },
  {
   "cell_type": "markdown",
   "metadata": {},
   "source": [
    "## Using Cufflinks and iplot()\n",
    "\n",
    "* scatter\n",
    "* bar\n",
    "* box\n",
    "* spread\n",
    "* ratio\n",
    "* heatmap\n",
    "* surface\n",
    "* histogram\n",
    "* bubble"
   ]
  },
  {
   "cell_type": "markdown",
   "metadata": {},
   "source": [
    "## Scatter"
   ]
  },
  {
   "cell_type": "code",
   "execution_count": 27,
   "metadata": {},
   "outputs": [
    {
     "data": {
      "application/vnd.plotly.v1+json": {
       "config": {
        "linkText": "Export to plot.ly",
        "plotlyServerURL": "https://plot.ly",
        "showLink": true
       },
       "data": [
        {
         "line": {
          "color": "rgba(255, 153, 51, 1.0)",
          "dash": "solid",
          "shape": "linear",
          "width": 1.3
         },
         "marker": {
          "size": 10,
          "symbol": "circle"
         },
         "mode": "markers",
         "name": "B",
         "text": "",
         "type": "scatter",
         "x": [
          -1.344681348367679,
          -0.25990777378562724,
          0.615954219350596,
          -0.3257161686937772,
          -1.1045124407249927,
          0.9518151688580743,
          -0.4414378956070553,
          0.23744357912241404,
          0.565882233802471,
          -1.4537368232448615,
          -0.3928064280712824,
          -0.5403655950553611,
          1.5032156945366153,
          -1.2813707408278914,
          0.3790274581122027,
          0.8030625060619568,
          0.5778619862717127,
          0.8821066931085245,
          1.6011202145953622,
          0.1494411676678207,
          -1.2175021564890365,
          -0.29325724113695045,
          -2.1132575093678168,
          -0.9418299903447851,
          -0.09413179117591249,
          -0.2212747045116899,
          0.7746388970054674,
          -0.8135424045456192,
          0.12425271139672092,
          -1.7624704443807377,
          -0.43129804068089106,
          -0.20701415863099415,
          0.1362581079714989,
          1.0213604292746619,
          1.4639234917681077,
          0.06314136905130897,
          -0.3384283258846109,
          -1.1690531466628162,
          0.22232591791165796,
          -0.5567602604223021,
          -0.23226829270222443,
          0.07840895108426076,
          1.1997614062549575,
          -0.061344339620039934,
          -0.39606237695467916,
          0.03725642793693573,
          1.2294394862034583,
          -1.7313239545247834,
          -0.7441425575409852,
          -0.7939011286891274,
          -0.04435819607299003,
          0.2152874644731718,
          -2.0602841032029353,
          0.5644320334268482,
          -1.659620457878419,
          0.4784268388998683,
          0.33245834317874495,
          1.3878741299306154,
          0.29292368114595657,
          1.0201915408457543,
          0.03445988614890572,
          0.345844164372107,
          0.8119328705027892,
          -0.4839815041109739,
          1.3833821707367373,
          0.3752824641912273,
          1.3529053280861845,
          0.7265165967816627,
          0.6486102939924626,
          0.045696646528161626,
          1.2169441234170144,
          1.2929966807127653,
          -0.33525951367360135,
          -0.38718286815465025,
          -0.8582896302412307,
          -1.2505385219437037,
          -1.0501771108401305,
          -0.5929062873971976,
          0.2823591333624237,
          0.6458494902237761,
          1.1087442383410073,
          -0.6843307181221185,
          -1.0429217420576782,
          -0.4615367754647887,
          -0.11068167099797399,
          -0.7038412804143902,
          -0.2936115839181303,
          -1.4586237497858365,
          1.1691072424789413,
          0.5852293860683341,
          -1.1572138935089535,
          -1.0601488924464997,
          -0.1955550192748439,
          -0.9876856722615701,
          -0.9680653493598178,
          0.17596996056280834,
          -0.5849896655419029,
          -0.14671716039599272,
          0.7243684341273524,
          0.11233490876531009
         ],
         "y": [
          -0.6141524354932701,
          -0.42820766641829233,
          1.560949685067526,
          -0.016366876742454278,
          -0.201557182599476,
          0.9034252832480001,
          1.1385890108482881,
          0.4997120911452794,
          -0.6431276327177393,
          1.211243606751715,
          0.2980918040802568,
          1.6882964191964656,
          -0.9499289520197146,
          1.3777101777879859,
          1.0133737656196418,
          0.04615459993434687,
          -0.23562220624719996,
          -0.8472394318161616,
          0.9754077003636352,
          -2.029101759723629,
          -1.1458437397532513,
          0.2918229495301508,
          0.42434195105328415,
          0.25507369160860566,
          -1.3105165158007956,
          0.8056262517408992,
          2.5038411972897276,
          0.4425422857014533,
          0.6834958460784702,
          -0.8559521501021329,
          0.704226306192486,
          0.7689311364426078,
          -0.1795506562591025,
          2.478306088606201,
          -0.2542547549818018,
          -1.1130974246268486,
          -0.42565330900895,
          -0.7882386369038422,
          -0.6640291687247452,
          0.263840738476896,
          1.0077497246504774,
          1.2773429952090538,
          0.13115443067251445,
          0.8818786793607682,
          2.309893637608007,
          0.5362686094806232,
          -1.0308434428294522,
          0.6849550586723251,
          -0.3254428018017996,
          -0.21699088590695828,
          1.912387014170751,
          0.17316749761022943,
          0.28761426771826504,
          -0.23278602894871162,
          -0.963319393098557,
          -0.3489916955291253,
          0.26012760903033044,
          -0.835833333730869,
          -1.5623598399882572,
          -0.48015350615792085,
          -0.11944754740327732,
          0.026295999513213333,
          -1.6066286927087363,
          0.5199063448102765,
          0.8664172542597003,
          -1.1601858683315638,
          -0.5774002796857021,
          -1.8834974470349524,
          -0.15062404083992648,
          0.05426744786494283,
          -0.5972182687637029,
          0.35686556322641216,
          0.48590074900782715,
          -2.071759239609643,
          0.7618499638282232,
          0.7723607083493977,
          -0.7630381986102769,
          0.7214067351798614,
          -0.6321096643468237,
          0.9400889761716075,
          -0.40196691099382936,
          0.5046896317639424,
          -0.7693827819522933,
          1.9337472141346586,
          1.59623155576546,
          -0.19753941417329646,
          1.3088444111805233,
          0.33406737873388115,
          -0.38386304887850126,
          -1.0559312901442477,
          1.477786415541574,
          -0.8874523338969589,
          0.05986850818355528,
          -1.4419205278408251,
          1.2693587674606999,
          -0.16826747808312903,
          0.7558397102656929,
          -0.04481720578448385,
          0.12303505012631975,
          0.1151332956318505
         ]
        }
       ],
       "layout": {
        "legend": {
         "bgcolor": "#F5F6F9",
         "font": {
          "color": "#4D5663"
         }
        },
        "paper_bgcolor": "#F5F6F9",
        "plot_bgcolor": "#F5F6F9",
        "template": {
         "data": {
          "bar": [
           {
            "error_x": {
             "color": "#2a3f5f"
            },
            "error_y": {
             "color": "#2a3f5f"
            },
            "marker": {
             "line": {
              "color": "#E5ECF6",
              "width": 0.5
             },
             "pattern": {
              "fillmode": "overlay",
              "size": 10,
              "solidity": 0.2
             }
            },
            "type": "bar"
           }
          ],
          "barpolar": [
           {
            "marker": {
             "line": {
              "color": "#E5ECF6",
              "width": 0.5
             },
             "pattern": {
              "fillmode": "overlay",
              "size": 10,
              "solidity": 0.2
             }
            },
            "type": "barpolar"
           }
          ],
          "carpet": [
           {
            "aaxis": {
             "endlinecolor": "#2a3f5f",
             "gridcolor": "white",
             "linecolor": "white",
             "minorgridcolor": "white",
             "startlinecolor": "#2a3f5f"
            },
            "baxis": {
             "endlinecolor": "#2a3f5f",
             "gridcolor": "white",
             "linecolor": "white",
             "minorgridcolor": "white",
             "startlinecolor": "#2a3f5f"
            },
            "type": "carpet"
           }
          ],
          "choropleth": [
           {
            "colorbar": {
             "outlinewidth": 0,
             "ticks": ""
            },
            "type": "choropleth"
           }
          ],
          "contour": [
           {
            "colorbar": {
             "outlinewidth": 0,
             "ticks": ""
            },
            "colorscale": [
             [
              0,
              "#0d0887"
             ],
             [
              0.1111111111111111,
              "#46039f"
             ],
             [
              0.2222222222222222,
              "#7201a8"
             ],
             [
              0.3333333333333333,
              "#9c179e"
             ],
             [
              0.4444444444444444,
              "#bd3786"
             ],
             [
              0.5555555555555556,
              "#d8576b"
             ],
             [
              0.6666666666666666,
              "#ed7953"
             ],
             [
              0.7777777777777778,
              "#fb9f3a"
             ],
             [
              0.8888888888888888,
              "#fdca26"
             ],
             [
              1,
              "#f0f921"
             ]
            ],
            "type": "contour"
           }
          ],
          "contourcarpet": [
           {
            "colorbar": {
             "outlinewidth": 0,
             "ticks": ""
            },
            "type": "contourcarpet"
           }
          ],
          "heatmap": [
           {
            "colorbar": {
             "outlinewidth": 0,
             "ticks": ""
            },
            "colorscale": [
             [
              0,
              "#0d0887"
             ],
             [
              0.1111111111111111,
              "#46039f"
             ],
             [
              0.2222222222222222,
              "#7201a8"
             ],
             [
              0.3333333333333333,
              "#9c179e"
             ],
             [
              0.4444444444444444,
              "#bd3786"
             ],
             [
              0.5555555555555556,
              "#d8576b"
             ],
             [
              0.6666666666666666,
              "#ed7953"
             ],
             [
              0.7777777777777778,
              "#fb9f3a"
             ],
             [
              0.8888888888888888,
              "#fdca26"
             ],
             [
              1,
              "#f0f921"
             ]
            ],
            "type": "heatmap"
           }
          ],
          "heatmapgl": [
           {
            "colorbar": {
             "outlinewidth": 0,
             "ticks": ""
            },
            "colorscale": [
             [
              0,
              "#0d0887"
             ],
             [
              0.1111111111111111,
              "#46039f"
             ],
             [
              0.2222222222222222,
              "#7201a8"
             ],
             [
              0.3333333333333333,
              "#9c179e"
             ],
             [
              0.4444444444444444,
              "#bd3786"
             ],
             [
              0.5555555555555556,
              "#d8576b"
             ],
             [
              0.6666666666666666,
              "#ed7953"
             ],
             [
              0.7777777777777778,
              "#fb9f3a"
             ],
             [
              0.8888888888888888,
              "#fdca26"
             ],
             [
              1,
              "#f0f921"
             ]
            ],
            "type": "heatmapgl"
           }
          ],
          "histogram": [
           {
            "marker": {
             "pattern": {
              "fillmode": "overlay",
              "size": 10,
              "solidity": 0.2
             }
            },
            "type": "histogram"
           }
          ],
          "histogram2d": [
           {
            "colorbar": {
             "outlinewidth": 0,
             "ticks": ""
            },
            "colorscale": [
             [
              0,
              "#0d0887"
             ],
             [
              0.1111111111111111,
              "#46039f"
             ],
             [
              0.2222222222222222,
              "#7201a8"
             ],
             [
              0.3333333333333333,
              "#9c179e"
             ],
             [
              0.4444444444444444,
              "#bd3786"
             ],
             [
              0.5555555555555556,
              "#d8576b"
             ],
             [
              0.6666666666666666,
              "#ed7953"
             ],
             [
              0.7777777777777778,
              "#fb9f3a"
             ],
             [
              0.8888888888888888,
              "#fdca26"
             ],
             [
              1,
              "#f0f921"
             ]
            ],
            "type": "histogram2d"
           }
          ],
          "histogram2dcontour": [
           {
            "colorbar": {
             "outlinewidth": 0,
             "ticks": ""
            },
            "colorscale": [
             [
              0,
              "#0d0887"
             ],
             [
              0.1111111111111111,
              "#46039f"
             ],
             [
              0.2222222222222222,
              "#7201a8"
             ],
             [
              0.3333333333333333,
              "#9c179e"
             ],
             [
              0.4444444444444444,
              "#bd3786"
             ],
             [
              0.5555555555555556,
              "#d8576b"
             ],
             [
              0.6666666666666666,
              "#ed7953"
             ],
             [
              0.7777777777777778,
              "#fb9f3a"
             ],
             [
              0.8888888888888888,
              "#fdca26"
             ],
             [
              1,
              "#f0f921"
             ]
            ],
            "type": "histogram2dcontour"
           }
          ],
          "mesh3d": [
           {
            "colorbar": {
             "outlinewidth": 0,
             "ticks": ""
            },
            "type": "mesh3d"
           }
          ],
          "parcoords": [
           {
            "line": {
             "colorbar": {
              "outlinewidth": 0,
              "ticks": ""
             }
            },
            "type": "parcoords"
           }
          ],
          "pie": [
           {
            "automargin": true,
            "type": "pie"
           }
          ],
          "scatter": [
           {
            "fillpattern": {
             "fillmode": "overlay",
             "size": 10,
             "solidity": 0.2
            },
            "type": "scatter"
           }
          ],
          "scatter3d": [
           {
            "line": {
             "colorbar": {
              "outlinewidth": 0,
              "ticks": ""
             }
            },
            "marker": {
             "colorbar": {
              "outlinewidth": 0,
              "ticks": ""
             }
            },
            "type": "scatter3d"
           }
          ],
          "scattercarpet": [
           {
            "marker": {
             "colorbar": {
              "outlinewidth": 0,
              "ticks": ""
             }
            },
            "type": "scattercarpet"
           }
          ],
          "scattergeo": [
           {
            "marker": {
             "colorbar": {
              "outlinewidth": 0,
              "ticks": ""
             }
            },
            "type": "scattergeo"
           }
          ],
          "scattergl": [
           {
            "marker": {
             "colorbar": {
              "outlinewidth": 0,
              "ticks": ""
             }
            },
            "type": "scattergl"
           }
          ],
          "scattermapbox": [
           {
            "marker": {
             "colorbar": {
              "outlinewidth": 0,
              "ticks": ""
             }
            },
            "type": "scattermapbox"
           }
          ],
          "scatterpolar": [
           {
            "marker": {
             "colorbar": {
              "outlinewidth": 0,
              "ticks": ""
             }
            },
            "type": "scatterpolar"
           }
          ],
          "scatterpolargl": [
           {
            "marker": {
             "colorbar": {
              "outlinewidth": 0,
              "ticks": ""
             }
            },
            "type": "scatterpolargl"
           }
          ],
          "scatterternary": [
           {
            "marker": {
             "colorbar": {
              "outlinewidth": 0,
              "ticks": ""
             }
            },
            "type": "scatterternary"
           }
          ],
          "surface": [
           {
            "colorbar": {
             "outlinewidth": 0,
             "ticks": ""
            },
            "colorscale": [
             [
              0,
              "#0d0887"
             ],
             [
              0.1111111111111111,
              "#46039f"
             ],
             [
              0.2222222222222222,
              "#7201a8"
             ],
             [
              0.3333333333333333,
              "#9c179e"
             ],
             [
              0.4444444444444444,
              "#bd3786"
             ],
             [
              0.5555555555555556,
              "#d8576b"
             ],
             [
              0.6666666666666666,
              "#ed7953"
             ],
             [
              0.7777777777777778,
              "#fb9f3a"
             ],
             [
              0.8888888888888888,
              "#fdca26"
             ],
             [
              1,
              "#f0f921"
             ]
            ],
            "type": "surface"
           }
          ],
          "table": [
           {
            "cells": {
             "fill": {
              "color": "#EBF0F8"
             },
             "line": {
              "color": "white"
             }
            },
            "header": {
             "fill": {
              "color": "#C8D4E3"
             },
             "line": {
              "color": "white"
             }
            },
            "type": "table"
           }
          ]
         },
         "layout": {
          "annotationdefaults": {
           "arrowcolor": "#2a3f5f",
           "arrowhead": 0,
           "arrowwidth": 1
          },
          "autotypenumbers": "strict",
          "coloraxis": {
           "colorbar": {
            "outlinewidth": 0,
            "ticks": ""
           }
          },
          "colorscale": {
           "diverging": [
            [
             0,
             "#8e0152"
            ],
            [
             0.1,
             "#c51b7d"
            ],
            [
             0.2,
             "#de77ae"
            ],
            [
             0.3,
             "#f1b6da"
            ],
            [
             0.4,
             "#fde0ef"
            ],
            [
             0.5,
             "#f7f7f7"
            ],
            [
             0.6,
             "#e6f5d0"
            ],
            [
             0.7,
             "#b8e186"
            ],
            [
             0.8,
             "#7fbc41"
            ],
            [
             0.9,
             "#4d9221"
            ],
            [
             1,
             "#276419"
            ]
           ],
           "sequential": [
            [
             0,
             "#0d0887"
            ],
            [
             0.1111111111111111,
             "#46039f"
            ],
            [
             0.2222222222222222,
             "#7201a8"
            ],
            [
             0.3333333333333333,
             "#9c179e"
            ],
            [
             0.4444444444444444,
             "#bd3786"
            ],
            [
             0.5555555555555556,
             "#d8576b"
            ],
            [
             0.6666666666666666,
             "#ed7953"
            ],
            [
             0.7777777777777778,
             "#fb9f3a"
            ],
            [
             0.8888888888888888,
             "#fdca26"
            ],
            [
             1,
             "#f0f921"
            ]
           ],
           "sequentialminus": [
            [
             0,
             "#0d0887"
            ],
            [
             0.1111111111111111,
             "#46039f"
            ],
            [
             0.2222222222222222,
             "#7201a8"
            ],
            [
             0.3333333333333333,
             "#9c179e"
            ],
            [
             0.4444444444444444,
             "#bd3786"
            ],
            [
             0.5555555555555556,
             "#d8576b"
            ],
            [
             0.6666666666666666,
             "#ed7953"
            ],
            [
             0.7777777777777778,
             "#fb9f3a"
            ],
            [
             0.8888888888888888,
             "#fdca26"
            ],
            [
             1,
             "#f0f921"
            ]
           ]
          },
          "colorway": [
           "#636efa",
           "#EF553B",
           "#00cc96",
           "#ab63fa",
           "#FFA15A",
           "#19d3f3",
           "#FF6692",
           "#B6E880",
           "#FF97FF",
           "#FECB52"
          ],
          "font": {
           "color": "#2a3f5f"
          },
          "geo": {
           "bgcolor": "white",
           "lakecolor": "white",
           "landcolor": "#E5ECF6",
           "showlakes": true,
           "showland": true,
           "subunitcolor": "white"
          },
          "hoverlabel": {
           "align": "left"
          },
          "hovermode": "closest",
          "mapbox": {
           "style": "light"
          },
          "paper_bgcolor": "white",
          "plot_bgcolor": "#E5ECF6",
          "polar": {
           "angularaxis": {
            "gridcolor": "white",
            "linecolor": "white",
            "ticks": ""
           },
           "bgcolor": "#E5ECF6",
           "radialaxis": {
            "gridcolor": "white",
            "linecolor": "white",
            "ticks": ""
           }
          },
          "scene": {
           "xaxis": {
            "backgroundcolor": "#E5ECF6",
            "gridcolor": "white",
            "gridwidth": 2,
            "linecolor": "white",
            "showbackground": true,
            "ticks": "",
            "zerolinecolor": "white"
           },
           "yaxis": {
            "backgroundcolor": "#E5ECF6",
            "gridcolor": "white",
            "gridwidth": 2,
            "linecolor": "white",
            "showbackground": true,
            "ticks": "",
            "zerolinecolor": "white"
           },
           "zaxis": {
            "backgroundcolor": "#E5ECF6",
            "gridcolor": "white",
            "gridwidth": 2,
            "linecolor": "white",
            "showbackground": true,
            "ticks": "",
            "zerolinecolor": "white"
           }
          },
          "shapedefaults": {
           "line": {
            "color": "#2a3f5f"
           }
          },
          "ternary": {
           "aaxis": {
            "gridcolor": "white",
            "linecolor": "white",
            "ticks": ""
           },
           "baxis": {
            "gridcolor": "white",
            "linecolor": "white",
            "ticks": ""
           },
           "bgcolor": "#E5ECF6",
           "caxis": {
            "gridcolor": "white",
            "linecolor": "white",
            "ticks": ""
           }
          },
          "title": {
           "x": 0.05
          },
          "xaxis": {
           "automargin": true,
           "gridcolor": "white",
           "linecolor": "white",
           "ticks": "",
           "title": {
            "standoff": 15
           },
           "zerolinecolor": "white",
           "zerolinewidth": 2
          },
          "yaxis": {
           "automargin": true,
           "gridcolor": "white",
           "linecolor": "white",
           "ticks": "",
           "title": {
            "standoff": 15
           },
           "zerolinecolor": "white",
           "zerolinewidth": 2
          }
         }
        },
        "title": {
         "font": {
          "color": "#4D5663"
         }
        },
        "xaxis": {
         "gridcolor": "#E1E5ED",
         "showgrid": true,
         "tickfont": {
          "color": "#4D5663"
         },
         "title": {
          "font": {
           "color": "#4D5663"
          },
          "text": ""
         },
         "zerolinecolor": "#E1E5ED"
        },
        "yaxis": {
         "gridcolor": "#E1E5ED",
         "showgrid": true,
         "tickfont": {
          "color": "#4D5663"
         },
         "title": {
          "font": {
           "color": "#4D5663"
          },
          "text": ""
         },
         "zerolinecolor": "#E1E5ED"
        }
       }
      },
      "text/html": [
       "<div>                            <div id=\"4cabe70c-bbf2-449c-a106-c7e0ecd0cbeb\" class=\"plotly-graph-div\" style=\"height:525px; width:100%;\"></div>            <script type=\"text/javascript\">                require([\"plotly\"], function(Plotly) {                    window.PLOTLYENV=window.PLOTLYENV || {};\n",
       "                    window.PLOTLYENV.BASE_URL='https://plot.ly';                                    if (document.getElementById(\"4cabe70c-bbf2-449c-a106-c7e0ecd0cbeb\")) {                    Plotly.newPlot(                        \"4cabe70c-bbf2-449c-a106-c7e0ecd0cbeb\",                        [{\"line\":{\"color\":\"rgba(255, 153, 51, 1.0)\",\"dash\":\"solid\",\"shape\":\"linear\",\"width\":1.3},\"marker\":{\"size\":10,\"symbol\":\"circle\"},\"mode\":\"markers\",\"name\":\"B\",\"text\":\"\",\"x\":[-1.344681348367679,-0.25990777378562724,0.615954219350596,-0.3257161686937772,-1.1045124407249927,0.9518151688580743,-0.4414378956070553,0.23744357912241404,0.565882233802471,-1.4537368232448615,-0.3928064280712824,-0.5403655950553611,1.5032156945366153,-1.2813707408278914,0.3790274581122027,0.8030625060619568,0.5778619862717127,0.8821066931085245,1.6011202145953622,0.1494411676678207,-1.2175021564890365,-0.29325724113695045,-2.1132575093678168,-0.9418299903447851,-0.09413179117591249,-0.2212747045116899,0.7746388970054674,-0.8135424045456192,0.12425271139672092,-1.7624704443807377,-0.43129804068089106,-0.20701415863099415,0.1362581079714989,1.0213604292746619,1.4639234917681077,0.06314136905130897,-0.3384283258846109,-1.1690531466628162,0.22232591791165796,-0.5567602604223021,-0.23226829270222443,0.07840895108426076,1.1997614062549575,-0.061344339620039934,-0.39606237695467916,0.03725642793693573,1.2294394862034583,-1.7313239545247834,-0.7441425575409852,-0.7939011286891274,-0.04435819607299003,0.2152874644731718,-2.0602841032029353,0.5644320334268482,-1.659620457878419,0.4784268388998683,0.33245834317874495,1.3878741299306154,0.29292368114595657,1.0201915408457543,0.03445988614890572,0.345844164372107,0.8119328705027892,-0.4839815041109739,1.3833821707367373,0.3752824641912273,1.3529053280861845,0.7265165967816627,0.6486102939924626,0.045696646528161626,1.2169441234170144,1.2929966807127653,-0.33525951367360135,-0.38718286815465025,-0.8582896302412307,-1.2505385219437037,-1.0501771108401305,-0.5929062873971976,0.2823591333624237,0.6458494902237761,1.1087442383410073,-0.6843307181221185,-1.0429217420576782,-0.4615367754647887,-0.11068167099797399,-0.7038412804143902,-0.2936115839181303,-1.4586237497858365,1.1691072424789413,0.5852293860683341,-1.1572138935089535,-1.0601488924464997,-0.1955550192748439,-0.9876856722615701,-0.9680653493598178,0.17596996056280834,-0.5849896655419029,-0.14671716039599272,0.7243684341273524,0.11233490876531009],\"y\":[-0.6141524354932701,-0.42820766641829233,1.560949685067526,-0.016366876742454278,-0.201557182599476,0.9034252832480001,1.1385890108482881,0.4997120911452794,-0.6431276327177393,1.211243606751715,0.2980918040802568,1.6882964191964656,-0.9499289520197146,1.3777101777879859,1.0133737656196418,0.04615459993434687,-0.23562220624719996,-0.8472394318161616,0.9754077003636352,-2.029101759723629,-1.1458437397532513,0.2918229495301508,0.42434195105328415,0.25507369160860566,-1.3105165158007956,0.8056262517408992,2.5038411972897276,0.4425422857014533,0.6834958460784702,-0.8559521501021329,0.704226306192486,0.7689311364426078,-0.1795506562591025,2.478306088606201,-0.2542547549818018,-1.1130974246268486,-0.42565330900895,-0.7882386369038422,-0.6640291687247452,0.263840738476896,1.0077497246504774,1.2773429952090538,0.13115443067251445,0.8818786793607682,2.309893637608007,0.5362686094806232,-1.0308434428294522,0.6849550586723251,-0.3254428018017996,-0.21699088590695828,1.912387014170751,0.17316749761022943,0.28761426771826504,-0.23278602894871162,-0.963319393098557,-0.3489916955291253,0.26012760903033044,-0.835833333730869,-1.5623598399882572,-0.48015350615792085,-0.11944754740327732,0.026295999513213333,-1.6066286927087363,0.5199063448102765,0.8664172542597003,-1.1601858683315638,-0.5774002796857021,-1.8834974470349524,-0.15062404083992648,0.05426744786494283,-0.5972182687637029,0.35686556322641216,0.48590074900782715,-2.071759239609643,0.7618499638282232,0.7723607083493977,-0.7630381986102769,0.7214067351798614,-0.6321096643468237,0.9400889761716075,-0.40196691099382936,0.5046896317639424,-0.7693827819522933,1.9337472141346586,1.59623155576546,-0.19753941417329646,1.3088444111805233,0.33406737873388115,-0.38386304887850126,-1.0559312901442477,1.477786415541574,-0.8874523338969589,0.05986850818355528,-1.4419205278408251,1.2693587674606999,-0.16826747808312903,0.7558397102656929,-0.04481720578448385,0.12303505012631975,0.1151332956318505],\"type\":\"scatter\"}],                        {\"legend\":{\"bgcolor\":\"#F5F6F9\",\"font\":{\"color\":\"#4D5663\"}},\"paper_bgcolor\":\"#F5F6F9\",\"plot_bgcolor\":\"#F5F6F9\",\"template\":{\"data\":{\"barpolar\":[{\"marker\":{\"line\":{\"color\":\"#E5ECF6\",\"width\":0.5},\"pattern\":{\"fillmode\":\"overlay\",\"size\":10,\"solidity\":0.2}},\"type\":\"barpolar\"}],\"bar\":[{\"error_x\":{\"color\":\"#2a3f5f\"},\"error_y\":{\"color\":\"#2a3f5f\"},\"marker\":{\"line\":{\"color\":\"#E5ECF6\",\"width\":0.5},\"pattern\":{\"fillmode\":\"overlay\",\"size\":10,\"solidity\":0.2}},\"type\":\"bar\"}],\"carpet\":[{\"aaxis\":{\"endlinecolor\":\"#2a3f5f\",\"gridcolor\":\"white\",\"linecolor\":\"white\",\"minorgridcolor\":\"white\",\"startlinecolor\":\"#2a3f5f\"},\"baxis\":{\"endlinecolor\":\"#2a3f5f\",\"gridcolor\":\"white\",\"linecolor\":\"white\",\"minorgridcolor\":\"white\",\"startlinecolor\":\"#2a3f5f\"},\"type\":\"carpet\"}],\"choropleth\":[{\"colorbar\":{\"outlinewidth\":0,\"ticks\":\"\"},\"type\":\"choropleth\"}],\"contourcarpet\":[{\"colorbar\":{\"outlinewidth\":0,\"ticks\":\"\"},\"type\":\"contourcarpet\"}],\"contour\":[{\"colorbar\":{\"outlinewidth\":0,\"ticks\":\"\"},\"colorscale\":[[0.0,\"#0d0887\"],[0.1111111111111111,\"#46039f\"],[0.2222222222222222,\"#7201a8\"],[0.3333333333333333,\"#9c179e\"],[0.4444444444444444,\"#bd3786\"],[0.5555555555555556,\"#d8576b\"],[0.6666666666666666,\"#ed7953\"],[0.7777777777777778,\"#fb9f3a\"],[0.8888888888888888,\"#fdca26\"],[1.0,\"#f0f921\"]],\"type\":\"contour\"}],\"heatmapgl\":[{\"colorbar\":{\"outlinewidth\":0,\"ticks\":\"\"},\"colorscale\":[[0.0,\"#0d0887\"],[0.1111111111111111,\"#46039f\"],[0.2222222222222222,\"#7201a8\"],[0.3333333333333333,\"#9c179e\"],[0.4444444444444444,\"#bd3786\"],[0.5555555555555556,\"#d8576b\"],[0.6666666666666666,\"#ed7953\"],[0.7777777777777778,\"#fb9f3a\"],[0.8888888888888888,\"#fdca26\"],[1.0,\"#f0f921\"]],\"type\":\"heatmapgl\"}],\"heatmap\":[{\"colorbar\":{\"outlinewidth\":0,\"ticks\":\"\"},\"colorscale\":[[0.0,\"#0d0887\"],[0.1111111111111111,\"#46039f\"],[0.2222222222222222,\"#7201a8\"],[0.3333333333333333,\"#9c179e\"],[0.4444444444444444,\"#bd3786\"],[0.5555555555555556,\"#d8576b\"],[0.6666666666666666,\"#ed7953\"],[0.7777777777777778,\"#fb9f3a\"],[0.8888888888888888,\"#fdca26\"],[1.0,\"#f0f921\"]],\"type\":\"heatmap\"}],\"histogram2dcontour\":[{\"colorbar\":{\"outlinewidth\":0,\"ticks\":\"\"},\"colorscale\":[[0.0,\"#0d0887\"],[0.1111111111111111,\"#46039f\"],[0.2222222222222222,\"#7201a8\"],[0.3333333333333333,\"#9c179e\"],[0.4444444444444444,\"#bd3786\"],[0.5555555555555556,\"#d8576b\"],[0.6666666666666666,\"#ed7953\"],[0.7777777777777778,\"#fb9f3a\"],[0.8888888888888888,\"#fdca26\"],[1.0,\"#f0f921\"]],\"type\":\"histogram2dcontour\"}],\"histogram2d\":[{\"colorbar\":{\"outlinewidth\":0,\"ticks\":\"\"},\"colorscale\":[[0.0,\"#0d0887\"],[0.1111111111111111,\"#46039f\"],[0.2222222222222222,\"#7201a8\"],[0.3333333333333333,\"#9c179e\"],[0.4444444444444444,\"#bd3786\"],[0.5555555555555556,\"#d8576b\"],[0.6666666666666666,\"#ed7953\"],[0.7777777777777778,\"#fb9f3a\"],[0.8888888888888888,\"#fdca26\"],[1.0,\"#f0f921\"]],\"type\":\"histogram2d\"}],\"histogram\":[{\"marker\":{\"pattern\":{\"fillmode\":\"overlay\",\"size\":10,\"solidity\":0.2}},\"type\":\"histogram\"}],\"mesh3d\":[{\"colorbar\":{\"outlinewidth\":0,\"ticks\":\"\"},\"type\":\"mesh3d\"}],\"parcoords\":[{\"line\":{\"colorbar\":{\"outlinewidth\":0,\"ticks\":\"\"}},\"type\":\"parcoords\"}],\"pie\":[{\"automargin\":true,\"type\":\"pie\"}],\"scatter3d\":[{\"line\":{\"colorbar\":{\"outlinewidth\":0,\"ticks\":\"\"}},\"marker\":{\"colorbar\":{\"outlinewidth\":0,\"ticks\":\"\"}},\"type\":\"scatter3d\"}],\"scattercarpet\":[{\"marker\":{\"colorbar\":{\"outlinewidth\":0,\"ticks\":\"\"}},\"type\":\"scattercarpet\"}],\"scattergeo\":[{\"marker\":{\"colorbar\":{\"outlinewidth\":0,\"ticks\":\"\"}},\"type\":\"scattergeo\"}],\"scattergl\":[{\"marker\":{\"colorbar\":{\"outlinewidth\":0,\"ticks\":\"\"}},\"type\":\"scattergl\"}],\"scattermapbox\":[{\"marker\":{\"colorbar\":{\"outlinewidth\":0,\"ticks\":\"\"}},\"type\":\"scattermapbox\"}],\"scatterpolargl\":[{\"marker\":{\"colorbar\":{\"outlinewidth\":0,\"ticks\":\"\"}},\"type\":\"scatterpolargl\"}],\"scatterpolar\":[{\"marker\":{\"colorbar\":{\"outlinewidth\":0,\"ticks\":\"\"}},\"type\":\"scatterpolar\"}],\"scatter\":[{\"fillpattern\":{\"fillmode\":\"overlay\",\"size\":10,\"solidity\":0.2},\"type\":\"scatter\"}],\"scatterternary\":[{\"marker\":{\"colorbar\":{\"outlinewidth\":0,\"ticks\":\"\"}},\"type\":\"scatterternary\"}],\"surface\":[{\"colorbar\":{\"outlinewidth\":0,\"ticks\":\"\"},\"colorscale\":[[0.0,\"#0d0887\"],[0.1111111111111111,\"#46039f\"],[0.2222222222222222,\"#7201a8\"],[0.3333333333333333,\"#9c179e\"],[0.4444444444444444,\"#bd3786\"],[0.5555555555555556,\"#d8576b\"],[0.6666666666666666,\"#ed7953\"],[0.7777777777777778,\"#fb9f3a\"],[0.8888888888888888,\"#fdca26\"],[1.0,\"#f0f921\"]],\"type\":\"surface\"}],\"table\":[{\"cells\":{\"fill\":{\"color\":\"#EBF0F8\"},\"line\":{\"color\":\"white\"}},\"header\":{\"fill\":{\"color\":\"#C8D4E3\"},\"line\":{\"color\":\"white\"}},\"type\":\"table\"}]},\"layout\":{\"annotationdefaults\":{\"arrowcolor\":\"#2a3f5f\",\"arrowhead\":0,\"arrowwidth\":1},\"autotypenumbers\":\"strict\",\"coloraxis\":{\"colorbar\":{\"outlinewidth\":0,\"ticks\":\"\"}},\"colorscale\":{\"diverging\":[[0,\"#8e0152\"],[0.1,\"#c51b7d\"],[0.2,\"#de77ae\"],[0.3,\"#f1b6da\"],[0.4,\"#fde0ef\"],[0.5,\"#f7f7f7\"],[0.6,\"#e6f5d0\"],[0.7,\"#b8e186\"],[0.8,\"#7fbc41\"],[0.9,\"#4d9221\"],[1,\"#276419\"]],\"sequential\":[[0.0,\"#0d0887\"],[0.1111111111111111,\"#46039f\"],[0.2222222222222222,\"#7201a8\"],[0.3333333333333333,\"#9c179e\"],[0.4444444444444444,\"#bd3786\"],[0.5555555555555556,\"#d8576b\"],[0.6666666666666666,\"#ed7953\"],[0.7777777777777778,\"#fb9f3a\"],[0.8888888888888888,\"#fdca26\"],[1.0,\"#f0f921\"]],\"sequentialminus\":[[0.0,\"#0d0887\"],[0.1111111111111111,\"#46039f\"],[0.2222222222222222,\"#7201a8\"],[0.3333333333333333,\"#9c179e\"],[0.4444444444444444,\"#bd3786\"],[0.5555555555555556,\"#d8576b\"],[0.6666666666666666,\"#ed7953\"],[0.7777777777777778,\"#fb9f3a\"],[0.8888888888888888,\"#fdca26\"],[1.0,\"#f0f921\"]]},\"colorway\":[\"#636efa\",\"#EF553B\",\"#00cc96\",\"#ab63fa\",\"#FFA15A\",\"#19d3f3\",\"#FF6692\",\"#B6E880\",\"#FF97FF\",\"#FECB52\"],\"font\":{\"color\":\"#2a3f5f\"},\"geo\":{\"bgcolor\":\"white\",\"lakecolor\":\"white\",\"landcolor\":\"#E5ECF6\",\"showlakes\":true,\"showland\":true,\"subunitcolor\":\"white\"},\"hoverlabel\":{\"align\":\"left\"},\"hovermode\":\"closest\",\"mapbox\":{\"style\":\"light\"},\"paper_bgcolor\":\"white\",\"plot_bgcolor\":\"#E5ECF6\",\"polar\":{\"angularaxis\":{\"gridcolor\":\"white\",\"linecolor\":\"white\",\"ticks\":\"\"},\"bgcolor\":\"#E5ECF6\",\"radialaxis\":{\"gridcolor\":\"white\",\"linecolor\":\"white\",\"ticks\":\"\"}},\"scene\":{\"xaxis\":{\"backgroundcolor\":\"#E5ECF6\",\"gridcolor\":\"white\",\"gridwidth\":2,\"linecolor\":\"white\",\"showbackground\":true,\"ticks\":\"\",\"zerolinecolor\":\"white\"},\"yaxis\":{\"backgroundcolor\":\"#E5ECF6\",\"gridcolor\":\"white\",\"gridwidth\":2,\"linecolor\":\"white\",\"showbackground\":true,\"ticks\":\"\",\"zerolinecolor\":\"white\"},\"zaxis\":{\"backgroundcolor\":\"#E5ECF6\",\"gridcolor\":\"white\",\"gridwidth\":2,\"linecolor\":\"white\",\"showbackground\":true,\"ticks\":\"\",\"zerolinecolor\":\"white\"}},\"shapedefaults\":{\"line\":{\"color\":\"#2a3f5f\"}},\"ternary\":{\"aaxis\":{\"gridcolor\":\"white\",\"linecolor\":\"white\",\"ticks\":\"\"},\"baxis\":{\"gridcolor\":\"white\",\"linecolor\":\"white\",\"ticks\":\"\"},\"bgcolor\":\"#E5ECF6\",\"caxis\":{\"gridcolor\":\"white\",\"linecolor\":\"white\",\"ticks\":\"\"}},\"title\":{\"x\":0.05},\"xaxis\":{\"automargin\":true,\"gridcolor\":\"white\",\"linecolor\":\"white\",\"ticks\":\"\",\"title\":{\"standoff\":15},\"zerolinecolor\":\"white\",\"zerolinewidth\":2},\"yaxis\":{\"automargin\":true,\"gridcolor\":\"white\",\"linecolor\":\"white\",\"ticks\":\"\",\"title\":{\"standoff\":15},\"zerolinecolor\":\"white\",\"zerolinewidth\":2}}},\"title\":{\"font\":{\"color\":\"#4D5663\"}},\"xaxis\":{\"gridcolor\":\"#E1E5ED\",\"showgrid\":true,\"tickfont\":{\"color\":\"#4D5663\"},\"title\":{\"font\":{\"color\":\"#4D5663\"},\"text\":\"\"},\"zerolinecolor\":\"#E1E5ED\"},\"yaxis\":{\"gridcolor\":\"#E1E5ED\",\"showgrid\":true,\"tickfont\":{\"color\":\"#4D5663\"},\"title\":{\"font\":{\"color\":\"#4D5663\"},\"text\":\"\"},\"zerolinecolor\":\"#E1E5ED\"}},                        {\"showLink\": true, \"linkText\": \"Export to plot.ly\", \"plotlyServerURL\": \"https://plot.ly\", \"responsive\": true}                    ).then(function(){\n",
       "                            \n",
       "var gd = document.getElementById('4cabe70c-bbf2-449c-a106-c7e0ecd0cbeb');\n",
       "var x = new MutationObserver(function (mutations, observer) {{\n",
       "        var display = window.getComputedStyle(gd).display;\n",
       "        if (!display || display === 'none') {{\n",
       "            console.log([gd, 'removed!']);\n",
       "            Plotly.purge(gd);\n",
       "            observer.disconnect();\n",
       "        }}\n",
       "}});\n",
       "\n",
       "// Listen for the removal of the full notebook cells\n",
       "var notebookContainer = gd.closest('#notebook-container');\n",
       "if (notebookContainer) {{\n",
       "    x.observe(notebookContainer, {childList: true});\n",
       "}}\n",
       "\n",
       "// Listen for the clearing of the current output cell\n",
       "var outputEl = gd.closest('.output');\n",
       "if (outputEl) {{\n",
       "    x.observe(outputEl, {childList: true});\n",
       "}}\n",
       "\n",
       "                        })                };                });            </script>        </div>"
      ]
     },
     "metadata": {},
     "output_type": "display_data"
    }
   ],
   "source": [
    "df.iplot(kind='scatter',x='A',y='B',mode='markers',size=10)\n",
    "#size=make markers larger"
   ]
  },
  {
   "cell_type": "markdown",
   "metadata": {},
   "source": [
    "## Bar Plots"
   ]
  },
  {
   "cell_type": "code",
   "execution_count": 28,
   "metadata": {},
   "outputs": [
    {
     "data": {
      "application/vnd.plotly.v1+json": {
       "config": {
        "linkText": "Export to plot.ly",
        "plotlyServerURL": "https://plot.ly",
        "showLink": true
       },
       "data": [
        {
         "marker": {
          "color": "rgba(255, 153, 51, 0.6)",
          "line": {
           "color": "rgba(255, 153, 51, 1.0)",
           "width": 1
          }
         },
         "name": "Values",
         "orientation": "v",
         "text": "",
         "type": "bar",
         "x": [
          "A",
          "B",
          "C"
         ],
         "y": [
          32,
          43,
          50
         ]
        }
       ],
       "layout": {
        "legend": {
         "bgcolor": "#F5F6F9",
         "font": {
          "color": "#4D5663"
         }
        },
        "paper_bgcolor": "#F5F6F9",
        "plot_bgcolor": "#F5F6F9",
        "template": {
         "data": {
          "bar": [
           {
            "error_x": {
             "color": "#2a3f5f"
            },
            "error_y": {
             "color": "#2a3f5f"
            },
            "marker": {
             "line": {
              "color": "#E5ECF6",
              "width": 0.5
             },
             "pattern": {
              "fillmode": "overlay",
              "size": 10,
              "solidity": 0.2
             }
            },
            "type": "bar"
           }
          ],
          "barpolar": [
           {
            "marker": {
             "line": {
              "color": "#E5ECF6",
              "width": 0.5
             },
             "pattern": {
              "fillmode": "overlay",
              "size": 10,
              "solidity": 0.2
             }
            },
            "type": "barpolar"
           }
          ],
          "carpet": [
           {
            "aaxis": {
             "endlinecolor": "#2a3f5f",
             "gridcolor": "white",
             "linecolor": "white",
             "minorgridcolor": "white",
             "startlinecolor": "#2a3f5f"
            },
            "baxis": {
             "endlinecolor": "#2a3f5f",
             "gridcolor": "white",
             "linecolor": "white",
             "minorgridcolor": "white",
             "startlinecolor": "#2a3f5f"
            },
            "type": "carpet"
           }
          ],
          "choropleth": [
           {
            "colorbar": {
             "outlinewidth": 0,
             "ticks": ""
            },
            "type": "choropleth"
           }
          ],
          "contour": [
           {
            "colorbar": {
             "outlinewidth": 0,
             "ticks": ""
            },
            "colorscale": [
             [
              0,
              "#0d0887"
             ],
             [
              0.1111111111111111,
              "#46039f"
             ],
             [
              0.2222222222222222,
              "#7201a8"
             ],
             [
              0.3333333333333333,
              "#9c179e"
             ],
             [
              0.4444444444444444,
              "#bd3786"
             ],
             [
              0.5555555555555556,
              "#d8576b"
             ],
             [
              0.6666666666666666,
              "#ed7953"
             ],
             [
              0.7777777777777778,
              "#fb9f3a"
             ],
             [
              0.8888888888888888,
              "#fdca26"
             ],
             [
              1,
              "#f0f921"
             ]
            ],
            "type": "contour"
           }
          ],
          "contourcarpet": [
           {
            "colorbar": {
             "outlinewidth": 0,
             "ticks": ""
            },
            "type": "contourcarpet"
           }
          ],
          "heatmap": [
           {
            "colorbar": {
             "outlinewidth": 0,
             "ticks": ""
            },
            "colorscale": [
             [
              0,
              "#0d0887"
             ],
             [
              0.1111111111111111,
              "#46039f"
             ],
             [
              0.2222222222222222,
              "#7201a8"
             ],
             [
              0.3333333333333333,
              "#9c179e"
             ],
             [
              0.4444444444444444,
              "#bd3786"
             ],
             [
              0.5555555555555556,
              "#d8576b"
             ],
             [
              0.6666666666666666,
              "#ed7953"
             ],
             [
              0.7777777777777778,
              "#fb9f3a"
             ],
             [
              0.8888888888888888,
              "#fdca26"
             ],
             [
              1,
              "#f0f921"
             ]
            ],
            "type": "heatmap"
           }
          ],
          "heatmapgl": [
           {
            "colorbar": {
             "outlinewidth": 0,
             "ticks": ""
            },
            "colorscale": [
             [
              0,
              "#0d0887"
             ],
             [
              0.1111111111111111,
              "#46039f"
             ],
             [
              0.2222222222222222,
              "#7201a8"
             ],
             [
              0.3333333333333333,
              "#9c179e"
             ],
             [
              0.4444444444444444,
              "#bd3786"
             ],
             [
              0.5555555555555556,
              "#d8576b"
             ],
             [
              0.6666666666666666,
              "#ed7953"
             ],
             [
              0.7777777777777778,
              "#fb9f3a"
             ],
             [
              0.8888888888888888,
              "#fdca26"
             ],
             [
              1,
              "#f0f921"
             ]
            ],
            "type": "heatmapgl"
           }
          ],
          "histogram": [
           {
            "marker": {
             "pattern": {
              "fillmode": "overlay",
              "size": 10,
              "solidity": 0.2
             }
            },
            "type": "histogram"
           }
          ],
          "histogram2d": [
           {
            "colorbar": {
             "outlinewidth": 0,
             "ticks": ""
            },
            "colorscale": [
             [
              0,
              "#0d0887"
             ],
             [
              0.1111111111111111,
              "#46039f"
             ],
             [
              0.2222222222222222,
              "#7201a8"
             ],
             [
              0.3333333333333333,
              "#9c179e"
             ],
             [
              0.4444444444444444,
              "#bd3786"
             ],
             [
              0.5555555555555556,
              "#d8576b"
             ],
             [
              0.6666666666666666,
              "#ed7953"
             ],
             [
              0.7777777777777778,
              "#fb9f3a"
             ],
             [
              0.8888888888888888,
              "#fdca26"
             ],
             [
              1,
              "#f0f921"
             ]
            ],
            "type": "histogram2d"
           }
          ],
          "histogram2dcontour": [
           {
            "colorbar": {
             "outlinewidth": 0,
             "ticks": ""
            },
            "colorscale": [
             [
              0,
              "#0d0887"
             ],
             [
              0.1111111111111111,
              "#46039f"
             ],
             [
              0.2222222222222222,
              "#7201a8"
             ],
             [
              0.3333333333333333,
              "#9c179e"
             ],
             [
              0.4444444444444444,
              "#bd3786"
             ],
             [
              0.5555555555555556,
              "#d8576b"
             ],
             [
              0.6666666666666666,
              "#ed7953"
             ],
             [
              0.7777777777777778,
              "#fb9f3a"
             ],
             [
              0.8888888888888888,
              "#fdca26"
             ],
             [
              1,
              "#f0f921"
             ]
            ],
            "type": "histogram2dcontour"
           }
          ],
          "mesh3d": [
           {
            "colorbar": {
             "outlinewidth": 0,
             "ticks": ""
            },
            "type": "mesh3d"
           }
          ],
          "parcoords": [
           {
            "line": {
             "colorbar": {
              "outlinewidth": 0,
              "ticks": ""
             }
            },
            "type": "parcoords"
           }
          ],
          "pie": [
           {
            "automargin": true,
            "type": "pie"
           }
          ],
          "scatter": [
           {
            "fillpattern": {
             "fillmode": "overlay",
             "size": 10,
             "solidity": 0.2
            },
            "type": "scatter"
           }
          ],
          "scatter3d": [
           {
            "line": {
             "colorbar": {
              "outlinewidth": 0,
              "ticks": ""
             }
            },
            "marker": {
             "colorbar": {
              "outlinewidth": 0,
              "ticks": ""
             }
            },
            "type": "scatter3d"
           }
          ],
          "scattercarpet": [
           {
            "marker": {
             "colorbar": {
              "outlinewidth": 0,
              "ticks": ""
             }
            },
            "type": "scattercarpet"
           }
          ],
          "scattergeo": [
           {
            "marker": {
             "colorbar": {
              "outlinewidth": 0,
              "ticks": ""
             }
            },
            "type": "scattergeo"
           }
          ],
          "scattergl": [
           {
            "marker": {
             "colorbar": {
              "outlinewidth": 0,
              "ticks": ""
             }
            },
            "type": "scattergl"
           }
          ],
          "scattermapbox": [
           {
            "marker": {
             "colorbar": {
              "outlinewidth": 0,
              "ticks": ""
             }
            },
            "type": "scattermapbox"
           }
          ],
          "scatterpolar": [
           {
            "marker": {
             "colorbar": {
              "outlinewidth": 0,
              "ticks": ""
             }
            },
            "type": "scatterpolar"
           }
          ],
          "scatterpolargl": [
           {
            "marker": {
             "colorbar": {
              "outlinewidth": 0,
              "ticks": ""
             }
            },
            "type": "scatterpolargl"
           }
          ],
          "scatterternary": [
           {
            "marker": {
             "colorbar": {
              "outlinewidth": 0,
              "ticks": ""
             }
            },
            "type": "scatterternary"
           }
          ],
          "surface": [
           {
            "colorbar": {
             "outlinewidth": 0,
             "ticks": ""
            },
            "colorscale": [
             [
              0,
              "#0d0887"
             ],
             [
              0.1111111111111111,
              "#46039f"
             ],
             [
              0.2222222222222222,
              "#7201a8"
             ],
             [
              0.3333333333333333,
              "#9c179e"
             ],
             [
              0.4444444444444444,
              "#bd3786"
             ],
             [
              0.5555555555555556,
              "#d8576b"
             ],
             [
              0.6666666666666666,
              "#ed7953"
             ],
             [
              0.7777777777777778,
              "#fb9f3a"
             ],
             [
              0.8888888888888888,
              "#fdca26"
             ],
             [
              1,
              "#f0f921"
             ]
            ],
            "type": "surface"
           }
          ],
          "table": [
           {
            "cells": {
             "fill": {
              "color": "#EBF0F8"
             },
             "line": {
              "color": "white"
             }
            },
            "header": {
             "fill": {
              "color": "#C8D4E3"
             },
             "line": {
              "color": "white"
             }
            },
            "type": "table"
           }
          ]
         },
         "layout": {
          "annotationdefaults": {
           "arrowcolor": "#2a3f5f",
           "arrowhead": 0,
           "arrowwidth": 1
          },
          "autotypenumbers": "strict",
          "coloraxis": {
           "colorbar": {
            "outlinewidth": 0,
            "ticks": ""
           }
          },
          "colorscale": {
           "diverging": [
            [
             0,
             "#8e0152"
            ],
            [
             0.1,
             "#c51b7d"
            ],
            [
             0.2,
             "#de77ae"
            ],
            [
             0.3,
             "#f1b6da"
            ],
            [
             0.4,
             "#fde0ef"
            ],
            [
             0.5,
             "#f7f7f7"
            ],
            [
             0.6,
             "#e6f5d0"
            ],
            [
             0.7,
             "#b8e186"
            ],
            [
             0.8,
             "#7fbc41"
            ],
            [
             0.9,
             "#4d9221"
            ],
            [
             1,
             "#276419"
            ]
           ],
           "sequential": [
            [
             0,
             "#0d0887"
            ],
            [
             0.1111111111111111,
             "#46039f"
            ],
            [
             0.2222222222222222,
             "#7201a8"
            ],
            [
             0.3333333333333333,
             "#9c179e"
            ],
            [
             0.4444444444444444,
             "#bd3786"
            ],
            [
             0.5555555555555556,
             "#d8576b"
            ],
            [
             0.6666666666666666,
             "#ed7953"
            ],
            [
             0.7777777777777778,
             "#fb9f3a"
            ],
            [
             0.8888888888888888,
             "#fdca26"
            ],
            [
             1,
             "#f0f921"
            ]
           ],
           "sequentialminus": [
            [
             0,
             "#0d0887"
            ],
            [
             0.1111111111111111,
             "#46039f"
            ],
            [
             0.2222222222222222,
             "#7201a8"
            ],
            [
             0.3333333333333333,
             "#9c179e"
            ],
            [
             0.4444444444444444,
             "#bd3786"
            ],
            [
             0.5555555555555556,
             "#d8576b"
            ],
            [
             0.6666666666666666,
             "#ed7953"
            ],
            [
             0.7777777777777778,
             "#fb9f3a"
            ],
            [
             0.8888888888888888,
             "#fdca26"
            ],
            [
             1,
             "#f0f921"
            ]
           ]
          },
          "colorway": [
           "#636efa",
           "#EF553B",
           "#00cc96",
           "#ab63fa",
           "#FFA15A",
           "#19d3f3",
           "#FF6692",
           "#B6E880",
           "#FF97FF",
           "#FECB52"
          ],
          "font": {
           "color": "#2a3f5f"
          },
          "geo": {
           "bgcolor": "white",
           "lakecolor": "white",
           "landcolor": "#E5ECF6",
           "showlakes": true,
           "showland": true,
           "subunitcolor": "white"
          },
          "hoverlabel": {
           "align": "left"
          },
          "hovermode": "closest",
          "mapbox": {
           "style": "light"
          },
          "paper_bgcolor": "white",
          "plot_bgcolor": "#E5ECF6",
          "polar": {
           "angularaxis": {
            "gridcolor": "white",
            "linecolor": "white",
            "ticks": ""
           },
           "bgcolor": "#E5ECF6",
           "radialaxis": {
            "gridcolor": "white",
            "linecolor": "white",
            "ticks": ""
           }
          },
          "scene": {
           "xaxis": {
            "backgroundcolor": "#E5ECF6",
            "gridcolor": "white",
            "gridwidth": 2,
            "linecolor": "white",
            "showbackground": true,
            "ticks": "",
            "zerolinecolor": "white"
           },
           "yaxis": {
            "backgroundcolor": "#E5ECF6",
            "gridcolor": "white",
            "gridwidth": 2,
            "linecolor": "white",
            "showbackground": true,
            "ticks": "",
            "zerolinecolor": "white"
           },
           "zaxis": {
            "backgroundcolor": "#E5ECF6",
            "gridcolor": "white",
            "gridwidth": 2,
            "linecolor": "white",
            "showbackground": true,
            "ticks": "",
            "zerolinecolor": "white"
           }
          },
          "shapedefaults": {
           "line": {
            "color": "#2a3f5f"
           }
          },
          "ternary": {
           "aaxis": {
            "gridcolor": "white",
            "linecolor": "white",
            "ticks": ""
           },
           "baxis": {
            "gridcolor": "white",
            "linecolor": "white",
            "ticks": ""
           },
           "bgcolor": "#E5ECF6",
           "caxis": {
            "gridcolor": "white",
            "linecolor": "white",
            "ticks": ""
           }
          },
          "title": {
           "x": 0.05
          },
          "xaxis": {
           "automargin": true,
           "gridcolor": "white",
           "linecolor": "white",
           "ticks": "",
           "title": {
            "standoff": 15
           },
           "zerolinecolor": "white",
           "zerolinewidth": 2
          },
          "yaxis": {
           "automargin": true,
           "gridcolor": "white",
           "linecolor": "white",
           "ticks": "",
           "title": {
            "standoff": 15
           },
           "zerolinecolor": "white",
           "zerolinewidth": 2
          }
         }
        },
        "title": {
         "font": {
          "color": "#4D5663"
         }
        },
        "xaxis": {
         "gridcolor": "#E1E5ED",
         "showgrid": true,
         "tickfont": {
          "color": "#4D5663"
         },
         "title": {
          "font": {
           "color": "#4D5663"
          },
          "text": ""
         },
         "zerolinecolor": "#E1E5ED"
        },
        "yaxis": {
         "gridcolor": "#E1E5ED",
         "showgrid": true,
         "tickfont": {
          "color": "#4D5663"
         },
         "title": {
          "font": {
           "color": "#4D5663"
          },
          "text": ""
         },
         "zerolinecolor": "#E1E5ED"
        }
       }
      },
      "text/html": [
       "<div>                            <div id=\"73bc1af9-37e3-4b07-bef5-73912f054c0f\" class=\"plotly-graph-div\" style=\"height:525px; width:100%;\"></div>            <script type=\"text/javascript\">                require([\"plotly\"], function(Plotly) {                    window.PLOTLYENV=window.PLOTLYENV || {};\n",
       "                    window.PLOTLYENV.BASE_URL='https://plot.ly';                                    if (document.getElementById(\"73bc1af9-37e3-4b07-bef5-73912f054c0f\")) {                    Plotly.newPlot(                        \"73bc1af9-37e3-4b07-bef5-73912f054c0f\",                        [{\"marker\":{\"color\":\"rgba(255, 153, 51, 0.6)\",\"line\":{\"color\":\"rgba(255, 153, 51, 1.0)\",\"width\":1}},\"name\":\"Values\",\"orientation\":\"v\",\"text\":\"\",\"x\":[\"A\",\"B\",\"C\"],\"y\":[32,43,50],\"type\":\"bar\"}],                        {\"legend\":{\"bgcolor\":\"#F5F6F9\",\"font\":{\"color\":\"#4D5663\"}},\"paper_bgcolor\":\"#F5F6F9\",\"plot_bgcolor\":\"#F5F6F9\",\"template\":{\"data\":{\"barpolar\":[{\"marker\":{\"line\":{\"color\":\"#E5ECF6\",\"width\":0.5},\"pattern\":{\"fillmode\":\"overlay\",\"size\":10,\"solidity\":0.2}},\"type\":\"barpolar\"}],\"bar\":[{\"error_x\":{\"color\":\"#2a3f5f\"},\"error_y\":{\"color\":\"#2a3f5f\"},\"marker\":{\"line\":{\"color\":\"#E5ECF6\",\"width\":0.5},\"pattern\":{\"fillmode\":\"overlay\",\"size\":10,\"solidity\":0.2}},\"type\":\"bar\"}],\"carpet\":[{\"aaxis\":{\"endlinecolor\":\"#2a3f5f\",\"gridcolor\":\"white\",\"linecolor\":\"white\",\"minorgridcolor\":\"white\",\"startlinecolor\":\"#2a3f5f\"},\"baxis\":{\"endlinecolor\":\"#2a3f5f\",\"gridcolor\":\"white\",\"linecolor\":\"white\",\"minorgridcolor\":\"white\",\"startlinecolor\":\"#2a3f5f\"},\"type\":\"carpet\"}],\"choropleth\":[{\"colorbar\":{\"outlinewidth\":0,\"ticks\":\"\"},\"type\":\"choropleth\"}],\"contourcarpet\":[{\"colorbar\":{\"outlinewidth\":0,\"ticks\":\"\"},\"type\":\"contourcarpet\"}],\"contour\":[{\"colorbar\":{\"outlinewidth\":0,\"ticks\":\"\"},\"colorscale\":[[0.0,\"#0d0887\"],[0.1111111111111111,\"#46039f\"],[0.2222222222222222,\"#7201a8\"],[0.3333333333333333,\"#9c179e\"],[0.4444444444444444,\"#bd3786\"],[0.5555555555555556,\"#d8576b\"],[0.6666666666666666,\"#ed7953\"],[0.7777777777777778,\"#fb9f3a\"],[0.8888888888888888,\"#fdca26\"],[1.0,\"#f0f921\"]],\"type\":\"contour\"}],\"heatmapgl\":[{\"colorbar\":{\"outlinewidth\":0,\"ticks\":\"\"},\"colorscale\":[[0.0,\"#0d0887\"],[0.1111111111111111,\"#46039f\"],[0.2222222222222222,\"#7201a8\"],[0.3333333333333333,\"#9c179e\"],[0.4444444444444444,\"#bd3786\"],[0.5555555555555556,\"#d8576b\"],[0.6666666666666666,\"#ed7953\"],[0.7777777777777778,\"#fb9f3a\"],[0.8888888888888888,\"#fdca26\"],[1.0,\"#f0f921\"]],\"type\":\"heatmapgl\"}],\"heatmap\":[{\"colorbar\":{\"outlinewidth\":0,\"ticks\":\"\"},\"colorscale\":[[0.0,\"#0d0887\"],[0.1111111111111111,\"#46039f\"],[0.2222222222222222,\"#7201a8\"],[0.3333333333333333,\"#9c179e\"],[0.4444444444444444,\"#bd3786\"],[0.5555555555555556,\"#d8576b\"],[0.6666666666666666,\"#ed7953\"],[0.7777777777777778,\"#fb9f3a\"],[0.8888888888888888,\"#fdca26\"],[1.0,\"#f0f921\"]],\"type\":\"heatmap\"}],\"histogram2dcontour\":[{\"colorbar\":{\"outlinewidth\":0,\"ticks\":\"\"},\"colorscale\":[[0.0,\"#0d0887\"],[0.1111111111111111,\"#46039f\"],[0.2222222222222222,\"#7201a8\"],[0.3333333333333333,\"#9c179e\"],[0.4444444444444444,\"#bd3786\"],[0.5555555555555556,\"#d8576b\"],[0.6666666666666666,\"#ed7953\"],[0.7777777777777778,\"#fb9f3a\"],[0.8888888888888888,\"#fdca26\"],[1.0,\"#f0f921\"]],\"type\":\"histogram2dcontour\"}],\"histogram2d\":[{\"colorbar\":{\"outlinewidth\":0,\"ticks\":\"\"},\"colorscale\":[[0.0,\"#0d0887\"],[0.1111111111111111,\"#46039f\"],[0.2222222222222222,\"#7201a8\"],[0.3333333333333333,\"#9c179e\"],[0.4444444444444444,\"#bd3786\"],[0.5555555555555556,\"#d8576b\"],[0.6666666666666666,\"#ed7953\"],[0.7777777777777778,\"#fb9f3a\"],[0.8888888888888888,\"#fdca26\"],[1.0,\"#f0f921\"]],\"type\":\"histogram2d\"}],\"histogram\":[{\"marker\":{\"pattern\":{\"fillmode\":\"overlay\",\"size\":10,\"solidity\":0.2}},\"type\":\"histogram\"}],\"mesh3d\":[{\"colorbar\":{\"outlinewidth\":0,\"ticks\":\"\"},\"type\":\"mesh3d\"}],\"parcoords\":[{\"line\":{\"colorbar\":{\"outlinewidth\":0,\"ticks\":\"\"}},\"type\":\"parcoords\"}],\"pie\":[{\"automargin\":true,\"type\":\"pie\"}],\"scatter3d\":[{\"line\":{\"colorbar\":{\"outlinewidth\":0,\"ticks\":\"\"}},\"marker\":{\"colorbar\":{\"outlinewidth\":0,\"ticks\":\"\"}},\"type\":\"scatter3d\"}],\"scattercarpet\":[{\"marker\":{\"colorbar\":{\"outlinewidth\":0,\"ticks\":\"\"}},\"type\":\"scattercarpet\"}],\"scattergeo\":[{\"marker\":{\"colorbar\":{\"outlinewidth\":0,\"ticks\":\"\"}},\"type\":\"scattergeo\"}],\"scattergl\":[{\"marker\":{\"colorbar\":{\"outlinewidth\":0,\"ticks\":\"\"}},\"type\":\"scattergl\"}],\"scattermapbox\":[{\"marker\":{\"colorbar\":{\"outlinewidth\":0,\"ticks\":\"\"}},\"type\":\"scattermapbox\"}],\"scatterpolargl\":[{\"marker\":{\"colorbar\":{\"outlinewidth\":0,\"ticks\":\"\"}},\"type\":\"scatterpolargl\"}],\"scatterpolar\":[{\"marker\":{\"colorbar\":{\"outlinewidth\":0,\"ticks\":\"\"}},\"type\":\"scatterpolar\"}],\"scatter\":[{\"fillpattern\":{\"fillmode\":\"overlay\",\"size\":10,\"solidity\":0.2},\"type\":\"scatter\"}],\"scatterternary\":[{\"marker\":{\"colorbar\":{\"outlinewidth\":0,\"ticks\":\"\"}},\"type\":\"scatterternary\"}],\"surface\":[{\"colorbar\":{\"outlinewidth\":0,\"ticks\":\"\"},\"colorscale\":[[0.0,\"#0d0887\"],[0.1111111111111111,\"#46039f\"],[0.2222222222222222,\"#7201a8\"],[0.3333333333333333,\"#9c179e\"],[0.4444444444444444,\"#bd3786\"],[0.5555555555555556,\"#d8576b\"],[0.6666666666666666,\"#ed7953\"],[0.7777777777777778,\"#fb9f3a\"],[0.8888888888888888,\"#fdca26\"],[1.0,\"#f0f921\"]],\"type\":\"surface\"}],\"table\":[{\"cells\":{\"fill\":{\"color\":\"#EBF0F8\"},\"line\":{\"color\":\"white\"}},\"header\":{\"fill\":{\"color\":\"#C8D4E3\"},\"line\":{\"color\":\"white\"}},\"type\":\"table\"}]},\"layout\":{\"annotationdefaults\":{\"arrowcolor\":\"#2a3f5f\",\"arrowhead\":0,\"arrowwidth\":1},\"autotypenumbers\":\"strict\",\"coloraxis\":{\"colorbar\":{\"outlinewidth\":0,\"ticks\":\"\"}},\"colorscale\":{\"diverging\":[[0,\"#8e0152\"],[0.1,\"#c51b7d\"],[0.2,\"#de77ae\"],[0.3,\"#f1b6da\"],[0.4,\"#fde0ef\"],[0.5,\"#f7f7f7\"],[0.6,\"#e6f5d0\"],[0.7,\"#b8e186\"],[0.8,\"#7fbc41\"],[0.9,\"#4d9221\"],[1,\"#276419\"]],\"sequential\":[[0.0,\"#0d0887\"],[0.1111111111111111,\"#46039f\"],[0.2222222222222222,\"#7201a8\"],[0.3333333333333333,\"#9c179e\"],[0.4444444444444444,\"#bd3786\"],[0.5555555555555556,\"#d8576b\"],[0.6666666666666666,\"#ed7953\"],[0.7777777777777778,\"#fb9f3a\"],[0.8888888888888888,\"#fdca26\"],[1.0,\"#f0f921\"]],\"sequentialminus\":[[0.0,\"#0d0887\"],[0.1111111111111111,\"#46039f\"],[0.2222222222222222,\"#7201a8\"],[0.3333333333333333,\"#9c179e\"],[0.4444444444444444,\"#bd3786\"],[0.5555555555555556,\"#d8576b\"],[0.6666666666666666,\"#ed7953\"],[0.7777777777777778,\"#fb9f3a\"],[0.8888888888888888,\"#fdca26\"],[1.0,\"#f0f921\"]]},\"colorway\":[\"#636efa\",\"#EF553B\",\"#00cc96\",\"#ab63fa\",\"#FFA15A\",\"#19d3f3\",\"#FF6692\",\"#B6E880\",\"#FF97FF\",\"#FECB52\"],\"font\":{\"color\":\"#2a3f5f\"},\"geo\":{\"bgcolor\":\"white\",\"lakecolor\":\"white\",\"landcolor\":\"#E5ECF6\",\"showlakes\":true,\"showland\":true,\"subunitcolor\":\"white\"},\"hoverlabel\":{\"align\":\"left\"},\"hovermode\":\"closest\",\"mapbox\":{\"style\":\"light\"},\"paper_bgcolor\":\"white\",\"plot_bgcolor\":\"#E5ECF6\",\"polar\":{\"angularaxis\":{\"gridcolor\":\"white\",\"linecolor\":\"white\",\"ticks\":\"\"},\"bgcolor\":\"#E5ECF6\",\"radialaxis\":{\"gridcolor\":\"white\",\"linecolor\":\"white\",\"ticks\":\"\"}},\"scene\":{\"xaxis\":{\"backgroundcolor\":\"#E5ECF6\",\"gridcolor\":\"white\",\"gridwidth\":2,\"linecolor\":\"white\",\"showbackground\":true,\"ticks\":\"\",\"zerolinecolor\":\"white\"},\"yaxis\":{\"backgroundcolor\":\"#E5ECF6\",\"gridcolor\":\"white\",\"gridwidth\":2,\"linecolor\":\"white\",\"showbackground\":true,\"ticks\":\"\",\"zerolinecolor\":\"white\"},\"zaxis\":{\"backgroundcolor\":\"#E5ECF6\",\"gridcolor\":\"white\",\"gridwidth\":2,\"linecolor\":\"white\",\"showbackground\":true,\"ticks\":\"\",\"zerolinecolor\":\"white\"}},\"shapedefaults\":{\"line\":{\"color\":\"#2a3f5f\"}},\"ternary\":{\"aaxis\":{\"gridcolor\":\"white\",\"linecolor\":\"white\",\"ticks\":\"\"},\"baxis\":{\"gridcolor\":\"white\",\"linecolor\":\"white\",\"ticks\":\"\"},\"bgcolor\":\"#E5ECF6\",\"caxis\":{\"gridcolor\":\"white\",\"linecolor\":\"white\",\"ticks\":\"\"}},\"title\":{\"x\":0.05},\"xaxis\":{\"automargin\":true,\"gridcolor\":\"white\",\"linecolor\":\"white\",\"ticks\":\"\",\"title\":{\"standoff\":15},\"zerolinecolor\":\"white\",\"zerolinewidth\":2},\"yaxis\":{\"automargin\":true,\"gridcolor\":\"white\",\"linecolor\":\"white\",\"ticks\":\"\",\"title\":{\"standoff\":15},\"zerolinecolor\":\"white\",\"zerolinewidth\":2}}},\"title\":{\"font\":{\"color\":\"#4D5663\"}},\"xaxis\":{\"gridcolor\":\"#E1E5ED\",\"showgrid\":true,\"tickfont\":{\"color\":\"#4D5663\"},\"title\":{\"font\":{\"color\":\"#4D5663\"},\"text\":\"\"},\"zerolinecolor\":\"#E1E5ED\"},\"yaxis\":{\"gridcolor\":\"#E1E5ED\",\"showgrid\":true,\"tickfont\":{\"color\":\"#4D5663\"},\"title\":{\"font\":{\"color\":\"#4D5663\"},\"text\":\"\"},\"zerolinecolor\":\"#E1E5ED\"}},                        {\"showLink\": true, \"linkText\": \"Export to plot.ly\", \"plotlyServerURL\": \"https://plot.ly\", \"responsive\": true}                    ).then(function(){\n",
       "                            \n",
       "var gd = document.getElementById('73bc1af9-37e3-4b07-bef5-73912f054c0f');\n",
       "var x = new MutationObserver(function (mutations, observer) {{\n",
       "        var display = window.getComputedStyle(gd).display;\n",
       "        if (!display || display === 'none') {{\n",
       "            console.log([gd, 'removed!']);\n",
       "            Plotly.purge(gd);\n",
       "            observer.disconnect();\n",
       "        }}\n",
       "}});\n",
       "\n",
       "// Listen for the removal of the full notebook cells\n",
       "var notebookContainer = gd.closest('#notebook-container');\n",
       "if (notebookContainer) {{\n",
       "    x.observe(notebookContainer, {childList: true});\n",
       "}}\n",
       "\n",
       "// Listen for the clearing of the current output cell\n",
       "var outputEl = gd.closest('.output');\n",
       "if (outputEl) {{\n",
       "    x.observe(outputEl, {childList: true});\n",
       "}}\n",
       "\n",
       "                        })                };                });            </script>        </div>"
      ]
     },
     "metadata": {},
     "output_type": "display_data"
    }
   ],
   "source": [
    "df2.iplot(kind='bar',x='Category',y='Values')"
   ]
  },
  {
   "cell_type": "code",
   "execution_count": 29,
   "metadata": {},
   "outputs": [
    {
     "data": {
      "application/vnd.plotly.v1+json": {
       "config": {
        "linkText": "Export to plot.ly",
        "plotlyServerURL": "https://plot.ly",
        "showLink": true
       },
       "data": [
        {
         "marker": {
          "color": "rgba(255, 153, 51, 0.6)",
          "line": {
           "color": "rgba(255, 153, 51, 1.0)",
           "width": 1
          }
         },
         "name": "None",
         "orientation": "v",
         "text": "",
         "type": "bar",
         "x": [
          "A",
          "B",
          "C",
          "D"
         ],
         "y": [
          100,
          100,
          100,
          100
         ]
        }
       ],
       "layout": {
        "legend": {
         "bgcolor": "#F5F6F9",
         "font": {
          "color": "#4D5663"
         }
        },
        "paper_bgcolor": "#F5F6F9",
        "plot_bgcolor": "#F5F6F9",
        "template": {
         "data": {
          "bar": [
           {
            "error_x": {
             "color": "#2a3f5f"
            },
            "error_y": {
             "color": "#2a3f5f"
            },
            "marker": {
             "line": {
              "color": "#E5ECF6",
              "width": 0.5
             },
             "pattern": {
              "fillmode": "overlay",
              "size": 10,
              "solidity": 0.2
             }
            },
            "type": "bar"
           }
          ],
          "barpolar": [
           {
            "marker": {
             "line": {
              "color": "#E5ECF6",
              "width": 0.5
             },
             "pattern": {
              "fillmode": "overlay",
              "size": 10,
              "solidity": 0.2
             }
            },
            "type": "barpolar"
           }
          ],
          "carpet": [
           {
            "aaxis": {
             "endlinecolor": "#2a3f5f",
             "gridcolor": "white",
             "linecolor": "white",
             "minorgridcolor": "white",
             "startlinecolor": "#2a3f5f"
            },
            "baxis": {
             "endlinecolor": "#2a3f5f",
             "gridcolor": "white",
             "linecolor": "white",
             "minorgridcolor": "white",
             "startlinecolor": "#2a3f5f"
            },
            "type": "carpet"
           }
          ],
          "choropleth": [
           {
            "colorbar": {
             "outlinewidth": 0,
             "ticks": ""
            },
            "type": "choropleth"
           }
          ],
          "contour": [
           {
            "colorbar": {
             "outlinewidth": 0,
             "ticks": ""
            },
            "colorscale": [
             [
              0,
              "#0d0887"
             ],
             [
              0.1111111111111111,
              "#46039f"
             ],
             [
              0.2222222222222222,
              "#7201a8"
             ],
             [
              0.3333333333333333,
              "#9c179e"
             ],
             [
              0.4444444444444444,
              "#bd3786"
             ],
             [
              0.5555555555555556,
              "#d8576b"
             ],
             [
              0.6666666666666666,
              "#ed7953"
             ],
             [
              0.7777777777777778,
              "#fb9f3a"
             ],
             [
              0.8888888888888888,
              "#fdca26"
             ],
             [
              1,
              "#f0f921"
             ]
            ],
            "type": "contour"
           }
          ],
          "contourcarpet": [
           {
            "colorbar": {
             "outlinewidth": 0,
             "ticks": ""
            },
            "type": "contourcarpet"
           }
          ],
          "heatmap": [
           {
            "colorbar": {
             "outlinewidth": 0,
             "ticks": ""
            },
            "colorscale": [
             [
              0,
              "#0d0887"
             ],
             [
              0.1111111111111111,
              "#46039f"
             ],
             [
              0.2222222222222222,
              "#7201a8"
             ],
             [
              0.3333333333333333,
              "#9c179e"
             ],
             [
              0.4444444444444444,
              "#bd3786"
             ],
             [
              0.5555555555555556,
              "#d8576b"
             ],
             [
              0.6666666666666666,
              "#ed7953"
             ],
             [
              0.7777777777777778,
              "#fb9f3a"
             ],
             [
              0.8888888888888888,
              "#fdca26"
             ],
             [
              1,
              "#f0f921"
             ]
            ],
            "type": "heatmap"
           }
          ],
          "heatmapgl": [
           {
            "colorbar": {
             "outlinewidth": 0,
             "ticks": ""
            },
            "colorscale": [
             [
              0,
              "#0d0887"
             ],
             [
              0.1111111111111111,
              "#46039f"
             ],
             [
              0.2222222222222222,
              "#7201a8"
             ],
             [
              0.3333333333333333,
              "#9c179e"
             ],
             [
              0.4444444444444444,
              "#bd3786"
             ],
             [
              0.5555555555555556,
              "#d8576b"
             ],
             [
              0.6666666666666666,
              "#ed7953"
             ],
             [
              0.7777777777777778,
              "#fb9f3a"
             ],
             [
              0.8888888888888888,
              "#fdca26"
             ],
             [
              1,
              "#f0f921"
             ]
            ],
            "type": "heatmapgl"
           }
          ],
          "histogram": [
           {
            "marker": {
             "pattern": {
              "fillmode": "overlay",
              "size": 10,
              "solidity": 0.2
             }
            },
            "type": "histogram"
           }
          ],
          "histogram2d": [
           {
            "colorbar": {
             "outlinewidth": 0,
             "ticks": ""
            },
            "colorscale": [
             [
              0,
              "#0d0887"
             ],
             [
              0.1111111111111111,
              "#46039f"
             ],
             [
              0.2222222222222222,
              "#7201a8"
             ],
             [
              0.3333333333333333,
              "#9c179e"
             ],
             [
              0.4444444444444444,
              "#bd3786"
             ],
             [
              0.5555555555555556,
              "#d8576b"
             ],
             [
              0.6666666666666666,
              "#ed7953"
             ],
             [
              0.7777777777777778,
              "#fb9f3a"
             ],
             [
              0.8888888888888888,
              "#fdca26"
             ],
             [
              1,
              "#f0f921"
             ]
            ],
            "type": "histogram2d"
           }
          ],
          "histogram2dcontour": [
           {
            "colorbar": {
             "outlinewidth": 0,
             "ticks": ""
            },
            "colorscale": [
             [
              0,
              "#0d0887"
             ],
             [
              0.1111111111111111,
              "#46039f"
             ],
             [
              0.2222222222222222,
              "#7201a8"
             ],
             [
              0.3333333333333333,
              "#9c179e"
             ],
             [
              0.4444444444444444,
              "#bd3786"
             ],
             [
              0.5555555555555556,
              "#d8576b"
             ],
             [
              0.6666666666666666,
              "#ed7953"
             ],
             [
              0.7777777777777778,
              "#fb9f3a"
             ],
             [
              0.8888888888888888,
              "#fdca26"
             ],
             [
              1,
              "#f0f921"
             ]
            ],
            "type": "histogram2dcontour"
           }
          ],
          "mesh3d": [
           {
            "colorbar": {
             "outlinewidth": 0,
             "ticks": ""
            },
            "type": "mesh3d"
           }
          ],
          "parcoords": [
           {
            "line": {
             "colorbar": {
              "outlinewidth": 0,
              "ticks": ""
             }
            },
            "type": "parcoords"
           }
          ],
          "pie": [
           {
            "automargin": true,
            "type": "pie"
           }
          ],
          "scatter": [
           {
            "fillpattern": {
             "fillmode": "overlay",
             "size": 10,
             "solidity": 0.2
            },
            "type": "scatter"
           }
          ],
          "scatter3d": [
           {
            "line": {
             "colorbar": {
              "outlinewidth": 0,
              "ticks": ""
             }
            },
            "marker": {
             "colorbar": {
              "outlinewidth": 0,
              "ticks": ""
             }
            },
            "type": "scatter3d"
           }
          ],
          "scattercarpet": [
           {
            "marker": {
             "colorbar": {
              "outlinewidth": 0,
              "ticks": ""
             }
            },
            "type": "scattercarpet"
           }
          ],
          "scattergeo": [
           {
            "marker": {
             "colorbar": {
              "outlinewidth": 0,
              "ticks": ""
             }
            },
            "type": "scattergeo"
           }
          ],
          "scattergl": [
           {
            "marker": {
             "colorbar": {
              "outlinewidth": 0,
              "ticks": ""
             }
            },
            "type": "scattergl"
           }
          ],
          "scattermapbox": [
           {
            "marker": {
             "colorbar": {
              "outlinewidth": 0,
              "ticks": ""
             }
            },
            "type": "scattermapbox"
           }
          ],
          "scatterpolar": [
           {
            "marker": {
             "colorbar": {
              "outlinewidth": 0,
              "ticks": ""
             }
            },
            "type": "scatterpolar"
           }
          ],
          "scatterpolargl": [
           {
            "marker": {
             "colorbar": {
              "outlinewidth": 0,
              "ticks": ""
             }
            },
            "type": "scatterpolargl"
           }
          ],
          "scatterternary": [
           {
            "marker": {
             "colorbar": {
              "outlinewidth": 0,
              "ticks": ""
             }
            },
            "type": "scatterternary"
           }
          ],
          "surface": [
           {
            "colorbar": {
             "outlinewidth": 0,
             "ticks": ""
            },
            "colorscale": [
             [
              0,
              "#0d0887"
             ],
             [
              0.1111111111111111,
              "#46039f"
             ],
             [
              0.2222222222222222,
              "#7201a8"
             ],
             [
              0.3333333333333333,
              "#9c179e"
             ],
             [
              0.4444444444444444,
              "#bd3786"
             ],
             [
              0.5555555555555556,
              "#d8576b"
             ],
             [
              0.6666666666666666,
              "#ed7953"
             ],
             [
              0.7777777777777778,
              "#fb9f3a"
             ],
             [
              0.8888888888888888,
              "#fdca26"
             ],
             [
              1,
              "#f0f921"
             ]
            ],
            "type": "surface"
           }
          ],
          "table": [
           {
            "cells": {
             "fill": {
              "color": "#EBF0F8"
             },
             "line": {
              "color": "white"
             }
            },
            "header": {
             "fill": {
              "color": "#C8D4E3"
             },
             "line": {
              "color": "white"
             }
            },
            "type": "table"
           }
          ]
         },
         "layout": {
          "annotationdefaults": {
           "arrowcolor": "#2a3f5f",
           "arrowhead": 0,
           "arrowwidth": 1
          },
          "autotypenumbers": "strict",
          "coloraxis": {
           "colorbar": {
            "outlinewidth": 0,
            "ticks": ""
           }
          },
          "colorscale": {
           "diverging": [
            [
             0,
             "#8e0152"
            ],
            [
             0.1,
             "#c51b7d"
            ],
            [
             0.2,
             "#de77ae"
            ],
            [
             0.3,
             "#f1b6da"
            ],
            [
             0.4,
             "#fde0ef"
            ],
            [
             0.5,
             "#f7f7f7"
            ],
            [
             0.6,
             "#e6f5d0"
            ],
            [
             0.7,
             "#b8e186"
            ],
            [
             0.8,
             "#7fbc41"
            ],
            [
             0.9,
             "#4d9221"
            ],
            [
             1,
             "#276419"
            ]
           ],
           "sequential": [
            [
             0,
             "#0d0887"
            ],
            [
             0.1111111111111111,
             "#46039f"
            ],
            [
             0.2222222222222222,
             "#7201a8"
            ],
            [
             0.3333333333333333,
             "#9c179e"
            ],
            [
             0.4444444444444444,
             "#bd3786"
            ],
            [
             0.5555555555555556,
             "#d8576b"
            ],
            [
             0.6666666666666666,
             "#ed7953"
            ],
            [
             0.7777777777777778,
             "#fb9f3a"
            ],
            [
             0.8888888888888888,
             "#fdca26"
            ],
            [
             1,
             "#f0f921"
            ]
           ],
           "sequentialminus": [
            [
             0,
             "#0d0887"
            ],
            [
             0.1111111111111111,
             "#46039f"
            ],
            [
             0.2222222222222222,
             "#7201a8"
            ],
            [
             0.3333333333333333,
             "#9c179e"
            ],
            [
             0.4444444444444444,
             "#bd3786"
            ],
            [
             0.5555555555555556,
             "#d8576b"
            ],
            [
             0.6666666666666666,
             "#ed7953"
            ],
            [
             0.7777777777777778,
             "#fb9f3a"
            ],
            [
             0.8888888888888888,
             "#fdca26"
            ],
            [
             1,
             "#f0f921"
            ]
           ]
          },
          "colorway": [
           "#636efa",
           "#EF553B",
           "#00cc96",
           "#ab63fa",
           "#FFA15A",
           "#19d3f3",
           "#FF6692",
           "#B6E880",
           "#FF97FF",
           "#FECB52"
          ],
          "font": {
           "color": "#2a3f5f"
          },
          "geo": {
           "bgcolor": "white",
           "lakecolor": "white",
           "landcolor": "#E5ECF6",
           "showlakes": true,
           "showland": true,
           "subunitcolor": "white"
          },
          "hoverlabel": {
           "align": "left"
          },
          "hovermode": "closest",
          "mapbox": {
           "style": "light"
          },
          "paper_bgcolor": "white",
          "plot_bgcolor": "#E5ECF6",
          "polar": {
           "angularaxis": {
            "gridcolor": "white",
            "linecolor": "white",
            "ticks": ""
           },
           "bgcolor": "#E5ECF6",
           "radialaxis": {
            "gridcolor": "white",
            "linecolor": "white",
            "ticks": ""
           }
          },
          "scene": {
           "xaxis": {
            "backgroundcolor": "#E5ECF6",
            "gridcolor": "white",
            "gridwidth": 2,
            "linecolor": "white",
            "showbackground": true,
            "ticks": "",
            "zerolinecolor": "white"
           },
           "yaxis": {
            "backgroundcolor": "#E5ECF6",
            "gridcolor": "white",
            "gridwidth": 2,
            "linecolor": "white",
            "showbackground": true,
            "ticks": "",
            "zerolinecolor": "white"
           },
           "zaxis": {
            "backgroundcolor": "#E5ECF6",
            "gridcolor": "white",
            "gridwidth": 2,
            "linecolor": "white",
            "showbackground": true,
            "ticks": "",
            "zerolinecolor": "white"
           }
          },
          "shapedefaults": {
           "line": {
            "color": "#2a3f5f"
           }
          },
          "ternary": {
           "aaxis": {
            "gridcolor": "white",
            "linecolor": "white",
            "ticks": ""
           },
           "baxis": {
            "gridcolor": "white",
            "linecolor": "white",
            "ticks": ""
           },
           "bgcolor": "#E5ECF6",
           "caxis": {
            "gridcolor": "white",
            "linecolor": "white",
            "ticks": ""
           }
          },
          "title": {
           "x": 0.05
          },
          "xaxis": {
           "automargin": true,
           "gridcolor": "white",
           "linecolor": "white",
           "ticks": "",
           "title": {
            "standoff": 15
           },
           "zerolinecolor": "white",
           "zerolinewidth": 2
          },
          "yaxis": {
           "automargin": true,
           "gridcolor": "white",
           "linecolor": "white",
           "ticks": "",
           "title": {
            "standoff": 15
           },
           "zerolinecolor": "white",
           "zerolinewidth": 2
          }
         }
        },
        "title": {
         "font": {
          "color": "#4D5663"
         }
        },
        "xaxis": {
         "gridcolor": "#E1E5ED",
         "showgrid": true,
         "tickfont": {
          "color": "#4D5663"
         },
         "title": {
          "font": {
           "color": "#4D5663"
          },
          "text": ""
         },
         "zerolinecolor": "#E1E5ED"
        },
        "yaxis": {
         "gridcolor": "#E1E5ED",
         "showgrid": true,
         "tickfont": {
          "color": "#4D5663"
         },
         "title": {
          "font": {
           "color": "#4D5663"
          },
          "text": ""
         },
         "zerolinecolor": "#E1E5ED"
        }
       }
      },
      "text/html": [
       "<div>                            <div id=\"27236217-3183-4951-be0a-bd154a54862a\" class=\"plotly-graph-div\" style=\"height:525px; width:100%;\"></div>            <script type=\"text/javascript\">                require([\"plotly\"], function(Plotly) {                    window.PLOTLYENV=window.PLOTLYENV || {};\n",
       "                    window.PLOTLYENV.BASE_URL='https://plot.ly';                                    if (document.getElementById(\"27236217-3183-4951-be0a-bd154a54862a\")) {                    Plotly.newPlot(                        \"27236217-3183-4951-be0a-bd154a54862a\",                        [{\"marker\":{\"color\":\"rgba(255, 153, 51, 0.6)\",\"line\":{\"color\":\"rgba(255, 153, 51, 1.0)\",\"width\":1}},\"name\":\"None\",\"orientation\":\"v\",\"text\":\"\",\"x\":[\"A\",\"B\",\"C\",\"D\"],\"y\":[100,100,100,100],\"type\":\"bar\"}],                        {\"legend\":{\"bgcolor\":\"#F5F6F9\",\"font\":{\"color\":\"#4D5663\"}},\"paper_bgcolor\":\"#F5F6F9\",\"plot_bgcolor\":\"#F5F6F9\",\"template\":{\"data\":{\"barpolar\":[{\"marker\":{\"line\":{\"color\":\"#E5ECF6\",\"width\":0.5},\"pattern\":{\"fillmode\":\"overlay\",\"size\":10,\"solidity\":0.2}},\"type\":\"barpolar\"}],\"bar\":[{\"error_x\":{\"color\":\"#2a3f5f\"},\"error_y\":{\"color\":\"#2a3f5f\"},\"marker\":{\"line\":{\"color\":\"#E5ECF6\",\"width\":0.5},\"pattern\":{\"fillmode\":\"overlay\",\"size\":10,\"solidity\":0.2}},\"type\":\"bar\"}],\"carpet\":[{\"aaxis\":{\"endlinecolor\":\"#2a3f5f\",\"gridcolor\":\"white\",\"linecolor\":\"white\",\"minorgridcolor\":\"white\",\"startlinecolor\":\"#2a3f5f\"},\"baxis\":{\"endlinecolor\":\"#2a3f5f\",\"gridcolor\":\"white\",\"linecolor\":\"white\",\"minorgridcolor\":\"white\",\"startlinecolor\":\"#2a3f5f\"},\"type\":\"carpet\"}],\"choropleth\":[{\"colorbar\":{\"outlinewidth\":0,\"ticks\":\"\"},\"type\":\"choropleth\"}],\"contourcarpet\":[{\"colorbar\":{\"outlinewidth\":0,\"ticks\":\"\"},\"type\":\"contourcarpet\"}],\"contour\":[{\"colorbar\":{\"outlinewidth\":0,\"ticks\":\"\"},\"colorscale\":[[0.0,\"#0d0887\"],[0.1111111111111111,\"#46039f\"],[0.2222222222222222,\"#7201a8\"],[0.3333333333333333,\"#9c179e\"],[0.4444444444444444,\"#bd3786\"],[0.5555555555555556,\"#d8576b\"],[0.6666666666666666,\"#ed7953\"],[0.7777777777777778,\"#fb9f3a\"],[0.8888888888888888,\"#fdca26\"],[1.0,\"#f0f921\"]],\"type\":\"contour\"}],\"heatmapgl\":[{\"colorbar\":{\"outlinewidth\":0,\"ticks\":\"\"},\"colorscale\":[[0.0,\"#0d0887\"],[0.1111111111111111,\"#46039f\"],[0.2222222222222222,\"#7201a8\"],[0.3333333333333333,\"#9c179e\"],[0.4444444444444444,\"#bd3786\"],[0.5555555555555556,\"#d8576b\"],[0.6666666666666666,\"#ed7953\"],[0.7777777777777778,\"#fb9f3a\"],[0.8888888888888888,\"#fdca26\"],[1.0,\"#f0f921\"]],\"type\":\"heatmapgl\"}],\"heatmap\":[{\"colorbar\":{\"outlinewidth\":0,\"ticks\":\"\"},\"colorscale\":[[0.0,\"#0d0887\"],[0.1111111111111111,\"#46039f\"],[0.2222222222222222,\"#7201a8\"],[0.3333333333333333,\"#9c179e\"],[0.4444444444444444,\"#bd3786\"],[0.5555555555555556,\"#d8576b\"],[0.6666666666666666,\"#ed7953\"],[0.7777777777777778,\"#fb9f3a\"],[0.8888888888888888,\"#fdca26\"],[1.0,\"#f0f921\"]],\"type\":\"heatmap\"}],\"histogram2dcontour\":[{\"colorbar\":{\"outlinewidth\":0,\"ticks\":\"\"},\"colorscale\":[[0.0,\"#0d0887\"],[0.1111111111111111,\"#46039f\"],[0.2222222222222222,\"#7201a8\"],[0.3333333333333333,\"#9c179e\"],[0.4444444444444444,\"#bd3786\"],[0.5555555555555556,\"#d8576b\"],[0.6666666666666666,\"#ed7953\"],[0.7777777777777778,\"#fb9f3a\"],[0.8888888888888888,\"#fdca26\"],[1.0,\"#f0f921\"]],\"type\":\"histogram2dcontour\"}],\"histogram2d\":[{\"colorbar\":{\"outlinewidth\":0,\"ticks\":\"\"},\"colorscale\":[[0.0,\"#0d0887\"],[0.1111111111111111,\"#46039f\"],[0.2222222222222222,\"#7201a8\"],[0.3333333333333333,\"#9c179e\"],[0.4444444444444444,\"#bd3786\"],[0.5555555555555556,\"#d8576b\"],[0.6666666666666666,\"#ed7953\"],[0.7777777777777778,\"#fb9f3a\"],[0.8888888888888888,\"#fdca26\"],[1.0,\"#f0f921\"]],\"type\":\"histogram2d\"}],\"histogram\":[{\"marker\":{\"pattern\":{\"fillmode\":\"overlay\",\"size\":10,\"solidity\":0.2}},\"type\":\"histogram\"}],\"mesh3d\":[{\"colorbar\":{\"outlinewidth\":0,\"ticks\":\"\"},\"type\":\"mesh3d\"}],\"parcoords\":[{\"line\":{\"colorbar\":{\"outlinewidth\":0,\"ticks\":\"\"}},\"type\":\"parcoords\"}],\"pie\":[{\"automargin\":true,\"type\":\"pie\"}],\"scatter3d\":[{\"line\":{\"colorbar\":{\"outlinewidth\":0,\"ticks\":\"\"}},\"marker\":{\"colorbar\":{\"outlinewidth\":0,\"ticks\":\"\"}},\"type\":\"scatter3d\"}],\"scattercarpet\":[{\"marker\":{\"colorbar\":{\"outlinewidth\":0,\"ticks\":\"\"}},\"type\":\"scattercarpet\"}],\"scattergeo\":[{\"marker\":{\"colorbar\":{\"outlinewidth\":0,\"ticks\":\"\"}},\"type\":\"scattergeo\"}],\"scattergl\":[{\"marker\":{\"colorbar\":{\"outlinewidth\":0,\"ticks\":\"\"}},\"type\":\"scattergl\"}],\"scattermapbox\":[{\"marker\":{\"colorbar\":{\"outlinewidth\":0,\"ticks\":\"\"}},\"type\":\"scattermapbox\"}],\"scatterpolargl\":[{\"marker\":{\"colorbar\":{\"outlinewidth\":0,\"ticks\":\"\"}},\"type\":\"scatterpolargl\"}],\"scatterpolar\":[{\"marker\":{\"colorbar\":{\"outlinewidth\":0,\"ticks\":\"\"}},\"type\":\"scatterpolar\"}],\"scatter\":[{\"fillpattern\":{\"fillmode\":\"overlay\",\"size\":10,\"solidity\":0.2},\"type\":\"scatter\"}],\"scatterternary\":[{\"marker\":{\"colorbar\":{\"outlinewidth\":0,\"ticks\":\"\"}},\"type\":\"scatterternary\"}],\"surface\":[{\"colorbar\":{\"outlinewidth\":0,\"ticks\":\"\"},\"colorscale\":[[0.0,\"#0d0887\"],[0.1111111111111111,\"#46039f\"],[0.2222222222222222,\"#7201a8\"],[0.3333333333333333,\"#9c179e\"],[0.4444444444444444,\"#bd3786\"],[0.5555555555555556,\"#d8576b\"],[0.6666666666666666,\"#ed7953\"],[0.7777777777777778,\"#fb9f3a\"],[0.8888888888888888,\"#fdca26\"],[1.0,\"#f0f921\"]],\"type\":\"surface\"}],\"table\":[{\"cells\":{\"fill\":{\"color\":\"#EBF0F8\"},\"line\":{\"color\":\"white\"}},\"header\":{\"fill\":{\"color\":\"#C8D4E3\"},\"line\":{\"color\":\"white\"}},\"type\":\"table\"}]},\"layout\":{\"annotationdefaults\":{\"arrowcolor\":\"#2a3f5f\",\"arrowhead\":0,\"arrowwidth\":1},\"autotypenumbers\":\"strict\",\"coloraxis\":{\"colorbar\":{\"outlinewidth\":0,\"ticks\":\"\"}},\"colorscale\":{\"diverging\":[[0,\"#8e0152\"],[0.1,\"#c51b7d\"],[0.2,\"#de77ae\"],[0.3,\"#f1b6da\"],[0.4,\"#fde0ef\"],[0.5,\"#f7f7f7\"],[0.6,\"#e6f5d0\"],[0.7,\"#b8e186\"],[0.8,\"#7fbc41\"],[0.9,\"#4d9221\"],[1,\"#276419\"]],\"sequential\":[[0.0,\"#0d0887\"],[0.1111111111111111,\"#46039f\"],[0.2222222222222222,\"#7201a8\"],[0.3333333333333333,\"#9c179e\"],[0.4444444444444444,\"#bd3786\"],[0.5555555555555556,\"#d8576b\"],[0.6666666666666666,\"#ed7953\"],[0.7777777777777778,\"#fb9f3a\"],[0.8888888888888888,\"#fdca26\"],[1.0,\"#f0f921\"]],\"sequentialminus\":[[0.0,\"#0d0887\"],[0.1111111111111111,\"#46039f\"],[0.2222222222222222,\"#7201a8\"],[0.3333333333333333,\"#9c179e\"],[0.4444444444444444,\"#bd3786\"],[0.5555555555555556,\"#d8576b\"],[0.6666666666666666,\"#ed7953\"],[0.7777777777777778,\"#fb9f3a\"],[0.8888888888888888,\"#fdca26\"],[1.0,\"#f0f921\"]]},\"colorway\":[\"#636efa\",\"#EF553B\",\"#00cc96\",\"#ab63fa\",\"#FFA15A\",\"#19d3f3\",\"#FF6692\",\"#B6E880\",\"#FF97FF\",\"#FECB52\"],\"font\":{\"color\":\"#2a3f5f\"},\"geo\":{\"bgcolor\":\"white\",\"lakecolor\":\"white\",\"landcolor\":\"#E5ECF6\",\"showlakes\":true,\"showland\":true,\"subunitcolor\":\"white\"},\"hoverlabel\":{\"align\":\"left\"},\"hovermode\":\"closest\",\"mapbox\":{\"style\":\"light\"},\"paper_bgcolor\":\"white\",\"plot_bgcolor\":\"#E5ECF6\",\"polar\":{\"angularaxis\":{\"gridcolor\":\"white\",\"linecolor\":\"white\",\"ticks\":\"\"},\"bgcolor\":\"#E5ECF6\",\"radialaxis\":{\"gridcolor\":\"white\",\"linecolor\":\"white\",\"ticks\":\"\"}},\"scene\":{\"xaxis\":{\"backgroundcolor\":\"#E5ECF6\",\"gridcolor\":\"white\",\"gridwidth\":2,\"linecolor\":\"white\",\"showbackground\":true,\"ticks\":\"\",\"zerolinecolor\":\"white\"},\"yaxis\":{\"backgroundcolor\":\"#E5ECF6\",\"gridcolor\":\"white\",\"gridwidth\":2,\"linecolor\":\"white\",\"showbackground\":true,\"ticks\":\"\",\"zerolinecolor\":\"white\"},\"zaxis\":{\"backgroundcolor\":\"#E5ECF6\",\"gridcolor\":\"white\",\"gridwidth\":2,\"linecolor\":\"white\",\"showbackground\":true,\"ticks\":\"\",\"zerolinecolor\":\"white\"}},\"shapedefaults\":{\"line\":{\"color\":\"#2a3f5f\"}},\"ternary\":{\"aaxis\":{\"gridcolor\":\"white\",\"linecolor\":\"white\",\"ticks\":\"\"},\"baxis\":{\"gridcolor\":\"white\",\"linecolor\":\"white\",\"ticks\":\"\"},\"bgcolor\":\"#E5ECF6\",\"caxis\":{\"gridcolor\":\"white\",\"linecolor\":\"white\",\"ticks\":\"\"}},\"title\":{\"x\":0.05},\"xaxis\":{\"automargin\":true,\"gridcolor\":\"white\",\"linecolor\":\"white\",\"ticks\":\"\",\"title\":{\"standoff\":15},\"zerolinecolor\":\"white\",\"zerolinewidth\":2},\"yaxis\":{\"automargin\":true,\"gridcolor\":\"white\",\"linecolor\":\"white\",\"ticks\":\"\",\"title\":{\"standoff\":15},\"zerolinecolor\":\"white\",\"zerolinewidth\":2}}},\"title\":{\"font\":{\"color\":\"#4D5663\"}},\"xaxis\":{\"gridcolor\":\"#E1E5ED\",\"showgrid\":true,\"tickfont\":{\"color\":\"#4D5663\"},\"title\":{\"font\":{\"color\":\"#4D5663\"},\"text\":\"\"},\"zerolinecolor\":\"#E1E5ED\"},\"yaxis\":{\"gridcolor\":\"#E1E5ED\",\"showgrid\":true,\"tickfont\":{\"color\":\"#4D5663\"},\"title\":{\"font\":{\"color\":\"#4D5663\"},\"text\":\"\"},\"zerolinecolor\":\"#E1E5ED\"}},                        {\"showLink\": true, \"linkText\": \"Export to plot.ly\", \"plotlyServerURL\": \"https://plot.ly\", \"responsive\": true}                    ).then(function(){\n",
       "                            \n",
       "var gd = document.getElementById('27236217-3183-4951-be0a-bd154a54862a');\n",
       "var x = new MutationObserver(function (mutations, observer) {{\n",
       "        var display = window.getComputedStyle(gd).display;\n",
       "        if (!display || display === 'none') {{\n",
       "            console.log([gd, 'removed!']);\n",
       "            Plotly.purge(gd);\n",
       "            observer.disconnect();\n",
       "        }}\n",
       "}});\n",
       "\n",
       "// Listen for the removal of the full notebook cells\n",
       "var notebookContainer = gd.closest('#notebook-container');\n",
       "if (notebookContainer) {{\n",
       "    x.observe(notebookContainer, {childList: true});\n",
       "}}\n",
       "\n",
       "// Listen for the clearing of the current output cell\n",
       "var outputEl = gd.closest('.output');\n",
       "if (outputEl) {{\n",
       "    x.observe(outputEl, {childList: true});\n",
       "}}\n",
       "\n",
       "                        })                };                });            </script>        </div>"
      ]
     },
     "metadata": {},
     "output_type": "display_data"
    }
   ],
   "source": [
    "df.count().iplot(kind='bar')\n",
    "#need aggregate function to plot bar chart, ex: count, sum"
   ]
  },
  {
   "cell_type": "markdown",
   "metadata": {},
   "source": [
    "## Boxplots"
   ]
  },
  {
   "cell_type": "code",
   "execution_count": 30,
   "metadata": {},
   "outputs": [
    {
     "data": {
      "application/vnd.plotly.v1+json": {
       "config": {
        "linkText": "Export to plot.ly",
        "plotlyServerURL": "https://plot.ly",
        "showLink": true
       },
       "data": [
        {
         "boxpoints": false,
         "line": {
          "width": 1.3
         },
         "marker": {
          "color": "rgba(255, 153, 51, 1.0)"
         },
         "name": "A",
         "orientation": "v",
         "type": "box",
         "y": [
          -1.344681348367679,
          -0.25990777378562724,
          0.615954219350596,
          -0.3257161686937772,
          -1.1045124407249927,
          0.9518151688580743,
          -0.4414378956070553,
          0.23744357912241404,
          0.565882233802471,
          -1.4537368232448615,
          -0.3928064280712824,
          -0.5403655950553611,
          1.5032156945366153,
          -1.2813707408278914,
          0.3790274581122027,
          0.8030625060619568,
          0.5778619862717127,
          0.8821066931085245,
          1.6011202145953622,
          0.1494411676678207,
          -1.2175021564890365,
          -0.29325724113695045,
          -2.1132575093678168,
          -0.9418299903447851,
          -0.09413179117591249,
          -0.2212747045116899,
          0.7746388970054674,
          -0.8135424045456192,
          0.12425271139672092,
          -1.7624704443807377,
          -0.43129804068089106,
          -0.20701415863099415,
          0.1362581079714989,
          1.0213604292746619,
          1.4639234917681077,
          0.06314136905130897,
          -0.3384283258846109,
          -1.1690531466628162,
          0.22232591791165796,
          -0.5567602604223021,
          -0.23226829270222443,
          0.07840895108426076,
          1.1997614062549575,
          -0.061344339620039934,
          -0.39606237695467916,
          0.03725642793693573,
          1.2294394862034583,
          -1.7313239545247834,
          -0.7441425575409852,
          -0.7939011286891274,
          -0.04435819607299003,
          0.2152874644731718,
          -2.0602841032029353,
          0.5644320334268482,
          -1.659620457878419,
          0.4784268388998683,
          0.33245834317874495,
          1.3878741299306154,
          0.29292368114595657,
          1.0201915408457543,
          0.03445988614890572,
          0.345844164372107,
          0.8119328705027892,
          -0.4839815041109739,
          1.3833821707367373,
          0.3752824641912273,
          1.3529053280861845,
          0.7265165967816627,
          0.6486102939924626,
          0.045696646528161626,
          1.2169441234170144,
          1.2929966807127653,
          -0.33525951367360135,
          -0.38718286815465025,
          -0.8582896302412307,
          -1.2505385219437037,
          -1.0501771108401305,
          -0.5929062873971976,
          0.2823591333624237,
          0.6458494902237761,
          1.1087442383410073,
          -0.6843307181221185,
          -1.0429217420576782,
          -0.4615367754647887,
          -0.11068167099797399,
          -0.7038412804143902,
          -0.2936115839181303,
          -1.4586237497858365,
          1.1691072424789413,
          0.5852293860683341,
          -1.1572138935089535,
          -1.0601488924464997,
          -0.1955550192748439,
          -0.9876856722615701,
          -0.9680653493598178,
          0.17596996056280834,
          -0.5849896655419029,
          -0.14671716039599272,
          0.7243684341273524,
          0.11233490876531009
         ]
        },
        {
         "boxpoints": false,
         "line": {
          "width": 1.3
         },
         "marker": {
          "color": "rgba(55, 128, 191, 1.0)"
         },
         "name": "B",
         "orientation": "v",
         "type": "box",
         "y": [
          -0.6141524354932701,
          -0.42820766641829233,
          1.560949685067526,
          -0.016366876742454278,
          -0.201557182599476,
          0.9034252832480001,
          1.1385890108482881,
          0.4997120911452794,
          -0.6431276327177393,
          1.211243606751715,
          0.2980918040802568,
          1.6882964191964656,
          -0.9499289520197146,
          1.3777101777879859,
          1.0133737656196418,
          0.04615459993434687,
          -0.23562220624719996,
          -0.8472394318161616,
          0.9754077003636352,
          -2.029101759723629,
          -1.1458437397532513,
          0.2918229495301508,
          0.42434195105328415,
          0.25507369160860566,
          -1.3105165158007956,
          0.8056262517408992,
          2.5038411972897276,
          0.4425422857014533,
          0.6834958460784702,
          -0.8559521501021329,
          0.704226306192486,
          0.7689311364426078,
          -0.1795506562591025,
          2.478306088606201,
          -0.2542547549818018,
          -1.1130974246268486,
          -0.42565330900895,
          -0.7882386369038422,
          -0.6640291687247452,
          0.263840738476896,
          1.0077497246504774,
          1.2773429952090538,
          0.13115443067251445,
          0.8818786793607682,
          2.309893637608007,
          0.5362686094806232,
          -1.0308434428294522,
          0.6849550586723251,
          -0.3254428018017996,
          -0.21699088590695828,
          1.912387014170751,
          0.17316749761022943,
          0.28761426771826504,
          -0.23278602894871162,
          -0.963319393098557,
          -0.3489916955291253,
          0.26012760903033044,
          -0.835833333730869,
          -1.5623598399882572,
          -0.48015350615792085,
          -0.11944754740327732,
          0.026295999513213333,
          -1.6066286927087363,
          0.5199063448102765,
          0.8664172542597003,
          -1.1601858683315638,
          -0.5774002796857021,
          -1.8834974470349524,
          -0.15062404083992648,
          0.05426744786494283,
          -0.5972182687637029,
          0.35686556322641216,
          0.48590074900782715,
          -2.071759239609643,
          0.7618499638282232,
          0.7723607083493977,
          -0.7630381986102769,
          0.7214067351798614,
          -0.6321096643468237,
          0.9400889761716075,
          -0.40196691099382936,
          0.5046896317639424,
          -0.7693827819522933,
          1.9337472141346586,
          1.59623155576546,
          -0.19753941417329646,
          1.3088444111805233,
          0.33406737873388115,
          -0.38386304887850126,
          -1.0559312901442477,
          1.477786415541574,
          -0.8874523338969589,
          0.05986850818355528,
          -1.4419205278408251,
          1.2693587674606999,
          -0.16826747808312903,
          0.7558397102656929,
          -0.04481720578448385,
          0.12303505012631975,
          0.1151332956318505
         ]
        },
        {
         "boxpoints": false,
         "line": {
          "width": 1.3
         },
         "marker": {
          "color": "rgba(50, 171, 96, 1.0)"
         },
         "name": "C",
         "orientation": "v",
         "type": "box",
         "y": [
          -0.004602126376671534,
          0.7906478443511011,
          -0.035907055804841416,
          0.6162073812205189,
          -0.15411786141920017,
          1.0432325764890658,
          0.15875089933699738,
          1.0485903404209278,
          1.3584688101500115,
          -0.18568863866363708,
          1.024429069478142,
          0.03508335587091298,
          0.12680148268351565,
          -0.8381025346208154,
          1.6509853528724419,
          -2.610416885100769,
          0.1911872787595519,
          -0.7307750804771178,
          -0.5047936592518879,
          0.5076199743661762,
          -1.10909545136408,
          -0.707829744050525,
          -0.8166326868067334,
          0.7389768468667057,
          0.5341624279288895,
          -0.35574788492921,
          -0.5091770344246631,
          0.06883626868889432,
          -0.3219552863613442,
          -1.8424635663226514,
          0.705487546787549,
          0.3839234179789261,
          -1.722276908165648,
          1.1775778569296815,
          -0.2317496548327862,
          -2.0089607177490874,
          -0.3013666179623187,
          0.17486062905347513,
          -1.7600340542851998,
          0.45900617777975394,
          -1.440096654501015,
          0.425913569227976,
          -1.0277964739925105,
          -1.1191267067330761,
          -0.7001824962208916,
          -0.1267048764023624,
          -1.2017618350835702,
          0.07055781999006643,
          1.0347918650088845,
          -0.6745460377394736,
          -1.1730293777437337,
          -0.8961721931428671,
          -1.5149779998004103,
          0.9532291580822488,
          -0.6090837124882493,
          0.3227411219291712,
          -0.7102963110757138,
          0.9685976917922305,
          -1.6273564555122586,
          -0.26997632232261687,
          0.4664305003984084,
          -1.7148980989186615,
          -2.085838693728071,
          -0.47981762591576077,
          -1.4309049091324033,
          1.0607521681543464,
          -0.6815143040753355,
          0.6645812603974416,
          0.9860810645643229,
          0.2563569447942735,
          -2.1423037111768606,
          -1.0732088115948388,
          0.7108485369044182,
          -0.8731263881570848,
          0.5153511281340232,
          -1.3326420229312512,
          0.6345748561404732,
          0.6747922312219352,
          0.9220435111487199,
          0.8145414998684721,
          1.4494024251322482,
          -0.4046105499541477,
          0.9709078148000081,
          0.4560123319181205,
          -1.1688834854598367,
          -1.2339339772171016,
          -0.6403237776679068,
          1.6006853725989272,
          2.142474940540785,
          0.8456718040154797,
          -1.297547299398099,
          -1.7842878023837354,
          0.3158782098881666,
          0.733343427543188,
          -0.6303723424382413,
          0.6706642674342359,
          -0.2017611276899,
          -0.9683908013715276,
          0.15720943472838078,
          -1.050330114936557
         ]
        },
        {
         "boxpoints": false,
         "line": {
          "width": 1.3
         },
         "marker": {
          "color": "rgba(128, 0, 128, 1.0)"
         },
         "name": "D",
         "orientation": "v",
         "type": "box",
         "y": [
          -1.019845215214495,
          0.9877365302007481,
          -0.0002414153394359693,
          -0.3009501718907436,
          0.1528442192960556,
          1.7890215572223451,
          -0.3454828690527688,
          -0.7593304970099077,
          -0.2775213687255191,
          -0.47532516608440006,
          -0.9407390147047427,
          -1.0174709109479707,
          -1.5410786576195166,
          1.9010489460488615,
          1.1669329183116255,
          0.4698063482772931,
          0.6334745645586914,
          0.7395872832006877,
          1.2240932267865363,
          0.28419099859882874,
          -0.38261827168055274,
          -1.5730169000129444,
          -0.7944902925941919,
          -0.2528416989339552,
          0.02980206847738622,
          -0.422520505014938,
          0.7580509845907341,
          0.6295685319924799,
          0.531485957750703,
          0.9878349474892661,
          1.3805586170671806,
          -0.12134514520015137,
          -0.5134730868306024,
          -0.942085599306493,
          -0.8881506155594552,
          0.4380161427336133,
          -0.4193809036577704,
          0.16270549763488104,
          0.2949415737555115,
          -1.8002092129017204,
          1.0325806898691992,
          0.00670669274356046,
          -0.9302179219499509,
          -0.13934945945801333,
          0.8072901555704782,
          0.6953197102896636,
          -0.06345113597472722,
          0.1705548052314656,
          1.5922627470855404,
          0.27453688113298574,
          2.2978586259985168,
          0.8046195688779062,
          -1.2925537502223432,
          -0.08416500059625354,
          -0.282181149795798,
          -1.0964464318109248,
          0.5751885156977874,
          -0.7090710518256257,
          -2.3148965073348706,
          1.0734728539838683,
          -0.9651651899106336,
          -0.7988245009921736,
          -1.3406970075836449,
          0.3404527867871523,
          0.9651042611806991,
          0.336691888685937,
          -0.20854625034952354,
          -0.13576762613536608,
          -1.0655860987956474,
          -0.7184186018795983,
          0.8931288460174328,
          0.21132906888006356,
          -0.826753661948601,
          -0.6415012829267738,
          0.3163592292991244,
          0.05455705196080712,
          0.3185440413231679,
          -0.2920006159839012,
          -0.5405940340260305,
          -0.2698694977749048,
          0.5135443132670185,
          -0.1493646484760646,
          -1.4159736412253023,
          -3.396788844648568,
          0.6305244952795435,
          0.5389014723629197,
          0.17390008991304848,
          0.48318593385141073,
          -0.6581825518735038,
          0.20347503426314736,
          0.521692767296515,
          -0.4220964590807706,
          1.0860742448184495,
          2.2496905794227464,
          0.7415155182863553,
          2.107259003062655,
          0.646663661925784,
          -0.32273258499387286,
          -1.274840474845461,
          -1.4040423165244331
         ]
        }
       ],
       "layout": {
        "legend": {
         "bgcolor": "#F5F6F9",
         "font": {
          "color": "#4D5663"
         }
        },
        "paper_bgcolor": "#F5F6F9",
        "plot_bgcolor": "#F5F6F9",
        "template": {
         "data": {
          "bar": [
           {
            "error_x": {
             "color": "#2a3f5f"
            },
            "error_y": {
             "color": "#2a3f5f"
            },
            "marker": {
             "line": {
              "color": "#E5ECF6",
              "width": 0.5
             },
             "pattern": {
              "fillmode": "overlay",
              "size": 10,
              "solidity": 0.2
             }
            },
            "type": "bar"
           }
          ],
          "barpolar": [
           {
            "marker": {
             "line": {
              "color": "#E5ECF6",
              "width": 0.5
             },
             "pattern": {
              "fillmode": "overlay",
              "size": 10,
              "solidity": 0.2
             }
            },
            "type": "barpolar"
           }
          ],
          "carpet": [
           {
            "aaxis": {
             "endlinecolor": "#2a3f5f",
             "gridcolor": "white",
             "linecolor": "white",
             "minorgridcolor": "white",
             "startlinecolor": "#2a3f5f"
            },
            "baxis": {
             "endlinecolor": "#2a3f5f",
             "gridcolor": "white",
             "linecolor": "white",
             "minorgridcolor": "white",
             "startlinecolor": "#2a3f5f"
            },
            "type": "carpet"
           }
          ],
          "choropleth": [
           {
            "colorbar": {
             "outlinewidth": 0,
             "ticks": ""
            },
            "type": "choropleth"
           }
          ],
          "contour": [
           {
            "colorbar": {
             "outlinewidth": 0,
             "ticks": ""
            },
            "colorscale": [
             [
              0,
              "#0d0887"
             ],
             [
              0.1111111111111111,
              "#46039f"
             ],
             [
              0.2222222222222222,
              "#7201a8"
             ],
             [
              0.3333333333333333,
              "#9c179e"
             ],
             [
              0.4444444444444444,
              "#bd3786"
             ],
             [
              0.5555555555555556,
              "#d8576b"
             ],
             [
              0.6666666666666666,
              "#ed7953"
             ],
             [
              0.7777777777777778,
              "#fb9f3a"
             ],
             [
              0.8888888888888888,
              "#fdca26"
             ],
             [
              1,
              "#f0f921"
             ]
            ],
            "type": "contour"
           }
          ],
          "contourcarpet": [
           {
            "colorbar": {
             "outlinewidth": 0,
             "ticks": ""
            },
            "type": "contourcarpet"
           }
          ],
          "heatmap": [
           {
            "colorbar": {
             "outlinewidth": 0,
             "ticks": ""
            },
            "colorscale": [
             [
              0,
              "#0d0887"
             ],
             [
              0.1111111111111111,
              "#46039f"
             ],
             [
              0.2222222222222222,
              "#7201a8"
             ],
             [
              0.3333333333333333,
              "#9c179e"
             ],
             [
              0.4444444444444444,
              "#bd3786"
             ],
             [
              0.5555555555555556,
              "#d8576b"
             ],
             [
              0.6666666666666666,
              "#ed7953"
             ],
             [
              0.7777777777777778,
              "#fb9f3a"
             ],
             [
              0.8888888888888888,
              "#fdca26"
             ],
             [
              1,
              "#f0f921"
             ]
            ],
            "type": "heatmap"
           }
          ],
          "heatmapgl": [
           {
            "colorbar": {
             "outlinewidth": 0,
             "ticks": ""
            },
            "colorscale": [
             [
              0,
              "#0d0887"
             ],
             [
              0.1111111111111111,
              "#46039f"
             ],
             [
              0.2222222222222222,
              "#7201a8"
             ],
             [
              0.3333333333333333,
              "#9c179e"
             ],
             [
              0.4444444444444444,
              "#bd3786"
             ],
             [
              0.5555555555555556,
              "#d8576b"
             ],
             [
              0.6666666666666666,
              "#ed7953"
             ],
             [
              0.7777777777777778,
              "#fb9f3a"
             ],
             [
              0.8888888888888888,
              "#fdca26"
             ],
             [
              1,
              "#f0f921"
             ]
            ],
            "type": "heatmapgl"
           }
          ],
          "histogram": [
           {
            "marker": {
             "pattern": {
              "fillmode": "overlay",
              "size": 10,
              "solidity": 0.2
             }
            },
            "type": "histogram"
           }
          ],
          "histogram2d": [
           {
            "colorbar": {
             "outlinewidth": 0,
             "ticks": ""
            },
            "colorscale": [
             [
              0,
              "#0d0887"
             ],
             [
              0.1111111111111111,
              "#46039f"
             ],
             [
              0.2222222222222222,
              "#7201a8"
             ],
             [
              0.3333333333333333,
              "#9c179e"
             ],
             [
              0.4444444444444444,
              "#bd3786"
             ],
             [
              0.5555555555555556,
              "#d8576b"
             ],
             [
              0.6666666666666666,
              "#ed7953"
             ],
             [
              0.7777777777777778,
              "#fb9f3a"
             ],
             [
              0.8888888888888888,
              "#fdca26"
             ],
             [
              1,
              "#f0f921"
             ]
            ],
            "type": "histogram2d"
           }
          ],
          "histogram2dcontour": [
           {
            "colorbar": {
             "outlinewidth": 0,
             "ticks": ""
            },
            "colorscale": [
             [
              0,
              "#0d0887"
             ],
             [
              0.1111111111111111,
              "#46039f"
             ],
             [
              0.2222222222222222,
              "#7201a8"
             ],
             [
              0.3333333333333333,
              "#9c179e"
             ],
             [
              0.4444444444444444,
              "#bd3786"
             ],
             [
              0.5555555555555556,
              "#d8576b"
             ],
             [
              0.6666666666666666,
              "#ed7953"
             ],
             [
              0.7777777777777778,
              "#fb9f3a"
             ],
             [
              0.8888888888888888,
              "#fdca26"
             ],
             [
              1,
              "#f0f921"
             ]
            ],
            "type": "histogram2dcontour"
           }
          ],
          "mesh3d": [
           {
            "colorbar": {
             "outlinewidth": 0,
             "ticks": ""
            },
            "type": "mesh3d"
           }
          ],
          "parcoords": [
           {
            "line": {
             "colorbar": {
              "outlinewidth": 0,
              "ticks": ""
             }
            },
            "type": "parcoords"
           }
          ],
          "pie": [
           {
            "automargin": true,
            "type": "pie"
           }
          ],
          "scatter": [
           {
            "fillpattern": {
             "fillmode": "overlay",
             "size": 10,
             "solidity": 0.2
            },
            "type": "scatter"
           }
          ],
          "scatter3d": [
           {
            "line": {
             "colorbar": {
              "outlinewidth": 0,
              "ticks": ""
             }
            },
            "marker": {
             "colorbar": {
              "outlinewidth": 0,
              "ticks": ""
             }
            },
            "type": "scatter3d"
           }
          ],
          "scattercarpet": [
           {
            "marker": {
             "colorbar": {
              "outlinewidth": 0,
              "ticks": ""
             }
            },
            "type": "scattercarpet"
           }
          ],
          "scattergeo": [
           {
            "marker": {
             "colorbar": {
              "outlinewidth": 0,
              "ticks": ""
             }
            },
            "type": "scattergeo"
           }
          ],
          "scattergl": [
           {
            "marker": {
             "colorbar": {
              "outlinewidth": 0,
              "ticks": ""
             }
            },
            "type": "scattergl"
           }
          ],
          "scattermapbox": [
           {
            "marker": {
             "colorbar": {
              "outlinewidth": 0,
              "ticks": ""
             }
            },
            "type": "scattermapbox"
           }
          ],
          "scatterpolar": [
           {
            "marker": {
             "colorbar": {
              "outlinewidth": 0,
              "ticks": ""
             }
            },
            "type": "scatterpolar"
           }
          ],
          "scatterpolargl": [
           {
            "marker": {
             "colorbar": {
              "outlinewidth": 0,
              "ticks": ""
             }
            },
            "type": "scatterpolargl"
           }
          ],
          "scatterternary": [
           {
            "marker": {
             "colorbar": {
              "outlinewidth": 0,
              "ticks": ""
             }
            },
            "type": "scatterternary"
           }
          ],
          "surface": [
           {
            "colorbar": {
             "outlinewidth": 0,
             "ticks": ""
            },
            "colorscale": [
             [
              0,
              "#0d0887"
             ],
             [
              0.1111111111111111,
              "#46039f"
             ],
             [
              0.2222222222222222,
              "#7201a8"
             ],
             [
              0.3333333333333333,
              "#9c179e"
             ],
             [
              0.4444444444444444,
              "#bd3786"
             ],
             [
              0.5555555555555556,
              "#d8576b"
             ],
             [
              0.6666666666666666,
              "#ed7953"
             ],
             [
              0.7777777777777778,
              "#fb9f3a"
             ],
             [
              0.8888888888888888,
              "#fdca26"
             ],
             [
              1,
              "#f0f921"
             ]
            ],
            "type": "surface"
           }
          ],
          "table": [
           {
            "cells": {
             "fill": {
              "color": "#EBF0F8"
             },
             "line": {
              "color": "white"
             }
            },
            "header": {
             "fill": {
              "color": "#C8D4E3"
             },
             "line": {
              "color": "white"
             }
            },
            "type": "table"
           }
          ]
         },
         "layout": {
          "annotationdefaults": {
           "arrowcolor": "#2a3f5f",
           "arrowhead": 0,
           "arrowwidth": 1
          },
          "autotypenumbers": "strict",
          "coloraxis": {
           "colorbar": {
            "outlinewidth": 0,
            "ticks": ""
           }
          },
          "colorscale": {
           "diverging": [
            [
             0,
             "#8e0152"
            ],
            [
             0.1,
             "#c51b7d"
            ],
            [
             0.2,
             "#de77ae"
            ],
            [
             0.3,
             "#f1b6da"
            ],
            [
             0.4,
             "#fde0ef"
            ],
            [
             0.5,
             "#f7f7f7"
            ],
            [
             0.6,
             "#e6f5d0"
            ],
            [
             0.7,
             "#b8e186"
            ],
            [
             0.8,
             "#7fbc41"
            ],
            [
             0.9,
             "#4d9221"
            ],
            [
             1,
             "#276419"
            ]
           ],
           "sequential": [
            [
             0,
             "#0d0887"
            ],
            [
             0.1111111111111111,
             "#46039f"
            ],
            [
             0.2222222222222222,
             "#7201a8"
            ],
            [
             0.3333333333333333,
             "#9c179e"
            ],
            [
             0.4444444444444444,
             "#bd3786"
            ],
            [
             0.5555555555555556,
             "#d8576b"
            ],
            [
             0.6666666666666666,
             "#ed7953"
            ],
            [
             0.7777777777777778,
             "#fb9f3a"
            ],
            [
             0.8888888888888888,
             "#fdca26"
            ],
            [
             1,
             "#f0f921"
            ]
           ],
           "sequentialminus": [
            [
             0,
             "#0d0887"
            ],
            [
             0.1111111111111111,
             "#46039f"
            ],
            [
             0.2222222222222222,
             "#7201a8"
            ],
            [
             0.3333333333333333,
             "#9c179e"
            ],
            [
             0.4444444444444444,
             "#bd3786"
            ],
            [
             0.5555555555555556,
             "#d8576b"
            ],
            [
             0.6666666666666666,
             "#ed7953"
            ],
            [
             0.7777777777777778,
             "#fb9f3a"
            ],
            [
             0.8888888888888888,
             "#fdca26"
            ],
            [
             1,
             "#f0f921"
            ]
           ]
          },
          "colorway": [
           "#636efa",
           "#EF553B",
           "#00cc96",
           "#ab63fa",
           "#FFA15A",
           "#19d3f3",
           "#FF6692",
           "#B6E880",
           "#FF97FF",
           "#FECB52"
          ],
          "font": {
           "color": "#2a3f5f"
          },
          "geo": {
           "bgcolor": "white",
           "lakecolor": "white",
           "landcolor": "#E5ECF6",
           "showlakes": true,
           "showland": true,
           "subunitcolor": "white"
          },
          "hoverlabel": {
           "align": "left"
          },
          "hovermode": "closest",
          "mapbox": {
           "style": "light"
          },
          "paper_bgcolor": "white",
          "plot_bgcolor": "#E5ECF6",
          "polar": {
           "angularaxis": {
            "gridcolor": "white",
            "linecolor": "white",
            "ticks": ""
           },
           "bgcolor": "#E5ECF6",
           "radialaxis": {
            "gridcolor": "white",
            "linecolor": "white",
            "ticks": ""
           }
          },
          "scene": {
           "xaxis": {
            "backgroundcolor": "#E5ECF6",
            "gridcolor": "white",
            "gridwidth": 2,
            "linecolor": "white",
            "showbackground": true,
            "ticks": "",
            "zerolinecolor": "white"
           },
           "yaxis": {
            "backgroundcolor": "#E5ECF6",
            "gridcolor": "white",
            "gridwidth": 2,
            "linecolor": "white",
            "showbackground": true,
            "ticks": "",
            "zerolinecolor": "white"
           },
           "zaxis": {
            "backgroundcolor": "#E5ECF6",
            "gridcolor": "white",
            "gridwidth": 2,
            "linecolor": "white",
            "showbackground": true,
            "ticks": "",
            "zerolinecolor": "white"
           }
          },
          "shapedefaults": {
           "line": {
            "color": "#2a3f5f"
           }
          },
          "ternary": {
           "aaxis": {
            "gridcolor": "white",
            "linecolor": "white",
            "ticks": ""
           },
           "baxis": {
            "gridcolor": "white",
            "linecolor": "white",
            "ticks": ""
           },
           "bgcolor": "#E5ECF6",
           "caxis": {
            "gridcolor": "white",
            "linecolor": "white",
            "ticks": ""
           }
          },
          "title": {
           "x": 0.05
          },
          "xaxis": {
           "automargin": true,
           "gridcolor": "white",
           "linecolor": "white",
           "ticks": "",
           "title": {
            "standoff": 15
           },
           "zerolinecolor": "white",
           "zerolinewidth": 2
          },
          "yaxis": {
           "automargin": true,
           "gridcolor": "white",
           "linecolor": "white",
           "ticks": "",
           "title": {
            "standoff": 15
           },
           "zerolinecolor": "white",
           "zerolinewidth": 2
          }
         }
        },
        "title": {
         "font": {
          "color": "#4D5663"
         }
        },
        "xaxis": {
         "gridcolor": "#E1E5ED",
         "showgrid": true,
         "tickfont": {
          "color": "#4D5663"
         },
         "title": {
          "font": {
           "color": "#4D5663"
          },
          "text": ""
         },
         "zerolinecolor": "#E1E5ED"
        },
        "yaxis": {
         "gridcolor": "#E1E5ED",
         "showgrid": true,
         "tickfont": {
          "color": "#4D5663"
         },
         "title": {
          "font": {
           "color": "#4D5663"
          },
          "text": ""
         },
         "zerolinecolor": "#E1E5ED"
        }
       }
      },
      "text/html": [
       "<div>                            <div id=\"06018f4c-b23c-477e-bfda-31da1923fad4\" class=\"plotly-graph-div\" style=\"height:525px; width:100%;\"></div>            <script type=\"text/javascript\">                require([\"plotly\"], function(Plotly) {                    window.PLOTLYENV=window.PLOTLYENV || {};\n",
       "                    window.PLOTLYENV.BASE_URL='https://plot.ly';                                    if (document.getElementById(\"06018f4c-b23c-477e-bfda-31da1923fad4\")) {                    Plotly.newPlot(                        \"06018f4c-b23c-477e-bfda-31da1923fad4\",                        [{\"boxpoints\":false,\"line\":{\"width\":1.3},\"marker\":{\"color\":\"rgba(255, 153, 51, 1.0)\"},\"name\":\"A\",\"orientation\":\"v\",\"y\":[-1.344681348367679,-0.25990777378562724,0.615954219350596,-0.3257161686937772,-1.1045124407249927,0.9518151688580743,-0.4414378956070553,0.23744357912241404,0.565882233802471,-1.4537368232448615,-0.3928064280712824,-0.5403655950553611,1.5032156945366153,-1.2813707408278914,0.3790274581122027,0.8030625060619568,0.5778619862717127,0.8821066931085245,1.6011202145953622,0.1494411676678207,-1.2175021564890365,-0.29325724113695045,-2.1132575093678168,-0.9418299903447851,-0.09413179117591249,-0.2212747045116899,0.7746388970054674,-0.8135424045456192,0.12425271139672092,-1.7624704443807377,-0.43129804068089106,-0.20701415863099415,0.1362581079714989,1.0213604292746619,1.4639234917681077,0.06314136905130897,-0.3384283258846109,-1.1690531466628162,0.22232591791165796,-0.5567602604223021,-0.23226829270222443,0.07840895108426076,1.1997614062549575,-0.061344339620039934,-0.39606237695467916,0.03725642793693573,1.2294394862034583,-1.7313239545247834,-0.7441425575409852,-0.7939011286891274,-0.04435819607299003,0.2152874644731718,-2.0602841032029353,0.5644320334268482,-1.659620457878419,0.4784268388998683,0.33245834317874495,1.3878741299306154,0.29292368114595657,1.0201915408457543,0.03445988614890572,0.345844164372107,0.8119328705027892,-0.4839815041109739,1.3833821707367373,0.3752824641912273,1.3529053280861845,0.7265165967816627,0.6486102939924626,0.045696646528161626,1.2169441234170144,1.2929966807127653,-0.33525951367360135,-0.38718286815465025,-0.8582896302412307,-1.2505385219437037,-1.0501771108401305,-0.5929062873971976,0.2823591333624237,0.6458494902237761,1.1087442383410073,-0.6843307181221185,-1.0429217420576782,-0.4615367754647887,-0.11068167099797399,-0.7038412804143902,-0.2936115839181303,-1.4586237497858365,1.1691072424789413,0.5852293860683341,-1.1572138935089535,-1.0601488924464997,-0.1955550192748439,-0.9876856722615701,-0.9680653493598178,0.17596996056280834,-0.5849896655419029,-0.14671716039599272,0.7243684341273524,0.11233490876531009],\"type\":\"box\"},{\"boxpoints\":false,\"line\":{\"width\":1.3},\"marker\":{\"color\":\"rgba(55, 128, 191, 1.0)\"},\"name\":\"B\",\"orientation\":\"v\",\"y\":[-0.6141524354932701,-0.42820766641829233,1.560949685067526,-0.016366876742454278,-0.201557182599476,0.9034252832480001,1.1385890108482881,0.4997120911452794,-0.6431276327177393,1.211243606751715,0.2980918040802568,1.6882964191964656,-0.9499289520197146,1.3777101777879859,1.0133737656196418,0.04615459993434687,-0.23562220624719996,-0.8472394318161616,0.9754077003636352,-2.029101759723629,-1.1458437397532513,0.2918229495301508,0.42434195105328415,0.25507369160860566,-1.3105165158007956,0.8056262517408992,2.5038411972897276,0.4425422857014533,0.6834958460784702,-0.8559521501021329,0.704226306192486,0.7689311364426078,-0.1795506562591025,2.478306088606201,-0.2542547549818018,-1.1130974246268486,-0.42565330900895,-0.7882386369038422,-0.6640291687247452,0.263840738476896,1.0077497246504774,1.2773429952090538,0.13115443067251445,0.8818786793607682,2.309893637608007,0.5362686094806232,-1.0308434428294522,0.6849550586723251,-0.3254428018017996,-0.21699088590695828,1.912387014170751,0.17316749761022943,0.28761426771826504,-0.23278602894871162,-0.963319393098557,-0.3489916955291253,0.26012760903033044,-0.835833333730869,-1.5623598399882572,-0.48015350615792085,-0.11944754740327732,0.026295999513213333,-1.6066286927087363,0.5199063448102765,0.8664172542597003,-1.1601858683315638,-0.5774002796857021,-1.8834974470349524,-0.15062404083992648,0.05426744786494283,-0.5972182687637029,0.35686556322641216,0.48590074900782715,-2.071759239609643,0.7618499638282232,0.7723607083493977,-0.7630381986102769,0.7214067351798614,-0.6321096643468237,0.9400889761716075,-0.40196691099382936,0.5046896317639424,-0.7693827819522933,1.9337472141346586,1.59623155576546,-0.19753941417329646,1.3088444111805233,0.33406737873388115,-0.38386304887850126,-1.0559312901442477,1.477786415541574,-0.8874523338969589,0.05986850818355528,-1.4419205278408251,1.2693587674606999,-0.16826747808312903,0.7558397102656929,-0.04481720578448385,0.12303505012631975,0.1151332956318505],\"type\":\"box\"},{\"boxpoints\":false,\"line\":{\"width\":1.3},\"marker\":{\"color\":\"rgba(50, 171, 96, 1.0)\"},\"name\":\"C\",\"orientation\":\"v\",\"y\":[-0.004602126376671534,0.7906478443511011,-0.035907055804841416,0.6162073812205189,-0.15411786141920017,1.0432325764890658,0.15875089933699738,1.0485903404209278,1.3584688101500115,-0.18568863866363708,1.024429069478142,0.03508335587091298,0.12680148268351565,-0.8381025346208154,1.6509853528724419,-2.610416885100769,0.1911872787595519,-0.7307750804771178,-0.5047936592518879,0.5076199743661762,-1.10909545136408,-0.707829744050525,-0.8166326868067334,0.7389768468667057,0.5341624279288895,-0.35574788492921,-0.5091770344246631,0.06883626868889432,-0.3219552863613442,-1.8424635663226514,0.705487546787549,0.3839234179789261,-1.722276908165648,1.1775778569296815,-0.2317496548327862,-2.0089607177490874,-0.3013666179623187,0.17486062905347513,-1.7600340542851998,0.45900617777975394,-1.440096654501015,0.425913569227976,-1.0277964739925105,-1.1191267067330761,-0.7001824962208916,-0.1267048764023624,-1.2017618350835702,0.07055781999006643,1.0347918650088845,-0.6745460377394736,-1.1730293777437337,-0.8961721931428671,-1.5149779998004103,0.9532291580822488,-0.6090837124882493,0.3227411219291712,-0.7102963110757138,0.9685976917922305,-1.6273564555122586,-0.26997632232261687,0.4664305003984084,-1.7148980989186615,-2.085838693728071,-0.47981762591576077,-1.4309049091324033,1.0607521681543464,-0.6815143040753355,0.6645812603974416,0.9860810645643229,0.2563569447942735,-2.1423037111768606,-1.0732088115948388,0.7108485369044182,-0.8731263881570848,0.5153511281340232,-1.3326420229312512,0.6345748561404732,0.6747922312219352,0.9220435111487199,0.8145414998684721,1.4494024251322482,-0.4046105499541477,0.9709078148000081,0.4560123319181205,-1.1688834854598367,-1.2339339772171016,-0.6403237776679068,1.6006853725989272,2.142474940540785,0.8456718040154797,-1.297547299398099,-1.7842878023837354,0.3158782098881666,0.733343427543188,-0.6303723424382413,0.6706642674342359,-0.2017611276899,-0.9683908013715276,0.15720943472838078,-1.050330114936557],\"type\":\"box\"},{\"boxpoints\":false,\"line\":{\"width\":1.3},\"marker\":{\"color\":\"rgba(128, 0, 128, 1.0)\"},\"name\":\"D\",\"orientation\":\"v\",\"y\":[-1.019845215214495,0.9877365302007481,-0.0002414153394359693,-0.3009501718907436,0.1528442192960556,1.7890215572223451,-0.3454828690527688,-0.7593304970099077,-0.2775213687255191,-0.47532516608440006,-0.9407390147047427,-1.0174709109479707,-1.5410786576195166,1.9010489460488615,1.1669329183116255,0.4698063482772931,0.6334745645586914,0.7395872832006877,1.2240932267865363,0.28419099859882874,-0.38261827168055274,-1.5730169000129444,-0.7944902925941919,-0.2528416989339552,0.02980206847738622,-0.422520505014938,0.7580509845907341,0.6295685319924799,0.531485957750703,0.9878349474892661,1.3805586170671806,-0.12134514520015137,-0.5134730868306024,-0.942085599306493,-0.8881506155594552,0.4380161427336133,-0.4193809036577704,0.16270549763488104,0.2949415737555115,-1.8002092129017204,1.0325806898691992,0.00670669274356046,-0.9302179219499509,-0.13934945945801333,0.8072901555704782,0.6953197102896636,-0.06345113597472722,0.1705548052314656,1.5922627470855404,0.27453688113298574,2.2978586259985168,0.8046195688779062,-1.2925537502223432,-0.08416500059625354,-0.282181149795798,-1.0964464318109248,0.5751885156977874,-0.7090710518256257,-2.3148965073348706,1.0734728539838683,-0.9651651899106336,-0.7988245009921736,-1.3406970075836449,0.3404527867871523,0.9651042611806991,0.336691888685937,-0.20854625034952354,-0.13576762613536608,-1.0655860987956474,-0.7184186018795983,0.8931288460174328,0.21132906888006356,-0.826753661948601,-0.6415012829267738,0.3163592292991244,0.05455705196080712,0.3185440413231679,-0.2920006159839012,-0.5405940340260305,-0.2698694977749048,0.5135443132670185,-0.1493646484760646,-1.4159736412253023,-3.396788844648568,0.6305244952795435,0.5389014723629197,0.17390008991304848,0.48318593385141073,-0.6581825518735038,0.20347503426314736,0.521692767296515,-0.4220964590807706,1.0860742448184495,2.2496905794227464,0.7415155182863553,2.107259003062655,0.646663661925784,-0.32273258499387286,-1.274840474845461,-1.4040423165244331],\"type\":\"box\"}],                        {\"legend\":{\"bgcolor\":\"#F5F6F9\",\"font\":{\"color\":\"#4D5663\"}},\"paper_bgcolor\":\"#F5F6F9\",\"plot_bgcolor\":\"#F5F6F9\",\"template\":{\"data\":{\"barpolar\":[{\"marker\":{\"line\":{\"color\":\"#E5ECF6\",\"width\":0.5},\"pattern\":{\"fillmode\":\"overlay\",\"size\":10,\"solidity\":0.2}},\"type\":\"barpolar\"}],\"bar\":[{\"error_x\":{\"color\":\"#2a3f5f\"},\"error_y\":{\"color\":\"#2a3f5f\"},\"marker\":{\"line\":{\"color\":\"#E5ECF6\",\"width\":0.5},\"pattern\":{\"fillmode\":\"overlay\",\"size\":10,\"solidity\":0.2}},\"type\":\"bar\"}],\"carpet\":[{\"aaxis\":{\"endlinecolor\":\"#2a3f5f\",\"gridcolor\":\"white\",\"linecolor\":\"white\",\"minorgridcolor\":\"white\",\"startlinecolor\":\"#2a3f5f\"},\"baxis\":{\"endlinecolor\":\"#2a3f5f\",\"gridcolor\":\"white\",\"linecolor\":\"white\",\"minorgridcolor\":\"white\",\"startlinecolor\":\"#2a3f5f\"},\"type\":\"carpet\"}],\"choropleth\":[{\"colorbar\":{\"outlinewidth\":0,\"ticks\":\"\"},\"type\":\"choropleth\"}],\"contourcarpet\":[{\"colorbar\":{\"outlinewidth\":0,\"ticks\":\"\"},\"type\":\"contourcarpet\"}],\"contour\":[{\"colorbar\":{\"outlinewidth\":0,\"ticks\":\"\"},\"colorscale\":[[0.0,\"#0d0887\"],[0.1111111111111111,\"#46039f\"],[0.2222222222222222,\"#7201a8\"],[0.3333333333333333,\"#9c179e\"],[0.4444444444444444,\"#bd3786\"],[0.5555555555555556,\"#d8576b\"],[0.6666666666666666,\"#ed7953\"],[0.7777777777777778,\"#fb9f3a\"],[0.8888888888888888,\"#fdca26\"],[1.0,\"#f0f921\"]],\"type\":\"contour\"}],\"heatmapgl\":[{\"colorbar\":{\"outlinewidth\":0,\"ticks\":\"\"},\"colorscale\":[[0.0,\"#0d0887\"],[0.1111111111111111,\"#46039f\"],[0.2222222222222222,\"#7201a8\"],[0.3333333333333333,\"#9c179e\"],[0.4444444444444444,\"#bd3786\"],[0.5555555555555556,\"#d8576b\"],[0.6666666666666666,\"#ed7953\"],[0.7777777777777778,\"#fb9f3a\"],[0.8888888888888888,\"#fdca26\"],[1.0,\"#f0f921\"]],\"type\":\"heatmapgl\"}],\"heatmap\":[{\"colorbar\":{\"outlinewidth\":0,\"ticks\":\"\"},\"colorscale\":[[0.0,\"#0d0887\"],[0.1111111111111111,\"#46039f\"],[0.2222222222222222,\"#7201a8\"],[0.3333333333333333,\"#9c179e\"],[0.4444444444444444,\"#bd3786\"],[0.5555555555555556,\"#d8576b\"],[0.6666666666666666,\"#ed7953\"],[0.7777777777777778,\"#fb9f3a\"],[0.8888888888888888,\"#fdca26\"],[1.0,\"#f0f921\"]],\"type\":\"heatmap\"}],\"histogram2dcontour\":[{\"colorbar\":{\"outlinewidth\":0,\"ticks\":\"\"},\"colorscale\":[[0.0,\"#0d0887\"],[0.1111111111111111,\"#46039f\"],[0.2222222222222222,\"#7201a8\"],[0.3333333333333333,\"#9c179e\"],[0.4444444444444444,\"#bd3786\"],[0.5555555555555556,\"#d8576b\"],[0.6666666666666666,\"#ed7953\"],[0.7777777777777778,\"#fb9f3a\"],[0.8888888888888888,\"#fdca26\"],[1.0,\"#f0f921\"]],\"type\":\"histogram2dcontour\"}],\"histogram2d\":[{\"colorbar\":{\"outlinewidth\":0,\"ticks\":\"\"},\"colorscale\":[[0.0,\"#0d0887\"],[0.1111111111111111,\"#46039f\"],[0.2222222222222222,\"#7201a8\"],[0.3333333333333333,\"#9c179e\"],[0.4444444444444444,\"#bd3786\"],[0.5555555555555556,\"#d8576b\"],[0.6666666666666666,\"#ed7953\"],[0.7777777777777778,\"#fb9f3a\"],[0.8888888888888888,\"#fdca26\"],[1.0,\"#f0f921\"]],\"type\":\"histogram2d\"}],\"histogram\":[{\"marker\":{\"pattern\":{\"fillmode\":\"overlay\",\"size\":10,\"solidity\":0.2}},\"type\":\"histogram\"}],\"mesh3d\":[{\"colorbar\":{\"outlinewidth\":0,\"ticks\":\"\"},\"type\":\"mesh3d\"}],\"parcoords\":[{\"line\":{\"colorbar\":{\"outlinewidth\":0,\"ticks\":\"\"}},\"type\":\"parcoords\"}],\"pie\":[{\"automargin\":true,\"type\":\"pie\"}],\"scatter3d\":[{\"line\":{\"colorbar\":{\"outlinewidth\":0,\"ticks\":\"\"}},\"marker\":{\"colorbar\":{\"outlinewidth\":0,\"ticks\":\"\"}},\"type\":\"scatter3d\"}],\"scattercarpet\":[{\"marker\":{\"colorbar\":{\"outlinewidth\":0,\"ticks\":\"\"}},\"type\":\"scattercarpet\"}],\"scattergeo\":[{\"marker\":{\"colorbar\":{\"outlinewidth\":0,\"ticks\":\"\"}},\"type\":\"scattergeo\"}],\"scattergl\":[{\"marker\":{\"colorbar\":{\"outlinewidth\":0,\"ticks\":\"\"}},\"type\":\"scattergl\"}],\"scattermapbox\":[{\"marker\":{\"colorbar\":{\"outlinewidth\":0,\"ticks\":\"\"}},\"type\":\"scattermapbox\"}],\"scatterpolargl\":[{\"marker\":{\"colorbar\":{\"outlinewidth\":0,\"ticks\":\"\"}},\"type\":\"scatterpolargl\"}],\"scatterpolar\":[{\"marker\":{\"colorbar\":{\"outlinewidth\":0,\"ticks\":\"\"}},\"type\":\"scatterpolar\"}],\"scatter\":[{\"fillpattern\":{\"fillmode\":\"overlay\",\"size\":10,\"solidity\":0.2},\"type\":\"scatter\"}],\"scatterternary\":[{\"marker\":{\"colorbar\":{\"outlinewidth\":0,\"ticks\":\"\"}},\"type\":\"scatterternary\"}],\"surface\":[{\"colorbar\":{\"outlinewidth\":0,\"ticks\":\"\"},\"colorscale\":[[0.0,\"#0d0887\"],[0.1111111111111111,\"#46039f\"],[0.2222222222222222,\"#7201a8\"],[0.3333333333333333,\"#9c179e\"],[0.4444444444444444,\"#bd3786\"],[0.5555555555555556,\"#d8576b\"],[0.6666666666666666,\"#ed7953\"],[0.7777777777777778,\"#fb9f3a\"],[0.8888888888888888,\"#fdca26\"],[1.0,\"#f0f921\"]],\"type\":\"surface\"}],\"table\":[{\"cells\":{\"fill\":{\"color\":\"#EBF0F8\"},\"line\":{\"color\":\"white\"}},\"header\":{\"fill\":{\"color\":\"#C8D4E3\"},\"line\":{\"color\":\"white\"}},\"type\":\"table\"}]},\"layout\":{\"annotationdefaults\":{\"arrowcolor\":\"#2a3f5f\",\"arrowhead\":0,\"arrowwidth\":1},\"autotypenumbers\":\"strict\",\"coloraxis\":{\"colorbar\":{\"outlinewidth\":0,\"ticks\":\"\"}},\"colorscale\":{\"diverging\":[[0,\"#8e0152\"],[0.1,\"#c51b7d\"],[0.2,\"#de77ae\"],[0.3,\"#f1b6da\"],[0.4,\"#fde0ef\"],[0.5,\"#f7f7f7\"],[0.6,\"#e6f5d0\"],[0.7,\"#b8e186\"],[0.8,\"#7fbc41\"],[0.9,\"#4d9221\"],[1,\"#276419\"]],\"sequential\":[[0.0,\"#0d0887\"],[0.1111111111111111,\"#46039f\"],[0.2222222222222222,\"#7201a8\"],[0.3333333333333333,\"#9c179e\"],[0.4444444444444444,\"#bd3786\"],[0.5555555555555556,\"#d8576b\"],[0.6666666666666666,\"#ed7953\"],[0.7777777777777778,\"#fb9f3a\"],[0.8888888888888888,\"#fdca26\"],[1.0,\"#f0f921\"]],\"sequentialminus\":[[0.0,\"#0d0887\"],[0.1111111111111111,\"#46039f\"],[0.2222222222222222,\"#7201a8\"],[0.3333333333333333,\"#9c179e\"],[0.4444444444444444,\"#bd3786\"],[0.5555555555555556,\"#d8576b\"],[0.6666666666666666,\"#ed7953\"],[0.7777777777777778,\"#fb9f3a\"],[0.8888888888888888,\"#fdca26\"],[1.0,\"#f0f921\"]]},\"colorway\":[\"#636efa\",\"#EF553B\",\"#00cc96\",\"#ab63fa\",\"#FFA15A\",\"#19d3f3\",\"#FF6692\",\"#B6E880\",\"#FF97FF\",\"#FECB52\"],\"font\":{\"color\":\"#2a3f5f\"},\"geo\":{\"bgcolor\":\"white\",\"lakecolor\":\"white\",\"landcolor\":\"#E5ECF6\",\"showlakes\":true,\"showland\":true,\"subunitcolor\":\"white\"},\"hoverlabel\":{\"align\":\"left\"},\"hovermode\":\"closest\",\"mapbox\":{\"style\":\"light\"},\"paper_bgcolor\":\"white\",\"plot_bgcolor\":\"#E5ECF6\",\"polar\":{\"angularaxis\":{\"gridcolor\":\"white\",\"linecolor\":\"white\",\"ticks\":\"\"},\"bgcolor\":\"#E5ECF6\",\"radialaxis\":{\"gridcolor\":\"white\",\"linecolor\":\"white\",\"ticks\":\"\"}},\"scene\":{\"xaxis\":{\"backgroundcolor\":\"#E5ECF6\",\"gridcolor\":\"white\",\"gridwidth\":2,\"linecolor\":\"white\",\"showbackground\":true,\"ticks\":\"\",\"zerolinecolor\":\"white\"},\"yaxis\":{\"backgroundcolor\":\"#E5ECF6\",\"gridcolor\":\"white\",\"gridwidth\":2,\"linecolor\":\"white\",\"showbackground\":true,\"ticks\":\"\",\"zerolinecolor\":\"white\"},\"zaxis\":{\"backgroundcolor\":\"#E5ECF6\",\"gridcolor\":\"white\",\"gridwidth\":2,\"linecolor\":\"white\",\"showbackground\":true,\"ticks\":\"\",\"zerolinecolor\":\"white\"}},\"shapedefaults\":{\"line\":{\"color\":\"#2a3f5f\"}},\"ternary\":{\"aaxis\":{\"gridcolor\":\"white\",\"linecolor\":\"white\",\"ticks\":\"\"},\"baxis\":{\"gridcolor\":\"white\",\"linecolor\":\"white\",\"ticks\":\"\"},\"bgcolor\":\"#E5ECF6\",\"caxis\":{\"gridcolor\":\"white\",\"linecolor\":\"white\",\"ticks\":\"\"}},\"title\":{\"x\":0.05},\"xaxis\":{\"automargin\":true,\"gridcolor\":\"white\",\"linecolor\":\"white\",\"ticks\":\"\",\"title\":{\"standoff\":15},\"zerolinecolor\":\"white\",\"zerolinewidth\":2},\"yaxis\":{\"automargin\":true,\"gridcolor\":\"white\",\"linecolor\":\"white\",\"ticks\":\"\",\"title\":{\"standoff\":15},\"zerolinecolor\":\"white\",\"zerolinewidth\":2}}},\"title\":{\"font\":{\"color\":\"#4D5663\"}},\"xaxis\":{\"gridcolor\":\"#E1E5ED\",\"showgrid\":true,\"tickfont\":{\"color\":\"#4D5663\"},\"title\":{\"font\":{\"color\":\"#4D5663\"},\"text\":\"\"},\"zerolinecolor\":\"#E1E5ED\"},\"yaxis\":{\"gridcolor\":\"#E1E5ED\",\"showgrid\":true,\"tickfont\":{\"color\":\"#4D5663\"},\"title\":{\"font\":{\"color\":\"#4D5663\"},\"text\":\"\"},\"zerolinecolor\":\"#E1E5ED\"}},                        {\"showLink\": true, \"linkText\": \"Export to plot.ly\", \"plotlyServerURL\": \"https://plot.ly\", \"responsive\": true}                    ).then(function(){\n",
       "                            \n",
       "var gd = document.getElementById('06018f4c-b23c-477e-bfda-31da1923fad4');\n",
       "var x = new MutationObserver(function (mutations, observer) {{\n",
       "        var display = window.getComputedStyle(gd).display;\n",
       "        if (!display || display === 'none') {{\n",
       "            console.log([gd, 'removed!']);\n",
       "            Plotly.purge(gd);\n",
       "            observer.disconnect();\n",
       "        }}\n",
       "}});\n",
       "\n",
       "// Listen for the removal of the full notebook cells\n",
       "var notebookContainer = gd.closest('#notebook-container');\n",
       "if (notebookContainer) {{\n",
       "    x.observe(notebookContainer, {childList: true});\n",
       "}}\n",
       "\n",
       "// Listen for the clearing of the current output cell\n",
       "var outputEl = gd.closest('.output');\n",
       "if (outputEl) {{\n",
       "    x.observe(outputEl, {childList: true});\n",
       "}}\n",
       "\n",
       "                        })                };                });            </script>        </div>"
      ]
     },
     "metadata": {},
     "output_type": "display_data"
    }
   ],
   "source": [
    "df.iplot(kind='box')"
   ]
  },
  {
   "cell_type": "markdown",
   "metadata": {},
   "source": [
    "## 3d Surface"
   ]
  },
  {
   "cell_type": "code",
   "execution_count": 31,
   "metadata": {},
   "outputs": [
    {
     "data": {
      "application/vnd.plotly.v1+json": {
       "config": {
        "linkText": "Export to plot.ly",
        "plotlyServerURL": "https://plot.ly",
        "showLink": true
       },
       "data": [
        {
         "colorscale": [
          [
           0,
           "rgb(165,0,38)"
          ],
          [
           0.1,
           "rgb(215,48,39)"
          ],
          [
           0.2,
           "rgb(244,109,67)"
          ],
          [
           0.3,
           "rgb(253,174,97)"
          ],
          [
           0.4,
           "rgb(254,224,144)"
          ],
          [
           0.5,
           "rgb(255,255,191)"
          ],
          [
           0.6,
           "rgb(224,243,248)"
          ],
          [
           0.7,
           "rgb(171,217,233)"
          ],
          [
           0.8,
           "rgb(116,173,209)"
          ],
          [
           0.9,
           "rgb(69,117,180)"
          ],
          [
           1,
           "rgb(49,54,149)"
          ]
         ],
         "type": "surface",
         "x": [
          0,
          1,
          2,
          3,
          4
         ],
         "y": [
          "x",
          "y",
          "z"
         ],
         "z": [
          [
           1,
           2,
           3,
           4,
           5
          ],
          [
           10,
           20,
           30,
           20,
           10
          ],
          [
           5,
           4,
           3,
           2,
           1
          ]
         ]
        }
       ],
       "layout": {
        "legend": {
         "bgcolor": "#F5F6F9",
         "font": {
          "color": "#4D5663"
         }
        },
        "paper_bgcolor": "#F5F6F9",
        "plot_bgcolor": "#F5F6F9",
        "template": {
         "data": {
          "bar": [
           {
            "error_x": {
             "color": "#2a3f5f"
            },
            "error_y": {
             "color": "#2a3f5f"
            },
            "marker": {
             "line": {
              "color": "#E5ECF6",
              "width": 0.5
             },
             "pattern": {
              "fillmode": "overlay",
              "size": 10,
              "solidity": 0.2
             }
            },
            "type": "bar"
           }
          ],
          "barpolar": [
           {
            "marker": {
             "line": {
              "color": "#E5ECF6",
              "width": 0.5
             },
             "pattern": {
              "fillmode": "overlay",
              "size": 10,
              "solidity": 0.2
             }
            },
            "type": "barpolar"
           }
          ],
          "carpet": [
           {
            "aaxis": {
             "endlinecolor": "#2a3f5f",
             "gridcolor": "white",
             "linecolor": "white",
             "minorgridcolor": "white",
             "startlinecolor": "#2a3f5f"
            },
            "baxis": {
             "endlinecolor": "#2a3f5f",
             "gridcolor": "white",
             "linecolor": "white",
             "minorgridcolor": "white",
             "startlinecolor": "#2a3f5f"
            },
            "type": "carpet"
           }
          ],
          "choropleth": [
           {
            "colorbar": {
             "outlinewidth": 0,
             "ticks": ""
            },
            "type": "choropleth"
           }
          ],
          "contour": [
           {
            "colorbar": {
             "outlinewidth": 0,
             "ticks": ""
            },
            "colorscale": [
             [
              0,
              "#0d0887"
             ],
             [
              0.1111111111111111,
              "#46039f"
             ],
             [
              0.2222222222222222,
              "#7201a8"
             ],
             [
              0.3333333333333333,
              "#9c179e"
             ],
             [
              0.4444444444444444,
              "#bd3786"
             ],
             [
              0.5555555555555556,
              "#d8576b"
             ],
             [
              0.6666666666666666,
              "#ed7953"
             ],
             [
              0.7777777777777778,
              "#fb9f3a"
             ],
             [
              0.8888888888888888,
              "#fdca26"
             ],
             [
              1,
              "#f0f921"
             ]
            ],
            "type": "contour"
           }
          ],
          "contourcarpet": [
           {
            "colorbar": {
             "outlinewidth": 0,
             "ticks": ""
            },
            "type": "contourcarpet"
           }
          ],
          "heatmap": [
           {
            "colorbar": {
             "outlinewidth": 0,
             "ticks": ""
            },
            "colorscale": [
             [
              0,
              "#0d0887"
             ],
             [
              0.1111111111111111,
              "#46039f"
             ],
             [
              0.2222222222222222,
              "#7201a8"
             ],
             [
              0.3333333333333333,
              "#9c179e"
             ],
             [
              0.4444444444444444,
              "#bd3786"
             ],
             [
              0.5555555555555556,
              "#d8576b"
             ],
             [
              0.6666666666666666,
              "#ed7953"
             ],
             [
              0.7777777777777778,
              "#fb9f3a"
             ],
             [
              0.8888888888888888,
              "#fdca26"
             ],
             [
              1,
              "#f0f921"
             ]
            ],
            "type": "heatmap"
           }
          ],
          "heatmapgl": [
           {
            "colorbar": {
             "outlinewidth": 0,
             "ticks": ""
            },
            "colorscale": [
             [
              0,
              "#0d0887"
             ],
             [
              0.1111111111111111,
              "#46039f"
             ],
             [
              0.2222222222222222,
              "#7201a8"
             ],
             [
              0.3333333333333333,
              "#9c179e"
             ],
             [
              0.4444444444444444,
              "#bd3786"
             ],
             [
              0.5555555555555556,
              "#d8576b"
             ],
             [
              0.6666666666666666,
              "#ed7953"
             ],
             [
              0.7777777777777778,
              "#fb9f3a"
             ],
             [
              0.8888888888888888,
              "#fdca26"
             ],
             [
              1,
              "#f0f921"
             ]
            ],
            "type": "heatmapgl"
           }
          ],
          "histogram": [
           {
            "marker": {
             "pattern": {
              "fillmode": "overlay",
              "size": 10,
              "solidity": 0.2
             }
            },
            "type": "histogram"
           }
          ],
          "histogram2d": [
           {
            "colorbar": {
             "outlinewidth": 0,
             "ticks": ""
            },
            "colorscale": [
             [
              0,
              "#0d0887"
             ],
             [
              0.1111111111111111,
              "#46039f"
             ],
             [
              0.2222222222222222,
              "#7201a8"
             ],
             [
              0.3333333333333333,
              "#9c179e"
             ],
             [
              0.4444444444444444,
              "#bd3786"
             ],
             [
              0.5555555555555556,
              "#d8576b"
             ],
             [
              0.6666666666666666,
              "#ed7953"
             ],
             [
              0.7777777777777778,
              "#fb9f3a"
             ],
             [
              0.8888888888888888,
              "#fdca26"
             ],
             [
              1,
              "#f0f921"
             ]
            ],
            "type": "histogram2d"
           }
          ],
          "histogram2dcontour": [
           {
            "colorbar": {
             "outlinewidth": 0,
             "ticks": ""
            },
            "colorscale": [
             [
              0,
              "#0d0887"
             ],
             [
              0.1111111111111111,
              "#46039f"
             ],
             [
              0.2222222222222222,
              "#7201a8"
             ],
             [
              0.3333333333333333,
              "#9c179e"
             ],
             [
              0.4444444444444444,
              "#bd3786"
             ],
             [
              0.5555555555555556,
              "#d8576b"
             ],
             [
              0.6666666666666666,
              "#ed7953"
             ],
             [
              0.7777777777777778,
              "#fb9f3a"
             ],
             [
              0.8888888888888888,
              "#fdca26"
             ],
             [
              1,
              "#f0f921"
             ]
            ],
            "type": "histogram2dcontour"
           }
          ],
          "mesh3d": [
           {
            "colorbar": {
             "outlinewidth": 0,
             "ticks": ""
            },
            "type": "mesh3d"
           }
          ],
          "parcoords": [
           {
            "line": {
             "colorbar": {
              "outlinewidth": 0,
              "ticks": ""
             }
            },
            "type": "parcoords"
           }
          ],
          "pie": [
           {
            "automargin": true,
            "type": "pie"
           }
          ],
          "scatter": [
           {
            "fillpattern": {
             "fillmode": "overlay",
             "size": 10,
             "solidity": 0.2
            },
            "type": "scatter"
           }
          ],
          "scatter3d": [
           {
            "line": {
             "colorbar": {
              "outlinewidth": 0,
              "ticks": ""
             }
            },
            "marker": {
             "colorbar": {
              "outlinewidth": 0,
              "ticks": ""
             }
            },
            "type": "scatter3d"
           }
          ],
          "scattercarpet": [
           {
            "marker": {
             "colorbar": {
              "outlinewidth": 0,
              "ticks": ""
             }
            },
            "type": "scattercarpet"
           }
          ],
          "scattergeo": [
           {
            "marker": {
             "colorbar": {
              "outlinewidth": 0,
              "ticks": ""
             }
            },
            "type": "scattergeo"
           }
          ],
          "scattergl": [
           {
            "marker": {
             "colorbar": {
              "outlinewidth": 0,
              "ticks": ""
             }
            },
            "type": "scattergl"
           }
          ],
          "scattermapbox": [
           {
            "marker": {
             "colorbar": {
              "outlinewidth": 0,
              "ticks": ""
             }
            },
            "type": "scattermapbox"
           }
          ],
          "scatterpolar": [
           {
            "marker": {
             "colorbar": {
              "outlinewidth": 0,
              "ticks": ""
             }
            },
            "type": "scatterpolar"
           }
          ],
          "scatterpolargl": [
           {
            "marker": {
             "colorbar": {
              "outlinewidth": 0,
              "ticks": ""
             }
            },
            "type": "scatterpolargl"
           }
          ],
          "scatterternary": [
           {
            "marker": {
             "colorbar": {
              "outlinewidth": 0,
              "ticks": ""
             }
            },
            "type": "scatterternary"
           }
          ],
          "surface": [
           {
            "colorbar": {
             "outlinewidth": 0,
             "ticks": ""
            },
            "colorscale": [
             [
              0,
              "#0d0887"
             ],
             [
              0.1111111111111111,
              "#46039f"
             ],
             [
              0.2222222222222222,
              "#7201a8"
             ],
             [
              0.3333333333333333,
              "#9c179e"
             ],
             [
              0.4444444444444444,
              "#bd3786"
             ],
             [
              0.5555555555555556,
              "#d8576b"
             ],
             [
              0.6666666666666666,
              "#ed7953"
             ],
             [
              0.7777777777777778,
              "#fb9f3a"
             ],
             [
              0.8888888888888888,
              "#fdca26"
             ],
             [
              1,
              "#f0f921"
             ]
            ],
            "type": "surface"
           }
          ],
          "table": [
           {
            "cells": {
             "fill": {
              "color": "#EBF0F8"
             },
             "line": {
              "color": "white"
             }
            },
            "header": {
             "fill": {
              "color": "#C8D4E3"
             },
             "line": {
              "color": "white"
             }
            },
            "type": "table"
           }
          ]
         },
         "layout": {
          "annotationdefaults": {
           "arrowcolor": "#2a3f5f",
           "arrowhead": 0,
           "arrowwidth": 1
          },
          "autotypenumbers": "strict",
          "coloraxis": {
           "colorbar": {
            "outlinewidth": 0,
            "ticks": ""
           }
          },
          "colorscale": {
           "diverging": [
            [
             0,
             "#8e0152"
            ],
            [
             0.1,
             "#c51b7d"
            ],
            [
             0.2,
             "#de77ae"
            ],
            [
             0.3,
             "#f1b6da"
            ],
            [
             0.4,
             "#fde0ef"
            ],
            [
             0.5,
             "#f7f7f7"
            ],
            [
             0.6,
             "#e6f5d0"
            ],
            [
             0.7,
             "#b8e186"
            ],
            [
             0.8,
             "#7fbc41"
            ],
            [
             0.9,
             "#4d9221"
            ],
            [
             1,
             "#276419"
            ]
           ],
           "sequential": [
            [
             0,
             "#0d0887"
            ],
            [
             0.1111111111111111,
             "#46039f"
            ],
            [
             0.2222222222222222,
             "#7201a8"
            ],
            [
             0.3333333333333333,
             "#9c179e"
            ],
            [
             0.4444444444444444,
             "#bd3786"
            ],
            [
             0.5555555555555556,
             "#d8576b"
            ],
            [
             0.6666666666666666,
             "#ed7953"
            ],
            [
             0.7777777777777778,
             "#fb9f3a"
            ],
            [
             0.8888888888888888,
             "#fdca26"
            ],
            [
             1,
             "#f0f921"
            ]
           ],
           "sequentialminus": [
            [
             0,
             "#0d0887"
            ],
            [
             0.1111111111111111,
             "#46039f"
            ],
            [
             0.2222222222222222,
             "#7201a8"
            ],
            [
             0.3333333333333333,
             "#9c179e"
            ],
            [
             0.4444444444444444,
             "#bd3786"
            ],
            [
             0.5555555555555556,
             "#d8576b"
            ],
            [
             0.6666666666666666,
             "#ed7953"
            ],
            [
             0.7777777777777778,
             "#fb9f3a"
            ],
            [
             0.8888888888888888,
             "#fdca26"
            ],
            [
             1,
             "#f0f921"
            ]
           ]
          },
          "colorway": [
           "#636efa",
           "#EF553B",
           "#00cc96",
           "#ab63fa",
           "#FFA15A",
           "#19d3f3",
           "#FF6692",
           "#B6E880",
           "#FF97FF",
           "#FECB52"
          ],
          "font": {
           "color": "#2a3f5f"
          },
          "geo": {
           "bgcolor": "white",
           "lakecolor": "white",
           "landcolor": "#E5ECF6",
           "showlakes": true,
           "showland": true,
           "subunitcolor": "white"
          },
          "hoverlabel": {
           "align": "left"
          },
          "hovermode": "closest",
          "mapbox": {
           "style": "light"
          },
          "paper_bgcolor": "white",
          "plot_bgcolor": "#E5ECF6",
          "polar": {
           "angularaxis": {
            "gridcolor": "white",
            "linecolor": "white",
            "ticks": ""
           },
           "bgcolor": "#E5ECF6",
           "radialaxis": {
            "gridcolor": "white",
            "linecolor": "white",
            "ticks": ""
           }
          },
          "scene": {
           "xaxis": {
            "backgroundcolor": "#E5ECF6",
            "gridcolor": "white",
            "gridwidth": 2,
            "linecolor": "white",
            "showbackground": true,
            "ticks": "",
            "zerolinecolor": "white"
           },
           "yaxis": {
            "backgroundcolor": "#E5ECF6",
            "gridcolor": "white",
            "gridwidth": 2,
            "linecolor": "white",
            "showbackground": true,
            "ticks": "",
            "zerolinecolor": "white"
           },
           "zaxis": {
            "backgroundcolor": "#E5ECF6",
            "gridcolor": "white",
            "gridwidth": 2,
            "linecolor": "white",
            "showbackground": true,
            "ticks": "",
            "zerolinecolor": "white"
           }
          },
          "shapedefaults": {
           "line": {
            "color": "#2a3f5f"
           }
          },
          "ternary": {
           "aaxis": {
            "gridcolor": "white",
            "linecolor": "white",
            "ticks": ""
           },
           "baxis": {
            "gridcolor": "white",
            "linecolor": "white",
            "ticks": ""
           },
           "bgcolor": "#E5ECF6",
           "caxis": {
            "gridcolor": "white",
            "linecolor": "white",
            "ticks": ""
           }
          },
          "title": {
           "x": 0.05
          },
          "xaxis": {
           "automargin": true,
           "gridcolor": "white",
           "linecolor": "white",
           "ticks": "",
           "title": {
            "standoff": 15
           },
           "zerolinecolor": "white",
           "zerolinewidth": 2
          },
          "yaxis": {
           "automargin": true,
           "gridcolor": "white",
           "linecolor": "white",
           "ticks": "",
           "title": {
            "standoff": 15
           },
           "zerolinecolor": "white",
           "zerolinewidth": 2
          }
         }
        },
        "title": {
         "font": {
          "color": "#4D5663"
         }
        },
        "xaxis": {
         "gridcolor": "#E1E5ED",
         "showgrid": true,
         "tickfont": {
          "color": "#4D5663"
         },
         "title": {
          "font": {
           "color": "#4D5663"
          },
          "text": ""
         },
         "zerolinecolor": "#E1E5ED"
        },
        "yaxis": {
         "gridcolor": "#E1E5ED",
         "showgrid": true,
         "tickfont": {
          "color": "#4D5663"
         },
         "title": {
          "font": {
           "color": "#4D5663"
          },
          "text": ""
         },
         "zerolinecolor": "#E1E5ED"
        }
       }
      },
      "text/html": [
       "<div>                            <div id=\"b79ee39f-9491-4259-b732-de624fc6fab8\" class=\"plotly-graph-div\" style=\"height:525px; width:100%;\"></div>            <script type=\"text/javascript\">                require([\"plotly\"], function(Plotly) {                    window.PLOTLYENV=window.PLOTLYENV || {};\n",
       "                    window.PLOTLYENV.BASE_URL='https://plot.ly';                                    if (document.getElementById(\"b79ee39f-9491-4259-b732-de624fc6fab8\")) {                    Plotly.newPlot(                        \"b79ee39f-9491-4259-b732-de624fc6fab8\",                        [{\"colorscale\":[[0.0,\"rgb(165,0,38)\"],[0.1,\"rgb(215,48,39)\"],[0.2,\"rgb(244,109,67)\"],[0.3,\"rgb(253,174,97)\"],[0.4,\"rgb(254,224,144)\"],[0.5,\"rgb(255,255,191)\"],[0.6,\"rgb(224,243,248)\"],[0.7,\"rgb(171,217,233)\"],[0.8,\"rgb(116,173,209)\"],[0.9,\"rgb(69,117,180)\"],[1.0,\"rgb(49,54,149)\"]],\"x\":[0,1,2,3,4],\"y\":[\"x\",\"y\",\"z\"],\"z\":[[1,2,3,4,5],[10,20,30,20,10],[5,4,3,2,1]],\"type\":\"surface\"}],                        {\"legend\":{\"bgcolor\":\"#F5F6F9\",\"font\":{\"color\":\"#4D5663\"}},\"paper_bgcolor\":\"#F5F6F9\",\"plot_bgcolor\":\"#F5F6F9\",\"template\":{\"data\":{\"barpolar\":[{\"marker\":{\"line\":{\"color\":\"#E5ECF6\",\"width\":0.5},\"pattern\":{\"fillmode\":\"overlay\",\"size\":10,\"solidity\":0.2}},\"type\":\"barpolar\"}],\"bar\":[{\"error_x\":{\"color\":\"#2a3f5f\"},\"error_y\":{\"color\":\"#2a3f5f\"},\"marker\":{\"line\":{\"color\":\"#E5ECF6\",\"width\":0.5},\"pattern\":{\"fillmode\":\"overlay\",\"size\":10,\"solidity\":0.2}},\"type\":\"bar\"}],\"carpet\":[{\"aaxis\":{\"endlinecolor\":\"#2a3f5f\",\"gridcolor\":\"white\",\"linecolor\":\"white\",\"minorgridcolor\":\"white\",\"startlinecolor\":\"#2a3f5f\"},\"baxis\":{\"endlinecolor\":\"#2a3f5f\",\"gridcolor\":\"white\",\"linecolor\":\"white\",\"minorgridcolor\":\"white\",\"startlinecolor\":\"#2a3f5f\"},\"type\":\"carpet\"}],\"choropleth\":[{\"colorbar\":{\"outlinewidth\":0,\"ticks\":\"\"},\"type\":\"choropleth\"}],\"contourcarpet\":[{\"colorbar\":{\"outlinewidth\":0,\"ticks\":\"\"},\"type\":\"contourcarpet\"}],\"contour\":[{\"colorbar\":{\"outlinewidth\":0,\"ticks\":\"\"},\"colorscale\":[[0.0,\"#0d0887\"],[0.1111111111111111,\"#46039f\"],[0.2222222222222222,\"#7201a8\"],[0.3333333333333333,\"#9c179e\"],[0.4444444444444444,\"#bd3786\"],[0.5555555555555556,\"#d8576b\"],[0.6666666666666666,\"#ed7953\"],[0.7777777777777778,\"#fb9f3a\"],[0.8888888888888888,\"#fdca26\"],[1.0,\"#f0f921\"]],\"type\":\"contour\"}],\"heatmapgl\":[{\"colorbar\":{\"outlinewidth\":0,\"ticks\":\"\"},\"colorscale\":[[0.0,\"#0d0887\"],[0.1111111111111111,\"#46039f\"],[0.2222222222222222,\"#7201a8\"],[0.3333333333333333,\"#9c179e\"],[0.4444444444444444,\"#bd3786\"],[0.5555555555555556,\"#d8576b\"],[0.6666666666666666,\"#ed7953\"],[0.7777777777777778,\"#fb9f3a\"],[0.8888888888888888,\"#fdca26\"],[1.0,\"#f0f921\"]],\"type\":\"heatmapgl\"}],\"heatmap\":[{\"colorbar\":{\"outlinewidth\":0,\"ticks\":\"\"},\"colorscale\":[[0.0,\"#0d0887\"],[0.1111111111111111,\"#46039f\"],[0.2222222222222222,\"#7201a8\"],[0.3333333333333333,\"#9c179e\"],[0.4444444444444444,\"#bd3786\"],[0.5555555555555556,\"#d8576b\"],[0.6666666666666666,\"#ed7953\"],[0.7777777777777778,\"#fb9f3a\"],[0.8888888888888888,\"#fdca26\"],[1.0,\"#f0f921\"]],\"type\":\"heatmap\"}],\"histogram2dcontour\":[{\"colorbar\":{\"outlinewidth\":0,\"ticks\":\"\"},\"colorscale\":[[0.0,\"#0d0887\"],[0.1111111111111111,\"#46039f\"],[0.2222222222222222,\"#7201a8\"],[0.3333333333333333,\"#9c179e\"],[0.4444444444444444,\"#bd3786\"],[0.5555555555555556,\"#d8576b\"],[0.6666666666666666,\"#ed7953\"],[0.7777777777777778,\"#fb9f3a\"],[0.8888888888888888,\"#fdca26\"],[1.0,\"#f0f921\"]],\"type\":\"histogram2dcontour\"}],\"histogram2d\":[{\"colorbar\":{\"outlinewidth\":0,\"ticks\":\"\"},\"colorscale\":[[0.0,\"#0d0887\"],[0.1111111111111111,\"#46039f\"],[0.2222222222222222,\"#7201a8\"],[0.3333333333333333,\"#9c179e\"],[0.4444444444444444,\"#bd3786\"],[0.5555555555555556,\"#d8576b\"],[0.6666666666666666,\"#ed7953\"],[0.7777777777777778,\"#fb9f3a\"],[0.8888888888888888,\"#fdca26\"],[1.0,\"#f0f921\"]],\"type\":\"histogram2d\"}],\"histogram\":[{\"marker\":{\"pattern\":{\"fillmode\":\"overlay\",\"size\":10,\"solidity\":0.2}},\"type\":\"histogram\"}],\"mesh3d\":[{\"colorbar\":{\"outlinewidth\":0,\"ticks\":\"\"},\"type\":\"mesh3d\"}],\"parcoords\":[{\"line\":{\"colorbar\":{\"outlinewidth\":0,\"ticks\":\"\"}},\"type\":\"parcoords\"}],\"pie\":[{\"automargin\":true,\"type\":\"pie\"}],\"scatter3d\":[{\"line\":{\"colorbar\":{\"outlinewidth\":0,\"ticks\":\"\"}},\"marker\":{\"colorbar\":{\"outlinewidth\":0,\"ticks\":\"\"}},\"type\":\"scatter3d\"}],\"scattercarpet\":[{\"marker\":{\"colorbar\":{\"outlinewidth\":0,\"ticks\":\"\"}},\"type\":\"scattercarpet\"}],\"scattergeo\":[{\"marker\":{\"colorbar\":{\"outlinewidth\":0,\"ticks\":\"\"}},\"type\":\"scattergeo\"}],\"scattergl\":[{\"marker\":{\"colorbar\":{\"outlinewidth\":0,\"ticks\":\"\"}},\"type\":\"scattergl\"}],\"scattermapbox\":[{\"marker\":{\"colorbar\":{\"outlinewidth\":0,\"ticks\":\"\"}},\"type\":\"scattermapbox\"}],\"scatterpolargl\":[{\"marker\":{\"colorbar\":{\"outlinewidth\":0,\"ticks\":\"\"}},\"type\":\"scatterpolargl\"}],\"scatterpolar\":[{\"marker\":{\"colorbar\":{\"outlinewidth\":0,\"ticks\":\"\"}},\"type\":\"scatterpolar\"}],\"scatter\":[{\"fillpattern\":{\"fillmode\":\"overlay\",\"size\":10,\"solidity\":0.2},\"type\":\"scatter\"}],\"scatterternary\":[{\"marker\":{\"colorbar\":{\"outlinewidth\":0,\"ticks\":\"\"}},\"type\":\"scatterternary\"}],\"surface\":[{\"colorbar\":{\"outlinewidth\":0,\"ticks\":\"\"},\"colorscale\":[[0.0,\"#0d0887\"],[0.1111111111111111,\"#46039f\"],[0.2222222222222222,\"#7201a8\"],[0.3333333333333333,\"#9c179e\"],[0.4444444444444444,\"#bd3786\"],[0.5555555555555556,\"#d8576b\"],[0.6666666666666666,\"#ed7953\"],[0.7777777777777778,\"#fb9f3a\"],[0.8888888888888888,\"#fdca26\"],[1.0,\"#f0f921\"]],\"type\":\"surface\"}],\"table\":[{\"cells\":{\"fill\":{\"color\":\"#EBF0F8\"},\"line\":{\"color\":\"white\"}},\"header\":{\"fill\":{\"color\":\"#C8D4E3\"},\"line\":{\"color\":\"white\"}},\"type\":\"table\"}]},\"layout\":{\"annotationdefaults\":{\"arrowcolor\":\"#2a3f5f\",\"arrowhead\":0,\"arrowwidth\":1},\"autotypenumbers\":\"strict\",\"coloraxis\":{\"colorbar\":{\"outlinewidth\":0,\"ticks\":\"\"}},\"colorscale\":{\"diverging\":[[0,\"#8e0152\"],[0.1,\"#c51b7d\"],[0.2,\"#de77ae\"],[0.3,\"#f1b6da\"],[0.4,\"#fde0ef\"],[0.5,\"#f7f7f7\"],[0.6,\"#e6f5d0\"],[0.7,\"#b8e186\"],[0.8,\"#7fbc41\"],[0.9,\"#4d9221\"],[1,\"#276419\"]],\"sequential\":[[0.0,\"#0d0887\"],[0.1111111111111111,\"#46039f\"],[0.2222222222222222,\"#7201a8\"],[0.3333333333333333,\"#9c179e\"],[0.4444444444444444,\"#bd3786\"],[0.5555555555555556,\"#d8576b\"],[0.6666666666666666,\"#ed7953\"],[0.7777777777777778,\"#fb9f3a\"],[0.8888888888888888,\"#fdca26\"],[1.0,\"#f0f921\"]],\"sequentialminus\":[[0.0,\"#0d0887\"],[0.1111111111111111,\"#46039f\"],[0.2222222222222222,\"#7201a8\"],[0.3333333333333333,\"#9c179e\"],[0.4444444444444444,\"#bd3786\"],[0.5555555555555556,\"#d8576b\"],[0.6666666666666666,\"#ed7953\"],[0.7777777777777778,\"#fb9f3a\"],[0.8888888888888888,\"#fdca26\"],[1.0,\"#f0f921\"]]},\"colorway\":[\"#636efa\",\"#EF553B\",\"#00cc96\",\"#ab63fa\",\"#FFA15A\",\"#19d3f3\",\"#FF6692\",\"#B6E880\",\"#FF97FF\",\"#FECB52\"],\"font\":{\"color\":\"#2a3f5f\"},\"geo\":{\"bgcolor\":\"white\",\"lakecolor\":\"white\",\"landcolor\":\"#E5ECF6\",\"showlakes\":true,\"showland\":true,\"subunitcolor\":\"white\"},\"hoverlabel\":{\"align\":\"left\"},\"hovermode\":\"closest\",\"mapbox\":{\"style\":\"light\"},\"paper_bgcolor\":\"white\",\"plot_bgcolor\":\"#E5ECF6\",\"polar\":{\"angularaxis\":{\"gridcolor\":\"white\",\"linecolor\":\"white\",\"ticks\":\"\"},\"bgcolor\":\"#E5ECF6\",\"radialaxis\":{\"gridcolor\":\"white\",\"linecolor\":\"white\",\"ticks\":\"\"}},\"scene\":{\"xaxis\":{\"backgroundcolor\":\"#E5ECF6\",\"gridcolor\":\"white\",\"gridwidth\":2,\"linecolor\":\"white\",\"showbackground\":true,\"ticks\":\"\",\"zerolinecolor\":\"white\"},\"yaxis\":{\"backgroundcolor\":\"#E5ECF6\",\"gridcolor\":\"white\",\"gridwidth\":2,\"linecolor\":\"white\",\"showbackground\":true,\"ticks\":\"\",\"zerolinecolor\":\"white\"},\"zaxis\":{\"backgroundcolor\":\"#E5ECF6\",\"gridcolor\":\"white\",\"gridwidth\":2,\"linecolor\":\"white\",\"showbackground\":true,\"ticks\":\"\",\"zerolinecolor\":\"white\"}},\"shapedefaults\":{\"line\":{\"color\":\"#2a3f5f\"}},\"ternary\":{\"aaxis\":{\"gridcolor\":\"white\",\"linecolor\":\"white\",\"ticks\":\"\"},\"baxis\":{\"gridcolor\":\"white\",\"linecolor\":\"white\",\"ticks\":\"\"},\"bgcolor\":\"#E5ECF6\",\"caxis\":{\"gridcolor\":\"white\",\"linecolor\":\"white\",\"ticks\":\"\"}},\"title\":{\"x\":0.05},\"xaxis\":{\"automargin\":true,\"gridcolor\":\"white\",\"linecolor\":\"white\",\"ticks\":\"\",\"title\":{\"standoff\":15},\"zerolinecolor\":\"white\",\"zerolinewidth\":2},\"yaxis\":{\"automargin\":true,\"gridcolor\":\"white\",\"linecolor\":\"white\",\"ticks\":\"\",\"title\":{\"standoff\":15},\"zerolinecolor\":\"white\",\"zerolinewidth\":2}}},\"title\":{\"font\":{\"color\":\"#4D5663\"}},\"xaxis\":{\"gridcolor\":\"#E1E5ED\",\"showgrid\":true,\"tickfont\":{\"color\":\"#4D5663\"},\"title\":{\"font\":{\"color\":\"#4D5663\"},\"text\":\"\"},\"zerolinecolor\":\"#E1E5ED\"},\"yaxis\":{\"gridcolor\":\"#E1E5ED\",\"showgrid\":true,\"tickfont\":{\"color\":\"#4D5663\"},\"title\":{\"font\":{\"color\":\"#4D5663\"},\"text\":\"\"},\"zerolinecolor\":\"#E1E5ED\"}},                        {\"showLink\": true, \"linkText\": \"Export to plot.ly\", \"plotlyServerURL\": \"https://plot.ly\", \"responsive\": true}                    ).then(function(){\n",
       "                            \n",
       "var gd = document.getElementById('b79ee39f-9491-4259-b732-de624fc6fab8');\n",
       "var x = new MutationObserver(function (mutations, observer) {{\n",
       "        var display = window.getComputedStyle(gd).display;\n",
       "        if (!display || display === 'none') {{\n",
       "            console.log([gd, 'removed!']);\n",
       "            Plotly.purge(gd);\n",
       "            observer.disconnect();\n",
       "        }}\n",
       "}});\n",
       "\n",
       "// Listen for the removal of the full notebook cells\n",
       "var notebookContainer = gd.closest('#notebook-container');\n",
       "if (notebookContainer) {{\n",
       "    x.observe(notebookContainer, {childList: true});\n",
       "}}\n",
       "\n",
       "// Listen for the clearing of the current output cell\n",
       "var outputEl = gd.closest('.output');\n",
       "if (outputEl) {{\n",
       "    x.observe(outputEl, {childList: true});\n",
       "}}\n",
       "\n",
       "                        })                };                });            </script>        </div>"
      ]
     },
     "metadata": {},
     "output_type": "display_data"
    }
   ],
   "source": [
    "df3 = pd.DataFrame({'x':[1,2,3,4,5],'y':[10,20,30,20,10],'z':[5,4,3,2,1]})\n",
    "df3.iplot(kind='surface',colorscale='rdylbu')"
   ]
  },
  {
   "cell_type": "markdown",
   "metadata": {},
   "source": [
    "## Spread"
   ]
  },
  {
   "cell_type": "code",
   "execution_count": 32,
   "metadata": {},
   "outputs": [
    {
     "name": "stderr",
     "output_type": "stream",
     "text": [
      "/Users/linyixi/anaconda3/lib/python3.11/site-packages/cufflinks/plotlytools.py:849: FutureWarning:\n",
      "\n",
      "The pandas.np module is deprecated and will be removed from pandas in a future version. Import numpy directly instead.\n",
      "\n",
      "/Users/linyixi/anaconda3/lib/python3.11/site-packages/cufflinks/plotlytools.py:850: FutureWarning:\n",
      "\n",
      "The pandas.np module is deprecated and will be removed from pandas in a future version. Import numpy directly instead.\n",
      "\n"
     ]
    },
    {
     "data": {
      "application/vnd.plotly.v1+json": {
       "config": {
        "linkText": "Export to plot.ly",
        "plotlyServerURL": "https://plot.ly",
        "showLink": true
       },
       "data": [
        {
         "line": {
          "color": "rgba(255, 153, 51, 1.0)",
          "dash": "solid",
          "shape": "linear",
          "width": 1.3
         },
         "mode": "lines",
         "name": "A",
         "text": "",
         "type": "scatter",
         "x": [
          0,
          1,
          2,
          3,
          4,
          5,
          6,
          7,
          8,
          9,
          10,
          11,
          12,
          13,
          14,
          15,
          16,
          17,
          18,
          19,
          20,
          21,
          22,
          23,
          24,
          25,
          26,
          27,
          28,
          29,
          30,
          31,
          32,
          33,
          34,
          35,
          36,
          37,
          38,
          39,
          40,
          41,
          42,
          43,
          44,
          45,
          46,
          47,
          48,
          49,
          50,
          51,
          52,
          53,
          54,
          55,
          56,
          57,
          58,
          59,
          60,
          61,
          62,
          63,
          64,
          65,
          66,
          67,
          68,
          69,
          70,
          71,
          72,
          73,
          74,
          75,
          76,
          77,
          78,
          79,
          80,
          81,
          82,
          83,
          84,
          85,
          86,
          87,
          88,
          89,
          90,
          91,
          92,
          93,
          94,
          95,
          96,
          97,
          98,
          99
         ],
         "y": [
          -1.344681348367679,
          -0.25990777378562724,
          0.615954219350596,
          -0.3257161686937772,
          -1.1045124407249927,
          0.9518151688580743,
          -0.4414378956070553,
          0.23744357912241404,
          0.565882233802471,
          -1.4537368232448615,
          -0.3928064280712824,
          -0.5403655950553611,
          1.5032156945366153,
          -1.2813707408278914,
          0.3790274581122027,
          0.8030625060619568,
          0.5778619862717127,
          0.8821066931085245,
          1.6011202145953622,
          0.1494411676678207,
          -1.2175021564890365,
          -0.29325724113695045,
          -2.1132575093678168,
          -0.9418299903447851,
          -0.09413179117591249,
          -0.2212747045116899,
          0.7746388970054674,
          -0.8135424045456192,
          0.12425271139672092,
          -1.7624704443807377,
          -0.43129804068089106,
          -0.20701415863099415,
          0.1362581079714989,
          1.0213604292746619,
          1.4639234917681077,
          0.06314136905130897,
          -0.3384283258846109,
          -1.1690531466628162,
          0.22232591791165796,
          -0.5567602604223021,
          -0.23226829270222443,
          0.07840895108426076,
          1.1997614062549575,
          -0.061344339620039934,
          -0.39606237695467916,
          0.03725642793693573,
          1.2294394862034583,
          -1.7313239545247834,
          -0.7441425575409852,
          -0.7939011286891274,
          -0.04435819607299003,
          0.2152874644731718,
          -2.0602841032029353,
          0.5644320334268482,
          -1.659620457878419,
          0.4784268388998683,
          0.33245834317874495,
          1.3878741299306154,
          0.29292368114595657,
          1.0201915408457543,
          0.03445988614890572,
          0.345844164372107,
          0.8119328705027892,
          -0.4839815041109739,
          1.3833821707367373,
          0.3752824641912273,
          1.3529053280861845,
          0.7265165967816627,
          0.6486102939924626,
          0.045696646528161626,
          1.2169441234170144,
          1.2929966807127653,
          -0.33525951367360135,
          -0.38718286815465025,
          -0.8582896302412307,
          -1.2505385219437037,
          -1.0501771108401305,
          -0.5929062873971976,
          0.2823591333624237,
          0.6458494902237761,
          1.1087442383410073,
          -0.6843307181221185,
          -1.0429217420576782,
          -0.4615367754647887,
          -0.11068167099797399,
          -0.7038412804143902,
          -0.2936115839181303,
          -1.4586237497858365,
          1.1691072424789413,
          0.5852293860683341,
          -1.1572138935089535,
          -1.0601488924464997,
          -0.1955550192748439,
          -0.9876856722615701,
          -0.9680653493598178,
          0.17596996056280834,
          -0.5849896655419029,
          -0.14671716039599272,
          0.7243684341273524,
          0.11233490876531009
         ]
        },
        {
         "line": {
          "color": "rgba(55, 128, 191, 1.0)",
          "dash": "solid",
          "shape": "linear",
          "width": 1.3
         },
         "mode": "lines",
         "name": "B",
         "text": "",
         "type": "scatter",
         "x": [
          0,
          1,
          2,
          3,
          4,
          5,
          6,
          7,
          8,
          9,
          10,
          11,
          12,
          13,
          14,
          15,
          16,
          17,
          18,
          19,
          20,
          21,
          22,
          23,
          24,
          25,
          26,
          27,
          28,
          29,
          30,
          31,
          32,
          33,
          34,
          35,
          36,
          37,
          38,
          39,
          40,
          41,
          42,
          43,
          44,
          45,
          46,
          47,
          48,
          49,
          50,
          51,
          52,
          53,
          54,
          55,
          56,
          57,
          58,
          59,
          60,
          61,
          62,
          63,
          64,
          65,
          66,
          67,
          68,
          69,
          70,
          71,
          72,
          73,
          74,
          75,
          76,
          77,
          78,
          79,
          80,
          81,
          82,
          83,
          84,
          85,
          86,
          87,
          88,
          89,
          90,
          91,
          92,
          93,
          94,
          95,
          96,
          97,
          98,
          99
         ],
         "y": [
          -0.6141524354932701,
          -0.42820766641829233,
          1.560949685067526,
          -0.016366876742454278,
          -0.201557182599476,
          0.9034252832480001,
          1.1385890108482881,
          0.4997120911452794,
          -0.6431276327177393,
          1.211243606751715,
          0.2980918040802568,
          1.6882964191964656,
          -0.9499289520197146,
          1.3777101777879859,
          1.0133737656196418,
          0.04615459993434687,
          -0.23562220624719996,
          -0.8472394318161616,
          0.9754077003636352,
          -2.029101759723629,
          -1.1458437397532513,
          0.2918229495301508,
          0.42434195105328415,
          0.25507369160860566,
          -1.3105165158007956,
          0.8056262517408992,
          2.5038411972897276,
          0.4425422857014533,
          0.6834958460784702,
          -0.8559521501021329,
          0.704226306192486,
          0.7689311364426078,
          -0.1795506562591025,
          2.478306088606201,
          -0.2542547549818018,
          -1.1130974246268486,
          -0.42565330900895,
          -0.7882386369038422,
          -0.6640291687247452,
          0.263840738476896,
          1.0077497246504774,
          1.2773429952090538,
          0.13115443067251445,
          0.8818786793607682,
          2.309893637608007,
          0.5362686094806232,
          -1.0308434428294522,
          0.6849550586723251,
          -0.3254428018017996,
          -0.21699088590695828,
          1.912387014170751,
          0.17316749761022943,
          0.28761426771826504,
          -0.23278602894871162,
          -0.963319393098557,
          -0.3489916955291253,
          0.26012760903033044,
          -0.835833333730869,
          -1.5623598399882572,
          -0.48015350615792085,
          -0.11944754740327732,
          0.026295999513213333,
          -1.6066286927087363,
          0.5199063448102765,
          0.8664172542597003,
          -1.1601858683315638,
          -0.5774002796857021,
          -1.8834974470349524,
          -0.15062404083992648,
          0.05426744786494283,
          -0.5972182687637029,
          0.35686556322641216,
          0.48590074900782715,
          -2.071759239609643,
          0.7618499638282232,
          0.7723607083493977,
          -0.7630381986102769,
          0.7214067351798614,
          -0.6321096643468237,
          0.9400889761716075,
          -0.40196691099382936,
          0.5046896317639424,
          -0.7693827819522933,
          1.9337472141346586,
          1.59623155576546,
          -0.19753941417329646,
          1.3088444111805233,
          0.33406737873388115,
          -0.38386304887850126,
          -1.0559312901442477,
          1.477786415541574,
          -0.8874523338969589,
          0.05986850818355528,
          -1.4419205278408251,
          1.2693587674606999,
          -0.16826747808312903,
          0.7558397102656929,
          -0.04481720578448385,
          0.12303505012631975,
          0.1151332956318505
         ]
        },
        {
         "connectgaps": false,
         "fill": "tozeroy",
         "line": {
          "color": "green",
          "dash": "solid",
          "shape": "linear",
          "width": 0.5
         },
         "mode": "lines",
         "name": "Spread",
         "showlegend": false,
         "type": "scatter",
         "x": [
          0,
          1,
          2,
          3,
          4,
          5,
          6,
          7,
          8,
          9,
          10,
          11,
          12,
          13,
          14,
          15,
          16,
          17,
          18,
          19,
          20,
          21,
          22,
          23,
          24,
          25,
          26,
          27,
          28,
          29,
          30,
          31,
          32,
          33,
          34,
          35,
          36,
          37,
          38,
          39,
          40,
          41,
          42,
          43,
          44,
          45,
          46,
          47,
          48,
          49,
          50,
          51,
          52,
          53,
          54,
          55,
          56,
          57,
          58,
          59,
          60,
          61,
          62,
          63,
          64,
          65,
          66,
          67,
          68,
          69,
          70,
          71,
          72,
          73,
          74,
          75,
          76,
          77,
          78,
          79,
          80,
          81,
          82,
          83,
          84,
          85,
          86,
          87,
          88,
          89,
          90,
          91,
          92,
          93,
          94,
          95,
          96,
          97,
          98,
          99
         ],
         "xaxis": "x2",
         "y": [
          "",
          0.1682998926326651,
          "",
          "",
          "",
          0.04838988561007418,
          "",
          "",
          1.2090098665202103,
          "",
          "",
          "",
          2.45314464655633,
          "",
          "",
          0.7569079061276099,
          0.8134841925189127,
          1.7293461249246862,
          0.625712514231727,
          2.17854292739145,
          "",
          "",
          "",
          "",
          1.2163847246248831,
          "",
          "",
          "",
          "",
          "",
          "",
          "",
          0.3158087642306014,
          "",
          1.7181782467499094,
          1.1762387936781575,
          0.08722498312433907,
          "",
          0.8863550866364032,
          "",
          "",
          "",
          1.068606975582443,
          "",
          "",
          "",
          2.2602829290329103,
          "",
          "",
          "",
          "",
          0.042119966862942365,
          "",
          0.7972180623755598,
          "",
          0.8274185344289936,
          0.07233073414841451,
          2.2237074636614844,
          1.8552835211342138,
          1.500345047003675,
          0.15390743355218303,
          0.3195481648588937,
          2.4185615632115254,
          "",
          0.516964916477037,
          1.5354683325227911,
          1.9303056077718865,
          2.610014043816615,
          0.7992343348323891,
          "",
          1.8141623921807173,
          0.9361311174863531,
          "",
          1.6845763714549926,
          "",
          "",
          "",
          "",
          0.9144687977092474,
          "",
          1.5107111493348366,
          "",
          "",
          "",
          "",
          "",
          "",
          "",
          1.5529702913574426,
          1.6411606762125817,
          "",
          "",
          "",
          0.454234855579255,
          "",
          0.34423743864593737,
          "",
          "",
          0.6013333840010326,
          ""
         ],
         "yaxis": "y2"
        },
        {
         "connectgaps": false,
         "fill": "tozeroy",
         "line": {
          "color": "red",
          "dash": "solid",
          "shape": "linear",
          "width": 0.5
         },
         "mode": "lines",
         "name": "Spread",
         "showlegend": false,
         "type": "scatter",
         "x": [
          0,
          1,
          2,
          3,
          4,
          5,
          6,
          7,
          8,
          9,
          10,
          11,
          12,
          13,
          14,
          15,
          16,
          17,
          18,
          19,
          20,
          21,
          22,
          23,
          24,
          25,
          26,
          27,
          28,
          29,
          30,
          31,
          32,
          33,
          34,
          35,
          36,
          37,
          38,
          39,
          40,
          41,
          42,
          43,
          44,
          45,
          46,
          47,
          48,
          49,
          50,
          51,
          52,
          53,
          54,
          55,
          56,
          57,
          58,
          59,
          60,
          61,
          62,
          63,
          64,
          65,
          66,
          67,
          68,
          69,
          70,
          71,
          72,
          73,
          74,
          75,
          76,
          77,
          78,
          79,
          80,
          81,
          82,
          83,
          84,
          85,
          86,
          87,
          88,
          89,
          90,
          91,
          92,
          93,
          94,
          95,
          96,
          97,
          98,
          99
         ],
         "xaxis": "x2",
         "y": [
          -0.7305289128744088,
          "",
          -0.9449954657169299,
          -0.3093492919513229,
          -0.9029552581255167,
          "",
          -1.5800269064553434,
          -0.2622685120228654,
          "",
          -2.6649804299965765,
          -0.6908982321515392,
          -2.2286620142518268,
          "",
          -2.659080918615877,
          -0.6343463075074391,
          "",
          "",
          "",
          "",
          "",
          -0.07165841673578521,
          -0.5850801906671013,
          -2.537599460421101,
          -1.1969036819533907,
          "",
          -1.026900956252589,
          -1.7292023002842603,
          -1.2560846902470726,
          -0.5592431346817494,
          -0.9065182942786049,
          -1.135524346873377,
          -0.975945295073602,
          "",
          -1.456945659331539,
          "",
          "",
          "",
          -0.380814509758974,
          "",
          -0.820600998899198,
          -1.2400180173527018,
          -1.198934044124793,
          "",
          -0.9432230189808082,
          -2.705956014562686,
          -0.4990121815436874,
          "",
          -2.4162790131971086,
          -0.41869975573918566,
          -0.5769102427821692,
          -1.956745210243741,
          "",
          -2.3478983709212002,
          "",
          -0.6963010647798621,
          "",
          "",
          "",
          "",
          "",
          "",
          "",
          "",
          -1.0038878489212504,
          "",
          "",
          "",
          "",
          "",
          -0.008570801336781203,
          "",
          "",
          -0.8211602626814285,
          "",
          -1.620139594069454,
          -2.0228992302931017,
          -0.28713891222985366,
          -1.3143130225770592,
          "",
          -0.29423948594783134,
          "",
          -1.189020349886061,
          -0.2735389601053849,
          -2.3952839895994473,
          -1.706913226763434,
          -0.5063018662410937,
          -1.6024559950986537,
          -1.7926911285197176,
          "",
          "",
          -2.6350003090505276,
          -0.1726965585495408,
          -0.2554235274583992,
          "",
          -2.2374241168205176,
          "",
          -1.3408293758075958,
          -0.10189995461150887,
          "",
          -0.002798386866540409
         ],
         "yaxis": "y2"
        }
       ],
       "layout": {
        "hovermode": "x",
        "legend": {
         "bgcolor": "#F5F6F9",
         "font": {
          "color": "#4D5663"
         }
        },
        "paper_bgcolor": "#F5F6F9",
        "plot_bgcolor": "#F5F6F9",
        "template": {
         "data": {
          "bar": [
           {
            "error_x": {
             "color": "#2a3f5f"
            },
            "error_y": {
             "color": "#2a3f5f"
            },
            "marker": {
             "line": {
              "color": "#E5ECF6",
              "width": 0.5
             },
             "pattern": {
              "fillmode": "overlay",
              "size": 10,
              "solidity": 0.2
             }
            },
            "type": "bar"
           }
          ],
          "barpolar": [
           {
            "marker": {
             "line": {
              "color": "#E5ECF6",
              "width": 0.5
             },
             "pattern": {
              "fillmode": "overlay",
              "size": 10,
              "solidity": 0.2
             }
            },
            "type": "barpolar"
           }
          ],
          "carpet": [
           {
            "aaxis": {
             "endlinecolor": "#2a3f5f",
             "gridcolor": "white",
             "linecolor": "white",
             "minorgridcolor": "white",
             "startlinecolor": "#2a3f5f"
            },
            "baxis": {
             "endlinecolor": "#2a3f5f",
             "gridcolor": "white",
             "linecolor": "white",
             "minorgridcolor": "white",
             "startlinecolor": "#2a3f5f"
            },
            "type": "carpet"
           }
          ],
          "choropleth": [
           {
            "colorbar": {
             "outlinewidth": 0,
             "ticks": ""
            },
            "type": "choropleth"
           }
          ],
          "contour": [
           {
            "colorbar": {
             "outlinewidth": 0,
             "ticks": ""
            },
            "colorscale": [
             [
              0,
              "#0d0887"
             ],
             [
              0.1111111111111111,
              "#46039f"
             ],
             [
              0.2222222222222222,
              "#7201a8"
             ],
             [
              0.3333333333333333,
              "#9c179e"
             ],
             [
              0.4444444444444444,
              "#bd3786"
             ],
             [
              0.5555555555555556,
              "#d8576b"
             ],
             [
              0.6666666666666666,
              "#ed7953"
             ],
             [
              0.7777777777777778,
              "#fb9f3a"
             ],
             [
              0.8888888888888888,
              "#fdca26"
             ],
             [
              1,
              "#f0f921"
             ]
            ],
            "type": "contour"
           }
          ],
          "contourcarpet": [
           {
            "colorbar": {
             "outlinewidth": 0,
             "ticks": ""
            },
            "type": "contourcarpet"
           }
          ],
          "heatmap": [
           {
            "colorbar": {
             "outlinewidth": 0,
             "ticks": ""
            },
            "colorscale": [
             [
              0,
              "#0d0887"
             ],
             [
              0.1111111111111111,
              "#46039f"
             ],
             [
              0.2222222222222222,
              "#7201a8"
             ],
             [
              0.3333333333333333,
              "#9c179e"
             ],
             [
              0.4444444444444444,
              "#bd3786"
             ],
             [
              0.5555555555555556,
              "#d8576b"
             ],
             [
              0.6666666666666666,
              "#ed7953"
             ],
             [
              0.7777777777777778,
              "#fb9f3a"
             ],
             [
              0.8888888888888888,
              "#fdca26"
             ],
             [
              1,
              "#f0f921"
             ]
            ],
            "type": "heatmap"
           }
          ],
          "heatmapgl": [
           {
            "colorbar": {
             "outlinewidth": 0,
             "ticks": ""
            },
            "colorscale": [
             [
              0,
              "#0d0887"
             ],
             [
              0.1111111111111111,
              "#46039f"
             ],
             [
              0.2222222222222222,
              "#7201a8"
             ],
             [
              0.3333333333333333,
              "#9c179e"
             ],
             [
              0.4444444444444444,
              "#bd3786"
             ],
             [
              0.5555555555555556,
              "#d8576b"
             ],
             [
              0.6666666666666666,
              "#ed7953"
             ],
             [
              0.7777777777777778,
              "#fb9f3a"
             ],
             [
              0.8888888888888888,
              "#fdca26"
             ],
             [
              1,
              "#f0f921"
             ]
            ],
            "type": "heatmapgl"
           }
          ],
          "histogram": [
           {
            "marker": {
             "pattern": {
              "fillmode": "overlay",
              "size": 10,
              "solidity": 0.2
             }
            },
            "type": "histogram"
           }
          ],
          "histogram2d": [
           {
            "colorbar": {
             "outlinewidth": 0,
             "ticks": ""
            },
            "colorscale": [
             [
              0,
              "#0d0887"
             ],
             [
              0.1111111111111111,
              "#46039f"
             ],
             [
              0.2222222222222222,
              "#7201a8"
             ],
             [
              0.3333333333333333,
              "#9c179e"
             ],
             [
              0.4444444444444444,
              "#bd3786"
             ],
             [
              0.5555555555555556,
              "#d8576b"
             ],
             [
              0.6666666666666666,
              "#ed7953"
             ],
             [
              0.7777777777777778,
              "#fb9f3a"
             ],
             [
              0.8888888888888888,
              "#fdca26"
             ],
             [
              1,
              "#f0f921"
             ]
            ],
            "type": "histogram2d"
           }
          ],
          "histogram2dcontour": [
           {
            "colorbar": {
             "outlinewidth": 0,
             "ticks": ""
            },
            "colorscale": [
             [
              0,
              "#0d0887"
             ],
             [
              0.1111111111111111,
              "#46039f"
             ],
             [
              0.2222222222222222,
              "#7201a8"
             ],
             [
              0.3333333333333333,
              "#9c179e"
             ],
             [
              0.4444444444444444,
              "#bd3786"
             ],
             [
              0.5555555555555556,
              "#d8576b"
             ],
             [
              0.6666666666666666,
              "#ed7953"
             ],
             [
              0.7777777777777778,
              "#fb9f3a"
             ],
             [
              0.8888888888888888,
              "#fdca26"
             ],
             [
              1,
              "#f0f921"
             ]
            ],
            "type": "histogram2dcontour"
           }
          ],
          "mesh3d": [
           {
            "colorbar": {
             "outlinewidth": 0,
             "ticks": ""
            },
            "type": "mesh3d"
           }
          ],
          "parcoords": [
           {
            "line": {
             "colorbar": {
              "outlinewidth": 0,
              "ticks": ""
             }
            },
            "type": "parcoords"
           }
          ],
          "pie": [
           {
            "automargin": true,
            "type": "pie"
           }
          ],
          "scatter": [
           {
            "fillpattern": {
             "fillmode": "overlay",
             "size": 10,
             "solidity": 0.2
            },
            "type": "scatter"
           }
          ],
          "scatter3d": [
           {
            "line": {
             "colorbar": {
              "outlinewidth": 0,
              "ticks": ""
             }
            },
            "marker": {
             "colorbar": {
              "outlinewidth": 0,
              "ticks": ""
             }
            },
            "type": "scatter3d"
           }
          ],
          "scattercarpet": [
           {
            "marker": {
             "colorbar": {
              "outlinewidth": 0,
              "ticks": ""
             }
            },
            "type": "scattercarpet"
           }
          ],
          "scattergeo": [
           {
            "marker": {
             "colorbar": {
              "outlinewidth": 0,
              "ticks": ""
             }
            },
            "type": "scattergeo"
           }
          ],
          "scattergl": [
           {
            "marker": {
             "colorbar": {
              "outlinewidth": 0,
              "ticks": ""
             }
            },
            "type": "scattergl"
           }
          ],
          "scattermapbox": [
           {
            "marker": {
             "colorbar": {
              "outlinewidth": 0,
              "ticks": ""
             }
            },
            "type": "scattermapbox"
           }
          ],
          "scatterpolar": [
           {
            "marker": {
             "colorbar": {
              "outlinewidth": 0,
              "ticks": ""
             }
            },
            "type": "scatterpolar"
           }
          ],
          "scatterpolargl": [
           {
            "marker": {
             "colorbar": {
              "outlinewidth": 0,
              "ticks": ""
             }
            },
            "type": "scatterpolargl"
           }
          ],
          "scatterternary": [
           {
            "marker": {
             "colorbar": {
              "outlinewidth": 0,
              "ticks": ""
             }
            },
            "type": "scatterternary"
           }
          ],
          "surface": [
           {
            "colorbar": {
             "outlinewidth": 0,
             "ticks": ""
            },
            "colorscale": [
             [
              0,
              "#0d0887"
             ],
             [
              0.1111111111111111,
              "#46039f"
             ],
             [
              0.2222222222222222,
              "#7201a8"
             ],
             [
              0.3333333333333333,
              "#9c179e"
             ],
             [
              0.4444444444444444,
              "#bd3786"
             ],
             [
              0.5555555555555556,
              "#d8576b"
             ],
             [
              0.6666666666666666,
              "#ed7953"
             ],
             [
              0.7777777777777778,
              "#fb9f3a"
             ],
             [
              0.8888888888888888,
              "#fdca26"
             ],
             [
              1,
              "#f0f921"
             ]
            ],
            "type": "surface"
           }
          ],
          "table": [
           {
            "cells": {
             "fill": {
              "color": "#EBF0F8"
             },
             "line": {
              "color": "white"
             }
            },
            "header": {
             "fill": {
              "color": "#C8D4E3"
             },
             "line": {
              "color": "white"
             }
            },
            "type": "table"
           }
          ]
         },
         "layout": {
          "annotationdefaults": {
           "arrowcolor": "#2a3f5f",
           "arrowhead": 0,
           "arrowwidth": 1
          },
          "autotypenumbers": "strict",
          "coloraxis": {
           "colorbar": {
            "outlinewidth": 0,
            "ticks": ""
           }
          },
          "colorscale": {
           "diverging": [
            [
             0,
             "#8e0152"
            ],
            [
             0.1,
             "#c51b7d"
            ],
            [
             0.2,
             "#de77ae"
            ],
            [
             0.3,
             "#f1b6da"
            ],
            [
             0.4,
             "#fde0ef"
            ],
            [
             0.5,
             "#f7f7f7"
            ],
            [
             0.6,
             "#e6f5d0"
            ],
            [
             0.7,
             "#b8e186"
            ],
            [
             0.8,
             "#7fbc41"
            ],
            [
             0.9,
             "#4d9221"
            ],
            [
             1,
             "#276419"
            ]
           ],
           "sequential": [
            [
             0,
             "#0d0887"
            ],
            [
             0.1111111111111111,
             "#46039f"
            ],
            [
             0.2222222222222222,
             "#7201a8"
            ],
            [
             0.3333333333333333,
             "#9c179e"
            ],
            [
             0.4444444444444444,
             "#bd3786"
            ],
            [
             0.5555555555555556,
             "#d8576b"
            ],
            [
             0.6666666666666666,
             "#ed7953"
            ],
            [
             0.7777777777777778,
             "#fb9f3a"
            ],
            [
             0.8888888888888888,
             "#fdca26"
            ],
            [
             1,
             "#f0f921"
            ]
           ],
           "sequentialminus": [
            [
             0,
             "#0d0887"
            ],
            [
             0.1111111111111111,
             "#46039f"
            ],
            [
             0.2222222222222222,
             "#7201a8"
            ],
            [
             0.3333333333333333,
             "#9c179e"
            ],
            [
             0.4444444444444444,
             "#bd3786"
            ],
            [
             0.5555555555555556,
             "#d8576b"
            ],
            [
             0.6666666666666666,
             "#ed7953"
            ],
            [
             0.7777777777777778,
             "#fb9f3a"
            ],
            [
             0.8888888888888888,
             "#fdca26"
            ],
            [
             1,
             "#f0f921"
            ]
           ]
          },
          "colorway": [
           "#636efa",
           "#EF553B",
           "#00cc96",
           "#ab63fa",
           "#FFA15A",
           "#19d3f3",
           "#FF6692",
           "#B6E880",
           "#FF97FF",
           "#FECB52"
          ],
          "font": {
           "color": "#2a3f5f"
          },
          "geo": {
           "bgcolor": "white",
           "lakecolor": "white",
           "landcolor": "#E5ECF6",
           "showlakes": true,
           "showland": true,
           "subunitcolor": "white"
          },
          "hoverlabel": {
           "align": "left"
          },
          "hovermode": "closest",
          "mapbox": {
           "style": "light"
          },
          "paper_bgcolor": "white",
          "plot_bgcolor": "#E5ECF6",
          "polar": {
           "angularaxis": {
            "gridcolor": "white",
            "linecolor": "white",
            "ticks": ""
           },
           "bgcolor": "#E5ECF6",
           "radialaxis": {
            "gridcolor": "white",
            "linecolor": "white",
            "ticks": ""
           }
          },
          "scene": {
           "xaxis": {
            "backgroundcolor": "#E5ECF6",
            "gridcolor": "white",
            "gridwidth": 2,
            "linecolor": "white",
            "showbackground": true,
            "ticks": "",
            "zerolinecolor": "white"
           },
           "yaxis": {
            "backgroundcolor": "#E5ECF6",
            "gridcolor": "white",
            "gridwidth": 2,
            "linecolor": "white",
            "showbackground": true,
            "ticks": "",
            "zerolinecolor": "white"
           },
           "zaxis": {
            "backgroundcolor": "#E5ECF6",
            "gridcolor": "white",
            "gridwidth": 2,
            "linecolor": "white",
            "showbackground": true,
            "ticks": "",
            "zerolinecolor": "white"
           }
          },
          "shapedefaults": {
           "line": {
            "color": "#2a3f5f"
           }
          },
          "ternary": {
           "aaxis": {
            "gridcolor": "white",
            "linecolor": "white",
            "ticks": ""
           },
           "baxis": {
            "gridcolor": "white",
            "linecolor": "white",
            "ticks": ""
           },
           "bgcolor": "#E5ECF6",
           "caxis": {
            "gridcolor": "white",
            "linecolor": "white",
            "ticks": ""
           }
          },
          "title": {
           "x": 0.05
          },
          "xaxis": {
           "automargin": true,
           "gridcolor": "white",
           "linecolor": "white",
           "ticks": "",
           "title": {
            "standoff": 15
           },
           "zerolinecolor": "white",
           "zerolinewidth": 2
          },
          "yaxis": {
           "automargin": true,
           "gridcolor": "white",
           "linecolor": "white",
           "ticks": "",
           "title": {
            "standoff": 15
           },
           "zerolinecolor": "white",
           "zerolinewidth": 2
          }
         }
        },
        "title": {
         "font": {
          "color": "#4D5663"
         }
        },
        "xaxis": {
         "gridcolor": "#E1E5ED",
         "showgrid": true,
         "tickfont": {
          "color": "#4D5663"
         },
         "title": {
          "font": {
           "color": "#4D5663"
          },
          "text": ""
         },
         "zerolinecolor": "#E1E5ED"
        },
        "xaxis2": {
         "anchor": "y2",
         "gridcolor": "#E1E5ED",
         "showgrid": true,
         "showticklabels": false,
         "tickfont": {
          "color": "#4D5663"
         },
         "title": {
          "font": {
           "color": "#4D5663"
          },
          "text": ""
         },
         "zerolinecolor": "#E1E5ED"
        },
        "yaxis": {
         "domain": [
          0.3,
          1
         ],
         "gridcolor": "#E1E5ED",
         "showgrid": true,
         "tickfont": {
          "color": "#4D5663"
         },
         "title": {
          "font": {
           "color": "#4D5663"
          },
          "text": ""
         },
         "zerolinecolor": "#E1E5ED"
        },
        "yaxis2": {
         "domain": [
          0,
          0.25
         ],
         "gridcolor": "#E1E5ED",
         "showgrid": true,
         "tickfont": {
          "color": "#4D5663"
         },
         "title": {
          "font": {
           "color": "#4D5663"
          },
          "text": "Spread"
         },
         "zerolinecolor": "#E1E5ED"
        }
       }
      },
      "text/html": [
       "<div>                            <div id=\"bb47601d-8a37-48ee-b361-14cb5b448468\" class=\"plotly-graph-div\" style=\"height:525px; width:100%;\"></div>            <script type=\"text/javascript\">                require([\"plotly\"], function(Plotly) {                    window.PLOTLYENV=window.PLOTLYENV || {};\n",
       "                    window.PLOTLYENV.BASE_URL='https://plot.ly';                                    if (document.getElementById(\"bb47601d-8a37-48ee-b361-14cb5b448468\")) {                    Plotly.newPlot(                        \"bb47601d-8a37-48ee-b361-14cb5b448468\",                        [{\"line\":{\"color\":\"rgba(255, 153, 51, 1.0)\",\"dash\":\"solid\",\"shape\":\"linear\",\"width\":1.3},\"mode\":\"lines\",\"name\":\"A\",\"text\":\"\",\"x\":[0,1,2,3,4,5,6,7,8,9,10,11,12,13,14,15,16,17,18,19,20,21,22,23,24,25,26,27,28,29,30,31,32,33,34,35,36,37,38,39,40,41,42,43,44,45,46,47,48,49,50,51,52,53,54,55,56,57,58,59,60,61,62,63,64,65,66,67,68,69,70,71,72,73,74,75,76,77,78,79,80,81,82,83,84,85,86,87,88,89,90,91,92,93,94,95,96,97,98,99],\"y\":[-1.344681348367679,-0.25990777378562724,0.615954219350596,-0.3257161686937772,-1.1045124407249927,0.9518151688580743,-0.4414378956070553,0.23744357912241404,0.565882233802471,-1.4537368232448615,-0.3928064280712824,-0.5403655950553611,1.5032156945366153,-1.2813707408278914,0.3790274581122027,0.8030625060619568,0.5778619862717127,0.8821066931085245,1.6011202145953622,0.1494411676678207,-1.2175021564890365,-0.29325724113695045,-2.1132575093678168,-0.9418299903447851,-0.09413179117591249,-0.2212747045116899,0.7746388970054674,-0.8135424045456192,0.12425271139672092,-1.7624704443807377,-0.43129804068089106,-0.20701415863099415,0.1362581079714989,1.0213604292746619,1.4639234917681077,0.06314136905130897,-0.3384283258846109,-1.1690531466628162,0.22232591791165796,-0.5567602604223021,-0.23226829270222443,0.07840895108426076,1.1997614062549575,-0.061344339620039934,-0.39606237695467916,0.03725642793693573,1.2294394862034583,-1.7313239545247834,-0.7441425575409852,-0.7939011286891274,-0.04435819607299003,0.2152874644731718,-2.0602841032029353,0.5644320334268482,-1.659620457878419,0.4784268388998683,0.33245834317874495,1.3878741299306154,0.29292368114595657,1.0201915408457543,0.03445988614890572,0.345844164372107,0.8119328705027892,-0.4839815041109739,1.3833821707367373,0.3752824641912273,1.3529053280861845,0.7265165967816627,0.6486102939924626,0.045696646528161626,1.2169441234170144,1.2929966807127653,-0.33525951367360135,-0.38718286815465025,-0.8582896302412307,-1.2505385219437037,-1.0501771108401305,-0.5929062873971976,0.2823591333624237,0.6458494902237761,1.1087442383410073,-0.6843307181221185,-1.0429217420576782,-0.4615367754647887,-0.11068167099797399,-0.7038412804143902,-0.2936115839181303,-1.4586237497858365,1.1691072424789413,0.5852293860683341,-1.1572138935089535,-1.0601488924464997,-0.1955550192748439,-0.9876856722615701,-0.9680653493598178,0.17596996056280834,-0.5849896655419029,-0.14671716039599272,0.7243684341273524,0.11233490876531009],\"type\":\"scatter\"},{\"line\":{\"color\":\"rgba(55, 128, 191, 1.0)\",\"dash\":\"solid\",\"shape\":\"linear\",\"width\":1.3},\"mode\":\"lines\",\"name\":\"B\",\"text\":\"\",\"x\":[0,1,2,3,4,5,6,7,8,9,10,11,12,13,14,15,16,17,18,19,20,21,22,23,24,25,26,27,28,29,30,31,32,33,34,35,36,37,38,39,40,41,42,43,44,45,46,47,48,49,50,51,52,53,54,55,56,57,58,59,60,61,62,63,64,65,66,67,68,69,70,71,72,73,74,75,76,77,78,79,80,81,82,83,84,85,86,87,88,89,90,91,92,93,94,95,96,97,98,99],\"y\":[-0.6141524354932701,-0.42820766641829233,1.560949685067526,-0.016366876742454278,-0.201557182599476,0.9034252832480001,1.1385890108482881,0.4997120911452794,-0.6431276327177393,1.211243606751715,0.2980918040802568,1.6882964191964656,-0.9499289520197146,1.3777101777879859,1.0133737656196418,0.04615459993434687,-0.23562220624719996,-0.8472394318161616,0.9754077003636352,-2.029101759723629,-1.1458437397532513,0.2918229495301508,0.42434195105328415,0.25507369160860566,-1.3105165158007956,0.8056262517408992,2.5038411972897276,0.4425422857014533,0.6834958460784702,-0.8559521501021329,0.704226306192486,0.7689311364426078,-0.1795506562591025,2.478306088606201,-0.2542547549818018,-1.1130974246268486,-0.42565330900895,-0.7882386369038422,-0.6640291687247452,0.263840738476896,1.0077497246504774,1.2773429952090538,0.13115443067251445,0.8818786793607682,2.309893637608007,0.5362686094806232,-1.0308434428294522,0.6849550586723251,-0.3254428018017996,-0.21699088590695828,1.912387014170751,0.17316749761022943,0.28761426771826504,-0.23278602894871162,-0.963319393098557,-0.3489916955291253,0.26012760903033044,-0.835833333730869,-1.5623598399882572,-0.48015350615792085,-0.11944754740327732,0.026295999513213333,-1.6066286927087363,0.5199063448102765,0.8664172542597003,-1.1601858683315638,-0.5774002796857021,-1.8834974470349524,-0.15062404083992648,0.05426744786494283,-0.5972182687637029,0.35686556322641216,0.48590074900782715,-2.071759239609643,0.7618499638282232,0.7723607083493977,-0.7630381986102769,0.7214067351798614,-0.6321096643468237,0.9400889761716075,-0.40196691099382936,0.5046896317639424,-0.7693827819522933,1.9337472141346586,1.59623155576546,-0.19753941417329646,1.3088444111805233,0.33406737873388115,-0.38386304887850126,-1.0559312901442477,1.477786415541574,-0.8874523338969589,0.05986850818355528,-1.4419205278408251,1.2693587674606999,-0.16826747808312903,0.7558397102656929,-0.04481720578448385,0.12303505012631975,0.1151332956318505],\"type\":\"scatter\"},{\"connectgaps\":false,\"fill\":\"tozeroy\",\"line\":{\"color\":\"green\",\"dash\":\"solid\",\"shape\":\"linear\",\"width\":0.5},\"mode\":\"lines\",\"name\":\"Spread\",\"showlegend\":false,\"x\":[0,1,2,3,4,5,6,7,8,9,10,11,12,13,14,15,16,17,18,19,20,21,22,23,24,25,26,27,28,29,30,31,32,33,34,35,36,37,38,39,40,41,42,43,44,45,46,47,48,49,50,51,52,53,54,55,56,57,58,59,60,61,62,63,64,65,66,67,68,69,70,71,72,73,74,75,76,77,78,79,80,81,82,83,84,85,86,87,88,89,90,91,92,93,94,95,96,97,98,99],\"xaxis\":\"x2\",\"y\":[\"\",0.1682998926326651,\"\",\"\",\"\",0.04838988561007418,\"\",\"\",1.2090098665202103,\"\",\"\",\"\",2.45314464655633,\"\",\"\",0.7569079061276099,0.8134841925189127,1.7293461249246862,0.625712514231727,2.17854292739145,\"\",\"\",\"\",\"\",1.2163847246248831,\"\",\"\",\"\",\"\",\"\",\"\",\"\",0.3158087642306014,\"\",1.7181782467499094,1.1762387936781575,0.08722498312433907,\"\",0.8863550866364032,\"\",\"\",\"\",1.068606975582443,\"\",\"\",\"\",2.2602829290329103,\"\",\"\",\"\",\"\",0.042119966862942365,\"\",0.7972180623755598,\"\",0.8274185344289936,0.07233073414841451,2.2237074636614844,1.8552835211342138,1.500345047003675,0.15390743355218303,0.3195481648588937,2.4185615632115254,\"\",0.516964916477037,1.5354683325227911,1.9303056077718865,2.610014043816615,0.7992343348323891,\"\",1.8141623921807173,0.9361311174863531,\"\",1.6845763714549926,\"\",\"\",\"\",\"\",0.9144687977092474,\"\",1.5107111493348366,\"\",\"\",\"\",\"\",\"\",\"\",\"\",1.5529702913574426,1.6411606762125817,\"\",\"\",\"\",0.454234855579255,\"\",0.34423743864593737,\"\",\"\",0.6013333840010326,\"\"],\"yaxis\":\"y2\",\"type\":\"scatter\"},{\"connectgaps\":false,\"fill\":\"tozeroy\",\"line\":{\"color\":\"red\",\"dash\":\"solid\",\"shape\":\"linear\",\"width\":0.5},\"mode\":\"lines\",\"name\":\"Spread\",\"showlegend\":false,\"x\":[0,1,2,3,4,5,6,7,8,9,10,11,12,13,14,15,16,17,18,19,20,21,22,23,24,25,26,27,28,29,30,31,32,33,34,35,36,37,38,39,40,41,42,43,44,45,46,47,48,49,50,51,52,53,54,55,56,57,58,59,60,61,62,63,64,65,66,67,68,69,70,71,72,73,74,75,76,77,78,79,80,81,82,83,84,85,86,87,88,89,90,91,92,93,94,95,96,97,98,99],\"xaxis\":\"x2\",\"y\":[-0.7305289128744088,\"\",-0.9449954657169299,-0.3093492919513229,-0.9029552581255167,\"\",-1.5800269064553434,-0.2622685120228654,\"\",-2.6649804299965765,-0.6908982321515392,-2.2286620142518268,\"\",-2.659080918615877,-0.6343463075074391,\"\",\"\",\"\",\"\",\"\",-0.07165841673578521,-0.5850801906671013,-2.537599460421101,-1.1969036819533907,\"\",-1.026900956252589,-1.7292023002842603,-1.2560846902470726,-0.5592431346817494,-0.9065182942786049,-1.135524346873377,-0.975945295073602,\"\",-1.456945659331539,\"\",\"\",\"\",-0.380814509758974,\"\",-0.820600998899198,-1.2400180173527018,-1.198934044124793,\"\",-0.9432230189808082,-2.705956014562686,-0.4990121815436874,\"\",-2.4162790131971086,-0.41869975573918566,-0.5769102427821692,-1.956745210243741,\"\",-2.3478983709212002,\"\",-0.6963010647798621,\"\",\"\",\"\",\"\",\"\",\"\",\"\",\"\",-1.0038878489212504,\"\",\"\",\"\",\"\",\"\",-0.008570801336781203,\"\",\"\",-0.8211602626814285,\"\",-1.620139594069454,-2.0228992302931017,-0.28713891222985366,-1.3143130225770592,\"\",-0.29423948594783134,\"\",-1.189020349886061,-0.2735389601053849,-2.3952839895994473,-1.706913226763434,-0.5063018662410937,-1.6024559950986537,-1.7926911285197176,\"\",\"\",-2.6350003090505276,-0.1726965585495408,-0.2554235274583992,\"\",-2.2374241168205176,\"\",-1.3408293758075958,-0.10189995461150887,\"\",-0.002798386866540409],\"yaxis\":\"y2\",\"type\":\"scatter\"}],                        {\"hovermode\":\"x\",\"legend\":{\"bgcolor\":\"#F5F6F9\",\"font\":{\"color\":\"#4D5663\"}},\"paper_bgcolor\":\"#F5F6F9\",\"plot_bgcolor\":\"#F5F6F9\",\"template\":{\"data\":{\"barpolar\":[{\"marker\":{\"line\":{\"color\":\"#E5ECF6\",\"width\":0.5},\"pattern\":{\"fillmode\":\"overlay\",\"size\":10,\"solidity\":0.2}},\"type\":\"barpolar\"}],\"bar\":[{\"error_x\":{\"color\":\"#2a3f5f\"},\"error_y\":{\"color\":\"#2a3f5f\"},\"marker\":{\"line\":{\"color\":\"#E5ECF6\",\"width\":0.5},\"pattern\":{\"fillmode\":\"overlay\",\"size\":10,\"solidity\":0.2}},\"type\":\"bar\"}],\"carpet\":[{\"aaxis\":{\"endlinecolor\":\"#2a3f5f\",\"gridcolor\":\"white\",\"linecolor\":\"white\",\"minorgridcolor\":\"white\",\"startlinecolor\":\"#2a3f5f\"},\"baxis\":{\"endlinecolor\":\"#2a3f5f\",\"gridcolor\":\"white\",\"linecolor\":\"white\",\"minorgridcolor\":\"white\",\"startlinecolor\":\"#2a3f5f\"},\"type\":\"carpet\"}],\"choropleth\":[{\"colorbar\":{\"outlinewidth\":0,\"ticks\":\"\"},\"type\":\"choropleth\"}],\"contourcarpet\":[{\"colorbar\":{\"outlinewidth\":0,\"ticks\":\"\"},\"type\":\"contourcarpet\"}],\"contour\":[{\"colorbar\":{\"outlinewidth\":0,\"ticks\":\"\"},\"colorscale\":[[0.0,\"#0d0887\"],[0.1111111111111111,\"#46039f\"],[0.2222222222222222,\"#7201a8\"],[0.3333333333333333,\"#9c179e\"],[0.4444444444444444,\"#bd3786\"],[0.5555555555555556,\"#d8576b\"],[0.6666666666666666,\"#ed7953\"],[0.7777777777777778,\"#fb9f3a\"],[0.8888888888888888,\"#fdca26\"],[1.0,\"#f0f921\"]],\"type\":\"contour\"}],\"heatmapgl\":[{\"colorbar\":{\"outlinewidth\":0,\"ticks\":\"\"},\"colorscale\":[[0.0,\"#0d0887\"],[0.1111111111111111,\"#46039f\"],[0.2222222222222222,\"#7201a8\"],[0.3333333333333333,\"#9c179e\"],[0.4444444444444444,\"#bd3786\"],[0.5555555555555556,\"#d8576b\"],[0.6666666666666666,\"#ed7953\"],[0.7777777777777778,\"#fb9f3a\"],[0.8888888888888888,\"#fdca26\"],[1.0,\"#f0f921\"]],\"type\":\"heatmapgl\"}],\"heatmap\":[{\"colorbar\":{\"outlinewidth\":0,\"ticks\":\"\"},\"colorscale\":[[0.0,\"#0d0887\"],[0.1111111111111111,\"#46039f\"],[0.2222222222222222,\"#7201a8\"],[0.3333333333333333,\"#9c179e\"],[0.4444444444444444,\"#bd3786\"],[0.5555555555555556,\"#d8576b\"],[0.6666666666666666,\"#ed7953\"],[0.7777777777777778,\"#fb9f3a\"],[0.8888888888888888,\"#fdca26\"],[1.0,\"#f0f921\"]],\"type\":\"heatmap\"}],\"histogram2dcontour\":[{\"colorbar\":{\"outlinewidth\":0,\"ticks\":\"\"},\"colorscale\":[[0.0,\"#0d0887\"],[0.1111111111111111,\"#46039f\"],[0.2222222222222222,\"#7201a8\"],[0.3333333333333333,\"#9c179e\"],[0.4444444444444444,\"#bd3786\"],[0.5555555555555556,\"#d8576b\"],[0.6666666666666666,\"#ed7953\"],[0.7777777777777778,\"#fb9f3a\"],[0.8888888888888888,\"#fdca26\"],[1.0,\"#f0f921\"]],\"type\":\"histogram2dcontour\"}],\"histogram2d\":[{\"colorbar\":{\"outlinewidth\":0,\"ticks\":\"\"},\"colorscale\":[[0.0,\"#0d0887\"],[0.1111111111111111,\"#46039f\"],[0.2222222222222222,\"#7201a8\"],[0.3333333333333333,\"#9c179e\"],[0.4444444444444444,\"#bd3786\"],[0.5555555555555556,\"#d8576b\"],[0.6666666666666666,\"#ed7953\"],[0.7777777777777778,\"#fb9f3a\"],[0.8888888888888888,\"#fdca26\"],[1.0,\"#f0f921\"]],\"type\":\"histogram2d\"}],\"histogram\":[{\"marker\":{\"pattern\":{\"fillmode\":\"overlay\",\"size\":10,\"solidity\":0.2}},\"type\":\"histogram\"}],\"mesh3d\":[{\"colorbar\":{\"outlinewidth\":0,\"ticks\":\"\"},\"type\":\"mesh3d\"}],\"parcoords\":[{\"line\":{\"colorbar\":{\"outlinewidth\":0,\"ticks\":\"\"}},\"type\":\"parcoords\"}],\"pie\":[{\"automargin\":true,\"type\":\"pie\"}],\"scatter3d\":[{\"line\":{\"colorbar\":{\"outlinewidth\":0,\"ticks\":\"\"}},\"marker\":{\"colorbar\":{\"outlinewidth\":0,\"ticks\":\"\"}},\"type\":\"scatter3d\"}],\"scattercarpet\":[{\"marker\":{\"colorbar\":{\"outlinewidth\":0,\"ticks\":\"\"}},\"type\":\"scattercarpet\"}],\"scattergeo\":[{\"marker\":{\"colorbar\":{\"outlinewidth\":0,\"ticks\":\"\"}},\"type\":\"scattergeo\"}],\"scattergl\":[{\"marker\":{\"colorbar\":{\"outlinewidth\":0,\"ticks\":\"\"}},\"type\":\"scattergl\"}],\"scattermapbox\":[{\"marker\":{\"colorbar\":{\"outlinewidth\":0,\"ticks\":\"\"}},\"type\":\"scattermapbox\"}],\"scatterpolargl\":[{\"marker\":{\"colorbar\":{\"outlinewidth\":0,\"ticks\":\"\"}},\"type\":\"scatterpolargl\"}],\"scatterpolar\":[{\"marker\":{\"colorbar\":{\"outlinewidth\":0,\"ticks\":\"\"}},\"type\":\"scatterpolar\"}],\"scatter\":[{\"fillpattern\":{\"fillmode\":\"overlay\",\"size\":10,\"solidity\":0.2},\"type\":\"scatter\"}],\"scatterternary\":[{\"marker\":{\"colorbar\":{\"outlinewidth\":0,\"ticks\":\"\"}},\"type\":\"scatterternary\"}],\"surface\":[{\"colorbar\":{\"outlinewidth\":0,\"ticks\":\"\"},\"colorscale\":[[0.0,\"#0d0887\"],[0.1111111111111111,\"#46039f\"],[0.2222222222222222,\"#7201a8\"],[0.3333333333333333,\"#9c179e\"],[0.4444444444444444,\"#bd3786\"],[0.5555555555555556,\"#d8576b\"],[0.6666666666666666,\"#ed7953\"],[0.7777777777777778,\"#fb9f3a\"],[0.8888888888888888,\"#fdca26\"],[1.0,\"#f0f921\"]],\"type\":\"surface\"}],\"table\":[{\"cells\":{\"fill\":{\"color\":\"#EBF0F8\"},\"line\":{\"color\":\"white\"}},\"header\":{\"fill\":{\"color\":\"#C8D4E3\"},\"line\":{\"color\":\"white\"}},\"type\":\"table\"}]},\"layout\":{\"annotationdefaults\":{\"arrowcolor\":\"#2a3f5f\",\"arrowhead\":0,\"arrowwidth\":1},\"autotypenumbers\":\"strict\",\"coloraxis\":{\"colorbar\":{\"outlinewidth\":0,\"ticks\":\"\"}},\"colorscale\":{\"diverging\":[[0,\"#8e0152\"],[0.1,\"#c51b7d\"],[0.2,\"#de77ae\"],[0.3,\"#f1b6da\"],[0.4,\"#fde0ef\"],[0.5,\"#f7f7f7\"],[0.6,\"#e6f5d0\"],[0.7,\"#b8e186\"],[0.8,\"#7fbc41\"],[0.9,\"#4d9221\"],[1,\"#276419\"]],\"sequential\":[[0.0,\"#0d0887\"],[0.1111111111111111,\"#46039f\"],[0.2222222222222222,\"#7201a8\"],[0.3333333333333333,\"#9c179e\"],[0.4444444444444444,\"#bd3786\"],[0.5555555555555556,\"#d8576b\"],[0.6666666666666666,\"#ed7953\"],[0.7777777777777778,\"#fb9f3a\"],[0.8888888888888888,\"#fdca26\"],[1.0,\"#f0f921\"]],\"sequentialminus\":[[0.0,\"#0d0887\"],[0.1111111111111111,\"#46039f\"],[0.2222222222222222,\"#7201a8\"],[0.3333333333333333,\"#9c179e\"],[0.4444444444444444,\"#bd3786\"],[0.5555555555555556,\"#d8576b\"],[0.6666666666666666,\"#ed7953\"],[0.7777777777777778,\"#fb9f3a\"],[0.8888888888888888,\"#fdca26\"],[1.0,\"#f0f921\"]]},\"colorway\":[\"#636efa\",\"#EF553B\",\"#00cc96\",\"#ab63fa\",\"#FFA15A\",\"#19d3f3\",\"#FF6692\",\"#B6E880\",\"#FF97FF\",\"#FECB52\"],\"font\":{\"color\":\"#2a3f5f\"},\"geo\":{\"bgcolor\":\"white\",\"lakecolor\":\"white\",\"landcolor\":\"#E5ECF6\",\"showlakes\":true,\"showland\":true,\"subunitcolor\":\"white\"},\"hoverlabel\":{\"align\":\"left\"},\"hovermode\":\"closest\",\"mapbox\":{\"style\":\"light\"},\"paper_bgcolor\":\"white\",\"plot_bgcolor\":\"#E5ECF6\",\"polar\":{\"angularaxis\":{\"gridcolor\":\"white\",\"linecolor\":\"white\",\"ticks\":\"\"},\"bgcolor\":\"#E5ECF6\",\"radialaxis\":{\"gridcolor\":\"white\",\"linecolor\":\"white\",\"ticks\":\"\"}},\"scene\":{\"xaxis\":{\"backgroundcolor\":\"#E5ECF6\",\"gridcolor\":\"white\",\"gridwidth\":2,\"linecolor\":\"white\",\"showbackground\":true,\"ticks\":\"\",\"zerolinecolor\":\"white\"},\"yaxis\":{\"backgroundcolor\":\"#E5ECF6\",\"gridcolor\":\"white\",\"gridwidth\":2,\"linecolor\":\"white\",\"showbackground\":true,\"ticks\":\"\",\"zerolinecolor\":\"white\"},\"zaxis\":{\"backgroundcolor\":\"#E5ECF6\",\"gridcolor\":\"white\",\"gridwidth\":2,\"linecolor\":\"white\",\"showbackground\":true,\"ticks\":\"\",\"zerolinecolor\":\"white\"}},\"shapedefaults\":{\"line\":{\"color\":\"#2a3f5f\"}},\"ternary\":{\"aaxis\":{\"gridcolor\":\"white\",\"linecolor\":\"white\",\"ticks\":\"\"},\"baxis\":{\"gridcolor\":\"white\",\"linecolor\":\"white\",\"ticks\":\"\"},\"bgcolor\":\"#E5ECF6\",\"caxis\":{\"gridcolor\":\"white\",\"linecolor\":\"white\",\"ticks\":\"\"}},\"title\":{\"x\":0.05},\"xaxis\":{\"automargin\":true,\"gridcolor\":\"white\",\"linecolor\":\"white\",\"ticks\":\"\",\"title\":{\"standoff\":15},\"zerolinecolor\":\"white\",\"zerolinewidth\":2},\"yaxis\":{\"automargin\":true,\"gridcolor\":\"white\",\"linecolor\":\"white\",\"ticks\":\"\",\"title\":{\"standoff\":15},\"zerolinecolor\":\"white\",\"zerolinewidth\":2}}},\"title\":{\"font\":{\"color\":\"#4D5663\"}},\"xaxis\":{\"gridcolor\":\"#E1E5ED\",\"showgrid\":true,\"tickfont\":{\"color\":\"#4D5663\"},\"title\":{\"font\":{\"color\":\"#4D5663\"},\"text\":\"\"},\"zerolinecolor\":\"#E1E5ED\"},\"yaxis\":{\"domain\":[0.3,1],\"gridcolor\":\"#E1E5ED\",\"showgrid\":true,\"tickfont\":{\"color\":\"#4D5663\"},\"title\":{\"font\":{\"color\":\"#4D5663\"},\"text\":\"\"},\"zerolinecolor\":\"#E1E5ED\"},\"yaxis2\":{\"domain\":[0,0.25],\"gridcolor\":\"#E1E5ED\",\"showgrid\":true,\"tickfont\":{\"color\":\"#4D5663\"},\"title\":{\"font\":{\"color\":\"#4D5663\"},\"text\":\"Spread\"},\"zerolinecolor\":\"#E1E5ED\"},\"xaxis2\":{\"anchor\":\"y2\",\"gridcolor\":\"#E1E5ED\",\"showgrid\":true,\"showticklabels\":false,\"tickfont\":{\"color\":\"#4D5663\"},\"title\":{\"font\":{\"color\":\"#4D5663\"},\"text\":\"\"},\"zerolinecolor\":\"#E1E5ED\"}},                        {\"showLink\": true, \"linkText\": \"Export to plot.ly\", \"plotlyServerURL\": \"https://plot.ly\", \"responsive\": true}                    ).then(function(){\n",
       "                            \n",
       "var gd = document.getElementById('bb47601d-8a37-48ee-b361-14cb5b448468');\n",
       "var x = new MutationObserver(function (mutations, observer) {{\n",
       "        var display = window.getComputedStyle(gd).display;\n",
       "        if (!display || display === 'none') {{\n",
       "            console.log([gd, 'removed!']);\n",
       "            Plotly.purge(gd);\n",
       "            observer.disconnect();\n",
       "        }}\n",
       "}});\n",
       "\n",
       "// Listen for the removal of the full notebook cells\n",
       "var notebookContainer = gd.closest('#notebook-container');\n",
       "if (notebookContainer) {{\n",
       "    x.observe(notebookContainer, {childList: true});\n",
       "}}\n",
       "\n",
       "// Listen for the clearing of the current output cell\n",
       "var outputEl = gd.closest('.output');\n",
       "if (outputEl) {{\n",
       "    x.observe(outputEl, {childList: true});\n",
       "}}\n",
       "\n",
       "                        })                };                });            </script>        </div>"
      ]
     },
     "metadata": {},
     "output_type": "display_data"
    }
   ],
   "source": [
    "df[['A','B']].iplot(kind='spread')\n",
    "#see the spread, ex:stock"
   ]
  },
  {
   "cell_type": "markdown",
   "metadata": {},
   "source": [
    "## histogram"
   ]
  },
  {
   "cell_type": "code",
   "execution_count": 33,
   "metadata": {},
   "outputs": [
    {
     "data": {
      "application/vnd.plotly.v1+json": {
       "config": {
        "linkText": "Export to plot.ly",
        "plotlyServerURL": "https://plot.ly",
        "showLink": true
       },
       "data": [
        {
         "histfunc": "count",
         "histnorm": "",
         "marker": {
          "color": "rgba(255, 153, 51, 1.0)",
          "line": {
           "color": "#4D5663",
           "width": 1.3
          }
         },
         "name": "A",
         "nbinsx": 25,
         "opacity": 0.8,
         "orientation": "v",
         "type": "histogram",
         "x": [
          -1.344681348367679,
          -0.25990777378562724,
          0.615954219350596,
          -0.3257161686937772,
          -1.1045124407249927,
          0.9518151688580743,
          -0.4414378956070553,
          0.23744357912241404,
          0.565882233802471,
          -1.4537368232448615,
          -0.3928064280712824,
          -0.5403655950553611,
          1.5032156945366153,
          -1.2813707408278914,
          0.3790274581122027,
          0.8030625060619568,
          0.5778619862717127,
          0.8821066931085245,
          1.6011202145953622,
          0.1494411676678207,
          -1.2175021564890365,
          -0.29325724113695045,
          -2.1132575093678168,
          -0.9418299903447851,
          -0.09413179117591249,
          -0.2212747045116899,
          0.7746388970054674,
          -0.8135424045456192,
          0.12425271139672092,
          -1.7624704443807377,
          -0.43129804068089106,
          -0.20701415863099415,
          0.1362581079714989,
          1.0213604292746619,
          1.4639234917681077,
          0.06314136905130897,
          -0.3384283258846109,
          -1.1690531466628162,
          0.22232591791165796,
          -0.5567602604223021,
          -0.23226829270222443,
          0.07840895108426076,
          1.1997614062549575,
          -0.061344339620039934,
          -0.39606237695467916,
          0.03725642793693573,
          1.2294394862034583,
          -1.7313239545247834,
          -0.7441425575409852,
          -0.7939011286891274,
          -0.04435819607299003,
          0.2152874644731718,
          -2.0602841032029353,
          0.5644320334268482,
          -1.659620457878419,
          0.4784268388998683,
          0.33245834317874495,
          1.3878741299306154,
          0.29292368114595657,
          1.0201915408457543,
          0.03445988614890572,
          0.345844164372107,
          0.8119328705027892,
          -0.4839815041109739,
          1.3833821707367373,
          0.3752824641912273,
          1.3529053280861845,
          0.7265165967816627,
          0.6486102939924626,
          0.045696646528161626,
          1.2169441234170144,
          1.2929966807127653,
          -0.33525951367360135,
          -0.38718286815465025,
          -0.8582896302412307,
          -1.2505385219437037,
          -1.0501771108401305,
          -0.5929062873971976,
          0.2823591333624237,
          0.6458494902237761,
          1.1087442383410073,
          -0.6843307181221185,
          -1.0429217420576782,
          -0.4615367754647887,
          -0.11068167099797399,
          -0.7038412804143902,
          -0.2936115839181303,
          -1.4586237497858365,
          1.1691072424789413,
          0.5852293860683341,
          -1.1572138935089535,
          -1.0601488924464997,
          -0.1955550192748439,
          -0.9876856722615701,
          -0.9680653493598178,
          0.17596996056280834,
          -0.5849896655419029,
          -0.14671716039599272,
          0.7243684341273524,
          0.11233490876531009
         ]
        }
       ],
       "layout": {
        "barmode": "overlay",
        "legend": {
         "bgcolor": "#F5F6F9",
         "font": {
          "color": "#4D5663"
         }
        },
        "paper_bgcolor": "#F5F6F9",
        "plot_bgcolor": "#F5F6F9",
        "template": {
         "data": {
          "bar": [
           {
            "error_x": {
             "color": "#2a3f5f"
            },
            "error_y": {
             "color": "#2a3f5f"
            },
            "marker": {
             "line": {
              "color": "#E5ECF6",
              "width": 0.5
             },
             "pattern": {
              "fillmode": "overlay",
              "size": 10,
              "solidity": 0.2
             }
            },
            "type": "bar"
           }
          ],
          "barpolar": [
           {
            "marker": {
             "line": {
              "color": "#E5ECF6",
              "width": 0.5
             },
             "pattern": {
              "fillmode": "overlay",
              "size": 10,
              "solidity": 0.2
             }
            },
            "type": "barpolar"
           }
          ],
          "carpet": [
           {
            "aaxis": {
             "endlinecolor": "#2a3f5f",
             "gridcolor": "white",
             "linecolor": "white",
             "minorgridcolor": "white",
             "startlinecolor": "#2a3f5f"
            },
            "baxis": {
             "endlinecolor": "#2a3f5f",
             "gridcolor": "white",
             "linecolor": "white",
             "minorgridcolor": "white",
             "startlinecolor": "#2a3f5f"
            },
            "type": "carpet"
           }
          ],
          "choropleth": [
           {
            "colorbar": {
             "outlinewidth": 0,
             "ticks": ""
            },
            "type": "choropleth"
           }
          ],
          "contour": [
           {
            "colorbar": {
             "outlinewidth": 0,
             "ticks": ""
            },
            "colorscale": [
             [
              0,
              "#0d0887"
             ],
             [
              0.1111111111111111,
              "#46039f"
             ],
             [
              0.2222222222222222,
              "#7201a8"
             ],
             [
              0.3333333333333333,
              "#9c179e"
             ],
             [
              0.4444444444444444,
              "#bd3786"
             ],
             [
              0.5555555555555556,
              "#d8576b"
             ],
             [
              0.6666666666666666,
              "#ed7953"
             ],
             [
              0.7777777777777778,
              "#fb9f3a"
             ],
             [
              0.8888888888888888,
              "#fdca26"
             ],
             [
              1,
              "#f0f921"
             ]
            ],
            "type": "contour"
           }
          ],
          "contourcarpet": [
           {
            "colorbar": {
             "outlinewidth": 0,
             "ticks": ""
            },
            "type": "contourcarpet"
           }
          ],
          "heatmap": [
           {
            "colorbar": {
             "outlinewidth": 0,
             "ticks": ""
            },
            "colorscale": [
             [
              0,
              "#0d0887"
             ],
             [
              0.1111111111111111,
              "#46039f"
             ],
             [
              0.2222222222222222,
              "#7201a8"
             ],
             [
              0.3333333333333333,
              "#9c179e"
             ],
             [
              0.4444444444444444,
              "#bd3786"
             ],
             [
              0.5555555555555556,
              "#d8576b"
             ],
             [
              0.6666666666666666,
              "#ed7953"
             ],
             [
              0.7777777777777778,
              "#fb9f3a"
             ],
             [
              0.8888888888888888,
              "#fdca26"
             ],
             [
              1,
              "#f0f921"
             ]
            ],
            "type": "heatmap"
           }
          ],
          "heatmapgl": [
           {
            "colorbar": {
             "outlinewidth": 0,
             "ticks": ""
            },
            "colorscale": [
             [
              0,
              "#0d0887"
             ],
             [
              0.1111111111111111,
              "#46039f"
             ],
             [
              0.2222222222222222,
              "#7201a8"
             ],
             [
              0.3333333333333333,
              "#9c179e"
             ],
             [
              0.4444444444444444,
              "#bd3786"
             ],
             [
              0.5555555555555556,
              "#d8576b"
             ],
             [
              0.6666666666666666,
              "#ed7953"
             ],
             [
              0.7777777777777778,
              "#fb9f3a"
             ],
             [
              0.8888888888888888,
              "#fdca26"
             ],
             [
              1,
              "#f0f921"
             ]
            ],
            "type": "heatmapgl"
           }
          ],
          "histogram": [
           {
            "marker": {
             "pattern": {
              "fillmode": "overlay",
              "size": 10,
              "solidity": 0.2
             }
            },
            "type": "histogram"
           }
          ],
          "histogram2d": [
           {
            "colorbar": {
             "outlinewidth": 0,
             "ticks": ""
            },
            "colorscale": [
             [
              0,
              "#0d0887"
             ],
             [
              0.1111111111111111,
              "#46039f"
             ],
             [
              0.2222222222222222,
              "#7201a8"
             ],
             [
              0.3333333333333333,
              "#9c179e"
             ],
             [
              0.4444444444444444,
              "#bd3786"
             ],
             [
              0.5555555555555556,
              "#d8576b"
             ],
             [
              0.6666666666666666,
              "#ed7953"
             ],
             [
              0.7777777777777778,
              "#fb9f3a"
             ],
             [
              0.8888888888888888,
              "#fdca26"
             ],
             [
              1,
              "#f0f921"
             ]
            ],
            "type": "histogram2d"
           }
          ],
          "histogram2dcontour": [
           {
            "colorbar": {
             "outlinewidth": 0,
             "ticks": ""
            },
            "colorscale": [
             [
              0,
              "#0d0887"
             ],
             [
              0.1111111111111111,
              "#46039f"
             ],
             [
              0.2222222222222222,
              "#7201a8"
             ],
             [
              0.3333333333333333,
              "#9c179e"
             ],
             [
              0.4444444444444444,
              "#bd3786"
             ],
             [
              0.5555555555555556,
              "#d8576b"
             ],
             [
              0.6666666666666666,
              "#ed7953"
             ],
             [
              0.7777777777777778,
              "#fb9f3a"
             ],
             [
              0.8888888888888888,
              "#fdca26"
             ],
             [
              1,
              "#f0f921"
             ]
            ],
            "type": "histogram2dcontour"
           }
          ],
          "mesh3d": [
           {
            "colorbar": {
             "outlinewidth": 0,
             "ticks": ""
            },
            "type": "mesh3d"
           }
          ],
          "parcoords": [
           {
            "line": {
             "colorbar": {
              "outlinewidth": 0,
              "ticks": ""
             }
            },
            "type": "parcoords"
           }
          ],
          "pie": [
           {
            "automargin": true,
            "type": "pie"
           }
          ],
          "scatter": [
           {
            "fillpattern": {
             "fillmode": "overlay",
             "size": 10,
             "solidity": 0.2
            },
            "type": "scatter"
           }
          ],
          "scatter3d": [
           {
            "line": {
             "colorbar": {
              "outlinewidth": 0,
              "ticks": ""
             }
            },
            "marker": {
             "colorbar": {
              "outlinewidth": 0,
              "ticks": ""
             }
            },
            "type": "scatter3d"
           }
          ],
          "scattercarpet": [
           {
            "marker": {
             "colorbar": {
              "outlinewidth": 0,
              "ticks": ""
             }
            },
            "type": "scattercarpet"
           }
          ],
          "scattergeo": [
           {
            "marker": {
             "colorbar": {
              "outlinewidth": 0,
              "ticks": ""
             }
            },
            "type": "scattergeo"
           }
          ],
          "scattergl": [
           {
            "marker": {
             "colorbar": {
              "outlinewidth": 0,
              "ticks": ""
             }
            },
            "type": "scattergl"
           }
          ],
          "scattermapbox": [
           {
            "marker": {
             "colorbar": {
              "outlinewidth": 0,
              "ticks": ""
             }
            },
            "type": "scattermapbox"
           }
          ],
          "scatterpolar": [
           {
            "marker": {
             "colorbar": {
              "outlinewidth": 0,
              "ticks": ""
             }
            },
            "type": "scatterpolar"
           }
          ],
          "scatterpolargl": [
           {
            "marker": {
             "colorbar": {
              "outlinewidth": 0,
              "ticks": ""
             }
            },
            "type": "scatterpolargl"
           }
          ],
          "scatterternary": [
           {
            "marker": {
             "colorbar": {
              "outlinewidth": 0,
              "ticks": ""
             }
            },
            "type": "scatterternary"
           }
          ],
          "surface": [
           {
            "colorbar": {
             "outlinewidth": 0,
             "ticks": ""
            },
            "colorscale": [
             [
              0,
              "#0d0887"
             ],
             [
              0.1111111111111111,
              "#46039f"
             ],
             [
              0.2222222222222222,
              "#7201a8"
             ],
             [
              0.3333333333333333,
              "#9c179e"
             ],
             [
              0.4444444444444444,
              "#bd3786"
             ],
             [
              0.5555555555555556,
              "#d8576b"
             ],
             [
              0.6666666666666666,
              "#ed7953"
             ],
             [
              0.7777777777777778,
              "#fb9f3a"
             ],
             [
              0.8888888888888888,
              "#fdca26"
             ],
             [
              1,
              "#f0f921"
             ]
            ],
            "type": "surface"
           }
          ],
          "table": [
           {
            "cells": {
             "fill": {
              "color": "#EBF0F8"
             },
             "line": {
              "color": "white"
             }
            },
            "header": {
             "fill": {
              "color": "#C8D4E3"
             },
             "line": {
              "color": "white"
             }
            },
            "type": "table"
           }
          ]
         },
         "layout": {
          "annotationdefaults": {
           "arrowcolor": "#2a3f5f",
           "arrowhead": 0,
           "arrowwidth": 1
          },
          "autotypenumbers": "strict",
          "coloraxis": {
           "colorbar": {
            "outlinewidth": 0,
            "ticks": ""
           }
          },
          "colorscale": {
           "diverging": [
            [
             0,
             "#8e0152"
            ],
            [
             0.1,
             "#c51b7d"
            ],
            [
             0.2,
             "#de77ae"
            ],
            [
             0.3,
             "#f1b6da"
            ],
            [
             0.4,
             "#fde0ef"
            ],
            [
             0.5,
             "#f7f7f7"
            ],
            [
             0.6,
             "#e6f5d0"
            ],
            [
             0.7,
             "#b8e186"
            ],
            [
             0.8,
             "#7fbc41"
            ],
            [
             0.9,
             "#4d9221"
            ],
            [
             1,
             "#276419"
            ]
           ],
           "sequential": [
            [
             0,
             "#0d0887"
            ],
            [
             0.1111111111111111,
             "#46039f"
            ],
            [
             0.2222222222222222,
             "#7201a8"
            ],
            [
             0.3333333333333333,
             "#9c179e"
            ],
            [
             0.4444444444444444,
             "#bd3786"
            ],
            [
             0.5555555555555556,
             "#d8576b"
            ],
            [
             0.6666666666666666,
             "#ed7953"
            ],
            [
             0.7777777777777778,
             "#fb9f3a"
            ],
            [
             0.8888888888888888,
             "#fdca26"
            ],
            [
             1,
             "#f0f921"
            ]
           ],
           "sequentialminus": [
            [
             0,
             "#0d0887"
            ],
            [
             0.1111111111111111,
             "#46039f"
            ],
            [
             0.2222222222222222,
             "#7201a8"
            ],
            [
             0.3333333333333333,
             "#9c179e"
            ],
            [
             0.4444444444444444,
             "#bd3786"
            ],
            [
             0.5555555555555556,
             "#d8576b"
            ],
            [
             0.6666666666666666,
             "#ed7953"
            ],
            [
             0.7777777777777778,
             "#fb9f3a"
            ],
            [
             0.8888888888888888,
             "#fdca26"
            ],
            [
             1,
             "#f0f921"
            ]
           ]
          },
          "colorway": [
           "#636efa",
           "#EF553B",
           "#00cc96",
           "#ab63fa",
           "#FFA15A",
           "#19d3f3",
           "#FF6692",
           "#B6E880",
           "#FF97FF",
           "#FECB52"
          ],
          "font": {
           "color": "#2a3f5f"
          },
          "geo": {
           "bgcolor": "white",
           "lakecolor": "white",
           "landcolor": "#E5ECF6",
           "showlakes": true,
           "showland": true,
           "subunitcolor": "white"
          },
          "hoverlabel": {
           "align": "left"
          },
          "hovermode": "closest",
          "mapbox": {
           "style": "light"
          },
          "paper_bgcolor": "white",
          "plot_bgcolor": "#E5ECF6",
          "polar": {
           "angularaxis": {
            "gridcolor": "white",
            "linecolor": "white",
            "ticks": ""
           },
           "bgcolor": "#E5ECF6",
           "radialaxis": {
            "gridcolor": "white",
            "linecolor": "white",
            "ticks": ""
           }
          },
          "scene": {
           "xaxis": {
            "backgroundcolor": "#E5ECF6",
            "gridcolor": "white",
            "gridwidth": 2,
            "linecolor": "white",
            "showbackground": true,
            "ticks": "",
            "zerolinecolor": "white"
           },
           "yaxis": {
            "backgroundcolor": "#E5ECF6",
            "gridcolor": "white",
            "gridwidth": 2,
            "linecolor": "white",
            "showbackground": true,
            "ticks": "",
            "zerolinecolor": "white"
           },
           "zaxis": {
            "backgroundcolor": "#E5ECF6",
            "gridcolor": "white",
            "gridwidth": 2,
            "linecolor": "white",
            "showbackground": true,
            "ticks": "",
            "zerolinecolor": "white"
           }
          },
          "shapedefaults": {
           "line": {
            "color": "#2a3f5f"
           }
          },
          "ternary": {
           "aaxis": {
            "gridcolor": "white",
            "linecolor": "white",
            "ticks": ""
           },
           "baxis": {
            "gridcolor": "white",
            "linecolor": "white",
            "ticks": ""
           },
           "bgcolor": "#E5ECF6",
           "caxis": {
            "gridcolor": "white",
            "linecolor": "white",
            "ticks": ""
           }
          },
          "title": {
           "x": 0.05
          },
          "xaxis": {
           "automargin": true,
           "gridcolor": "white",
           "linecolor": "white",
           "ticks": "",
           "title": {
            "standoff": 15
           },
           "zerolinecolor": "white",
           "zerolinewidth": 2
          },
          "yaxis": {
           "automargin": true,
           "gridcolor": "white",
           "linecolor": "white",
           "ticks": "",
           "title": {
            "standoff": 15
           },
           "zerolinecolor": "white",
           "zerolinewidth": 2
          }
         }
        },
        "title": {
         "font": {
          "color": "#4D5663"
         }
        },
        "xaxis": {
         "gridcolor": "#E1E5ED",
         "showgrid": true,
         "tickfont": {
          "color": "#4D5663"
         },
         "title": {
          "font": {
           "color": "#4D5663"
          },
          "text": ""
         },
         "zerolinecolor": "#E1E5ED"
        },
        "yaxis": {
         "gridcolor": "#E1E5ED",
         "showgrid": true,
         "tickfont": {
          "color": "#4D5663"
         },
         "title": {
          "font": {
           "color": "#4D5663"
          },
          "text": ""
         },
         "zerolinecolor": "#E1E5ED"
        }
       }
      },
      "text/html": [
       "<div>                            <div id=\"dab7ffa5-cf81-4aff-93ef-602aa877cc87\" class=\"plotly-graph-div\" style=\"height:525px; width:100%;\"></div>            <script type=\"text/javascript\">                require([\"plotly\"], function(Plotly) {                    window.PLOTLYENV=window.PLOTLYENV || {};\n",
       "                    window.PLOTLYENV.BASE_URL='https://plot.ly';                                    if (document.getElementById(\"dab7ffa5-cf81-4aff-93ef-602aa877cc87\")) {                    Plotly.newPlot(                        \"dab7ffa5-cf81-4aff-93ef-602aa877cc87\",                        [{\"histfunc\":\"count\",\"histnorm\":\"\",\"marker\":{\"color\":\"rgba(255, 153, 51, 1.0)\",\"line\":{\"color\":\"#4D5663\",\"width\":1.3}},\"name\":\"A\",\"nbinsx\":25,\"opacity\":0.8,\"orientation\":\"v\",\"x\":[-1.344681348367679,-0.25990777378562724,0.615954219350596,-0.3257161686937772,-1.1045124407249927,0.9518151688580743,-0.4414378956070553,0.23744357912241404,0.565882233802471,-1.4537368232448615,-0.3928064280712824,-0.5403655950553611,1.5032156945366153,-1.2813707408278914,0.3790274581122027,0.8030625060619568,0.5778619862717127,0.8821066931085245,1.6011202145953622,0.1494411676678207,-1.2175021564890365,-0.29325724113695045,-2.1132575093678168,-0.9418299903447851,-0.09413179117591249,-0.2212747045116899,0.7746388970054674,-0.8135424045456192,0.12425271139672092,-1.7624704443807377,-0.43129804068089106,-0.20701415863099415,0.1362581079714989,1.0213604292746619,1.4639234917681077,0.06314136905130897,-0.3384283258846109,-1.1690531466628162,0.22232591791165796,-0.5567602604223021,-0.23226829270222443,0.07840895108426076,1.1997614062549575,-0.061344339620039934,-0.39606237695467916,0.03725642793693573,1.2294394862034583,-1.7313239545247834,-0.7441425575409852,-0.7939011286891274,-0.04435819607299003,0.2152874644731718,-2.0602841032029353,0.5644320334268482,-1.659620457878419,0.4784268388998683,0.33245834317874495,1.3878741299306154,0.29292368114595657,1.0201915408457543,0.03445988614890572,0.345844164372107,0.8119328705027892,-0.4839815041109739,1.3833821707367373,0.3752824641912273,1.3529053280861845,0.7265165967816627,0.6486102939924626,0.045696646528161626,1.2169441234170144,1.2929966807127653,-0.33525951367360135,-0.38718286815465025,-0.8582896302412307,-1.2505385219437037,-1.0501771108401305,-0.5929062873971976,0.2823591333624237,0.6458494902237761,1.1087442383410073,-0.6843307181221185,-1.0429217420576782,-0.4615367754647887,-0.11068167099797399,-0.7038412804143902,-0.2936115839181303,-1.4586237497858365,1.1691072424789413,0.5852293860683341,-1.1572138935089535,-1.0601488924464997,-0.1955550192748439,-0.9876856722615701,-0.9680653493598178,0.17596996056280834,-0.5849896655419029,-0.14671716039599272,0.7243684341273524,0.11233490876531009],\"type\":\"histogram\"}],                        {\"barmode\":\"overlay\",\"legend\":{\"bgcolor\":\"#F5F6F9\",\"font\":{\"color\":\"#4D5663\"}},\"paper_bgcolor\":\"#F5F6F9\",\"plot_bgcolor\":\"#F5F6F9\",\"template\":{\"data\":{\"barpolar\":[{\"marker\":{\"line\":{\"color\":\"#E5ECF6\",\"width\":0.5},\"pattern\":{\"fillmode\":\"overlay\",\"size\":10,\"solidity\":0.2}},\"type\":\"barpolar\"}],\"bar\":[{\"error_x\":{\"color\":\"#2a3f5f\"},\"error_y\":{\"color\":\"#2a3f5f\"},\"marker\":{\"line\":{\"color\":\"#E5ECF6\",\"width\":0.5},\"pattern\":{\"fillmode\":\"overlay\",\"size\":10,\"solidity\":0.2}},\"type\":\"bar\"}],\"carpet\":[{\"aaxis\":{\"endlinecolor\":\"#2a3f5f\",\"gridcolor\":\"white\",\"linecolor\":\"white\",\"minorgridcolor\":\"white\",\"startlinecolor\":\"#2a3f5f\"},\"baxis\":{\"endlinecolor\":\"#2a3f5f\",\"gridcolor\":\"white\",\"linecolor\":\"white\",\"minorgridcolor\":\"white\",\"startlinecolor\":\"#2a3f5f\"},\"type\":\"carpet\"}],\"choropleth\":[{\"colorbar\":{\"outlinewidth\":0,\"ticks\":\"\"},\"type\":\"choropleth\"}],\"contourcarpet\":[{\"colorbar\":{\"outlinewidth\":0,\"ticks\":\"\"},\"type\":\"contourcarpet\"}],\"contour\":[{\"colorbar\":{\"outlinewidth\":0,\"ticks\":\"\"},\"colorscale\":[[0.0,\"#0d0887\"],[0.1111111111111111,\"#46039f\"],[0.2222222222222222,\"#7201a8\"],[0.3333333333333333,\"#9c179e\"],[0.4444444444444444,\"#bd3786\"],[0.5555555555555556,\"#d8576b\"],[0.6666666666666666,\"#ed7953\"],[0.7777777777777778,\"#fb9f3a\"],[0.8888888888888888,\"#fdca26\"],[1.0,\"#f0f921\"]],\"type\":\"contour\"}],\"heatmapgl\":[{\"colorbar\":{\"outlinewidth\":0,\"ticks\":\"\"},\"colorscale\":[[0.0,\"#0d0887\"],[0.1111111111111111,\"#46039f\"],[0.2222222222222222,\"#7201a8\"],[0.3333333333333333,\"#9c179e\"],[0.4444444444444444,\"#bd3786\"],[0.5555555555555556,\"#d8576b\"],[0.6666666666666666,\"#ed7953\"],[0.7777777777777778,\"#fb9f3a\"],[0.8888888888888888,\"#fdca26\"],[1.0,\"#f0f921\"]],\"type\":\"heatmapgl\"}],\"heatmap\":[{\"colorbar\":{\"outlinewidth\":0,\"ticks\":\"\"},\"colorscale\":[[0.0,\"#0d0887\"],[0.1111111111111111,\"#46039f\"],[0.2222222222222222,\"#7201a8\"],[0.3333333333333333,\"#9c179e\"],[0.4444444444444444,\"#bd3786\"],[0.5555555555555556,\"#d8576b\"],[0.6666666666666666,\"#ed7953\"],[0.7777777777777778,\"#fb9f3a\"],[0.8888888888888888,\"#fdca26\"],[1.0,\"#f0f921\"]],\"type\":\"heatmap\"}],\"histogram2dcontour\":[{\"colorbar\":{\"outlinewidth\":0,\"ticks\":\"\"},\"colorscale\":[[0.0,\"#0d0887\"],[0.1111111111111111,\"#46039f\"],[0.2222222222222222,\"#7201a8\"],[0.3333333333333333,\"#9c179e\"],[0.4444444444444444,\"#bd3786\"],[0.5555555555555556,\"#d8576b\"],[0.6666666666666666,\"#ed7953\"],[0.7777777777777778,\"#fb9f3a\"],[0.8888888888888888,\"#fdca26\"],[1.0,\"#f0f921\"]],\"type\":\"histogram2dcontour\"}],\"histogram2d\":[{\"colorbar\":{\"outlinewidth\":0,\"ticks\":\"\"},\"colorscale\":[[0.0,\"#0d0887\"],[0.1111111111111111,\"#46039f\"],[0.2222222222222222,\"#7201a8\"],[0.3333333333333333,\"#9c179e\"],[0.4444444444444444,\"#bd3786\"],[0.5555555555555556,\"#d8576b\"],[0.6666666666666666,\"#ed7953\"],[0.7777777777777778,\"#fb9f3a\"],[0.8888888888888888,\"#fdca26\"],[1.0,\"#f0f921\"]],\"type\":\"histogram2d\"}],\"histogram\":[{\"marker\":{\"pattern\":{\"fillmode\":\"overlay\",\"size\":10,\"solidity\":0.2}},\"type\":\"histogram\"}],\"mesh3d\":[{\"colorbar\":{\"outlinewidth\":0,\"ticks\":\"\"},\"type\":\"mesh3d\"}],\"parcoords\":[{\"line\":{\"colorbar\":{\"outlinewidth\":0,\"ticks\":\"\"}},\"type\":\"parcoords\"}],\"pie\":[{\"automargin\":true,\"type\":\"pie\"}],\"scatter3d\":[{\"line\":{\"colorbar\":{\"outlinewidth\":0,\"ticks\":\"\"}},\"marker\":{\"colorbar\":{\"outlinewidth\":0,\"ticks\":\"\"}},\"type\":\"scatter3d\"}],\"scattercarpet\":[{\"marker\":{\"colorbar\":{\"outlinewidth\":0,\"ticks\":\"\"}},\"type\":\"scattercarpet\"}],\"scattergeo\":[{\"marker\":{\"colorbar\":{\"outlinewidth\":0,\"ticks\":\"\"}},\"type\":\"scattergeo\"}],\"scattergl\":[{\"marker\":{\"colorbar\":{\"outlinewidth\":0,\"ticks\":\"\"}},\"type\":\"scattergl\"}],\"scattermapbox\":[{\"marker\":{\"colorbar\":{\"outlinewidth\":0,\"ticks\":\"\"}},\"type\":\"scattermapbox\"}],\"scatterpolargl\":[{\"marker\":{\"colorbar\":{\"outlinewidth\":0,\"ticks\":\"\"}},\"type\":\"scatterpolargl\"}],\"scatterpolar\":[{\"marker\":{\"colorbar\":{\"outlinewidth\":0,\"ticks\":\"\"}},\"type\":\"scatterpolar\"}],\"scatter\":[{\"fillpattern\":{\"fillmode\":\"overlay\",\"size\":10,\"solidity\":0.2},\"type\":\"scatter\"}],\"scatterternary\":[{\"marker\":{\"colorbar\":{\"outlinewidth\":0,\"ticks\":\"\"}},\"type\":\"scatterternary\"}],\"surface\":[{\"colorbar\":{\"outlinewidth\":0,\"ticks\":\"\"},\"colorscale\":[[0.0,\"#0d0887\"],[0.1111111111111111,\"#46039f\"],[0.2222222222222222,\"#7201a8\"],[0.3333333333333333,\"#9c179e\"],[0.4444444444444444,\"#bd3786\"],[0.5555555555555556,\"#d8576b\"],[0.6666666666666666,\"#ed7953\"],[0.7777777777777778,\"#fb9f3a\"],[0.8888888888888888,\"#fdca26\"],[1.0,\"#f0f921\"]],\"type\":\"surface\"}],\"table\":[{\"cells\":{\"fill\":{\"color\":\"#EBF0F8\"},\"line\":{\"color\":\"white\"}},\"header\":{\"fill\":{\"color\":\"#C8D4E3\"},\"line\":{\"color\":\"white\"}},\"type\":\"table\"}]},\"layout\":{\"annotationdefaults\":{\"arrowcolor\":\"#2a3f5f\",\"arrowhead\":0,\"arrowwidth\":1},\"autotypenumbers\":\"strict\",\"coloraxis\":{\"colorbar\":{\"outlinewidth\":0,\"ticks\":\"\"}},\"colorscale\":{\"diverging\":[[0,\"#8e0152\"],[0.1,\"#c51b7d\"],[0.2,\"#de77ae\"],[0.3,\"#f1b6da\"],[0.4,\"#fde0ef\"],[0.5,\"#f7f7f7\"],[0.6,\"#e6f5d0\"],[0.7,\"#b8e186\"],[0.8,\"#7fbc41\"],[0.9,\"#4d9221\"],[1,\"#276419\"]],\"sequential\":[[0.0,\"#0d0887\"],[0.1111111111111111,\"#46039f\"],[0.2222222222222222,\"#7201a8\"],[0.3333333333333333,\"#9c179e\"],[0.4444444444444444,\"#bd3786\"],[0.5555555555555556,\"#d8576b\"],[0.6666666666666666,\"#ed7953\"],[0.7777777777777778,\"#fb9f3a\"],[0.8888888888888888,\"#fdca26\"],[1.0,\"#f0f921\"]],\"sequentialminus\":[[0.0,\"#0d0887\"],[0.1111111111111111,\"#46039f\"],[0.2222222222222222,\"#7201a8\"],[0.3333333333333333,\"#9c179e\"],[0.4444444444444444,\"#bd3786\"],[0.5555555555555556,\"#d8576b\"],[0.6666666666666666,\"#ed7953\"],[0.7777777777777778,\"#fb9f3a\"],[0.8888888888888888,\"#fdca26\"],[1.0,\"#f0f921\"]]},\"colorway\":[\"#636efa\",\"#EF553B\",\"#00cc96\",\"#ab63fa\",\"#FFA15A\",\"#19d3f3\",\"#FF6692\",\"#B6E880\",\"#FF97FF\",\"#FECB52\"],\"font\":{\"color\":\"#2a3f5f\"},\"geo\":{\"bgcolor\":\"white\",\"lakecolor\":\"white\",\"landcolor\":\"#E5ECF6\",\"showlakes\":true,\"showland\":true,\"subunitcolor\":\"white\"},\"hoverlabel\":{\"align\":\"left\"},\"hovermode\":\"closest\",\"mapbox\":{\"style\":\"light\"},\"paper_bgcolor\":\"white\",\"plot_bgcolor\":\"#E5ECF6\",\"polar\":{\"angularaxis\":{\"gridcolor\":\"white\",\"linecolor\":\"white\",\"ticks\":\"\"},\"bgcolor\":\"#E5ECF6\",\"radialaxis\":{\"gridcolor\":\"white\",\"linecolor\":\"white\",\"ticks\":\"\"}},\"scene\":{\"xaxis\":{\"backgroundcolor\":\"#E5ECF6\",\"gridcolor\":\"white\",\"gridwidth\":2,\"linecolor\":\"white\",\"showbackground\":true,\"ticks\":\"\",\"zerolinecolor\":\"white\"},\"yaxis\":{\"backgroundcolor\":\"#E5ECF6\",\"gridcolor\":\"white\",\"gridwidth\":2,\"linecolor\":\"white\",\"showbackground\":true,\"ticks\":\"\",\"zerolinecolor\":\"white\"},\"zaxis\":{\"backgroundcolor\":\"#E5ECF6\",\"gridcolor\":\"white\",\"gridwidth\":2,\"linecolor\":\"white\",\"showbackground\":true,\"ticks\":\"\",\"zerolinecolor\":\"white\"}},\"shapedefaults\":{\"line\":{\"color\":\"#2a3f5f\"}},\"ternary\":{\"aaxis\":{\"gridcolor\":\"white\",\"linecolor\":\"white\",\"ticks\":\"\"},\"baxis\":{\"gridcolor\":\"white\",\"linecolor\":\"white\",\"ticks\":\"\"},\"bgcolor\":\"#E5ECF6\",\"caxis\":{\"gridcolor\":\"white\",\"linecolor\":\"white\",\"ticks\":\"\"}},\"title\":{\"x\":0.05},\"xaxis\":{\"automargin\":true,\"gridcolor\":\"white\",\"linecolor\":\"white\",\"ticks\":\"\",\"title\":{\"standoff\":15},\"zerolinecolor\":\"white\",\"zerolinewidth\":2},\"yaxis\":{\"automargin\":true,\"gridcolor\":\"white\",\"linecolor\":\"white\",\"ticks\":\"\",\"title\":{\"standoff\":15},\"zerolinecolor\":\"white\",\"zerolinewidth\":2}}},\"title\":{\"font\":{\"color\":\"#4D5663\"}},\"xaxis\":{\"gridcolor\":\"#E1E5ED\",\"showgrid\":true,\"tickfont\":{\"color\":\"#4D5663\"},\"title\":{\"font\":{\"color\":\"#4D5663\"},\"text\":\"\"},\"zerolinecolor\":\"#E1E5ED\"},\"yaxis\":{\"gridcolor\":\"#E1E5ED\",\"showgrid\":true,\"tickfont\":{\"color\":\"#4D5663\"},\"title\":{\"font\":{\"color\":\"#4D5663\"},\"text\":\"\"},\"zerolinecolor\":\"#E1E5ED\"}},                        {\"showLink\": true, \"linkText\": \"Export to plot.ly\", \"plotlyServerURL\": \"https://plot.ly\", \"responsive\": true}                    ).then(function(){\n",
       "                            \n",
       "var gd = document.getElementById('dab7ffa5-cf81-4aff-93ef-602aa877cc87');\n",
       "var x = new MutationObserver(function (mutations, observer) {{\n",
       "        var display = window.getComputedStyle(gd).display;\n",
       "        if (!display || display === 'none') {{\n",
       "            console.log([gd, 'removed!']);\n",
       "            Plotly.purge(gd);\n",
       "            observer.disconnect();\n",
       "        }}\n",
       "}});\n",
       "\n",
       "// Listen for the removal of the full notebook cells\n",
       "var notebookContainer = gd.closest('#notebook-container');\n",
       "if (notebookContainer) {{\n",
       "    x.observe(notebookContainer, {childList: true});\n",
       "}}\n",
       "\n",
       "// Listen for the clearing of the current output cell\n",
       "var outputEl = gd.closest('.output');\n",
       "if (outputEl) {{\n",
       "    x.observe(outputEl, {childList: true});\n",
       "}}\n",
       "\n",
       "                        })                };                });            </script>        </div>"
      ]
     },
     "metadata": {},
     "output_type": "display_data"
    }
   ],
   "source": [
    "df['A'].iplot(kind='hist',bins=25)"
   ]
  },
  {
   "cell_type": "code",
   "execution_count": 34,
   "metadata": {},
   "outputs": [
    {
     "data": {
      "application/vnd.plotly.v1+json": {
       "config": {
        "linkText": "Export to plot.ly",
        "plotlyServerURL": "https://plot.ly",
        "showLink": true
       },
       "data": [
        {
         "marker": {
          "color": [
           "rgb(255, 153, 51)",
           "rgb(55, 128, 191)",
           "rgb(50, 171, 96)",
           "rgb(128, 0, 128)",
           "rgb(219, 64, 82)",
           "rgb(0, 128, 128)",
           "rgb(255, 255, 51)",
           "rgb(128, 128, 0)",
           "rgb(251, 128, 114)",
           "rgb(128, 177, 211)"
          ],
          "line": {
           "width": 1.3
          },
          "size": [
           66,
           83,
           66,
           79,
           63,
           88,
           70,
           88,
           95,
           63,
           88,
           67,
           69,
           49,
           101,
           12,
           70,
           51,
           56,
           77,
           43,
           52,
           49,
           82,
           78,
           59,
           56,
           68,
           60,
           28,
           81,
           75,
           30,
           91,
           62,
           24,
           60,
           70,
           29,
           76,
           36,
           75,
           45,
           43,
           52,
           64,
           41,
           68,
           88,
           52,
           42,
           48,
           35,
           86,
           54,
           73,
           51,
           87,
           32,
           61,
           76,
           30,
           23,
           56,
           36,
           89,
           52,
           80,
           87,
           72,
           21,
           44,
           81,
           48,
           77,
           38,
           80,
           81,
           86,
           84,
           97,
           58,
           87,
           76,
           42,
           40,
           53,
           100,
           112,
           84,
           39,
           29,
           73,
           82,
           53,
           81,
           62,
           46,
           70,
           44
          ],
          "symbol": "circle"
         },
         "mode": "markers",
         "text": "",
         "type": "scatter",
         "x": [
          -1.344681348367679,
          -0.25990777378562724,
          0.615954219350596,
          -0.3257161686937772,
          -1.1045124407249927,
          0.9518151688580743,
          -0.4414378956070553,
          0.23744357912241404,
          0.565882233802471,
          -1.4537368232448615,
          -0.3928064280712824,
          -0.5403655950553611,
          1.5032156945366153,
          -1.2813707408278914,
          0.3790274581122027,
          0.8030625060619568,
          0.5778619862717127,
          0.8821066931085245,
          1.6011202145953622,
          0.1494411676678207,
          -1.2175021564890365,
          -0.29325724113695045,
          -2.1132575093678168,
          -0.9418299903447851,
          -0.09413179117591249,
          -0.2212747045116899,
          0.7746388970054674,
          -0.8135424045456192,
          0.12425271139672092,
          -1.7624704443807377,
          -0.43129804068089106,
          -0.20701415863099415,
          0.1362581079714989,
          1.0213604292746619,
          1.4639234917681077,
          0.06314136905130897,
          -0.3384283258846109,
          -1.1690531466628162,
          0.22232591791165796,
          -0.5567602604223021,
          -0.23226829270222443,
          0.07840895108426076,
          1.1997614062549575,
          -0.061344339620039934,
          -0.39606237695467916,
          0.03725642793693573,
          1.2294394862034583,
          -1.7313239545247834,
          -0.7441425575409852,
          -0.7939011286891274,
          -0.04435819607299003,
          0.2152874644731718,
          -2.0602841032029353,
          0.5644320334268482,
          -1.659620457878419,
          0.4784268388998683,
          0.33245834317874495,
          1.3878741299306154,
          0.29292368114595657,
          1.0201915408457543,
          0.03445988614890572,
          0.345844164372107,
          0.8119328705027892,
          -0.4839815041109739,
          1.3833821707367373,
          0.3752824641912273,
          1.3529053280861845,
          0.7265165967816627,
          0.6486102939924626,
          0.045696646528161626,
          1.2169441234170144,
          1.2929966807127653,
          -0.33525951367360135,
          -0.38718286815465025,
          -0.8582896302412307,
          -1.2505385219437037,
          -1.0501771108401305,
          -0.5929062873971976,
          0.2823591333624237,
          0.6458494902237761,
          1.1087442383410073,
          -0.6843307181221185,
          -1.0429217420576782,
          -0.4615367754647887,
          -0.11068167099797399,
          -0.7038412804143902,
          -0.2936115839181303,
          -1.4586237497858365,
          1.1691072424789413,
          0.5852293860683341,
          -1.1572138935089535,
          -1.0601488924464997,
          -0.1955550192748439,
          -0.9876856722615701,
          -0.9680653493598178,
          0.17596996056280834,
          -0.5849896655419029,
          -0.14671716039599272,
          0.7243684341273524,
          0.11233490876531009
         ],
         "y": [
          -0.6141524354932701,
          -0.42820766641829233,
          1.560949685067526,
          -0.016366876742454278,
          -0.201557182599476,
          0.9034252832480001,
          1.1385890108482881,
          0.4997120911452794,
          -0.6431276327177393,
          1.211243606751715,
          0.2980918040802568,
          1.6882964191964656,
          -0.9499289520197146,
          1.3777101777879859,
          1.0133737656196418,
          0.04615459993434687,
          -0.23562220624719996,
          -0.8472394318161616,
          0.9754077003636352,
          -2.029101759723629,
          -1.1458437397532513,
          0.2918229495301508,
          0.42434195105328415,
          0.25507369160860566,
          -1.3105165158007956,
          0.8056262517408992,
          2.5038411972897276,
          0.4425422857014533,
          0.6834958460784702,
          -0.8559521501021329,
          0.704226306192486,
          0.7689311364426078,
          -0.1795506562591025,
          2.478306088606201,
          -0.2542547549818018,
          -1.1130974246268486,
          -0.42565330900895,
          -0.7882386369038422,
          -0.6640291687247452,
          0.263840738476896,
          1.0077497246504774,
          1.2773429952090538,
          0.13115443067251445,
          0.8818786793607682,
          2.309893637608007,
          0.5362686094806232,
          -1.0308434428294522,
          0.6849550586723251,
          -0.3254428018017996,
          -0.21699088590695828,
          1.912387014170751,
          0.17316749761022943,
          0.28761426771826504,
          -0.23278602894871162,
          -0.963319393098557,
          -0.3489916955291253,
          0.26012760903033044,
          -0.835833333730869,
          -1.5623598399882572,
          -0.48015350615792085,
          -0.11944754740327732,
          0.026295999513213333,
          -1.6066286927087363,
          0.5199063448102765,
          0.8664172542597003,
          -1.1601858683315638,
          -0.5774002796857021,
          -1.8834974470349524,
          -0.15062404083992648,
          0.05426744786494283,
          -0.5972182687637029,
          0.35686556322641216,
          0.48590074900782715,
          -2.071759239609643,
          0.7618499638282232,
          0.7723607083493977,
          -0.7630381986102769,
          0.7214067351798614,
          -0.6321096643468237,
          0.9400889761716075,
          -0.40196691099382936,
          0.5046896317639424,
          -0.7693827819522933,
          1.9337472141346586,
          1.59623155576546,
          -0.19753941417329646,
          1.3088444111805233,
          0.33406737873388115,
          -0.38386304887850126,
          -1.0559312901442477,
          1.477786415541574,
          -0.8874523338969589,
          0.05986850818355528,
          -1.4419205278408251,
          1.2693587674606999,
          -0.16826747808312903,
          0.7558397102656929,
          -0.04481720578448385,
          0.12303505012631975,
          0.1151332956318505
         ]
        }
       ],
       "layout": {
        "legend": {
         "bgcolor": "#F5F6F9",
         "font": {
          "color": "#4D5663"
         }
        },
        "paper_bgcolor": "#F5F6F9",
        "plot_bgcolor": "#F5F6F9",
        "template": {
         "data": {
          "bar": [
           {
            "error_x": {
             "color": "#2a3f5f"
            },
            "error_y": {
             "color": "#2a3f5f"
            },
            "marker": {
             "line": {
              "color": "#E5ECF6",
              "width": 0.5
             },
             "pattern": {
              "fillmode": "overlay",
              "size": 10,
              "solidity": 0.2
             }
            },
            "type": "bar"
           }
          ],
          "barpolar": [
           {
            "marker": {
             "line": {
              "color": "#E5ECF6",
              "width": 0.5
             },
             "pattern": {
              "fillmode": "overlay",
              "size": 10,
              "solidity": 0.2
             }
            },
            "type": "barpolar"
           }
          ],
          "carpet": [
           {
            "aaxis": {
             "endlinecolor": "#2a3f5f",
             "gridcolor": "white",
             "linecolor": "white",
             "minorgridcolor": "white",
             "startlinecolor": "#2a3f5f"
            },
            "baxis": {
             "endlinecolor": "#2a3f5f",
             "gridcolor": "white",
             "linecolor": "white",
             "minorgridcolor": "white",
             "startlinecolor": "#2a3f5f"
            },
            "type": "carpet"
           }
          ],
          "choropleth": [
           {
            "colorbar": {
             "outlinewidth": 0,
             "ticks": ""
            },
            "type": "choropleth"
           }
          ],
          "contour": [
           {
            "colorbar": {
             "outlinewidth": 0,
             "ticks": ""
            },
            "colorscale": [
             [
              0,
              "#0d0887"
             ],
             [
              0.1111111111111111,
              "#46039f"
             ],
             [
              0.2222222222222222,
              "#7201a8"
             ],
             [
              0.3333333333333333,
              "#9c179e"
             ],
             [
              0.4444444444444444,
              "#bd3786"
             ],
             [
              0.5555555555555556,
              "#d8576b"
             ],
             [
              0.6666666666666666,
              "#ed7953"
             ],
             [
              0.7777777777777778,
              "#fb9f3a"
             ],
             [
              0.8888888888888888,
              "#fdca26"
             ],
             [
              1,
              "#f0f921"
             ]
            ],
            "type": "contour"
           }
          ],
          "contourcarpet": [
           {
            "colorbar": {
             "outlinewidth": 0,
             "ticks": ""
            },
            "type": "contourcarpet"
           }
          ],
          "heatmap": [
           {
            "colorbar": {
             "outlinewidth": 0,
             "ticks": ""
            },
            "colorscale": [
             [
              0,
              "#0d0887"
             ],
             [
              0.1111111111111111,
              "#46039f"
             ],
             [
              0.2222222222222222,
              "#7201a8"
             ],
             [
              0.3333333333333333,
              "#9c179e"
             ],
             [
              0.4444444444444444,
              "#bd3786"
             ],
             [
              0.5555555555555556,
              "#d8576b"
             ],
             [
              0.6666666666666666,
              "#ed7953"
             ],
             [
              0.7777777777777778,
              "#fb9f3a"
             ],
             [
              0.8888888888888888,
              "#fdca26"
             ],
             [
              1,
              "#f0f921"
             ]
            ],
            "type": "heatmap"
           }
          ],
          "heatmapgl": [
           {
            "colorbar": {
             "outlinewidth": 0,
             "ticks": ""
            },
            "colorscale": [
             [
              0,
              "#0d0887"
             ],
             [
              0.1111111111111111,
              "#46039f"
             ],
             [
              0.2222222222222222,
              "#7201a8"
             ],
             [
              0.3333333333333333,
              "#9c179e"
             ],
             [
              0.4444444444444444,
              "#bd3786"
             ],
             [
              0.5555555555555556,
              "#d8576b"
             ],
             [
              0.6666666666666666,
              "#ed7953"
             ],
             [
              0.7777777777777778,
              "#fb9f3a"
             ],
             [
              0.8888888888888888,
              "#fdca26"
             ],
             [
              1,
              "#f0f921"
             ]
            ],
            "type": "heatmapgl"
           }
          ],
          "histogram": [
           {
            "marker": {
             "pattern": {
              "fillmode": "overlay",
              "size": 10,
              "solidity": 0.2
             }
            },
            "type": "histogram"
           }
          ],
          "histogram2d": [
           {
            "colorbar": {
             "outlinewidth": 0,
             "ticks": ""
            },
            "colorscale": [
             [
              0,
              "#0d0887"
             ],
             [
              0.1111111111111111,
              "#46039f"
             ],
             [
              0.2222222222222222,
              "#7201a8"
             ],
             [
              0.3333333333333333,
              "#9c179e"
             ],
             [
              0.4444444444444444,
              "#bd3786"
             ],
             [
              0.5555555555555556,
              "#d8576b"
             ],
             [
              0.6666666666666666,
              "#ed7953"
             ],
             [
              0.7777777777777778,
              "#fb9f3a"
             ],
             [
              0.8888888888888888,
              "#fdca26"
             ],
             [
              1,
              "#f0f921"
             ]
            ],
            "type": "histogram2d"
           }
          ],
          "histogram2dcontour": [
           {
            "colorbar": {
             "outlinewidth": 0,
             "ticks": ""
            },
            "colorscale": [
             [
              0,
              "#0d0887"
             ],
             [
              0.1111111111111111,
              "#46039f"
             ],
             [
              0.2222222222222222,
              "#7201a8"
             ],
             [
              0.3333333333333333,
              "#9c179e"
             ],
             [
              0.4444444444444444,
              "#bd3786"
             ],
             [
              0.5555555555555556,
              "#d8576b"
             ],
             [
              0.6666666666666666,
              "#ed7953"
             ],
             [
              0.7777777777777778,
              "#fb9f3a"
             ],
             [
              0.8888888888888888,
              "#fdca26"
             ],
             [
              1,
              "#f0f921"
             ]
            ],
            "type": "histogram2dcontour"
           }
          ],
          "mesh3d": [
           {
            "colorbar": {
             "outlinewidth": 0,
             "ticks": ""
            },
            "type": "mesh3d"
           }
          ],
          "parcoords": [
           {
            "line": {
             "colorbar": {
              "outlinewidth": 0,
              "ticks": ""
             }
            },
            "type": "parcoords"
           }
          ],
          "pie": [
           {
            "automargin": true,
            "type": "pie"
           }
          ],
          "scatter": [
           {
            "fillpattern": {
             "fillmode": "overlay",
             "size": 10,
             "solidity": 0.2
            },
            "type": "scatter"
           }
          ],
          "scatter3d": [
           {
            "line": {
             "colorbar": {
              "outlinewidth": 0,
              "ticks": ""
             }
            },
            "marker": {
             "colorbar": {
              "outlinewidth": 0,
              "ticks": ""
             }
            },
            "type": "scatter3d"
           }
          ],
          "scattercarpet": [
           {
            "marker": {
             "colorbar": {
              "outlinewidth": 0,
              "ticks": ""
             }
            },
            "type": "scattercarpet"
           }
          ],
          "scattergeo": [
           {
            "marker": {
             "colorbar": {
              "outlinewidth": 0,
              "ticks": ""
             }
            },
            "type": "scattergeo"
           }
          ],
          "scattergl": [
           {
            "marker": {
             "colorbar": {
              "outlinewidth": 0,
              "ticks": ""
             }
            },
            "type": "scattergl"
           }
          ],
          "scattermapbox": [
           {
            "marker": {
             "colorbar": {
              "outlinewidth": 0,
              "ticks": ""
             }
            },
            "type": "scattermapbox"
           }
          ],
          "scatterpolar": [
           {
            "marker": {
             "colorbar": {
              "outlinewidth": 0,
              "ticks": ""
             }
            },
            "type": "scatterpolar"
           }
          ],
          "scatterpolargl": [
           {
            "marker": {
             "colorbar": {
              "outlinewidth": 0,
              "ticks": ""
             }
            },
            "type": "scatterpolargl"
           }
          ],
          "scatterternary": [
           {
            "marker": {
             "colorbar": {
              "outlinewidth": 0,
              "ticks": ""
             }
            },
            "type": "scatterternary"
           }
          ],
          "surface": [
           {
            "colorbar": {
             "outlinewidth": 0,
             "ticks": ""
            },
            "colorscale": [
             [
              0,
              "#0d0887"
             ],
             [
              0.1111111111111111,
              "#46039f"
             ],
             [
              0.2222222222222222,
              "#7201a8"
             ],
             [
              0.3333333333333333,
              "#9c179e"
             ],
             [
              0.4444444444444444,
              "#bd3786"
             ],
             [
              0.5555555555555556,
              "#d8576b"
             ],
             [
              0.6666666666666666,
              "#ed7953"
             ],
             [
              0.7777777777777778,
              "#fb9f3a"
             ],
             [
              0.8888888888888888,
              "#fdca26"
             ],
             [
              1,
              "#f0f921"
             ]
            ],
            "type": "surface"
           }
          ],
          "table": [
           {
            "cells": {
             "fill": {
              "color": "#EBF0F8"
             },
             "line": {
              "color": "white"
             }
            },
            "header": {
             "fill": {
              "color": "#C8D4E3"
             },
             "line": {
              "color": "white"
             }
            },
            "type": "table"
           }
          ]
         },
         "layout": {
          "annotationdefaults": {
           "arrowcolor": "#2a3f5f",
           "arrowhead": 0,
           "arrowwidth": 1
          },
          "autotypenumbers": "strict",
          "coloraxis": {
           "colorbar": {
            "outlinewidth": 0,
            "ticks": ""
           }
          },
          "colorscale": {
           "diverging": [
            [
             0,
             "#8e0152"
            ],
            [
             0.1,
             "#c51b7d"
            ],
            [
             0.2,
             "#de77ae"
            ],
            [
             0.3,
             "#f1b6da"
            ],
            [
             0.4,
             "#fde0ef"
            ],
            [
             0.5,
             "#f7f7f7"
            ],
            [
             0.6,
             "#e6f5d0"
            ],
            [
             0.7,
             "#b8e186"
            ],
            [
             0.8,
             "#7fbc41"
            ],
            [
             0.9,
             "#4d9221"
            ],
            [
             1,
             "#276419"
            ]
           ],
           "sequential": [
            [
             0,
             "#0d0887"
            ],
            [
             0.1111111111111111,
             "#46039f"
            ],
            [
             0.2222222222222222,
             "#7201a8"
            ],
            [
             0.3333333333333333,
             "#9c179e"
            ],
            [
             0.4444444444444444,
             "#bd3786"
            ],
            [
             0.5555555555555556,
             "#d8576b"
            ],
            [
             0.6666666666666666,
             "#ed7953"
            ],
            [
             0.7777777777777778,
             "#fb9f3a"
            ],
            [
             0.8888888888888888,
             "#fdca26"
            ],
            [
             1,
             "#f0f921"
            ]
           ],
           "sequentialminus": [
            [
             0,
             "#0d0887"
            ],
            [
             0.1111111111111111,
             "#46039f"
            ],
            [
             0.2222222222222222,
             "#7201a8"
            ],
            [
             0.3333333333333333,
             "#9c179e"
            ],
            [
             0.4444444444444444,
             "#bd3786"
            ],
            [
             0.5555555555555556,
             "#d8576b"
            ],
            [
             0.6666666666666666,
             "#ed7953"
            ],
            [
             0.7777777777777778,
             "#fb9f3a"
            ],
            [
             0.8888888888888888,
             "#fdca26"
            ],
            [
             1,
             "#f0f921"
            ]
           ]
          },
          "colorway": [
           "#636efa",
           "#EF553B",
           "#00cc96",
           "#ab63fa",
           "#FFA15A",
           "#19d3f3",
           "#FF6692",
           "#B6E880",
           "#FF97FF",
           "#FECB52"
          ],
          "font": {
           "color": "#2a3f5f"
          },
          "geo": {
           "bgcolor": "white",
           "lakecolor": "white",
           "landcolor": "#E5ECF6",
           "showlakes": true,
           "showland": true,
           "subunitcolor": "white"
          },
          "hoverlabel": {
           "align": "left"
          },
          "hovermode": "closest",
          "mapbox": {
           "style": "light"
          },
          "paper_bgcolor": "white",
          "plot_bgcolor": "#E5ECF6",
          "polar": {
           "angularaxis": {
            "gridcolor": "white",
            "linecolor": "white",
            "ticks": ""
           },
           "bgcolor": "#E5ECF6",
           "radialaxis": {
            "gridcolor": "white",
            "linecolor": "white",
            "ticks": ""
           }
          },
          "scene": {
           "xaxis": {
            "backgroundcolor": "#E5ECF6",
            "gridcolor": "white",
            "gridwidth": 2,
            "linecolor": "white",
            "showbackground": true,
            "ticks": "",
            "zerolinecolor": "white"
           },
           "yaxis": {
            "backgroundcolor": "#E5ECF6",
            "gridcolor": "white",
            "gridwidth": 2,
            "linecolor": "white",
            "showbackground": true,
            "ticks": "",
            "zerolinecolor": "white"
           },
           "zaxis": {
            "backgroundcolor": "#E5ECF6",
            "gridcolor": "white",
            "gridwidth": 2,
            "linecolor": "white",
            "showbackground": true,
            "ticks": "",
            "zerolinecolor": "white"
           }
          },
          "shapedefaults": {
           "line": {
            "color": "#2a3f5f"
           }
          },
          "ternary": {
           "aaxis": {
            "gridcolor": "white",
            "linecolor": "white",
            "ticks": ""
           },
           "baxis": {
            "gridcolor": "white",
            "linecolor": "white",
            "ticks": ""
           },
           "bgcolor": "#E5ECF6",
           "caxis": {
            "gridcolor": "white",
            "linecolor": "white",
            "ticks": ""
           }
          },
          "title": {
           "x": 0.05
          },
          "xaxis": {
           "automargin": true,
           "gridcolor": "white",
           "linecolor": "white",
           "ticks": "",
           "title": {
            "standoff": 15
           },
           "zerolinecolor": "white",
           "zerolinewidth": 2
          },
          "yaxis": {
           "automargin": true,
           "gridcolor": "white",
           "linecolor": "white",
           "ticks": "",
           "title": {
            "standoff": 15
           },
           "zerolinecolor": "white",
           "zerolinewidth": 2
          }
         }
        },
        "title": {
         "font": {
          "color": "#4D5663"
         }
        },
        "xaxis": {
         "gridcolor": "#E1E5ED",
         "showgrid": true,
         "tickfont": {
          "color": "#4D5663"
         },
         "title": {
          "font": {
           "color": "#4D5663"
          },
          "text": ""
         },
         "zerolinecolor": "#E1E5ED"
        },
        "yaxis": {
         "gridcolor": "#E1E5ED",
         "showgrid": true,
         "tickfont": {
          "color": "#4D5663"
         },
         "title": {
          "font": {
           "color": "#4D5663"
          },
          "text": ""
         },
         "zerolinecolor": "#E1E5ED"
        }
       }
      },
      "text/html": [
       "<div>                            <div id=\"b3732cfa-2c6c-4f04-9088-ea97976761a6\" class=\"plotly-graph-div\" style=\"height:525px; width:100%;\"></div>            <script type=\"text/javascript\">                require([\"plotly\"], function(Plotly) {                    window.PLOTLYENV=window.PLOTLYENV || {};\n",
       "                    window.PLOTLYENV.BASE_URL='https://plot.ly';                                    if (document.getElementById(\"b3732cfa-2c6c-4f04-9088-ea97976761a6\")) {                    Plotly.newPlot(                        \"b3732cfa-2c6c-4f04-9088-ea97976761a6\",                        [{\"marker\":{\"color\":[\"rgb(255, 153, 51)\",\"rgb(55, 128, 191)\",\"rgb(50, 171, 96)\",\"rgb(128, 0, 128)\",\"rgb(219, 64, 82)\",\"rgb(0, 128, 128)\",\"rgb(255, 255, 51)\",\"rgb(128, 128, 0)\",\"rgb(251, 128, 114)\",\"rgb(128, 177, 211)\"],\"line\":{\"width\":1.3},\"size\":[66,83,66,79,63,88,70,88,95,63,88,67,69,49,101,12,70,51,56,77,43,52,49,82,78,59,56,68,60,28,81,75,30,91,62,24,60,70,29,76,36,75,45,43,52,64,41,68,88,52,42,48,35,86,54,73,51,87,32,61,76,30,23,56,36,89,52,80,87,72,21,44,81,48,77,38,80,81,86,84,97,58,87,76,42,40,53,100,112,84,39,29,73,82,53,81,62,46,70,44],\"symbol\":\"circle\"},\"mode\":\"markers\",\"text\":\"\",\"x\":[-1.344681348367679,-0.25990777378562724,0.615954219350596,-0.3257161686937772,-1.1045124407249927,0.9518151688580743,-0.4414378956070553,0.23744357912241404,0.565882233802471,-1.4537368232448615,-0.3928064280712824,-0.5403655950553611,1.5032156945366153,-1.2813707408278914,0.3790274581122027,0.8030625060619568,0.5778619862717127,0.8821066931085245,1.6011202145953622,0.1494411676678207,-1.2175021564890365,-0.29325724113695045,-2.1132575093678168,-0.9418299903447851,-0.09413179117591249,-0.2212747045116899,0.7746388970054674,-0.8135424045456192,0.12425271139672092,-1.7624704443807377,-0.43129804068089106,-0.20701415863099415,0.1362581079714989,1.0213604292746619,1.4639234917681077,0.06314136905130897,-0.3384283258846109,-1.1690531466628162,0.22232591791165796,-0.5567602604223021,-0.23226829270222443,0.07840895108426076,1.1997614062549575,-0.061344339620039934,-0.39606237695467916,0.03725642793693573,1.2294394862034583,-1.7313239545247834,-0.7441425575409852,-0.7939011286891274,-0.04435819607299003,0.2152874644731718,-2.0602841032029353,0.5644320334268482,-1.659620457878419,0.4784268388998683,0.33245834317874495,1.3878741299306154,0.29292368114595657,1.0201915408457543,0.03445988614890572,0.345844164372107,0.8119328705027892,-0.4839815041109739,1.3833821707367373,0.3752824641912273,1.3529053280861845,0.7265165967816627,0.6486102939924626,0.045696646528161626,1.2169441234170144,1.2929966807127653,-0.33525951367360135,-0.38718286815465025,-0.8582896302412307,-1.2505385219437037,-1.0501771108401305,-0.5929062873971976,0.2823591333624237,0.6458494902237761,1.1087442383410073,-0.6843307181221185,-1.0429217420576782,-0.4615367754647887,-0.11068167099797399,-0.7038412804143902,-0.2936115839181303,-1.4586237497858365,1.1691072424789413,0.5852293860683341,-1.1572138935089535,-1.0601488924464997,-0.1955550192748439,-0.9876856722615701,-0.9680653493598178,0.17596996056280834,-0.5849896655419029,-0.14671716039599272,0.7243684341273524,0.11233490876531009],\"y\":[-0.6141524354932701,-0.42820766641829233,1.560949685067526,-0.016366876742454278,-0.201557182599476,0.9034252832480001,1.1385890108482881,0.4997120911452794,-0.6431276327177393,1.211243606751715,0.2980918040802568,1.6882964191964656,-0.9499289520197146,1.3777101777879859,1.0133737656196418,0.04615459993434687,-0.23562220624719996,-0.8472394318161616,0.9754077003636352,-2.029101759723629,-1.1458437397532513,0.2918229495301508,0.42434195105328415,0.25507369160860566,-1.3105165158007956,0.8056262517408992,2.5038411972897276,0.4425422857014533,0.6834958460784702,-0.8559521501021329,0.704226306192486,0.7689311364426078,-0.1795506562591025,2.478306088606201,-0.2542547549818018,-1.1130974246268486,-0.42565330900895,-0.7882386369038422,-0.6640291687247452,0.263840738476896,1.0077497246504774,1.2773429952090538,0.13115443067251445,0.8818786793607682,2.309893637608007,0.5362686094806232,-1.0308434428294522,0.6849550586723251,-0.3254428018017996,-0.21699088590695828,1.912387014170751,0.17316749761022943,0.28761426771826504,-0.23278602894871162,-0.963319393098557,-0.3489916955291253,0.26012760903033044,-0.835833333730869,-1.5623598399882572,-0.48015350615792085,-0.11944754740327732,0.026295999513213333,-1.6066286927087363,0.5199063448102765,0.8664172542597003,-1.1601858683315638,-0.5774002796857021,-1.8834974470349524,-0.15062404083992648,0.05426744786494283,-0.5972182687637029,0.35686556322641216,0.48590074900782715,-2.071759239609643,0.7618499638282232,0.7723607083493977,-0.7630381986102769,0.7214067351798614,-0.6321096643468237,0.9400889761716075,-0.40196691099382936,0.5046896317639424,-0.7693827819522933,1.9337472141346586,1.59623155576546,-0.19753941417329646,1.3088444111805233,0.33406737873388115,-0.38386304887850126,-1.0559312901442477,1.477786415541574,-0.8874523338969589,0.05986850818355528,-1.4419205278408251,1.2693587674606999,-0.16826747808312903,0.7558397102656929,-0.04481720578448385,0.12303505012631975,0.1151332956318505],\"type\":\"scatter\"}],                        {\"legend\":{\"bgcolor\":\"#F5F6F9\",\"font\":{\"color\":\"#4D5663\"}},\"paper_bgcolor\":\"#F5F6F9\",\"plot_bgcolor\":\"#F5F6F9\",\"template\":{\"data\":{\"barpolar\":[{\"marker\":{\"line\":{\"color\":\"#E5ECF6\",\"width\":0.5},\"pattern\":{\"fillmode\":\"overlay\",\"size\":10,\"solidity\":0.2}},\"type\":\"barpolar\"}],\"bar\":[{\"error_x\":{\"color\":\"#2a3f5f\"},\"error_y\":{\"color\":\"#2a3f5f\"},\"marker\":{\"line\":{\"color\":\"#E5ECF6\",\"width\":0.5},\"pattern\":{\"fillmode\":\"overlay\",\"size\":10,\"solidity\":0.2}},\"type\":\"bar\"}],\"carpet\":[{\"aaxis\":{\"endlinecolor\":\"#2a3f5f\",\"gridcolor\":\"white\",\"linecolor\":\"white\",\"minorgridcolor\":\"white\",\"startlinecolor\":\"#2a3f5f\"},\"baxis\":{\"endlinecolor\":\"#2a3f5f\",\"gridcolor\":\"white\",\"linecolor\":\"white\",\"minorgridcolor\":\"white\",\"startlinecolor\":\"#2a3f5f\"},\"type\":\"carpet\"}],\"choropleth\":[{\"colorbar\":{\"outlinewidth\":0,\"ticks\":\"\"},\"type\":\"choropleth\"}],\"contourcarpet\":[{\"colorbar\":{\"outlinewidth\":0,\"ticks\":\"\"},\"type\":\"contourcarpet\"}],\"contour\":[{\"colorbar\":{\"outlinewidth\":0,\"ticks\":\"\"},\"colorscale\":[[0.0,\"#0d0887\"],[0.1111111111111111,\"#46039f\"],[0.2222222222222222,\"#7201a8\"],[0.3333333333333333,\"#9c179e\"],[0.4444444444444444,\"#bd3786\"],[0.5555555555555556,\"#d8576b\"],[0.6666666666666666,\"#ed7953\"],[0.7777777777777778,\"#fb9f3a\"],[0.8888888888888888,\"#fdca26\"],[1.0,\"#f0f921\"]],\"type\":\"contour\"}],\"heatmapgl\":[{\"colorbar\":{\"outlinewidth\":0,\"ticks\":\"\"},\"colorscale\":[[0.0,\"#0d0887\"],[0.1111111111111111,\"#46039f\"],[0.2222222222222222,\"#7201a8\"],[0.3333333333333333,\"#9c179e\"],[0.4444444444444444,\"#bd3786\"],[0.5555555555555556,\"#d8576b\"],[0.6666666666666666,\"#ed7953\"],[0.7777777777777778,\"#fb9f3a\"],[0.8888888888888888,\"#fdca26\"],[1.0,\"#f0f921\"]],\"type\":\"heatmapgl\"}],\"heatmap\":[{\"colorbar\":{\"outlinewidth\":0,\"ticks\":\"\"},\"colorscale\":[[0.0,\"#0d0887\"],[0.1111111111111111,\"#46039f\"],[0.2222222222222222,\"#7201a8\"],[0.3333333333333333,\"#9c179e\"],[0.4444444444444444,\"#bd3786\"],[0.5555555555555556,\"#d8576b\"],[0.6666666666666666,\"#ed7953\"],[0.7777777777777778,\"#fb9f3a\"],[0.8888888888888888,\"#fdca26\"],[1.0,\"#f0f921\"]],\"type\":\"heatmap\"}],\"histogram2dcontour\":[{\"colorbar\":{\"outlinewidth\":0,\"ticks\":\"\"},\"colorscale\":[[0.0,\"#0d0887\"],[0.1111111111111111,\"#46039f\"],[0.2222222222222222,\"#7201a8\"],[0.3333333333333333,\"#9c179e\"],[0.4444444444444444,\"#bd3786\"],[0.5555555555555556,\"#d8576b\"],[0.6666666666666666,\"#ed7953\"],[0.7777777777777778,\"#fb9f3a\"],[0.8888888888888888,\"#fdca26\"],[1.0,\"#f0f921\"]],\"type\":\"histogram2dcontour\"}],\"histogram2d\":[{\"colorbar\":{\"outlinewidth\":0,\"ticks\":\"\"},\"colorscale\":[[0.0,\"#0d0887\"],[0.1111111111111111,\"#46039f\"],[0.2222222222222222,\"#7201a8\"],[0.3333333333333333,\"#9c179e\"],[0.4444444444444444,\"#bd3786\"],[0.5555555555555556,\"#d8576b\"],[0.6666666666666666,\"#ed7953\"],[0.7777777777777778,\"#fb9f3a\"],[0.8888888888888888,\"#fdca26\"],[1.0,\"#f0f921\"]],\"type\":\"histogram2d\"}],\"histogram\":[{\"marker\":{\"pattern\":{\"fillmode\":\"overlay\",\"size\":10,\"solidity\":0.2}},\"type\":\"histogram\"}],\"mesh3d\":[{\"colorbar\":{\"outlinewidth\":0,\"ticks\":\"\"},\"type\":\"mesh3d\"}],\"parcoords\":[{\"line\":{\"colorbar\":{\"outlinewidth\":0,\"ticks\":\"\"}},\"type\":\"parcoords\"}],\"pie\":[{\"automargin\":true,\"type\":\"pie\"}],\"scatter3d\":[{\"line\":{\"colorbar\":{\"outlinewidth\":0,\"ticks\":\"\"}},\"marker\":{\"colorbar\":{\"outlinewidth\":0,\"ticks\":\"\"}},\"type\":\"scatter3d\"}],\"scattercarpet\":[{\"marker\":{\"colorbar\":{\"outlinewidth\":0,\"ticks\":\"\"}},\"type\":\"scattercarpet\"}],\"scattergeo\":[{\"marker\":{\"colorbar\":{\"outlinewidth\":0,\"ticks\":\"\"}},\"type\":\"scattergeo\"}],\"scattergl\":[{\"marker\":{\"colorbar\":{\"outlinewidth\":0,\"ticks\":\"\"}},\"type\":\"scattergl\"}],\"scattermapbox\":[{\"marker\":{\"colorbar\":{\"outlinewidth\":0,\"ticks\":\"\"}},\"type\":\"scattermapbox\"}],\"scatterpolargl\":[{\"marker\":{\"colorbar\":{\"outlinewidth\":0,\"ticks\":\"\"}},\"type\":\"scatterpolargl\"}],\"scatterpolar\":[{\"marker\":{\"colorbar\":{\"outlinewidth\":0,\"ticks\":\"\"}},\"type\":\"scatterpolar\"}],\"scatter\":[{\"fillpattern\":{\"fillmode\":\"overlay\",\"size\":10,\"solidity\":0.2},\"type\":\"scatter\"}],\"scatterternary\":[{\"marker\":{\"colorbar\":{\"outlinewidth\":0,\"ticks\":\"\"}},\"type\":\"scatterternary\"}],\"surface\":[{\"colorbar\":{\"outlinewidth\":0,\"ticks\":\"\"},\"colorscale\":[[0.0,\"#0d0887\"],[0.1111111111111111,\"#46039f\"],[0.2222222222222222,\"#7201a8\"],[0.3333333333333333,\"#9c179e\"],[0.4444444444444444,\"#bd3786\"],[0.5555555555555556,\"#d8576b\"],[0.6666666666666666,\"#ed7953\"],[0.7777777777777778,\"#fb9f3a\"],[0.8888888888888888,\"#fdca26\"],[1.0,\"#f0f921\"]],\"type\":\"surface\"}],\"table\":[{\"cells\":{\"fill\":{\"color\":\"#EBF0F8\"},\"line\":{\"color\":\"white\"}},\"header\":{\"fill\":{\"color\":\"#C8D4E3\"},\"line\":{\"color\":\"white\"}},\"type\":\"table\"}]},\"layout\":{\"annotationdefaults\":{\"arrowcolor\":\"#2a3f5f\",\"arrowhead\":0,\"arrowwidth\":1},\"autotypenumbers\":\"strict\",\"coloraxis\":{\"colorbar\":{\"outlinewidth\":0,\"ticks\":\"\"}},\"colorscale\":{\"diverging\":[[0,\"#8e0152\"],[0.1,\"#c51b7d\"],[0.2,\"#de77ae\"],[0.3,\"#f1b6da\"],[0.4,\"#fde0ef\"],[0.5,\"#f7f7f7\"],[0.6,\"#e6f5d0\"],[0.7,\"#b8e186\"],[0.8,\"#7fbc41\"],[0.9,\"#4d9221\"],[1,\"#276419\"]],\"sequential\":[[0.0,\"#0d0887\"],[0.1111111111111111,\"#46039f\"],[0.2222222222222222,\"#7201a8\"],[0.3333333333333333,\"#9c179e\"],[0.4444444444444444,\"#bd3786\"],[0.5555555555555556,\"#d8576b\"],[0.6666666666666666,\"#ed7953\"],[0.7777777777777778,\"#fb9f3a\"],[0.8888888888888888,\"#fdca26\"],[1.0,\"#f0f921\"]],\"sequentialminus\":[[0.0,\"#0d0887\"],[0.1111111111111111,\"#46039f\"],[0.2222222222222222,\"#7201a8\"],[0.3333333333333333,\"#9c179e\"],[0.4444444444444444,\"#bd3786\"],[0.5555555555555556,\"#d8576b\"],[0.6666666666666666,\"#ed7953\"],[0.7777777777777778,\"#fb9f3a\"],[0.8888888888888888,\"#fdca26\"],[1.0,\"#f0f921\"]]},\"colorway\":[\"#636efa\",\"#EF553B\",\"#00cc96\",\"#ab63fa\",\"#FFA15A\",\"#19d3f3\",\"#FF6692\",\"#B6E880\",\"#FF97FF\",\"#FECB52\"],\"font\":{\"color\":\"#2a3f5f\"},\"geo\":{\"bgcolor\":\"white\",\"lakecolor\":\"white\",\"landcolor\":\"#E5ECF6\",\"showlakes\":true,\"showland\":true,\"subunitcolor\":\"white\"},\"hoverlabel\":{\"align\":\"left\"},\"hovermode\":\"closest\",\"mapbox\":{\"style\":\"light\"},\"paper_bgcolor\":\"white\",\"plot_bgcolor\":\"#E5ECF6\",\"polar\":{\"angularaxis\":{\"gridcolor\":\"white\",\"linecolor\":\"white\",\"ticks\":\"\"},\"bgcolor\":\"#E5ECF6\",\"radialaxis\":{\"gridcolor\":\"white\",\"linecolor\":\"white\",\"ticks\":\"\"}},\"scene\":{\"xaxis\":{\"backgroundcolor\":\"#E5ECF6\",\"gridcolor\":\"white\",\"gridwidth\":2,\"linecolor\":\"white\",\"showbackground\":true,\"ticks\":\"\",\"zerolinecolor\":\"white\"},\"yaxis\":{\"backgroundcolor\":\"#E5ECF6\",\"gridcolor\":\"white\",\"gridwidth\":2,\"linecolor\":\"white\",\"showbackground\":true,\"ticks\":\"\",\"zerolinecolor\":\"white\"},\"zaxis\":{\"backgroundcolor\":\"#E5ECF6\",\"gridcolor\":\"white\",\"gridwidth\":2,\"linecolor\":\"white\",\"showbackground\":true,\"ticks\":\"\",\"zerolinecolor\":\"white\"}},\"shapedefaults\":{\"line\":{\"color\":\"#2a3f5f\"}},\"ternary\":{\"aaxis\":{\"gridcolor\":\"white\",\"linecolor\":\"white\",\"ticks\":\"\"},\"baxis\":{\"gridcolor\":\"white\",\"linecolor\":\"white\",\"ticks\":\"\"},\"bgcolor\":\"#E5ECF6\",\"caxis\":{\"gridcolor\":\"white\",\"linecolor\":\"white\",\"ticks\":\"\"}},\"title\":{\"x\":0.05},\"xaxis\":{\"automargin\":true,\"gridcolor\":\"white\",\"linecolor\":\"white\",\"ticks\":\"\",\"title\":{\"standoff\":15},\"zerolinecolor\":\"white\",\"zerolinewidth\":2},\"yaxis\":{\"automargin\":true,\"gridcolor\":\"white\",\"linecolor\":\"white\",\"ticks\":\"\",\"title\":{\"standoff\":15},\"zerolinecolor\":\"white\",\"zerolinewidth\":2}}},\"title\":{\"font\":{\"color\":\"#4D5663\"}},\"xaxis\":{\"gridcolor\":\"#E1E5ED\",\"showgrid\":true,\"tickfont\":{\"color\":\"#4D5663\"},\"title\":{\"font\":{\"color\":\"#4D5663\"},\"text\":\"\"},\"zerolinecolor\":\"#E1E5ED\"},\"yaxis\":{\"gridcolor\":\"#E1E5ED\",\"showgrid\":true,\"tickfont\":{\"color\":\"#4D5663\"},\"title\":{\"font\":{\"color\":\"#4D5663\"},\"text\":\"\"},\"zerolinecolor\":\"#E1E5ED\"}},                        {\"showLink\": true, \"linkText\": \"Export to plot.ly\", \"plotlyServerURL\": \"https://plot.ly\", \"responsive\": true}                    ).then(function(){\n",
       "                            \n",
       "var gd = document.getElementById('b3732cfa-2c6c-4f04-9088-ea97976761a6');\n",
       "var x = new MutationObserver(function (mutations, observer) {{\n",
       "        var display = window.getComputedStyle(gd).display;\n",
       "        if (!display || display === 'none') {{\n",
       "            console.log([gd, 'removed!']);\n",
       "            Plotly.purge(gd);\n",
       "            observer.disconnect();\n",
       "        }}\n",
       "}});\n",
       "\n",
       "// Listen for the removal of the full notebook cells\n",
       "var notebookContainer = gd.closest('#notebook-container');\n",
       "if (notebookContainer) {{\n",
       "    x.observe(notebookContainer, {childList: true});\n",
       "}}\n",
       "\n",
       "// Listen for the clearing of the current output cell\n",
       "var outputEl = gd.closest('.output');\n",
       "if (outputEl) {{\n",
       "    x.observe(outputEl, {childList: true});\n",
       "}}\n",
       "\n",
       "                        })                };                });            </script>        </div>"
      ]
     },
     "metadata": {},
     "output_type": "display_data"
    }
   ],
   "source": [
    "df.iplot(kind='bubble',x='A',y='B',size='C')\n",
    "#size based on column c "
   ]
  },
  {
   "cell_type": "markdown",
   "metadata": {},
   "source": [
    "## scatter_matrix()\n",
    "\n",
    "Similar to sns.pairplot()"
   ]
  },
  {
   "cell_type": "code",
   "execution_count": 35,
   "metadata": {},
   "outputs": [
    {
     "data": {
      "application/vnd.plotly.v1+json": {
       "config": {
        "linkText": "Export to plot.ly",
        "plotlyServerURL": "https://plot.ly",
        "showLink": true
       },
       "data": [
        {
         "histfunc": "count",
         "histnorm": "",
         "marker": {
          "color": "rgba(255, 153, 51, 1.0)",
          "line": {
           "color": "#4D5663",
           "width": 1.3
          }
         },
         "name": "A",
         "nbinsx": 10,
         "opacity": 0.8,
         "orientation": "v",
         "type": "histogram",
         "x": [
          -1.344681348367679,
          -0.25990777378562724,
          0.615954219350596,
          -0.3257161686937772,
          -1.1045124407249927,
          0.9518151688580743,
          -0.4414378956070553,
          0.23744357912241404,
          0.565882233802471,
          -1.4537368232448615,
          -0.3928064280712824,
          -0.5403655950553611,
          1.5032156945366153,
          -1.2813707408278914,
          0.3790274581122027,
          0.8030625060619568,
          0.5778619862717127,
          0.8821066931085245,
          1.6011202145953622,
          0.1494411676678207,
          -1.2175021564890365,
          -0.29325724113695045,
          -2.1132575093678168,
          -0.9418299903447851,
          -0.09413179117591249,
          -0.2212747045116899,
          0.7746388970054674,
          -0.8135424045456192,
          0.12425271139672092,
          -1.7624704443807377,
          -0.43129804068089106,
          -0.20701415863099415,
          0.1362581079714989,
          1.0213604292746619,
          1.4639234917681077,
          0.06314136905130897,
          -0.3384283258846109,
          -1.1690531466628162,
          0.22232591791165796,
          -0.5567602604223021,
          -0.23226829270222443,
          0.07840895108426076,
          1.1997614062549575,
          -0.061344339620039934,
          -0.39606237695467916,
          0.03725642793693573,
          1.2294394862034583,
          -1.7313239545247834,
          -0.7441425575409852,
          -0.7939011286891274,
          -0.04435819607299003,
          0.2152874644731718,
          -2.0602841032029353,
          0.5644320334268482,
          -1.659620457878419,
          0.4784268388998683,
          0.33245834317874495,
          1.3878741299306154,
          0.29292368114595657,
          1.0201915408457543,
          0.03445988614890572,
          0.345844164372107,
          0.8119328705027892,
          -0.4839815041109739,
          1.3833821707367373,
          0.3752824641912273,
          1.3529053280861845,
          0.7265165967816627,
          0.6486102939924626,
          0.045696646528161626,
          1.2169441234170144,
          1.2929966807127653,
          -0.33525951367360135,
          -0.38718286815465025,
          -0.8582896302412307,
          -1.2505385219437037,
          -1.0501771108401305,
          -0.5929062873971976,
          0.2823591333624237,
          0.6458494902237761,
          1.1087442383410073,
          -0.6843307181221185,
          -1.0429217420576782,
          -0.4615367754647887,
          -0.11068167099797399,
          -0.7038412804143902,
          -0.2936115839181303,
          -1.4586237497858365,
          1.1691072424789413,
          0.5852293860683341,
          -1.1572138935089535,
          -1.0601488924464997,
          -0.1955550192748439,
          -0.9876856722615701,
          -0.9680653493598178,
          0.17596996056280834,
          -0.5849896655419029,
          -0.14671716039599272,
          0.7243684341273524,
          0.11233490876531009
         ],
         "xaxis": "x",
         "yaxis": "y"
        },
        {
         "line": {
          "color": "rgba(128, 128, 128, 1.0)",
          "dash": "solid",
          "shape": "linear",
          "width": 1.3
         },
         "marker": {
          "size": 2,
          "symbol": "circle"
         },
         "mode": "markers",
         "name": "A",
         "text": "",
         "type": "scatter",
         "x": [
          -0.6141524354932701,
          -0.42820766641829233,
          1.560949685067526,
          -0.016366876742454278,
          -0.201557182599476,
          0.9034252832480001,
          1.1385890108482881,
          0.4997120911452794,
          -0.6431276327177393,
          1.211243606751715,
          0.2980918040802568,
          1.6882964191964656,
          -0.9499289520197146,
          1.3777101777879859,
          1.0133737656196418,
          0.04615459993434687,
          -0.23562220624719996,
          -0.8472394318161616,
          0.9754077003636352,
          -2.029101759723629,
          -1.1458437397532513,
          0.2918229495301508,
          0.42434195105328415,
          0.25507369160860566,
          -1.3105165158007956,
          0.8056262517408992,
          2.5038411972897276,
          0.4425422857014533,
          0.6834958460784702,
          -0.8559521501021329,
          0.704226306192486,
          0.7689311364426078,
          -0.1795506562591025,
          2.478306088606201,
          -0.2542547549818018,
          -1.1130974246268486,
          -0.42565330900895,
          -0.7882386369038422,
          -0.6640291687247452,
          0.263840738476896,
          1.0077497246504774,
          1.2773429952090538,
          0.13115443067251445,
          0.8818786793607682,
          2.309893637608007,
          0.5362686094806232,
          -1.0308434428294522,
          0.6849550586723251,
          -0.3254428018017996,
          -0.21699088590695828,
          1.912387014170751,
          0.17316749761022943,
          0.28761426771826504,
          -0.23278602894871162,
          -0.963319393098557,
          -0.3489916955291253,
          0.26012760903033044,
          -0.835833333730869,
          -1.5623598399882572,
          -0.48015350615792085,
          -0.11944754740327732,
          0.026295999513213333,
          -1.6066286927087363,
          0.5199063448102765,
          0.8664172542597003,
          -1.1601858683315638,
          -0.5774002796857021,
          -1.8834974470349524,
          -0.15062404083992648,
          0.05426744786494283,
          -0.5972182687637029,
          0.35686556322641216,
          0.48590074900782715,
          -2.071759239609643,
          0.7618499638282232,
          0.7723607083493977,
          -0.7630381986102769,
          0.7214067351798614,
          -0.6321096643468237,
          0.9400889761716075,
          -0.40196691099382936,
          0.5046896317639424,
          -0.7693827819522933,
          1.9337472141346586,
          1.59623155576546,
          -0.19753941417329646,
          1.3088444111805233,
          0.33406737873388115,
          -0.38386304887850126,
          -1.0559312901442477,
          1.477786415541574,
          -0.8874523338969589,
          0.05986850818355528,
          -1.4419205278408251,
          1.2693587674606999,
          -0.16826747808312903,
          0.7558397102656929,
          -0.04481720578448385,
          0.12303505012631975,
          0.1151332956318505
         ],
         "xaxis": "x2",
         "y": [
          -1.344681348367679,
          -0.25990777378562724,
          0.615954219350596,
          -0.3257161686937772,
          -1.1045124407249927,
          0.9518151688580743,
          -0.4414378956070553,
          0.23744357912241404,
          0.565882233802471,
          -1.4537368232448615,
          -0.3928064280712824,
          -0.5403655950553611,
          1.5032156945366153,
          -1.2813707408278914,
          0.3790274581122027,
          0.8030625060619568,
          0.5778619862717127,
          0.8821066931085245,
          1.6011202145953622,
          0.1494411676678207,
          -1.2175021564890365,
          -0.29325724113695045,
          -2.1132575093678168,
          -0.9418299903447851,
          -0.09413179117591249,
          -0.2212747045116899,
          0.7746388970054674,
          -0.8135424045456192,
          0.12425271139672092,
          -1.7624704443807377,
          -0.43129804068089106,
          -0.20701415863099415,
          0.1362581079714989,
          1.0213604292746619,
          1.4639234917681077,
          0.06314136905130897,
          -0.3384283258846109,
          -1.1690531466628162,
          0.22232591791165796,
          -0.5567602604223021,
          -0.23226829270222443,
          0.07840895108426076,
          1.1997614062549575,
          -0.061344339620039934,
          -0.39606237695467916,
          0.03725642793693573,
          1.2294394862034583,
          -1.7313239545247834,
          -0.7441425575409852,
          -0.7939011286891274,
          -0.04435819607299003,
          0.2152874644731718,
          -2.0602841032029353,
          0.5644320334268482,
          -1.659620457878419,
          0.4784268388998683,
          0.33245834317874495,
          1.3878741299306154,
          0.29292368114595657,
          1.0201915408457543,
          0.03445988614890572,
          0.345844164372107,
          0.8119328705027892,
          -0.4839815041109739,
          1.3833821707367373,
          0.3752824641912273,
          1.3529053280861845,
          0.7265165967816627,
          0.6486102939924626,
          0.045696646528161626,
          1.2169441234170144,
          1.2929966807127653,
          -0.33525951367360135,
          -0.38718286815465025,
          -0.8582896302412307,
          -1.2505385219437037,
          -1.0501771108401305,
          -0.5929062873971976,
          0.2823591333624237,
          0.6458494902237761,
          1.1087442383410073,
          -0.6843307181221185,
          -1.0429217420576782,
          -0.4615367754647887,
          -0.11068167099797399,
          -0.7038412804143902,
          -0.2936115839181303,
          -1.4586237497858365,
          1.1691072424789413,
          0.5852293860683341,
          -1.1572138935089535,
          -1.0601488924464997,
          -0.1955550192748439,
          -0.9876856722615701,
          -0.9680653493598178,
          0.17596996056280834,
          -0.5849896655419029,
          -0.14671716039599272,
          0.7243684341273524,
          0.11233490876531009
         ],
         "yaxis": "y2"
        },
        {
         "line": {
          "color": "rgba(128, 128, 128, 1.0)",
          "dash": "solid",
          "shape": "linear",
          "width": 1.3
         },
         "marker": {
          "size": 2,
          "symbol": "circle"
         },
         "mode": "markers",
         "name": "A",
         "text": "",
         "type": "scatter",
         "x": [
          -0.004602126376671534,
          0.7906478443511011,
          -0.035907055804841416,
          0.6162073812205189,
          -0.15411786141920017,
          1.0432325764890658,
          0.15875089933699738,
          1.0485903404209278,
          1.3584688101500115,
          -0.18568863866363708,
          1.024429069478142,
          0.03508335587091298,
          0.12680148268351565,
          -0.8381025346208154,
          1.6509853528724419,
          -2.610416885100769,
          0.1911872787595519,
          -0.7307750804771178,
          -0.5047936592518879,
          0.5076199743661762,
          -1.10909545136408,
          -0.707829744050525,
          -0.8166326868067334,
          0.7389768468667057,
          0.5341624279288895,
          -0.35574788492921,
          -0.5091770344246631,
          0.06883626868889432,
          -0.3219552863613442,
          -1.8424635663226514,
          0.705487546787549,
          0.3839234179789261,
          -1.722276908165648,
          1.1775778569296815,
          -0.2317496548327862,
          -2.0089607177490874,
          -0.3013666179623187,
          0.17486062905347513,
          -1.7600340542851998,
          0.45900617777975394,
          -1.440096654501015,
          0.425913569227976,
          -1.0277964739925105,
          -1.1191267067330761,
          -0.7001824962208916,
          -0.1267048764023624,
          -1.2017618350835702,
          0.07055781999006643,
          1.0347918650088845,
          -0.6745460377394736,
          -1.1730293777437337,
          -0.8961721931428671,
          -1.5149779998004103,
          0.9532291580822488,
          -0.6090837124882493,
          0.3227411219291712,
          -0.7102963110757138,
          0.9685976917922305,
          -1.6273564555122586,
          -0.26997632232261687,
          0.4664305003984084,
          -1.7148980989186615,
          -2.085838693728071,
          -0.47981762591576077,
          -1.4309049091324033,
          1.0607521681543464,
          -0.6815143040753355,
          0.6645812603974416,
          0.9860810645643229,
          0.2563569447942735,
          -2.1423037111768606,
          -1.0732088115948388,
          0.7108485369044182,
          -0.8731263881570848,
          0.5153511281340232,
          -1.3326420229312512,
          0.6345748561404732,
          0.6747922312219352,
          0.9220435111487199,
          0.8145414998684721,
          1.4494024251322482,
          -0.4046105499541477,
          0.9709078148000081,
          0.4560123319181205,
          -1.1688834854598367,
          -1.2339339772171016,
          -0.6403237776679068,
          1.6006853725989272,
          2.142474940540785,
          0.8456718040154797,
          -1.297547299398099,
          -1.7842878023837354,
          0.3158782098881666,
          0.733343427543188,
          -0.6303723424382413,
          0.6706642674342359,
          -0.2017611276899,
          -0.9683908013715276,
          0.15720943472838078,
          -1.050330114936557
         ],
         "xaxis": "x3",
         "y": [
          -1.344681348367679,
          -0.25990777378562724,
          0.615954219350596,
          -0.3257161686937772,
          -1.1045124407249927,
          0.9518151688580743,
          -0.4414378956070553,
          0.23744357912241404,
          0.565882233802471,
          -1.4537368232448615,
          -0.3928064280712824,
          -0.5403655950553611,
          1.5032156945366153,
          -1.2813707408278914,
          0.3790274581122027,
          0.8030625060619568,
          0.5778619862717127,
          0.8821066931085245,
          1.6011202145953622,
          0.1494411676678207,
          -1.2175021564890365,
          -0.29325724113695045,
          -2.1132575093678168,
          -0.9418299903447851,
          -0.09413179117591249,
          -0.2212747045116899,
          0.7746388970054674,
          -0.8135424045456192,
          0.12425271139672092,
          -1.7624704443807377,
          -0.43129804068089106,
          -0.20701415863099415,
          0.1362581079714989,
          1.0213604292746619,
          1.4639234917681077,
          0.06314136905130897,
          -0.3384283258846109,
          -1.1690531466628162,
          0.22232591791165796,
          -0.5567602604223021,
          -0.23226829270222443,
          0.07840895108426076,
          1.1997614062549575,
          -0.061344339620039934,
          -0.39606237695467916,
          0.03725642793693573,
          1.2294394862034583,
          -1.7313239545247834,
          -0.7441425575409852,
          -0.7939011286891274,
          -0.04435819607299003,
          0.2152874644731718,
          -2.0602841032029353,
          0.5644320334268482,
          -1.659620457878419,
          0.4784268388998683,
          0.33245834317874495,
          1.3878741299306154,
          0.29292368114595657,
          1.0201915408457543,
          0.03445988614890572,
          0.345844164372107,
          0.8119328705027892,
          -0.4839815041109739,
          1.3833821707367373,
          0.3752824641912273,
          1.3529053280861845,
          0.7265165967816627,
          0.6486102939924626,
          0.045696646528161626,
          1.2169441234170144,
          1.2929966807127653,
          -0.33525951367360135,
          -0.38718286815465025,
          -0.8582896302412307,
          -1.2505385219437037,
          -1.0501771108401305,
          -0.5929062873971976,
          0.2823591333624237,
          0.6458494902237761,
          1.1087442383410073,
          -0.6843307181221185,
          -1.0429217420576782,
          -0.4615367754647887,
          -0.11068167099797399,
          -0.7038412804143902,
          -0.2936115839181303,
          -1.4586237497858365,
          1.1691072424789413,
          0.5852293860683341,
          -1.1572138935089535,
          -1.0601488924464997,
          -0.1955550192748439,
          -0.9876856722615701,
          -0.9680653493598178,
          0.17596996056280834,
          -0.5849896655419029,
          -0.14671716039599272,
          0.7243684341273524,
          0.11233490876531009
         ],
         "yaxis": "y3"
        },
        {
         "line": {
          "color": "rgba(128, 128, 128, 1.0)",
          "dash": "solid",
          "shape": "linear",
          "width": 1.3
         },
         "marker": {
          "size": 2,
          "symbol": "circle"
         },
         "mode": "markers",
         "name": "A",
         "text": "",
         "type": "scatter",
         "x": [
          -1.019845215214495,
          0.9877365302007481,
          -0.0002414153394359693,
          -0.3009501718907436,
          0.1528442192960556,
          1.7890215572223451,
          -0.3454828690527688,
          -0.7593304970099077,
          -0.2775213687255191,
          -0.47532516608440006,
          -0.9407390147047427,
          -1.0174709109479707,
          -1.5410786576195166,
          1.9010489460488615,
          1.1669329183116255,
          0.4698063482772931,
          0.6334745645586914,
          0.7395872832006877,
          1.2240932267865363,
          0.28419099859882874,
          -0.38261827168055274,
          -1.5730169000129444,
          -0.7944902925941919,
          -0.2528416989339552,
          0.02980206847738622,
          -0.422520505014938,
          0.7580509845907341,
          0.6295685319924799,
          0.531485957750703,
          0.9878349474892661,
          1.3805586170671806,
          -0.12134514520015137,
          -0.5134730868306024,
          -0.942085599306493,
          -0.8881506155594552,
          0.4380161427336133,
          -0.4193809036577704,
          0.16270549763488104,
          0.2949415737555115,
          -1.8002092129017204,
          1.0325806898691992,
          0.00670669274356046,
          -0.9302179219499509,
          -0.13934945945801333,
          0.8072901555704782,
          0.6953197102896636,
          -0.06345113597472722,
          0.1705548052314656,
          1.5922627470855404,
          0.27453688113298574,
          2.2978586259985168,
          0.8046195688779062,
          -1.2925537502223432,
          -0.08416500059625354,
          -0.282181149795798,
          -1.0964464318109248,
          0.5751885156977874,
          -0.7090710518256257,
          -2.3148965073348706,
          1.0734728539838683,
          -0.9651651899106336,
          -0.7988245009921736,
          -1.3406970075836449,
          0.3404527867871523,
          0.9651042611806991,
          0.336691888685937,
          -0.20854625034952354,
          -0.13576762613536608,
          -1.0655860987956474,
          -0.7184186018795983,
          0.8931288460174328,
          0.21132906888006356,
          -0.826753661948601,
          -0.6415012829267738,
          0.3163592292991244,
          0.05455705196080712,
          0.3185440413231679,
          -0.2920006159839012,
          -0.5405940340260305,
          -0.2698694977749048,
          0.5135443132670185,
          -0.1493646484760646,
          -1.4159736412253023,
          -3.396788844648568,
          0.6305244952795435,
          0.5389014723629197,
          0.17390008991304848,
          0.48318593385141073,
          -0.6581825518735038,
          0.20347503426314736,
          0.521692767296515,
          -0.4220964590807706,
          1.0860742448184495,
          2.2496905794227464,
          0.7415155182863553,
          2.107259003062655,
          0.646663661925784,
          -0.32273258499387286,
          -1.274840474845461,
          -1.4040423165244331
         ],
         "xaxis": "x4",
         "y": [
          -1.344681348367679,
          -0.25990777378562724,
          0.615954219350596,
          -0.3257161686937772,
          -1.1045124407249927,
          0.9518151688580743,
          -0.4414378956070553,
          0.23744357912241404,
          0.565882233802471,
          -1.4537368232448615,
          -0.3928064280712824,
          -0.5403655950553611,
          1.5032156945366153,
          -1.2813707408278914,
          0.3790274581122027,
          0.8030625060619568,
          0.5778619862717127,
          0.8821066931085245,
          1.6011202145953622,
          0.1494411676678207,
          -1.2175021564890365,
          -0.29325724113695045,
          -2.1132575093678168,
          -0.9418299903447851,
          -0.09413179117591249,
          -0.2212747045116899,
          0.7746388970054674,
          -0.8135424045456192,
          0.12425271139672092,
          -1.7624704443807377,
          -0.43129804068089106,
          -0.20701415863099415,
          0.1362581079714989,
          1.0213604292746619,
          1.4639234917681077,
          0.06314136905130897,
          -0.3384283258846109,
          -1.1690531466628162,
          0.22232591791165796,
          -0.5567602604223021,
          -0.23226829270222443,
          0.07840895108426076,
          1.1997614062549575,
          -0.061344339620039934,
          -0.39606237695467916,
          0.03725642793693573,
          1.2294394862034583,
          -1.7313239545247834,
          -0.7441425575409852,
          -0.7939011286891274,
          -0.04435819607299003,
          0.2152874644731718,
          -2.0602841032029353,
          0.5644320334268482,
          -1.659620457878419,
          0.4784268388998683,
          0.33245834317874495,
          1.3878741299306154,
          0.29292368114595657,
          1.0201915408457543,
          0.03445988614890572,
          0.345844164372107,
          0.8119328705027892,
          -0.4839815041109739,
          1.3833821707367373,
          0.3752824641912273,
          1.3529053280861845,
          0.7265165967816627,
          0.6486102939924626,
          0.045696646528161626,
          1.2169441234170144,
          1.2929966807127653,
          -0.33525951367360135,
          -0.38718286815465025,
          -0.8582896302412307,
          -1.2505385219437037,
          -1.0501771108401305,
          -0.5929062873971976,
          0.2823591333624237,
          0.6458494902237761,
          1.1087442383410073,
          -0.6843307181221185,
          -1.0429217420576782,
          -0.4615367754647887,
          -0.11068167099797399,
          -0.7038412804143902,
          -0.2936115839181303,
          -1.4586237497858365,
          1.1691072424789413,
          0.5852293860683341,
          -1.1572138935089535,
          -1.0601488924464997,
          -0.1955550192748439,
          -0.9876856722615701,
          -0.9680653493598178,
          0.17596996056280834,
          -0.5849896655419029,
          -0.14671716039599272,
          0.7243684341273524,
          0.11233490876531009
         ],
         "yaxis": "y4"
        },
        {
         "line": {
          "color": "rgba(128, 128, 128, 1.0)",
          "dash": "solid",
          "shape": "linear",
          "width": 1.3
         },
         "marker": {
          "size": 2,
          "symbol": "circle"
         },
         "mode": "markers",
         "name": "B",
         "text": "",
         "type": "scatter",
         "x": [
          -1.344681348367679,
          -0.25990777378562724,
          0.615954219350596,
          -0.3257161686937772,
          -1.1045124407249927,
          0.9518151688580743,
          -0.4414378956070553,
          0.23744357912241404,
          0.565882233802471,
          -1.4537368232448615,
          -0.3928064280712824,
          -0.5403655950553611,
          1.5032156945366153,
          -1.2813707408278914,
          0.3790274581122027,
          0.8030625060619568,
          0.5778619862717127,
          0.8821066931085245,
          1.6011202145953622,
          0.1494411676678207,
          -1.2175021564890365,
          -0.29325724113695045,
          -2.1132575093678168,
          -0.9418299903447851,
          -0.09413179117591249,
          -0.2212747045116899,
          0.7746388970054674,
          -0.8135424045456192,
          0.12425271139672092,
          -1.7624704443807377,
          -0.43129804068089106,
          -0.20701415863099415,
          0.1362581079714989,
          1.0213604292746619,
          1.4639234917681077,
          0.06314136905130897,
          -0.3384283258846109,
          -1.1690531466628162,
          0.22232591791165796,
          -0.5567602604223021,
          -0.23226829270222443,
          0.07840895108426076,
          1.1997614062549575,
          -0.061344339620039934,
          -0.39606237695467916,
          0.03725642793693573,
          1.2294394862034583,
          -1.7313239545247834,
          -0.7441425575409852,
          -0.7939011286891274,
          -0.04435819607299003,
          0.2152874644731718,
          -2.0602841032029353,
          0.5644320334268482,
          -1.659620457878419,
          0.4784268388998683,
          0.33245834317874495,
          1.3878741299306154,
          0.29292368114595657,
          1.0201915408457543,
          0.03445988614890572,
          0.345844164372107,
          0.8119328705027892,
          -0.4839815041109739,
          1.3833821707367373,
          0.3752824641912273,
          1.3529053280861845,
          0.7265165967816627,
          0.6486102939924626,
          0.045696646528161626,
          1.2169441234170144,
          1.2929966807127653,
          -0.33525951367360135,
          -0.38718286815465025,
          -0.8582896302412307,
          -1.2505385219437037,
          -1.0501771108401305,
          -0.5929062873971976,
          0.2823591333624237,
          0.6458494902237761,
          1.1087442383410073,
          -0.6843307181221185,
          -1.0429217420576782,
          -0.4615367754647887,
          -0.11068167099797399,
          -0.7038412804143902,
          -0.2936115839181303,
          -1.4586237497858365,
          1.1691072424789413,
          0.5852293860683341,
          -1.1572138935089535,
          -1.0601488924464997,
          -0.1955550192748439,
          -0.9876856722615701,
          -0.9680653493598178,
          0.17596996056280834,
          -0.5849896655419029,
          -0.14671716039599272,
          0.7243684341273524,
          0.11233490876531009
         ],
         "xaxis": "x5",
         "y": [
          -0.6141524354932701,
          -0.42820766641829233,
          1.560949685067526,
          -0.016366876742454278,
          -0.201557182599476,
          0.9034252832480001,
          1.1385890108482881,
          0.4997120911452794,
          -0.6431276327177393,
          1.211243606751715,
          0.2980918040802568,
          1.6882964191964656,
          -0.9499289520197146,
          1.3777101777879859,
          1.0133737656196418,
          0.04615459993434687,
          -0.23562220624719996,
          -0.8472394318161616,
          0.9754077003636352,
          -2.029101759723629,
          -1.1458437397532513,
          0.2918229495301508,
          0.42434195105328415,
          0.25507369160860566,
          -1.3105165158007956,
          0.8056262517408992,
          2.5038411972897276,
          0.4425422857014533,
          0.6834958460784702,
          -0.8559521501021329,
          0.704226306192486,
          0.7689311364426078,
          -0.1795506562591025,
          2.478306088606201,
          -0.2542547549818018,
          -1.1130974246268486,
          -0.42565330900895,
          -0.7882386369038422,
          -0.6640291687247452,
          0.263840738476896,
          1.0077497246504774,
          1.2773429952090538,
          0.13115443067251445,
          0.8818786793607682,
          2.309893637608007,
          0.5362686094806232,
          -1.0308434428294522,
          0.6849550586723251,
          -0.3254428018017996,
          -0.21699088590695828,
          1.912387014170751,
          0.17316749761022943,
          0.28761426771826504,
          -0.23278602894871162,
          -0.963319393098557,
          -0.3489916955291253,
          0.26012760903033044,
          -0.835833333730869,
          -1.5623598399882572,
          -0.48015350615792085,
          -0.11944754740327732,
          0.026295999513213333,
          -1.6066286927087363,
          0.5199063448102765,
          0.8664172542597003,
          -1.1601858683315638,
          -0.5774002796857021,
          -1.8834974470349524,
          -0.15062404083992648,
          0.05426744786494283,
          -0.5972182687637029,
          0.35686556322641216,
          0.48590074900782715,
          -2.071759239609643,
          0.7618499638282232,
          0.7723607083493977,
          -0.7630381986102769,
          0.7214067351798614,
          -0.6321096643468237,
          0.9400889761716075,
          -0.40196691099382936,
          0.5046896317639424,
          -0.7693827819522933,
          1.9337472141346586,
          1.59623155576546,
          -0.19753941417329646,
          1.3088444111805233,
          0.33406737873388115,
          -0.38386304887850126,
          -1.0559312901442477,
          1.477786415541574,
          -0.8874523338969589,
          0.05986850818355528,
          -1.4419205278408251,
          1.2693587674606999,
          -0.16826747808312903,
          0.7558397102656929,
          -0.04481720578448385,
          0.12303505012631975,
          0.1151332956318505
         ],
         "yaxis": "y5"
        },
        {
         "histfunc": "count",
         "histnorm": "",
         "marker": {
          "color": "rgba(55, 128, 191, 1.0)",
          "line": {
           "color": "#4D5663",
           "width": 1.3
          }
         },
         "name": "B",
         "nbinsx": 10,
         "opacity": 0.8,
         "orientation": "v",
         "type": "histogram",
         "x": [
          -0.6141524354932701,
          -0.42820766641829233,
          1.560949685067526,
          -0.016366876742454278,
          -0.201557182599476,
          0.9034252832480001,
          1.1385890108482881,
          0.4997120911452794,
          -0.6431276327177393,
          1.211243606751715,
          0.2980918040802568,
          1.6882964191964656,
          -0.9499289520197146,
          1.3777101777879859,
          1.0133737656196418,
          0.04615459993434687,
          -0.23562220624719996,
          -0.8472394318161616,
          0.9754077003636352,
          -2.029101759723629,
          -1.1458437397532513,
          0.2918229495301508,
          0.42434195105328415,
          0.25507369160860566,
          -1.3105165158007956,
          0.8056262517408992,
          2.5038411972897276,
          0.4425422857014533,
          0.6834958460784702,
          -0.8559521501021329,
          0.704226306192486,
          0.7689311364426078,
          -0.1795506562591025,
          2.478306088606201,
          -0.2542547549818018,
          -1.1130974246268486,
          -0.42565330900895,
          -0.7882386369038422,
          -0.6640291687247452,
          0.263840738476896,
          1.0077497246504774,
          1.2773429952090538,
          0.13115443067251445,
          0.8818786793607682,
          2.309893637608007,
          0.5362686094806232,
          -1.0308434428294522,
          0.6849550586723251,
          -0.3254428018017996,
          -0.21699088590695828,
          1.912387014170751,
          0.17316749761022943,
          0.28761426771826504,
          -0.23278602894871162,
          -0.963319393098557,
          -0.3489916955291253,
          0.26012760903033044,
          -0.835833333730869,
          -1.5623598399882572,
          -0.48015350615792085,
          -0.11944754740327732,
          0.026295999513213333,
          -1.6066286927087363,
          0.5199063448102765,
          0.8664172542597003,
          -1.1601858683315638,
          -0.5774002796857021,
          -1.8834974470349524,
          -0.15062404083992648,
          0.05426744786494283,
          -0.5972182687637029,
          0.35686556322641216,
          0.48590074900782715,
          -2.071759239609643,
          0.7618499638282232,
          0.7723607083493977,
          -0.7630381986102769,
          0.7214067351798614,
          -0.6321096643468237,
          0.9400889761716075,
          -0.40196691099382936,
          0.5046896317639424,
          -0.7693827819522933,
          1.9337472141346586,
          1.59623155576546,
          -0.19753941417329646,
          1.3088444111805233,
          0.33406737873388115,
          -0.38386304887850126,
          -1.0559312901442477,
          1.477786415541574,
          -0.8874523338969589,
          0.05986850818355528,
          -1.4419205278408251,
          1.2693587674606999,
          -0.16826747808312903,
          0.7558397102656929,
          -0.04481720578448385,
          0.12303505012631975,
          0.1151332956318505
         ],
         "xaxis": "x6",
         "yaxis": "y6"
        },
        {
         "line": {
          "color": "rgba(128, 128, 128, 1.0)",
          "dash": "solid",
          "shape": "linear",
          "width": 1.3
         },
         "marker": {
          "size": 2,
          "symbol": "circle"
         },
         "mode": "markers",
         "name": "B",
         "text": "",
         "type": "scatter",
         "x": [
          -0.004602126376671534,
          0.7906478443511011,
          -0.035907055804841416,
          0.6162073812205189,
          -0.15411786141920017,
          1.0432325764890658,
          0.15875089933699738,
          1.0485903404209278,
          1.3584688101500115,
          -0.18568863866363708,
          1.024429069478142,
          0.03508335587091298,
          0.12680148268351565,
          -0.8381025346208154,
          1.6509853528724419,
          -2.610416885100769,
          0.1911872787595519,
          -0.7307750804771178,
          -0.5047936592518879,
          0.5076199743661762,
          -1.10909545136408,
          -0.707829744050525,
          -0.8166326868067334,
          0.7389768468667057,
          0.5341624279288895,
          -0.35574788492921,
          -0.5091770344246631,
          0.06883626868889432,
          -0.3219552863613442,
          -1.8424635663226514,
          0.705487546787549,
          0.3839234179789261,
          -1.722276908165648,
          1.1775778569296815,
          -0.2317496548327862,
          -2.0089607177490874,
          -0.3013666179623187,
          0.17486062905347513,
          -1.7600340542851998,
          0.45900617777975394,
          -1.440096654501015,
          0.425913569227976,
          -1.0277964739925105,
          -1.1191267067330761,
          -0.7001824962208916,
          -0.1267048764023624,
          -1.2017618350835702,
          0.07055781999006643,
          1.0347918650088845,
          -0.6745460377394736,
          -1.1730293777437337,
          -0.8961721931428671,
          -1.5149779998004103,
          0.9532291580822488,
          -0.6090837124882493,
          0.3227411219291712,
          -0.7102963110757138,
          0.9685976917922305,
          -1.6273564555122586,
          -0.26997632232261687,
          0.4664305003984084,
          -1.7148980989186615,
          -2.085838693728071,
          -0.47981762591576077,
          -1.4309049091324033,
          1.0607521681543464,
          -0.6815143040753355,
          0.6645812603974416,
          0.9860810645643229,
          0.2563569447942735,
          -2.1423037111768606,
          -1.0732088115948388,
          0.7108485369044182,
          -0.8731263881570848,
          0.5153511281340232,
          -1.3326420229312512,
          0.6345748561404732,
          0.6747922312219352,
          0.9220435111487199,
          0.8145414998684721,
          1.4494024251322482,
          -0.4046105499541477,
          0.9709078148000081,
          0.4560123319181205,
          -1.1688834854598367,
          -1.2339339772171016,
          -0.6403237776679068,
          1.6006853725989272,
          2.142474940540785,
          0.8456718040154797,
          -1.297547299398099,
          -1.7842878023837354,
          0.3158782098881666,
          0.733343427543188,
          -0.6303723424382413,
          0.6706642674342359,
          -0.2017611276899,
          -0.9683908013715276,
          0.15720943472838078,
          -1.050330114936557
         ],
         "xaxis": "x7",
         "y": [
          -0.6141524354932701,
          -0.42820766641829233,
          1.560949685067526,
          -0.016366876742454278,
          -0.201557182599476,
          0.9034252832480001,
          1.1385890108482881,
          0.4997120911452794,
          -0.6431276327177393,
          1.211243606751715,
          0.2980918040802568,
          1.6882964191964656,
          -0.9499289520197146,
          1.3777101777879859,
          1.0133737656196418,
          0.04615459993434687,
          -0.23562220624719996,
          -0.8472394318161616,
          0.9754077003636352,
          -2.029101759723629,
          -1.1458437397532513,
          0.2918229495301508,
          0.42434195105328415,
          0.25507369160860566,
          -1.3105165158007956,
          0.8056262517408992,
          2.5038411972897276,
          0.4425422857014533,
          0.6834958460784702,
          -0.8559521501021329,
          0.704226306192486,
          0.7689311364426078,
          -0.1795506562591025,
          2.478306088606201,
          -0.2542547549818018,
          -1.1130974246268486,
          -0.42565330900895,
          -0.7882386369038422,
          -0.6640291687247452,
          0.263840738476896,
          1.0077497246504774,
          1.2773429952090538,
          0.13115443067251445,
          0.8818786793607682,
          2.309893637608007,
          0.5362686094806232,
          -1.0308434428294522,
          0.6849550586723251,
          -0.3254428018017996,
          -0.21699088590695828,
          1.912387014170751,
          0.17316749761022943,
          0.28761426771826504,
          -0.23278602894871162,
          -0.963319393098557,
          -0.3489916955291253,
          0.26012760903033044,
          -0.835833333730869,
          -1.5623598399882572,
          -0.48015350615792085,
          -0.11944754740327732,
          0.026295999513213333,
          -1.6066286927087363,
          0.5199063448102765,
          0.8664172542597003,
          -1.1601858683315638,
          -0.5774002796857021,
          -1.8834974470349524,
          -0.15062404083992648,
          0.05426744786494283,
          -0.5972182687637029,
          0.35686556322641216,
          0.48590074900782715,
          -2.071759239609643,
          0.7618499638282232,
          0.7723607083493977,
          -0.7630381986102769,
          0.7214067351798614,
          -0.6321096643468237,
          0.9400889761716075,
          -0.40196691099382936,
          0.5046896317639424,
          -0.7693827819522933,
          1.9337472141346586,
          1.59623155576546,
          -0.19753941417329646,
          1.3088444111805233,
          0.33406737873388115,
          -0.38386304887850126,
          -1.0559312901442477,
          1.477786415541574,
          -0.8874523338969589,
          0.05986850818355528,
          -1.4419205278408251,
          1.2693587674606999,
          -0.16826747808312903,
          0.7558397102656929,
          -0.04481720578448385,
          0.12303505012631975,
          0.1151332956318505
         ],
         "yaxis": "y7"
        },
        {
         "line": {
          "color": "rgba(128, 128, 128, 1.0)",
          "dash": "solid",
          "shape": "linear",
          "width": 1.3
         },
         "marker": {
          "size": 2,
          "symbol": "circle"
         },
         "mode": "markers",
         "name": "B",
         "text": "",
         "type": "scatter",
         "x": [
          -1.019845215214495,
          0.9877365302007481,
          -0.0002414153394359693,
          -0.3009501718907436,
          0.1528442192960556,
          1.7890215572223451,
          -0.3454828690527688,
          -0.7593304970099077,
          -0.2775213687255191,
          -0.47532516608440006,
          -0.9407390147047427,
          -1.0174709109479707,
          -1.5410786576195166,
          1.9010489460488615,
          1.1669329183116255,
          0.4698063482772931,
          0.6334745645586914,
          0.7395872832006877,
          1.2240932267865363,
          0.28419099859882874,
          -0.38261827168055274,
          -1.5730169000129444,
          -0.7944902925941919,
          -0.2528416989339552,
          0.02980206847738622,
          -0.422520505014938,
          0.7580509845907341,
          0.6295685319924799,
          0.531485957750703,
          0.9878349474892661,
          1.3805586170671806,
          -0.12134514520015137,
          -0.5134730868306024,
          -0.942085599306493,
          -0.8881506155594552,
          0.4380161427336133,
          -0.4193809036577704,
          0.16270549763488104,
          0.2949415737555115,
          -1.8002092129017204,
          1.0325806898691992,
          0.00670669274356046,
          -0.9302179219499509,
          -0.13934945945801333,
          0.8072901555704782,
          0.6953197102896636,
          -0.06345113597472722,
          0.1705548052314656,
          1.5922627470855404,
          0.27453688113298574,
          2.2978586259985168,
          0.8046195688779062,
          -1.2925537502223432,
          -0.08416500059625354,
          -0.282181149795798,
          -1.0964464318109248,
          0.5751885156977874,
          -0.7090710518256257,
          -2.3148965073348706,
          1.0734728539838683,
          -0.9651651899106336,
          -0.7988245009921736,
          -1.3406970075836449,
          0.3404527867871523,
          0.9651042611806991,
          0.336691888685937,
          -0.20854625034952354,
          -0.13576762613536608,
          -1.0655860987956474,
          -0.7184186018795983,
          0.8931288460174328,
          0.21132906888006356,
          -0.826753661948601,
          -0.6415012829267738,
          0.3163592292991244,
          0.05455705196080712,
          0.3185440413231679,
          -0.2920006159839012,
          -0.5405940340260305,
          -0.2698694977749048,
          0.5135443132670185,
          -0.1493646484760646,
          -1.4159736412253023,
          -3.396788844648568,
          0.6305244952795435,
          0.5389014723629197,
          0.17390008991304848,
          0.48318593385141073,
          -0.6581825518735038,
          0.20347503426314736,
          0.521692767296515,
          -0.4220964590807706,
          1.0860742448184495,
          2.2496905794227464,
          0.7415155182863553,
          2.107259003062655,
          0.646663661925784,
          -0.32273258499387286,
          -1.274840474845461,
          -1.4040423165244331
         ],
         "xaxis": "x8",
         "y": [
          -0.6141524354932701,
          -0.42820766641829233,
          1.560949685067526,
          -0.016366876742454278,
          -0.201557182599476,
          0.9034252832480001,
          1.1385890108482881,
          0.4997120911452794,
          -0.6431276327177393,
          1.211243606751715,
          0.2980918040802568,
          1.6882964191964656,
          -0.9499289520197146,
          1.3777101777879859,
          1.0133737656196418,
          0.04615459993434687,
          -0.23562220624719996,
          -0.8472394318161616,
          0.9754077003636352,
          -2.029101759723629,
          -1.1458437397532513,
          0.2918229495301508,
          0.42434195105328415,
          0.25507369160860566,
          -1.3105165158007956,
          0.8056262517408992,
          2.5038411972897276,
          0.4425422857014533,
          0.6834958460784702,
          -0.8559521501021329,
          0.704226306192486,
          0.7689311364426078,
          -0.1795506562591025,
          2.478306088606201,
          -0.2542547549818018,
          -1.1130974246268486,
          -0.42565330900895,
          -0.7882386369038422,
          -0.6640291687247452,
          0.263840738476896,
          1.0077497246504774,
          1.2773429952090538,
          0.13115443067251445,
          0.8818786793607682,
          2.309893637608007,
          0.5362686094806232,
          -1.0308434428294522,
          0.6849550586723251,
          -0.3254428018017996,
          -0.21699088590695828,
          1.912387014170751,
          0.17316749761022943,
          0.28761426771826504,
          -0.23278602894871162,
          -0.963319393098557,
          -0.3489916955291253,
          0.26012760903033044,
          -0.835833333730869,
          -1.5623598399882572,
          -0.48015350615792085,
          -0.11944754740327732,
          0.026295999513213333,
          -1.6066286927087363,
          0.5199063448102765,
          0.8664172542597003,
          -1.1601858683315638,
          -0.5774002796857021,
          -1.8834974470349524,
          -0.15062404083992648,
          0.05426744786494283,
          -0.5972182687637029,
          0.35686556322641216,
          0.48590074900782715,
          -2.071759239609643,
          0.7618499638282232,
          0.7723607083493977,
          -0.7630381986102769,
          0.7214067351798614,
          -0.6321096643468237,
          0.9400889761716075,
          -0.40196691099382936,
          0.5046896317639424,
          -0.7693827819522933,
          1.9337472141346586,
          1.59623155576546,
          -0.19753941417329646,
          1.3088444111805233,
          0.33406737873388115,
          -0.38386304887850126,
          -1.0559312901442477,
          1.477786415541574,
          -0.8874523338969589,
          0.05986850818355528,
          -1.4419205278408251,
          1.2693587674606999,
          -0.16826747808312903,
          0.7558397102656929,
          -0.04481720578448385,
          0.12303505012631975,
          0.1151332956318505
         ],
         "yaxis": "y8"
        },
        {
         "line": {
          "color": "rgba(128, 128, 128, 1.0)",
          "dash": "solid",
          "shape": "linear",
          "width": 1.3
         },
         "marker": {
          "size": 2,
          "symbol": "circle"
         },
         "mode": "markers",
         "name": "C",
         "text": "",
         "type": "scatter",
         "x": [
          -1.344681348367679,
          -0.25990777378562724,
          0.615954219350596,
          -0.3257161686937772,
          -1.1045124407249927,
          0.9518151688580743,
          -0.4414378956070553,
          0.23744357912241404,
          0.565882233802471,
          -1.4537368232448615,
          -0.3928064280712824,
          -0.5403655950553611,
          1.5032156945366153,
          -1.2813707408278914,
          0.3790274581122027,
          0.8030625060619568,
          0.5778619862717127,
          0.8821066931085245,
          1.6011202145953622,
          0.1494411676678207,
          -1.2175021564890365,
          -0.29325724113695045,
          -2.1132575093678168,
          -0.9418299903447851,
          -0.09413179117591249,
          -0.2212747045116899,
          0.7746388970054674,
          -0.8135424045456192,
          0.12425271139672092,
          -1.7624704443807377,
          -0.43129804068089106,
          -0.20701415863099415,
          0.1362581079714989,
          1.0213604292746619,
          1.4639234917681077,
          0.06314136905130897,
          -0.3384283258846109,
          -1.1690531466628162,
          0.22232591791165796,
          -0.5567602604223021,
          -0.23226829270222443,
          0.07840895108426076,
          1.1997614062549575,
          -0.061344339620039934,
          -0.39606237695467916,
          0.03725642793693573,
          1.2294394862034583,
          -1.7313239545247834,
          -0.7441425575409852,
          -0.7939011286891274,
          -0.04435819607299003,
          0.2152874644731718,
          -2.0602841032029353,
          0.5644320334268482,
          -1.659620457878419,
          0.4784268388998683,
          0.33245834317874495,
          1.3878741299306154,
          0.29292368114595657,
          1.0201915408457543,
          0.03445988614890572,
          0.345844164372107,
          0.8119328705027892,
          -0.4839815041109739,
          1.3833821707367373,
          0.3752824641912273,
          1.3529053280861845,
          0.7265165967816627,
          0.6486102939924626,
          0.045696646528161626,
          1.2169441234170144,
          1.2929966807127653,
          -0.33525951367360135,
          -0.38718286815465025,
          -0.8582896302412307,
          -1.2505385219437037,
          -1.0501771108401305,
          -0.5929062873971976,
          0.2823591333624237,
          0.6458494902237761,
          1.1087442383410073,
          -0.6843307181221185,
          -1.0429217420576782,
          -0.4615367754647887,
          -0.11068167099797399,
          -0.7038412804143902,
          -0.2936115839181303,
          -1.4586237497858365,
          1.1691072424789413,
          0.5852293860683341,
          -1.1572138935089535,
          -1.0601488924464997,
          -0.1955550192748439,
          -0.9876856722615701,
          -0.9680653493598178,
          0.17596996056280834,
          -0.5849896655419029,
          -0.14671716039599272,
          0.7243684341273524,
          0.11233490876531009
         ],
         "xaxis": "x9",
         "y": [
          -0.004602126376671534,
          0.7906478443511011,
          -0.035907055804841416,
          0.6162073812205189,
          -0.15411786141920017,
          1.0432325764890658,
          0.15875089933699738,
          1.0485903404209278,
          1.3584688101500115,
          -0.18568863866363708,
          1.024429069478142,
          0.03508335587091298,
          0.12680148268351565,
          -0.8381025346208154,
          1.6509853528724419,
          -2.610416885100769,
          0.1911872787595519,
          -0.7307750804771178,
          -0.5047936592518879,
          0.5076199743661762,
          -1.10909545136408,
          -0.707829744050525,
          -0.8166326868067334,
          0.7389768468667057,
          0.5341624279288895,
          -0.35574788492921,
          -0.5091770344246631,
          0.06883626868889432,
          -0.3219552863613442,
          -1.8424635663226514,
          0.705487546787549,
          0.3839234179789261,
          -1.722276908165648,
          1.1775778569296815,
          -0.2317496548327862,
          -2.0089607177490874,
          -0.3013666179623187,
          0.17486062905347513,
          -1.7600340542851998,
          0.45900617777975394,
          -1.440096654501015,
          0.425913569227976,
          -1.0277964739925105,
          -1.1191267067330761,
          -0.7001824962208916,
          -0.1267048764023624,
          -1.2017618350835702,
          0.07055781999006643,
          1.0347918650088845,
          -0.6745460377394736,
          -1.1730293777437337,
          -0.8961721931428671,
          -1.5149779998004103,
          0.9532291580822488,
          -0.6090837124882493,
          0.3227411219291712,
          -0.7102963110757138,
          0.9685976917922305,
          -1.6273564555122586,
          -0.26997632232261687,
          0.4664305003984084,
          -1.7148980989186615,
          -2.085838693728071,
          -0.47981762591576077,
          -1.4309049091324033,
          1.0607521681543464,
          -0.6815143040753355,
          0.6645812603974416,
          0.9860810645643229,
          0.2563569447942735,
          -2.1423037111768606,
          -1.0732088115948388,
          0.7108485369044182,
          -0.8731263881570848,
          0.5153511281340232,
          -1.3326420229312512,
          0.6345748561404732,
          0.6747922312219352,
          0.9220435111487199,
          0.8145414998684721,
          1.4494024251322482,
          -0.4046105499541477,
          0.9709078148000081,
          0.4560123319181205,
          -1.1688834854598367,
          -1.2339339772171016,
          -0.6403237776679068,
          1.6006853725989272,
          2.142474940540785,
          0.8456718040154797,
          -1.297547299398099,
          -1.7842878023837354,
          0.3158782098881666,
          0.733343427543188,
          -0.6303723424382413,
          0.6706642674342359,
          -0.2017611276899,
          -0.9683908013715276,
          0.15720943472838078,
          -1.050330114936557
         ],
         "yaxis": "y9"
        },
        {
         "line": {
          "color": "rgba(128, 128, 128, 1.0)",
          "dash": "solid",
          "shape": "linear",
          "width": 1.3
         },
         "marker": {
          "size": 2,
          "symbol": "circle"
         },
         "mode": "markers",
         "name": "C",
         "text": "",
         "type": "scatter",
         "x": [
          -0.6141524354932701,
          -0.42820766641829233,
          1.560949685067526,
          -0.016366876742454278,
          -0.201557182599476,
          0.9034252832480001,
          1.1385890108482881,
          0.4997120911452794,
          -0.6431276327177393,
          1.211243606751715,
          0.2980918040802568,
          1.6882964191964656,
          -0.9499289520197146,
          1.3777101777879859,
          1.0133737656196418,
          0.04615459993434687,
          -0.23562220624719996,
          -0.8472394318161616,
          0.9754077003636352,
          -2.029101759723629,
          -1.1458437397532513,
          0.2918229495301508,
          0.42434195105328415,
          0.25507369160860566,
          -1.3105165158007956,
          0.8056262517408992,
          2.5038411972897276,
          0.4425422857014533,
          0.6834958460784702,
          -0.8559521501021329,
          0.704226306192486,
          0.7689311364426078,
          -0.1795506562591025,
          2.478306088606201,
          -0.2542547549818018,
          -1.1130974246268486,
          -0.42565330900895,
          -0.7882386369038422,
          -0.6640291687247452,
          0.263840738476896,
          1.0077497246504774,
          1.2773429952090538,
          0.13115443067251445,
          0.8818786793607682,
          2.309893637608007,
          0.5362686094806232,
          -1.0308434428294522,
          0.6849550586723251,
          -0.3254428018017996,
          -0.21699088590695828,
          1.912387014170751,
          0.17316749761022943,
          0.28761426771826504,
          -0.23278602894871162,
          -0.963319393098557,
          -0.3489916955291253,
          0.26012760903033044,
          -0.835833333730869,
          -1.5623598399882572,
          -0.48015350615792085,
          -0.11944754740327732,
          0.026295999513213333,
          -1.6066286927087363,
          0.5199063448102765,
          0.8664172542597003,
          -1.1601858683315638,
          -0.5774002796857021,
          -1.8834974470349524,
          -0.15062404083992648,
          0.05426744786494283,
          -0.5972182687637029,
          0.35686556322641216,
          0.48590074900782715,
          -2.071759239609643,
          0.7618499638282232,
          0.7723607083493977,
          -0.7630381986102769,
          0.7214067351798614,
          -0.6321096643468237,
          0.9400889761716075,
          -0.40196691099382936,
          0.5046896317639424,
          -0.7693827819522933,
          1.9337472141346586,
          1.59623155576546,
          -0.19753941417329646,
          1.3088444111805233,
          0.33406737873388115,
          -0.38386304887850126,
          -1.0559312901442477,
          1.477786415541574,
          -0.8874523338969589,
          0.05986850818355528,
          -1.4419205278408251,
          1.2693587674606999,
          -0.16826747808312903,
          0.7558397102656929,
          -0.04481720578448385,
          0.12303505012631975,
          0.1151332956318505
         ],
         "xaxis": "x10",
         "y": [
          -0.004602126376671534,
          0.7906478443511011,
          -0.035907055804841416,
          0.6162073812205189,
          -0.15411786141920017,
          1.0432325764890658,
          0.15875089933699738,
          1.0485903404209278,
          1.3584688101500115,
          -0.18568863866363708,
          1.024429069478142,
          0.03508335587091298,
          0.12680148268351565,
          -0.8381025346208154,
          1.6509853528724419,
          -2.610416885100769,
          0.1911872787595519,
          -0.7307750804771178,
          -0.5047936592518879,
          0.5076199743661762,
          -1.10909545136408,
          -0.707829744050525,
          -0.8166326868067334,
          0.7389768468667057,
          0.5341624279288895,
          -0.35574788492921,
          -0.5091770344246631,
          0.06883626868889432,
          -0.3219552863613442,
          -1.8424635663226514,
          0.705487546787549,
          0.3839234179789261,
          -1.722276908165648,
          1.1775778569296815,
          -0.2317496548327862,
          -2.0089607177490874,
          -0.3013666179623187,
          0.17486062905347513,
          -1.7600340542851998,
          0.45900617777975394,
          -1.440096654501015,
          0.425913569227976,
          -1.0277964739925105,
          -1.1191267067330761,
          -0.7001824962208916,
          -0.1267048764023624,
          -1.2017618350835702,
          0.07055781999006643,
          1.0347918650088845,
          -0.6745460377394736,
          -1.1730293777437337,
          -0.8961721931428671,
          -1.5149779998004103,
          0.9532291580822488,
          -0.6090837124882493,
          0.3227411219291712,
          -0.7102963110757138,
          0.9685976917922305,
          -1.6273564555122586,
          -0.26997632232261687,
          0.4664305003984084,
          -1.7148980989186615,
          -2.085838693728071,
          -0.47981762591576077,
          -1.4309049091324033,
          1.0607521681543464,
          -0.6815143040753355,
          0.6645812603974416,
          0.9860810645643229,
          0.2563569447942735,
          -2.1423037111768606,
          -1.0732088115948388,
          0.7108485369044182,
          -0.8731263881570848,
          0.5153511281340232,
          -1.3326420229312512,
          0.6345748561404732,
          0.6747922312219352,
          0.9220435111487199,
          0.8145414998684721,
          1.4494024251322482,
          -0.4046105499541477,
          0.9709078148000081,
          0.4560123319181205,
          -1.1688834854598367,
          -1.2339339772171016,
          -0.6403237776679068,
          1.6006853725989272,
          2.142474940540785,
          0.8456718040154797,
          -1.297547299398099,
          -1.7842878023837354,
          0.3158782098881666,
          0.733343427543188,
          -0.6303723424382413,
          0.6706642674342359,
          -0.2017611276899,
          -0.9683908013715276,
          0.15720943472838078,
          -1.050330114936557
         ],
         "yaxis": "y10"
        },
        {
         "histfunc": "count",
         "histnorm": "",
         "marker": {
          "color": "rgba(50, 171, 96, 1.0)",
          "line": {
           "color": "#4D5663",
           "width": 1.3
          }
         },
         "name": "C",
         "nbinsx": 10,
         "opacity": 0.8,
         "orientation": "v",
         "type": "histogram",
         "x": [
          -0.004602126376671534,
          0.7906478443511011,
          -0.035907055804841416,
          0.6162073812205189,
          -0.15411786141920017,
          1.0432325764890658,
          0.15875089933699738,
          1.0485903404209278,
          1.3584688101500115,
          -0.18568863866363708,
          1.024429069478142,
          0.03508335587091298,
          0.12680148268351565,
          -0.8381025346208154,
          1.6509853528724419,
          -2.610416885100769,
          0.1911872787595519,
          -0.7307750804771178,
          -0.5047936592518879,
          0.5076199743661762,
          -1.10909545136408,
          -0.707829744050525,
          -0.8166326868067334,
          0.7389768468667057,
          0.5341624279288895,
          -0.35574788492921,
          -0.5091770344246631,
          0.06883626868889432,
          -0.3219552863613442,
          -1.8424635663226514,
          0.705487546787549,
          0.3839234179789261,
          -1.722276908165648,
          1.1775778569296815,
          -0.2317496548327862,
          -2.0089607177490874,
          -0.3013666179623187,
          0.17486062905347513,
          -1.7600340542851998,
          0.45900617777975394,
          -1.440096654501015,
          0.425913569227976,
          -1.0277964739925105,
          -1.1191267067330761,
          -0.7001824962208916,
          -0.1267048764023624,
          -1.2017618350835702,
          0.07055781999006643,
          1.0347918650088845,
          -0.6745460377394736,
          -1.1730293777437337,
          -0.8961721931428671,
          -1.5149779998004103,
          0.9532291580822488,
          -0.6090837124882493,
          0.3227411219291712,
          -0.7102963110757138,
          0.9685976917922305,
          -1.6273564555122586,
          -0.26997632232261687,
          0.4664305003984084,
          -1.7148980989186615,
          -2.085838693728071,
          -0.47981762591576077,
          -1.4309049091324033,
          1.0607521681543464,
          -0.6815143040753355,
          0.6645812603974416,
          0.9860810645643229,
          0.2563569447942735,
          -2.1423037111768606,
          -1.0732088115948388,
          0.7108485369044182,
          -0.8731263881570848,
          0.5153511281340232,
          -1.3326420229312512,
          0.6345748561404732,
          0.6747922312219352,
          0.9220435111487199,
          0.8145414998684721,
          1.4494024251322482,
          -0.4046105499541477,
          0.9709078148000081,
          0.4560123319181205,
          -1.1688834854598367,
          -1.2339339772171016,
          -0.6403237776679068,
          1.6006853725989272,
          2.142474940540785,
          0.8456718040154797,
          -1.297547299398099,
          -1.7842878023837354,
          0.3158782098881666,
          0.733343427543188,
          -0.6303723424382413,
          0.6706642674342359,
          -0.2017611276899,
          -0.9683908013715276,
          0.15720943472838078,
          -1.050330114936557
         ],
         "xaxis": "x11",
         "yaxis": "y11"
        },
        {
         "line": {
          "color": "rgba(128, 128, 128, 1.0)",
          "dash": "solid",
          "shape": "linear",
          "width": 1.3
         },
         "marker": {
          "size": 2,
          "symbol": "circle"
         },
         "mode": "markers",
         "name": "C",
         "text": "",
         "type": "scatter",
         "x": [
          -1.019845215214495,
          0.9877365302007481,
          -0.0002414153394359693,
          -0.3009501718907436,
          0.1528442192960556,
          1.7890215572223451,
          -0.3454828690527688,
          -0.7593304970099077,
          -0.2775213687255191,
          -0.47532516608440006,
          -0.9407390147047427,
          -1.0174709109479707,
          -1.5410786576195166,
          1.9010489460488615,
          1.1669329183116255,
          0.4698063482772931,
          0.6334745645586914,
          0.7395872832006877,
          1.2240932267865363,
          0.28419099859882874,
          -0.38261827168055274,
          -1.5730169000129444,
          -0.7944902925941919,
          -0.2528416989339552,
          0.02980206847738622,
          -0.422520505014938,
          0.7580509845907341,
          0.6295685319924799,
          0.531485957750703,
          0.9878349474892661,
          1.3805586170671806,
          -0.12134514520015137,
          -0.5134730868306024,
          -0.942085599306493,
          -0.8881506155594552,
          0.4380161427336133,
          -0.4193809036577704,
          0.16270549763488104,
          0.2949415737555115,
          -1.8002092129017204,
          1.0325806898691992,
          0.00670669274356046,
          -0.9302179219499509,
          -0.13934945945801333,
          0.8072901555704782,
          0.6953197102896636,
          -0.06345113597472722,
          0.1705548052314656,
          1.5922627470855404,
          0.27453688113298574,
          2.2978586259985168,
          0.8046195688779062,
          -1.2925537502223432,
          -0.08416500059625354,
          -0.282181149795798,
          -1.0964464318109248,
          0.5751885156977874,
          -0.7090710518256257,
          -2.3148965073348706,
          1.0734728539838683,
          -0.9651651899106336,
          -0.7988245009921736,
          -1.3406970075836449,
          0.3404527867871523,
          0.9651042611806991,
          0.336691888685937,
          -0.20854625034952354,
          -0.13576762613536608,
          -1.0655860987956474,
          -0.7184186018795983,
          0.8931288460174328,
          0.21132906888006356,
          -0.826753661948601,
          -0.6415012829267738,
          0.3163592292991244,
          0.05455705196080712,
          0.3185440413231679,
          -0.2920006159839012,
          -0.5405940340260305,
          -0.2698694977749048,
          0.5135443132670185,
          -0.1493646484760646,
          -1.4159736412253023,
          -3.396788844648568,
          0.6305244952795435,
          0.5389014723629197,
          0.17390008991304848,
          0.48318593385141073,
          -0.6581825518735038,
          0.20347503426314736,
          0.521692767296515,
          -0.4220964590807706,
          1.0860742448184495,
          2.2496905794227464,
          0.7415155182863553,
          2.107259003062655,
          0.646663661925784,
          -0.32273258499387286,
          -1.274840474845461,
          -1.4040423165244331
         ],
         "xaxis": "x12",
         "y": [
          -0.004602126376671534,
          0.7906478443511011,
          -0.035907055804841416,
          0.6162073812205189,
          -0.15411786141920017,
          1.0432325764890658,
          0.15875089933699738,
          1.0485903404209278,
          1.3584688101500115,
          -0.18568863866363708,
          1.024429069478142,
          0.03508335587091298,
          0.12680148268351565,
          -0.8381025346208154,
          1.6509853528724419,
          -2.610416885100769,
          0.1911872787595519,
          -0.7307750804771178,
          -0.5047936592518879,
          0.5076199743661762,
          -1.10909545136408,
          -0.707829744050525,
          -0.8166326868067334,
          0.7389768468667057,
          0.5341624279288895,
          -0.35574788492921,
          -0.5091770344246631,
          0.06883626868889432,
          -0.3219552863613442,
          -1.8424635663226514,
          0.705487546787549,
          0.3839234179789261,
          -1.722276908165648,
          1.1775778569296815,
          -0.2317496548327862,
          -2.0089607177490874,
          -0.3013666179623187,
          0.17486062905347513,
          -1.7600340542851998,
          0.45900617777975394,
          -1.440096654501015,
          0.425913569227976,
          -1.0277964739925105,
          -1.1191267067330761,
          -0.7001824962208916,
          -0.1267048764023624,
          -1.2017618350835702,
          0.07055781999006643,
          1.0347918650088845,
          -0.6745460377394736,
          -1.1730293777437337,
          -0.8961721931428671,
          -1.5149779998004103,
          0.9532291580822488,
          -0.6090837124882493,
          0.3227411219291712,
          -0.7102963110757138,
          0.9685976917922305,
          -1.6273564555122586,
          -0.26997632232261687,
          0.4664305003984084,
          -1.7148980989186615,
          -2.085838693728071,
          -0.47981762591576077,
          -1.4309049091324033,
          1.0607521681543464,
          -0.6815143040753355,
          0.6645812603974416,
          0.9860810645643229,
          0.2563569447942735,
          -2.1423037111768606,
          -1.0732088115948388,
          0.7108485369044182,
          -0.8731263881570848,
          0.5153511281340232,
          -1.3326420229312512,
          0.6345748561404732,
          0.6747922312219352,
          0.9220435111487199,
          0.8145414998684721,
          1.4494024251322482,
          -0.4046105499541477,
          0.9709078148000081,
          0.4560123319181205,
          -1.1688834854598367,
          -1.2339339772171016,
          -0.6403237776679068,
          1.6006853725989272,
          2.142474940540785,
          0.8456718040154797,
          -1.297547299398099,
          -1.7842878023837354,
          0.3158782098881666,
          0.733343427543188,
          -0.6303723424382413,
          0.6706642674342359,
          -0.2017611276899,
          -0.9683908013715276,
          0.15720943472838078,
          -1.050330114936557
         ],
         "yaxis": "y12"
        },
        {
         "line": {
          "color": "rgba(128, 128, 128, 1.0)",
          "dash": "solid",
          "shape": "linear",
          "width": 1.3
         },
         "marker": {
          "size": 2,
          "symbol": "circle"
         },
         "mode": "markers",
         "name": "D",
         "text": "",
         "type": "scatter",
         "x": [
          -1.344681348367679,
          -0.25990777378562724,
          0.615954219350596,
          -0.3257161686937772,
          -1.1045124407249927,
          0.9518151688580743,
          -0.4414378956070553,
          0.23744357912241404,
          0.565882233802471,
          -1.4537368232448615,
          -0.3928064280712824,
          -0.5403655950553611,
          1.5032156945366153,
          -1.2813707408278914,
          0.3790274581122027,
          0.8030625060619568,
          0.5778619862717127,
          0.8821066931085245,
          1.6011202145953622,
          0.1494411676678207,
          -1.2175021564890365,
          -0.29325724113695045,
          -2.1132575093678168,
          -0.9418299903447851,
          -0.09413179117591249,
          -0.2212747045116899,
          0.7746388970054674,
          -0.8135424045456192,
          0.12425271139672092,
          -1.7624704443807377,
          -0.43129804068089106,
          -0.20701415863099415,
          0.1362581079714989,
          1.0213604292746619,
          1.4639234917681077,
          0.06314136905130897,
          -0.3384283258846109,
          -1.1690531466628162,
          0.22232591791165796,
          -0.5567602604223021,
          -0.23226829270222443,
          0.07840895108426076,
          1.1997614062549575,
          -0.061344339620039934,
          -0.39606237695467916,
          0.03725642793693573,
          1.2294394862034583,
          -1.7313239545247834,
          -0.7441425575409852,
          -0.7939011286891274,
          -0.04435819607299003,
          0.2152874644731718,
          -2.0602841032029353,
          0.5644320334268482,
          -1.659620457878419,
          0.4784268388998683,
          0.33245834317874495,
          1.3878741299306154,
          0.29292368114595657,
          1.0201915408457543,
          0.03445988614890572,
          0.345844164372107,
          0.8119328705027892,
          -0.4839815041109739,
          1.3833821707367373,
          0.3752824641912273,
          1.3529053280861845,
          0.7265165967816627,
          0.6486102939924626,
          0.045696646528161626,
          1.2169441234170144,
          1.2929966807127653,
          -0.33525951367360135,
          -0.38718286815465025,
          -0.8582896302412307,
          -1.2505385219437037,
          -1.0501771108401305,
          -0.5929062873971976,
          0.2823591333624237,
          0.6458494902237761,
          1.1087442383410073,
          -0.6843307181221185,
          -1.0429217420576782,
          -0.4615367754647887,
          -0.11068167099797399,
          -0.7038412804143902,
          -0.2936115839181303,
          -1.4586237497858365,
          1.1691072424789413,
          0.5852293860683341,
          -1.1572138935089535,
          -1.0601488924464997,
          -0.1955550192748439,
          -0.9876856722615701,
          -0.9680653493598178,
          0.17596996056280834,
          -0.5849896655419029,
          -0.14671716039599272,
          0.7243684341273524,
          0.11233490876531009
         ],
         "xaxis": "x13",
         "y": [
          -1.019845215214495,
          0.9877365302007481,
          -0.0002414153394359693,
          -0.3009501718907436,
          0.1528442192960556,
          1.7890215572223451,
          -0.3454828690527688,
          -0.7593304970099077,
          -0.2775213687255191,
          -0.47532516608440006,
          -0.9407390147047427,
          -1.0174709109479707,
          -1.5410786576195166,
          1.9010489460488615,
          1.1669329183116255,
          0.4698063482772931,
          0.6334745645586914,
          0.7395872832006877,
          1.2240932267865363,
          0.28419099859882874,
          -0.38261827168055274,
          -1.5730169000129444,
          -0.7944902925941919,
          -0.2528416989339552,
          0.02980206847738622,
          -0.422520505014938,
          0.7580509845907341,
          0.6295685319924799,
          0.531485957750703,
          0.9878349474892661,
          1.3805586170671806,
          -0.12134514520015137,
          -0.5134730868306024,
          -0.942085599306493,
          -0.8881506155594552,
          0.4380161427336133,
          -0.4193809036577704,
          0.16270549763488104,
          0.2949415737555115,
          -1.8002092129017204,
          1.0325806898691992,
          0.00670669274356046,
          -0.9302179219499509,
          -0.13934945945801333,
          0.8072901555704782,
          0.6953197102896636,
          -0.06345113597472722,
          0.1705548052314656,
          1.5922627470855404,
          0.27453688113298574,
          2.2978586259985168,
          0.8046195688779062,
          -1.2925537502223432,
          -0.08416500059625354,
          -0.282181149795798,
          -1.0964464318109248,
          0.5751885156977874,
          -0.7090710518256257,
          -2.3148965073348706,
          1.0734728539838683,
          -0.9651651899106336,
          -0.7988245009921736,
          -1.3406970075836449,
          0.3404527867871523,
          0.9651042611806991,
          0.336691888685937,
          -0.20854625034952354,
          -0.13576762613536608,
          -1.0655860987956474,
          -0.7184186018795983,
          0.8931288460174328,
          0.21132906888006356,
          -0.826753661948601,
          -0.6415012829267738,
          0.3163592292991244,
          0.05455705196080712,
          0.3185440413231679,
          -0.2920006159839012,
          -0.5405940340260305,
          -0.2698694977749048,
          0.5135443132670185,
          -0.1493646484760646,
          -1.4159736412253023,
          -3.396788844648568,
          0.6305244952795435,
          0.5389014723629197,
          0.17390008991304848,
          0.48318593385141073,
          -0.6581825518735038,
          0.20347503426314736,
          0.521692767296515,
          -0.4220964590807706,
          1.0860742448184495,
          2.2496905794227464,
          0.7415155182863553,
          2.107259003062655,
          0.646663661925784,
          -0.32273258499387286,
          -1.274840474845461,
          -1.4040423165244331
         ],
         "yaxis": "y13"
        },
        {
         "line": {
          "color": "rgba(128, 128, 128, 1.0)",
          "dash": "solid",
          "shape": "linear",
          "width": 1.3
         },
         "marker": {
          "size": 2,
          "symbol": "circle"
         },
         "mode": "markers",
         "name": "D",
         "text": "",
         "type": "scatter",
         "x": [
          -0.6141524354932701,
          -0.42820766641829233,
          1.560949685067526,
          -0.016366876742454278,
          -0.201557182599476,
          0.9034252832480001,
          1.1385890108482881,
          0.4997120911452794,
          -0.6431276327177393,
          1.211243606751715,
          0.2980918040802568,
          1.6882964191964656,
          -0.9499289520197146,
          1.3777101777879859,
          1.0133737656196418,
          0.04615459993434687,
          -0.23562220624719996,
          -0.8472394318161616,
          0.9754077003636352,
          -2.029101759723629,
          -1.1458437397532513,
          0.2918229495301508,
          0.42434195105328415,
          0.25507369160860566,
          -1.3105165158007956,
          0.8056262517408992,
          2.5038411972897276,
          0.4425422857014533,
          0.6834958460784702,
          -0.8559521501021329,
          0.704226306192486,
          0.7689311364426078,
          -0.1795506562591025,
          2.478306088606201,
          -0.2542547549818018,
          -1.1130974246268486,
          -0.42565330900895,
          -0.7882386369038422,
          -0.6640291687247452,
          0.263840738476896,
          1.0077497246504774,
          1.2773429952090538,
          0.13115443067251445,
          0.8818786793607682,
          2.309893637608007,
          0.5362686094806232,
          -1.0308434428294522,
          0.6849550586723251,
          -0.3254428018017996,
          -0.21699088590695828,
          1.912387014170751,
          0.17316749761022943,
          0.28761426771826504,
          -0.23278602894871162,
          -0.963319393098557,
          -0.3489916955291253,
          0.26012760903033044,
          -0.835833333730869,
          -1.5623598399882572,
          -0.48015350615792085,
          -0.11944754740327732,
          0.026295999513213333,
          -1.6066286927087363,
          0.5199063448102765,
          0.8664172542597003,
          -1.1601858683315638,
          -0.5774002796857021,
          -1.8834974470349524,
          -0.15062404083992648,
          0.05426744786494283,
          -0.5972182687637029,
          0.35686556322641216,
          0.48590074900782715,
          -2.071759239609643,
          0.7618499638282232,
          0.7723607083493977,
          -0.7630381986102769,
          0.7214067351798614,
          -0.6321096643468237,
          0.9400889761716075,
          -0.40196691099382936,
          0.5046896317639424,
          -0.7693827819522933,
          1.9337472141346586,
          1.59623155576546,
          -0.19753941417329646,
          1.3088444111805233,
          0.33406737873388115,
          -0.38386304887850126,
          -1.0559312901442477,
          1.477786415541574,
          -0.8874523338969589,
          0.05986850818355528,
          -1.4419205278408251,
          1.2693587674606999,
          -0.16826747808312903,
          0.7558397102656929,
          -0.04481720578448385,
          0.12303505012631975,
          0.1151332956318505
         ],
         "xaxis": "x14",
         "y": [
          -1.019845215214495,
          0.9877365302007481,
          -0.0002414153394359693,
          -0.3009501718907436,
          0.1528442192960556,
          1.7890215572223451,
          -0.3454828690527688,
          -0.7593304970099077,
          -0.2775213687255191,
          -0.47532516608440006,
          -0.9407390147047427,
          -1.0174709109479707,
          -1.5410786576195166,
          1.9010489460488615,
          1.1669329183116255,
          0.4698063482772931,
          0.6334745645586914,
          0.7395872832006877,
          1.2240932267865363,
          0.28419099859882874,
          -0.38261827168055274,
          -1.5730169000129444,
          -0.7944902925941919,
          -0.2528416989339552,
          0.02980206847738622,
          -0.422520505014938,
          0.7580509845907341,
          0.6295685319924799,
          0.531485957750703,
          0.9878349474892661,
          1.3805586170671806,
          -0.12134514520015137,
          -0.5134730868306024,
          -0.942085599306493,
          -0.8881506155594552,
          0.4380161427336133,
          -0.4193809036577704,
          0.16270549763488104,
          0.2949415737555115,
          -1.8002092129017204,
          1.0325806898691992,
          0.00670669274356046,
          -0.9302179219499509,
          -0.13934945945801333,
          0.8072901555704782,
          0.6953197102896636,
          -0.06345113597472722,
          0.1705548052314656,
          1.5922627470855404,
          0.27453688113298574,
          2.2978586259985168,
          0.8046195688779062,
          -1.2925537502223432,
          -0.08416500059625354,
          -0.282181149795798,
          -1.0964464318109248,
          0.5751885156977874,
          -0.7090710518256257,
          -2.3148965073348706,
          1.0734728539838683,
          -0.9651651899106336,
          -0.7988245009921736,
          -1.3406970075836449,
          0.3404527867871523,
          0.9651042611806991,
          0.336691888685937,
          -0.20854625034952354,
          -0.13576762613536608,
          -1.0655860987956474,
          -0.7184186018795983,
          0.8931288460174328,
          0.21132906888006356,
          -0.826753661948601,
          -0.6415012829267738,
          0.3163592292991244,
          0.05455705196080712,
          0.3185440413231679,
          -0.2920006159839012,
          -0.5405940340260305,
          -0.2698694977749048,
          0.5135443132670185,
          -0.1493646484760646,
          -1.4159736412253023,
          -3.396788844648568,
          0.6305244952795435,
          0.5389014723629197,
          0.17390008991304848,
          0.48318593385141073,
          -0.6581825518735038,
          0.20347503426314736,
          0.521692767296515,
          -0.4220964590807706,
          1.0860742448184495,
          2.2496905794227464,
          0.7415155182863553,
          2.107259003062655,
          0.646663661925784,
          -0.32273258499387286,
          -1.274840474845461,
          -1.4040423165244331
         ],
         "yaxis": "y14"
        },
        {
         "line": {
          "color": "rgba(128, 128, 128, 1.0)",
          "dash": "solid",
          "shape": "linear",
          "width": 1.3
         },
         "marker": {
          "size": 2,
          "symbol": "circle"
         },
         "mode": "markers",
         "name": "D",
         "text": "",
         "type": "scatter",
         "x": [
          -0.004602126376671534,
          0.7906478443511011,
          -0.035907055804841416,
          0.6162073812205189,
          -0.15411786141920017,
          1.0432325764890658,
          0.15875089933699738,
          1.0485903404209278,
          1.3584688101500115,
          -0.18568863866363708,
          1.024429069478142,
          0.03508335587091298,
          0.12680148268351565,
          -0.8381025346208154,
          1.6509853528724419,
          -2.610416885100769,
          0.1911872787595519,
          -0.7307750804771178,
          -0.5047936592518879,
          0.5076199743661762,
          -1.10909545136408,
          -0.707829744050525,
          -0.8166326868067334,
          0.7389768468667057,
          0.5341624279288895,
          -0.35574788492921,
          -0.5091770344246631,
          0.06883626868889432,
          -0.3219552863613442,
          -1.8424635663226514,
          0.705487546787549,
          0.3839234179789261,
          -1.722276908165648,
          1.1775778569296815,
          -0.2317496548327862,
          -2.0089607177490874,
          -0.3013666179623187,
          0.17486062905347513,
          -1.7600340542851998,
          0.45900617777975394,
          -1.440096654501015,
          0.425913569227976,
          -1.0277964739925105,
          -1.1191267067330761,
          -0.7001824962208916,
          -0.1267048764023624,
          -1.2017618350835702,
          0.07055781999006643,
          1.0347918650088845,
          -0.6745460377394736,
          -1.1730293777437337,
          -0.8961721931428671,
          -1.5149779998004103,
          0.9532291580822488,
          -0.6090837124882493,
          0.3227411219291712,
          -0.7102963110757138,
          0.9685976917922305,
          -1.6273564555122586,
          -0.26997632232261687,
          0.4664305003984084,
          -1.7148980989186615,
          -2.085838693728071,
          -0.47981762591576077,
          -1.4309049091324033,
          1.0607521681543464,
          -0.6815143040753355,
          0.6645812603974416,
          0.9860810645643229,
          0.2563569447942735,
          -2.1423037111768606,
          -1.0732088115948388,
          0.7108485369044182,
          -0.8731263881570848,
          0.5153511281340232,
          -1.3326420229312512,
          0.6345748561404732,
          0.6747922312219352,
          0.9220435111487199,
          0.8145414998684721,
          1.4494024251322482,
          -0.4046105499541477,
          0.9709078148000081,
          0.4560123319181205,
          -1.1688834854598367,
          -1.2339339772171016,
          -0.6403237776679068,
          1.6006853725989272,
          2.142474940540785,
          0.8456718040154797,
          -1.297547299398099,
          -1.7842878023837354,
          0.3158782098881666,
          0.733343427543188,
          -0.6303723424382413,
          0.6706642674342359,
          -0.2017611276899,
          -0.9683908013715276,
          0.15720943472838078,
          -1.050330114936557
         ],
         "xaxis": "x15",
         "y": [
          -1.019845215214495,
          0.9877365302007481,
          -0.0002414153394359693,
          -0.3009501718907436,
          0.1528442192960556,
          1.7890215572223451,
          -0.3454828690527688,
          -0.7593304970099077,
          -0.2775213687255191,
          -0.47532516608440006,
          -0.9407390147047427,
          -1.0174709109479707,
          -1.5410786576195166,
          1.9010489460488615,
          1.1669329183116255,
          0.4698063482772931,
          0.6334745645586914,
          0.7395872832006877,
          1.2240932267865363,
          0.28419099859882874,
          -0.38261827168055274,
          -1.5730169000129444,
          -0.7944902925941919,
          -0.2528416989339552,
          0.02980206847738622,
          -0.422520505014938,
          0.7580509845907341,
          0.6295685319924799,
          0.531485957750703,
          0.9878349474892661,
          1.3805586170671806,
          -0.12134514520015137,
          -0.5134730868306024,
          -0.942085599306493,
          -0.8881506155594552,
          0.4380161427336133,
          -0.4193809036577704,
          0.16270549763488104,
          0.2949415737555115,
          -1.8002092129017204,
          1.0325806898691992,
          0.00670669274356046,
          -0.9302179219499509,
          -0.13934945945801333,
          0.8072901555704782,
          0.6953197102896636,
          -0.06345113597472722,
          0.1705548052314656,
          1.5922627470855404,
          0.27453688113298574,
          2.2978586259985168,
          0.8046195688779062,
          -1.2925537502223432,
          -0.08416500059625354,
          -0.282181149795798,
          -1.0964464318109248,
          0.5751885156977874,
          -0.7090710518256257,
          -2.3148965073348706,
          1.0734728539838683,
          -0.9651651899106336,
          -0.7988245009921736,
          -1.3406970075836449,
          0.3404527867871523,
          0.9651042611806991,
          0.336691888685937,
          -0.20854625034952354,
          -0.13576762613536608,
          -1.0655860987956474,
          -0.7184186018795983,
          0.8931288460174328,
          0.21132906888006356,
          -0.826753661948601,
          -0.6415012829267738,
          0.3163592292991244,
          0.05455705196080712,
          0.3185440413231679,
          -0.2920006159839012,
          -0.5405940340260305,
          -0.2698694977749048,
          0.5135443132670185,
          -0.1493646484760646,
          -1.4159736412253023,
          -3.396788844648568,
          0.6305244952795435,
          0.5389014723629197,
          0.17390008991304848,
          0.48318593385141073,
          -0.6581825518735038,
          0.20347503426314736,
          0.521692767296515,
          -0.4220964590807706,
          1.0860742448184495,
          2.2496905794227464,
          0.7415155182863553,
          2.107259003062655,
          0.646663661925784,
          -0.32273258499387286,
          -1.274840474845461,
          -1.4040423165244331
         ],
         "yaxis": "y15"
        },
        {
         "histfunc": "count",
         "histnorm": "",
         "marker": {
          "color": "rgba(128, 0, 128, 1.0)",
          "line": {
           "color": "#4D5663",
           "width": 1.3
          }
         },
         "name": "D",
         "nbinsx": 10,
         "opacity": 0.8,
         "orientation": "v",
         "type": "histogram",
         "x": [
          -1.019845215214495,
          0.9877365302007481,
          -0.0002414153394359693,
          -0.3009501718907436,
          0.1528442192960556,
          1.7890215572223451,
          -0.3454828690527688,
          -0.7593304970099077,
          -0.2775213687255191,
          -0.47532516608440006,
          -0.9407390147047427,
          -1.0174709109479707,
          -1.5410786576195166,
          1.9010489460488615,
          1.1669329183116255,
          0.4698063482772931,
          0.6334745645586914,
          0.7395872832006877,
          1.2240932267865363,
          0.28419099859882874,
          -0.38261827168055274,
          -1.5730169000129444,
          -0.7944902925941919,
          -0.2528416989339552,
          0.02980206847738622,
          -0.422520505014938,
          0.7580509845907341,
          0.6295685319924799,
          0.531485957750703,
          0.9878349474892661,
          1.3805586170671806,
          -0.12134514520015137,
          -0.5134730868306024,
          -0.942085599306493,
          -0.8881506155594552,
          0.4380161427336133,
          -0.4193809036577704,
          0.16270549763488104,
          0.2949415737555115,
          -1.8002092129017204,
          1.0325806898691992,
          0.00670669274356046,
          -0.9302179219499509,
          -0.13934945945801333,
          0.8072901555704782,
          0.6953197102896636,
          -0.06345113597472722,
          0.1705548052314656,
          1.5922627470855404,
          0.27453688113298574,
          2.2978586259985168,
          0.8046195688779062,
          -1.2925537502223432,
          -0.08416500059625354,
          -0.282181149795798,
          -1.0964464318109248,
          0.5751885156977874,
          -0.7090710518256257,
          -2.3148965073348706,
          1.0734728539838683,
          -0.9651651899106336,
          -0.7988245009921736,
          -1.3406970075836449,
          0.3404527867871523,
          0.9651042611806991,
          0.336691888685937,
          -0.20854625034952354,
          -0.13576762613536608,
          -1.0655860987956474,
          -0.7184186018795983,
          0.8931288460174328,
          0.21132906888006356,
          -0.826753661948601,
          -0.6415012829267738,
          0.3163592292991244,
          0.05455705196080712,
          0.3185440413231679,
          -0.2920006159839012,
          -0.5405940340260305,
          -0.2698694977749048,
          0.5135443132670185,
          -0.1493646484760646,
          -1.4159736412253023,
          -3.396788844648568,
          0.6305244952795435,
          0.5389014723629197,
          0.17390008991304848,
          0.48318593385141073,
          -0.6581825518735038,
          0.20347503426314736,
          0.521692767296515,
          -0.4220964590807706,
          1.0860742448184495,
          2.2496905794227464,
          0.7415155182863553,
          2.107259003062655,
          0.646663661925784,
          -0.32273258499387286,
          -1.274840474845461,
          -1.4040423165244331
         ],
         "xaxis": "x16",
         "yaxis": "y16"
        }
       ],
       "layout": {
        "bargap": 0.02,
        "legend": {
         "bgcolor": "#F5F6F9",
         "font": {
          "color": "#4D5663"
         }
        },
        "paper_bgcolor": "#F5F6F9",
        "plot_bgcolor": "#F5F6F9",
        "showlegend": false,
        "template": {
         "data": {
          "bar": [
           {
            "error_x": {
             "color": "#2a3f5f"
            },
            "error_y": {
             "color": "#2a3f5f"
            },
            "marker": {
             "line": {
              "color": "#E5ECF6",
              "width": 0.5
             },
             "pattern": {
              "fillmode": "overlay",
              "size": 10,
              "solidity": 0.2
             }
            },
            "type": "bar"
           }
          ],
          "barpolar": [
           {
            "marker": {
             "line": {
              "color": "#E5ECF6",
              "width": 0.5
             },
             "pattern": {
              "fillmode": "overlay",
              "size": 10,
              "solidity": 0.2
             }
            },
            "type": "barpolar"
           }
          ],
          "carpet": [
           {
            "aaxis": {
             "endlinecolor": "#2a3f5f",
             "gridcolor": "white",
             "linecolor": "white",
             "minorgridcolor": "white",
             "startlinecolor": "#2a3f5f"
            },
            "baxis": {
             "endlinecolor": "#2a3f5f",
             "gridcolor": "white",
             "linecolor": "white",
             "minorgridcolor": "white",
             "startlinecolor": "#2a3f5f"
            },
            "type": "carpet"
           }
          ],
          "choropleth": [
           {
            "colorbar": {
             "outlinewidth": 0,
             "ticks": ""
            },
            "type": "choropleth"
           }
          ],
          "contour": [
           {
            "colorbar": {
             "outlinewidth": 0,
             "ticks": ""
            },
            "colorscale": [
             [
              0,
              "#0d0887"
             ],
             [
              0.1111111111111111,
              "#46039f"
             ],
             [
              0.2222222222222222,
              "#7201a8"
             ],
             [
              0.3333333333333333,
              "#9c179e"
             ],
             [
              0.4444444444444444,
              "#bd3786"
             ],
             [
              0.5555555555555556,
              "#d8576b"
             ],
             [
              0.6666666666666666,
              "#ed7953"
             ],
             [
              0.7777777777777778,
              "#fb9f3a"
             ],
             [
              0.8888888888888888,
              "#fdca26"
             ],
             [
              1,
              "#f0f921"
             ]
            ],
            "type": "contour"
           }
          ],
          "contourcarpet": [
           {
            "colorbar": {
             "outlinewidth": 0,
             "ticks": ""
            },
            "type": "contourcarpet"
           }
          ],
          "heatmap": [
           {
            "colorbar": {
             "outlinewidth": 0,
             "ticks": ""
            },
            "colorscale": [
             [
              0,
              "#0d0887"
             ],
             [
              0.1111111111111111,
              "#46039f"
             ],
             [
              0.2222222222222222,
              "#7201a8"
             ],
             [
              0.3333333333333333,
              "#9c179e"
             ],
             [
              0.4444444444444444,
              "#bd3786"
             ],
             [
              0.5555555555555556,
              "#d8576b"
             ],
             [
              0.6666666666666666,
              "#ed7953"
             ],
             [
              0.7777777777777778,
              "#fb9f3a"
             ],
             [
              0.8888888888888888,
              "#fdca26"
             ],
             [
              1,
              "#f0f921"
             ]
            ],
            "type": "heatmap"
           }
          ],
          "heatmapgl": [
           {
            "colorbar": {
             "outlinewidth": 0,
             "ticks": ""
            },
            "colorscale": [
             [
              0,
              "#0d0887"
             ],
             [
              0.1111111111111111,
              "#46039f"
             ],
             [
              0.2222222222222222,
              "#7201a8"
             ],
             [
              0.3333333333333333,
              "#9c179e"
             ],
             [
              0.4444444444444444,
              "#bd3786"
             ],
             [
              0.5555555555555556,
              "#d8576b"
             ],
             [
              0.6666666666666666,
              "#ed7953"
             ],
             [
              0.7777777777777778,
              "#fb9f3a"
             ],
             [
              0.8888888888888888,
              "#fdca26"
             ],
             [
              1,
              "#f0f921"
             ]
            ],
            "type": "heatmapgl"
           }
          ],
          "histogram": [
           {
            "marker": {
             "pattern": {
              "fillmode": "overlay",
              "size": 10,
              "solidity": 0.2
             }
            },
            "type": "histogram"
           }
          ],
          "histogram2d": [
           {
            "colorbar": {
             "outlinewidth": 0,
             "ticks": ""
            },
            "colorscale": [
             [
              0,
              "#0d0887"
             ],
             [
              0.1111111111111111,
              "#46039f"
             ],
             [
              0.2222222222222222,
              "#7201a8"
             ],
             [
              0.3333333333333333,
              "#9c179e"
             ],
             [
              0.4444444444444444,
              "#bd3786"
             ],
             [
              0.5555555555555556,
              "#d8576b"
             ],
             [
              0.6666666666666666,
              "#ed7953"
             ],
             [
              0.7777777777777778,
              "#fb9f3a"
             ],
             [
              0.8888888888888888,
              "#fdca26"
             ],
             [
              1,
              "#f0f921"
             ]
            ],
            "type": "histogram2d"
           }
          ],
          "histogram2dcontour": [
           {
            "colorbar": {
             "outlinewidth": 0,
             "ticks": ""
            },
            "colorscale": [
             [
              0,
              "#0d0887"
             ],
             [
              0.1111111111111111,
              "#46039f"
             ],
             [
              0.2222222222222222,
              "#7201a8"
             ],
             [
              0.3333333333333333,
              "#9c179e"
             ],
             [
              0.4444444444444444,
              "#bd3786"
             ],
             [
              0.5555555555555556,
              "#d8576b"
             ],
             [
              0.6666666666666666,
              "#ed7953"
             ],
             [
              0.7777777777777778,
              "#fb9f3a"
             ],
             [
              0.8888888888888888,
              "#fdca26"
             ],
             [
              1,
              "#f0f921"
             ]
            ],
            "type": "histogram2dcontour"
           }
          ],
          "mesh3d": [
           {
            "colorbar": {
             "outlinewidth": 0,
             "ticks": ""
            },
            "type": "mesh3d"
           }
          ],
          "parcoords": [
           {
            "line": {
             "colorbar": {
              "outlinewidth": 0,
              "ticks": ""
             }
            },
            "type": "parcoords"
           }
          ],
          "pie": [
           {
            "automargin": true,
            "type": "pie"
           }
          ],
          "scatter": [
           {
            "fillpattern": {
             "fillmode": "overlay",
             "size": 10,
             "solidity": 0.2
            },
            "type": "scatter"
           }
          ],
          "scatter3d": [
           {
            "line": {
             "colorbar": {
              "outlinewidth": 0,
              "ticks": ""
             }
            },
            "marker": {
             "colorbar": {
              "outlinewidth": 0,
              "ticks": ""
             }
            },
            "type": "scatter3d"
           }
          ],
          "scattercarpet": [
           {
            "marker": {
             "colorbar": {
              "outlinewidth": 0,
              "ticks": ""
             }
            },
            "type": "scattercarpet"
           }
          ],
          "scattergeo": [
           {
            "marker": {
             "colorbar": {
              "outlinewidth": 0,
              "ticks": ""
             }
            },
            "type": "scattergeo"
           }
          ],
          "scattergl": [
           {
            "marker": {
             "colorbar": {
              "outlinewidth": 0,
              "ticks": ""
             }
            },
            "type": "scattergl"
           }
          ],
          "scattermapbox": [
           {
            "marker": {
             "colorbar": {
              "outlinewidth": 0,
              "ticks": ""
             }
            },
            "type": "scattermapbox"
           }
          ],
          "scatterpolar": [
           {
            "marker": {
             "colorbar": {
              "outlinewidth": 0,
              "ticks": ""
             }
            },
            "type": "scatterpolar"
           }
          ],
          "scatterpolargl": [
           {
            "marker": {
             "colorbar": {
              "outlinewidth": 0,
              "ticks": ""
             }
            },
            "type": "scatterpolargl"
           }
          ],
          "scatterternary": [
           {
            "marker": {
             "colorbar": {
              "outlinewidth": 0,
              "ticks": ""
             }
            },
            "type": "scatterternary"
           }
          ],
          "surface": [
           {
            "colorbar": {
             "outlinewidth": 0,
             "ticks": ""
            },
            "colorscale": [
             [
              0,
              "#0d0887"
             ],
             [
              0.1111111111111111,
              "#46039f"
             ],
             [
              0.2222222222222222,
              "#7201a8"
             ],
             [
              0.3333333333333333,
              "#9c179e"
             ],
             [
              0.4444444444444444,
              "#bd3786"
             ],
             [
              0.5555555555555556,
              "#d8576b"
             ],
             [
              0.6666666666666666,
              "#ed7953"
             ],
             [
              0.7777777777777778,
              "#fb9f3a"
             ],
             [
              0.8888888888888888,
              "#fdca26"
             ],
             [
              1,
              "#f0f921"
             ]
            ],
            "type": "surface"
           }
          ],
          "table": [
           {
            "cells": {
             "fill": {
              "color": "#EBF0F8"
             },
             "line": {
              "color": "white"
             }
            },
            "header": {
             "fill": {
              "color": "#C8D4E3"
             },
             "line": {
              "color": "white"
             }
            },
            "type": "table"
           }
          ]
         },
         "layout": {
          "annotationdefaults": {
           "arrowcolor": "#2a3f5f",
           "arrowhead": 0,
           "arrowwidth": 1
          },
          "autotypenumbers": "strict",
          "coloraxis": {
           "colorbar": {
            "outlinewidth": 0,
            "ticks": ""
           }
          },
          "colorscale": {
           "diverging": [
            [
             0,
             "#8e0152"
            ],
            [
             0.1,
             "#c51b7d"
            ],
            [
             0.2,
             "#de77ae"
            ],
            [
             0.3,
             "#f1b6da"
            ],
            [
             0.4,
             "#fde0ef"
            ],
            [
             0.5,
             "#f7f7f7"
            ],
            [
             0.6,
             "#e6f5d0"
            ],
            [
             0.7,
             "#b8e186"
            ],
            [
             0.8,
             "#7fbc41"
            ],
            [
             0.9,
             "#4d9221"
            ],
            [
             1,
             "#276419"
            ]
           ],
           "sequential": [
            [
             0,
             "#0d0887"
            ],
            [
             0.1111111111111111,
             "#46039f"
            ],
            [
             0.2222222222222222,
             "#7201a8"
            ],
            [
             0.3333333333333333,
             "#9c179e"
            ],
            [
             0.4444444444444444,
             "#bd3786"
            ],
            [
             0.5555555555555556,
             "#d8576b"
            ],
            [
             0.6666666666666666,
             "#ed7953"
            ],
            [
             0.7777777777777778,
             "#fb9f3a"
            ],
            [
             0.8888888888888888,
             "#fdca26"
            ],
            [
             1,
             "#f0f921"
            ]
           ],
           "sequentialminus": [
            [
             0,
             "#0d0887"
            ],
            [
             0.1111111111111111,
             "#46039f"
            ],
            [
             0.2222222222222222,
             "#7201a8"
            ],
            [
             0.3333333333333333,
             "#9c179e"
            ],
            [
             0.4444444444444444,
             "#bd3786"
            ],
            [
             0.5555555555555556,
             "#d8576b"
            ],
            [
             0.6666666666666666,
             "#ed7953"
            ],
            [
             0.7777777777777778,
             "#fb9f3a"
            ],
            [
             0.8888888888888888,
             "#fdca26"
            ],
            [
             1,
             "#f0f921"
            ]
           ]
          },
          "colorway": [
           "#636efa",
           "#EF553B",
           "#00cc96",
           "#ab63fa",
           "#FFA15A",
           "#19d3f3",
           "#FF6692",
           "#B6E880",
           "#FF97FF",
           "#FECB52"
          ],
          "font": {
           "color": "#2a3f5f"
          },
          "geo": {
           "bgcolor": "white",
           "lakecolor": "white",
           "landcolor": "#E5ECF6",
           "showlakes": true,
           "showland": true,
           "subunitcolor": "white"
          },
          "hoverlabel": {
           "align": "left"
          },
          "hovermode": "closest",
          "mapbox": {
           "style": "light"
          },
          "paper_bgcolor": "white",
          "plot_bgcolor": "#E5ECF6",
          "polar": {
           "angularaxis": {
            "gridcolor": "white",
            "linecolor": "white",
            "ticks": ""
           },
           "bgcolor": "#E5ECF6",
           "radialaxis": {
            "gridcolor": "white",
            "linecolor": "white",
            "ticks": ""
           }
          },
          "scene": {
           "xaxis": {
            "backgroundcolor": "#E5ECF6",
            "gridcolor": "white",
            "gridwidth": 2,
            "linecolor": "white",
            "showbackground": true,
            "ticks": "",
            "zerolinecolor": "white"
           },
           "yaxis": {
            "backgroundcolor": "#E5ECF6",
            "gridcolor": "white",
            "gridwidth": 2,
            "linecolor": "white",
            "showbackground": true,
            "ticks": "",
            "zerolinecolor": "white"
           },
           "zaxis": {
            "backgroundcolor": "#E5ECF6",
            "gridcolor": "white",
            "gridwidth": 2,
            "linecolor": "white",
            "showbackground": true,
            "ticks": "",
            "zerolinecolor": "white"
           }
          },
          "shapedefaults": {
           "line": {
            "color": "#2a3f5f"
           }
          },
          "ternary": {
           "aaxis": {
            "gridcolor": "white",
            "linecolor": "white",
            "ticks": ""
           },
           "baxis": {
            "gridcolor": "white",
            "linecolor": "white",
            "ticks": ""
           },
           "bgcolor": "#E5ECF6",
           "caxis": {
            "gridcolor": "white",
            "linecolor": "white",
            "ticks": ""
           }
          },
          "title": {
           "x": 0.05
          },
          "xaxis": {
           "automargin": true,
           "gridcolor": "white",
           "linecolor": "white",
           "ticks": "",
           "title": {
            "standoff": 15
           },
           "zerolinecolor": "white",
           "zerolinewidth": 2
          },
          "yaxis": {
           "automargin": true,
           "gridcolor": "white",
           "linecolor": "white",
           "ticks": "",
           "title": {
            "standoff": 15
           },
           "zerolinecolor": "white",
           "zerolinewidth": 2
          }
         }
        },
        "title": {
         "font": {
          "color": "#4D5663"
         }
        },
        "xaxis": {
         "anchor": "y",
         "domain": [
          0,
          0.2125
         ],
         "gridcolor": "#E1E5ED",
         "showgrid": false,
         "tickfont": {
          "color": "#4D5663"
         },
         "title": {
          "font": {
           "color": "#4D5663"
          },
          "text": ""
         },
         "zerolinecolor": "#E1E5ED"
        },
        "xaxis10": {
         "anchor": "y10",
         "domain": [
          0.2625,
          0.475
         ],
         "gridcolor": "#E1E5ED",
         "showgrid": false,
         "tickfont": {
          "color": "#4D5663"
         },
         "title": {
          "font": {
           "color": "#4D5663"
          },
          "text": ""
         },
         "zerolinecolor": "#E1E5ED"
        },
        "xaxis11": {
         "anchor": "y11",
         "domain": [
          0.525,
          0.7375
         ],
         "gridcolor": "#E1E5ED",
         "showgrid": false,
         "tickfont": {
          "color": "#4D5663"
         },
         "title": {
          "font": {
           "color": "#4D5663"
          },
          "text": ""
         },
         "zerolinecolor": "#E1E5ED"
        },
        "xaxis12": {
         "anchor": "y12",
         "domain": [
          0.7875,
          1
         ],
         "gridcolor": "#E1E5ED",
         "showgrid": false,
         "tickfont": {
          "color": "#4D5663"
         },
         "title": {
          "font": {
           "color": "#4D5663"
          },
          "text": ""
         },
         "zerolinecolor": "#E1E5ED"
        },
        "xaxis13": {
         "anchor": "y13",
         "domain": [
          0,
          0.2125
         ],
         "gridcolor": "#E1E5ED",
         "showgrid": false,
         "tickfont": {
          "color": "#4D5663"
         },
         "title": {
          "font": {
           "color": "#4D5663"
          },
          "text": ""
         },
         "zerolinecolor": "#E1E5ED"
        },
        "xaxis14": {
         "anchor": "y14",
         "domain": [
          0.2625,
          0.475
         ],
         "gridcolor": "#E1E5ED",
         "showgrid": false,
         "tickfont": {
          "color": "#4D5663"
         },
         "title": {
          "font": {
           "color": "#4D5663"
          },
          "text": ""
         },
         "zerolinecolor": "#E1E5ED"
        },
        "xaxis15": {
         "anchor": "y15",
         "domain": [
          0.525,
          0.7375
         ],
         "gridcolor": "#E1E5ED",
         "showgrid": false,
         "tickfont": {
          "color": "#4D5663"
         },
         "title": {
          "font": {
           "color": "#4D5663"
          },
          "text": ""
         },
         "zerolinecolor": "#E1E5ED"
        },
        "xaxis16": {
         "anchor": "y16",
         "domain": [
          0.7875,
          1
         ],
         "gridcolor": "#E1E5ED",
         "showgrid": false,
         "tickfont": {
          "color": "#4D5663"
         },
         "title": {
          "font": {
           "color": "#4D5663"
          },
          "text": ""
         },
         "zerolinecolor": "#E1E5ED"
        },
        "xaxis2": {
         "anchor": "y2",
         "domain": [
          0.2625,
          0.475
         ],
         "gridcolor": "#E1E5ED",
         "showgrid": false,
         "tickfont": {
          "color": "#4D5663"
         },
         "title": {
          "font": {
           "color": "#4D5663"
          },
          "text": ""
         },
         "zerolinecolor": "#E1E5ED"
        },
        "xaxis3": {
         "anchor": "y3",
         "domain": [
          0.525,
          0.7375
         ],
         "gridcolor": "#E1E5ED",
         "showgrid": false,
         "tickfont": {
          "color": "#4D5663"
         },
         "title": {
          "font": {
           "color": "#4D5663"
          },
          "text": ""
         },
         "zerolinecolor": "#E1E5ED"
        },
        "xaxis4": {
         "anchor": "y4",
         "domain": [
          0.7875,
          1
         ],
         "gridcolor": "#E1E5ED",
         "showgrid": false,
         "tickfont": {
          "color": "#4D5663"
         },
         "title": {
          "font": {
           "color": "#4D5663"
          },
          "text": ""
         },
         "zerolinecolor": "#E1E5ED"
        },
        "xaxis5": {
         "anchor": "y5",
         "domain": [
          0,
          0.2125
         ],
         "gridcolor": "#E1E5ED",
         "showgrid": false,
         "tickfont": {
          "color": "#4D5663"
         },
         "title": {
          "font": {
           "color": "#4D5663"
          },
          "text": ""
         },
         "zerolinecolor": "#E1E5ED"
        },
        "xaxis6": {
         "anchor": "y6",
         "domain": [
          0.2625,
          0.475
         ],
         "gridcolor": "#E1E5ED",
         "showgrid": false,
         "tickfont": {
          "color": "#4D5663"
         },
         "title": {
          "font": {
           "color": "#4D5663"
          },
          "text": ""
         },
         "zerolinecolor": "#E1E5ED"
        },
        "xaxis7": {
         "anchor": "y7",
         "domain": [
          0.525,
          0.7375
         ],
         "gridcolor": "#E1E5ED",
         "showgrid": false,
         "tickfont": {
          "color": "#4D5663"
         },
         "title": {
          "font": {
           "color": "#4D5663"
          },
          "text": ""
         },
         "zerolinecolor": "#E1E5ED"
        },
        "xaxis8": {
         "anchor": "y8",
         "domain": [
          0.7875,
          1
         ],
         "gridcolor": "#E1E5ED",
         "showgrid": false,
         "tickfont": {
          "color": "#4D5663"
         },
         "title": {
          "font": {
           "color": "#4D5663"
          },
          "text": ""
         },
         "zerolinecolor": "#E1E5ED"
        },
        "xaxis9": {
         "anchor": "y9",
         "domain": [
          0,
          0.2125
         ],
         "gridcolor": "#E1E5ED",
         "showgrid": false,
         "tickfont": {
          "color": "#4D5663"
         },
         "title": {
          "font": {
           "color": "#4D5663"
          },
          "text": ""
         },
         "zerolinecolor": "#E1E5ED"
        },
        "yaxis": {
         "anchor": "x",
         "domain": [
          0.8025,
          1
         ],
         "gridcolor": "#E1E5ED",
         "showgrid": false,
         "tickfont": {
          "color": "#4D5663"
         },
         "title": {
          "font": {
           "color": "#4D5663"
          },
          "text": ""
         },
         "zerolinecolor": "#E1E5ED"
        },
        "yaxis10": {
         "anchor": "x10",
         "domain": [
          0.2675,
          0.465
         ],
         "gridcolor": "#E1E5ED",
         "showgrid": false,
         "tickfont": {
          "color": "#4D5663"
         },
         "title": {
          "font": {
           "color": "#4D5663"
          },
          "text": ""
         },
         "zerolinecolor": "#E1E5ED"
        },
        "yaxis11": {
         "anchor": "x11",
         "domain": [
          0.2675,
          0.465
         ],
         "gridcolor": "#E1E5ED",
         "showgrid": false,
         "tickfont": {
          "color": "#4D5663"
         },
         "title": {
          "font": {
           "color": "#4D5663"
          },
          "text": ""
         },
         "zerolinecolor": "#E1E5ED"
        },
        "yaxis12": {
         "anchor": "x12",
         "domain": [
          0.2675,
          0.465
         ],
         "gridcolor": "#E1E5ED",
         "showgrid": false,
         "tickfont": {
          "color": "#4D5663"
         },
         "title": {
          "font": {
           "color": "#4D5663"
          },
          "text": ""
         },
         "zerolinecolor": "#E1E5ED"
        },
        "yaxis13": {
         "anchor": "x13",
         "domain": [
          0,
          0.1975
         ],
         "gridcolor": "#E1E5ED",
         "showgrid": false,
         "tickfont": {
          "color": "#4D5663"
         },
         "title": {
          "font": {
           "color": "#4D5663"
          },
          "text": ""
         },
         "zerolinecolor": "#E1E5ED"
        },
        "yaxis14": {
         "anchor": "x14",
         "domain": [
          0,
          0.1975
         ],
         "gridcolor": "#E1E5ED",
         "showgrid": false,
         "tickfont": {
          "color": "#4D5663"
         },
         "title": {
          "font": {
           "color": "#4D5663"
          },
          "text": ""
         },
         "zerolinecolor": "#E1E5ED"
        },
        "yaxis15": {
         "anchor": "x15",
         "domain": [
          0,
          0.1975
         ],
         "gridcolor": "#E1E5ED",
         "showgrid": false,
         "tickfont": {
          "color": "#4D5663"
         },
         "title": {
          "font": {
           "color": "#4D5663"
          },
          "text": ""
         },
         "zerolinecolor": "#E1E5ED"
        },
        "yaxis16": {
         "anchor": "x16",
         "domain": [
          0,
          0.1975
         ],
         "gridcolor": "#E1E5ED",
         "showgrid": false,
         "tickfont": {
          "color": "#4D5663"
         },
         "title": {
          "font": {
           "color": "#4D5663"
          },
          "text": ""
         },
         "zerolinecolor": "#E1E5ED"
        },
        "yaxis2": {
         "anchor": "x2",
         "domain": [
          0.8025,
          1
         ],
         "gridcolor": "#E1E5ED",
         "showgrid": false,
         "tickfont": {
          "color": "#4D5663"
         },
         "title": {
          "font": {
           "color": "#4D5663"
          },
          "text": ""
         },
         "zerolinecolor": "#E1E5ED"
        },
        "yaxis3": {
         "anchor": "x3",
         "domain": [
          0.8025,
          1
         ],
         "gridcolor": "#E1E5ED",
         "showgrid": false,
         "tickfont": {
          "color": "#4D5663"
         },
         "title": {
          "font": {
           "color": "#4D5663"
          },
          "text": ""
         },
         "zerolinecolor": "#E1E5ED"
        },
        "yaxis4": {
         "anchor": "x4",
         "domain": [
          0.8025,
          1
         ],
         "gridcolor": "#E1E5ED",
         "showgrid": false,
         "tickfont": {
          "color": "#4D5663"
         },
         "title": {
          "font": {
           "color": "#4D5663"
          },
          "text": ""
         },
         "zerolinecolor": "#E1E5ED"
        },
        "yaxis5": {
         "anchor": "x5",
         "domain": [
          0.535,
          0.7325
         ],
         "gridcolor": "#E1E5ED",
         "showgrid": false,
         "tickfont": {
          "color": "#4D5663"
         },
         "title": {
          "font": {
           "color": "#4D5663"
          },
          "text": ""
         },
         "zerolinecolor": "#E1E5ED"
        },
        "yaxis6": {
         "anchor": "x6",
         "domain": [
          0.535,
          0.7325
         ],
         "gridcolor": "#E1E5ED",
         "showgrid": false,
         "tickfont": {
          "color": "#4D5663"
         },
         "title": {
          "font": {
           "color": "#4D5663"
          },
          "text": ""
         },
         "zerolinecolor": "#E1E5ED"
        },
        "yaxis7": {
         "anchor": "x7",
         "domain": [
          0.535,
          0.7325
         ],
         "gridcolor": "#E1E5ED",
         "showgrid": false,
         "tickfont": {
          "color": "#4D5663"
         },
         "title": {
          "font": {
           "color": "#4D5663"
          },
          "text": ""
         },
         "zerolinecolor": "#E1E5ED"
        },
        "yaxis8": {
         "anchor": "x8",
         "domain": [
          0.535,
          0.7325
         ],
         "gridcolor": "#E1E5ED",
         "showgrid": false,
         "tickfont": {
          "color": "#4D5663"
         },
         "title": {
          "font": {
           "color": "#4D5663"
          },
          "text": ""
         },
         "zerolinecolor": "#E1E5ED"
        },
        "yaxis9": {
         "anchor": "x9",
         "domain": [
          0.2675,
          0.465
         ],
         "gridcolor": "#E1E5ED",
         "showgrid": false,
         "tickfont": {
          "color": "#4D5663"
         },
         "title": {
          "font": {
           "color": "#4D5663"
          },
          "text": ""
         },
         "zerolinecolor": "#E1E5ED"
        }
       }
      },
      "text/html": [
       "<div>                            <div id=\"775d0641-89ec-4ade-8c2a-136e2ec81a4d\" class=\"plotly-graph-div\" style=\"height:525px; width:100%;\"></div>            <script type=\"text/javascript\">                require([\"plotly\"], function(Plotly) {                    window.PLOTLYENV=window.PLOTLYENV || {};\n",
       "                    window.PLOTLYENV.BASE_URL='https://plot.ly';                                    if (document.getElementById(\"775d0641-89ec-4ade-8c2a-136e2ec81a4d\")) {                    Plotly.newPlot(                        \"775d0641-89ec-4ade-8c2a-136e2ec81a4d\",                        [{\"histfunc\":\"count\",\"histnorm\":\"\",\"marker\":{\"color\":\"rgba(255, 153, 51, 1.0)\",\"line\":{\"color\":\"#4D5663\",\"width\":1.3}},\"name\":\"A\",\"nbinsx\":10,\"opacity\":0.8,\"orientation\":\"v\",\"x\":[-1.344681348367679,-0.25990777378562724,0.615954219350596,-0.3257161686937772,-1.1045124407249927,0.9518151688580743,-0.4414378956070553,0.23744357912241404,0.565882233802471,-1.4537368232448615,-0.3928064280712824,-0.5403655950553611,1.5032156945366153,-1.2813707408278914,0.3790274581122027,0.8030625060619568,0.5778619862717127,0.8821066931085245,1.6011202145953622,0.1494411676678207,-1.2175021564890365,-0.29325724113695045,-2.1132575093678168,-0.9418299903447851,-0.09413179117591249,-0.2212747045116899,0.7746388970054674,-0.8135424045456192,0.12425271139672092,-1.7624704443807377,-0.43129804068089106,-0.20701415863099415,0.1362581079714989,1.0213604292746619,1.4639234917681077,0.06314136905130897,-0.3384283258846109,-1.1690531466628162,0.22232591791165796,-0.5567602604223021,-0.23226829270222443,0.07840895108426076,1.1997614062549575,-0.061344339620039934,-0.39606237695467916,0.03725642793693573,1.2294394862034583,-1.7313239545247834,-0.7441425575409852,-0.7939011286891274,-0.04435819607299003,0.2152874644731718,-2.0602841032029353,0.5644320334268482,-1.659620457878419,0.4784268388998683,0.33245834317874495,1.3878741299306154,0.29292368114595657,1.0201915408457543,0.03445988614890572,0.345844164372107,0.8119328705027892,-0.4839815041109739,1.3833821707367373,0.3752824641912273,1.3529053280861845,0.7265165967816627,0.6486102939924626,0.045696646528161626,1.2169441234170144,1.2929966807127653,-0.33525951367360135,-0.38718286815465025,-0.8582896302412307,-1.2505385219437037,-1.0501771108401305,-0.5929062873971976,0.2823591333624237,0.6458494902237761,1.1087442383410073,-0.6843307181221185,-1.0429217420576782,-0.4615367754647887,-0.11068167099797399,-0.7038412804143902,-0.2936115839181303,-1.4586237497858365,1.1691072424789413,0.5852293860683341,-1.1572138935089535,-1.0601488924464997,-0.1955550192748439,-0.9876856722615701,-0.9680653493598178,0.17596996056280834,-0.5849896655419029,-0.14671716039599272,0.7243684341273524,0.11233490876531009],\"xaxis\":\"x\",\"yaxis\":\"y\",\"type\":\"histogram\"},{\"line\":{\"color\":\"rgba(128, 128, 128, 1.0)\",\"dash\":\"solid\",\"shape\":\"linear\",\"width\":1.3},\"marker\":{\"size\":2,\"symbol\":\"circle\"},\"mode\":\"markers\",\"name\":\"A\",\"text\":\"\",\"x\":[-0.6141524354932701,-0.42820766641829233,1.560949685067526,-0.016366876742454278,-0.201557182599476,0.9034252832480001,1.1385890108482881,0.4997120911452794,-0.6431276327177393,1.211243606751715,0.2980918040802568,1.6882964191964656,-0.9499289520197146,1.3777101777879859,1.0133737656196418,0.04615459993434687,-0.23562220624719996,-0.8472394318161616,0.9754077003636352,-2.029101759723629,-1.1458437397532513,0.2918229495301508,0.42434195105328415,0.25507369160860566,-1.3105165158007956,0.8056262517408992,2.5038411972897276,0.4425422857014533,0.6834958460784702,-0.8559521501021329,0.704226306192486,0.7689311364426078,-0.1795506562591025,2.478306088606201,-0.2542547549818018,-1.1130974246268486,-0.42565330900895,-0.7882386369038422,-0.6640291687247452,0.263840738476896,1.0077497246504774,1.2773429952090538,0.13115443067251445,0.8818786793607682,2.309893637608007,0.5362686094806232,-1.0308434428294522,0.6849550586723251,-0.3254428018017996,-0.21699088590695828,1.912387014170751,0.17316749761022943,0.28761426771826504,-0.23278602894871162,-0.963319393098557,-0.3489916955291253,0.26012760903033044,-0.835833333730869,-1.5623598399882572,-0.48015350615792085,-0.11944754740327732,0.026295999513213333,-1.6066286927087363,0.5199063448102765,0.8664172542597003,-1.1601858683315638,-0.5774002796857021,-1.8834974470349524,-0.15062404083992648,0.05426744786494283,-0.5972182687637029,0.35686556322641216,0.48590074900782715,-2.071759239609643,0.7618499638282232,0.7723607083493977,-0.7630381986102769,0.7214067351798614,-0.6321096643468237,0.9400889761716075,-0.40196691099382936,0.5046896317639424,-0.7693827819522933,1.9337472141346586,1.59623155576546,-0.19753941417329646,1.3088444111805233,0.33406737873388115,-0.38386304887850126,-1.0559312901442477,1.477786415541574,-0.8874523338969589,0.05986850818355528,-1.4419205278408251,1.2693587674606999,-0.16826747808312903,0.7558397102656929,-0.04481720578448385,0.12303505012631975,0.1151332956318505],\"xaxis\":\"x2\",\"y\":[-1.344681348367679,-0.25990777378562724,0.615954219350596,-0.3257161686937772,-1.1045124407249927,0.9518151688580743,-0.4414378956070553,0.23744357912241404,0.565882233802471,-1.4537368232448615,-0.3928064280712824,-0.5403655950553611,1.5032156945366153,-1.2813707408278914,0.3790274581122027,0.8030625060619568,0.5778619862717127,0.8821066931085245,1.6011202145953622,0.1494411676678207,-1.2175021564890365,-0.29325724113695045,-2.1132575093678168,-0.9418299903447851,-0.09413179117591249,-0.2212747045116899,0.7746388970054674,-0.8135424045456192,0.12425271139672092,-1.7624704443807377,-0.43129804068089106,-0.20701415863099415,0.1362581079714989,1.0213604292746619,1.4639234917681077,0.06314136905130897,-0.3384283258846109,-1.1690531466628162,0.22232591791165796,-0.5567602604223021,-0.23226829270222443,0.07840895108426076,1.1997614062549575,-0.061344339620039934,-0.39606237695467916,0.03725642793693573,1.2294394862034583,-1.7313239545247834,-0.7441425575409852,-0.7939011286891274,-0.04435819607299003,0.2152874644731718,-2.0602841032029353,0.5644320334268482,-1.659620457878419,0.4784268388998683,0.33245834317874495,1.3878741299306154,0.29292368114595657,1.0201915408457543,0.03445988614890572,0.345844164372107,0.8119328705027892,-0.4839815041109739,1.3833821707367373,0.3752824641912273,1.3529053280861845,0.7265165967816627,0.6486102939924626,0.045696646528161626,1.2169441234170144,1.2929966807127653,-0.33525951367360135,-0.38718286815465025,-0.8582896302412307,-1.2505385219437037,-1.0501771108401305,-0.5929062873971976,0.2823591333624237,0.6458494902237761,1.1087442383410073,-0.6843307181221185,-1.0429217420576782,-0.4615367754647887,-0.11068167099797399,-0.7038412804143902,-0.2936115839181303,-1.4586237497858365,1.1691072424789413,0.5852293860683341,-1.1572138935089535,-1.0601488924464997,-0.1955550192748439,-0.9876856722615701,-0.9680653493598178,0.17596996056280834,-0.5849896655419029,-0.14671716039599272,0.7243684341273524,0.11233490876531009],\"yaxis\":\"y2\",\"type\":\"scatter\"},{\"line\":{\"color\":\"rgba(128, 128, 128, 1.0)\",\"dash\":\"solid\",\"shape\":\"linear\",\"width\":1.3},\"marker\":{\"size\":2,\"symbol\":\"circle\"},\"mode\":\"markers\",\"name\":\"A\",\"text\":\"\",\"x\":[-0.004602126376671534,0.7906478443511011,-0.035907055804841416,0.6162073812205189,-0.15411786141920017,1.0432325764890658,0.15875089933699738,1.0485903404209278,1.3584688101500115,-0.18568863866363708,1.024429069478142,0.03508335587091298,0.12680148268351565,-0.8381025346208154,1.6509853528724419,-2.610416885100769,0.1911872787595519,-0.7307750804771178,-0.5047936592518879,0.5076199743661762,-1.10909545136408,-0.707829744050525,-0.8166326868067334,0.7389768468667057,0.5341624279288895,-0.35574788492921,-0.5091770344246631,0.06883626868889432,-0.3219552863613442,-1.8424635663226514,0.705487546787549,0.3839234179789261,-1.722276908165648,1.1775778569296815,-0.2317496548327862,-2.0089607177490874,-0.3013666179623187,0.17486062905347513,-1.7600340542851998,0.45900617777975394,-1.440096654501015,0.425913569227976,-1.0277964739925105,-1.1191267067330761,-0.7001824962208916,-0.1267048764023624,-1.2017618350835702,0.07055781999006643,1.0347918650088845,-0.6745460377394736,-1.1730293777437337,-0.8961721931428671,-1.5149779998004103,0.9532291580822488,-0.6090837124882493,0.3227411219291712,-0.7102963110757138,0.9685976917922305,-1.6273564555122586,-0.26997632232261687,0.4664305003984084,-1.7148980989186615,-2.085838693728071,-0.47981762591576077,-1.4309049091324033,1.0607521681543464,-0.6815143040753355,0.6645812603974416,0.9860810645643229,0.2563569447942735,-2.1423037111768606,-1.0732088115948388,0.7108485369044182,-0.8731263881570848,0.5153511281340232,-1.3326420229312512,0.6345748561404732,0.6747922312219352,0.9220435111487199,0.8145414998684721,1.4494024251322482,-0.4046105499541477,0.9709078148000081,0.4560123319181205,-1.1688834854598367,-1.2339339772171016,-0.6403237776679068,1.6006853725989272,2.142474940540785,0.8456718040154797,-1.297547299398099,-1.7842878023837354,0.3158782098881666,0.733343427543188,-0.6303723424382413,0.6706642674342359,-0.2017611276899,-0.9683908013715276,0.15720943472838078,-1.050330114936557],\"xaxis\":\"x3\",\"y\":[-1.344681348367679,-0.25990777378562724,0.615954219350596,-0.3257161686937772,-1.1045124407249927,0.9518151688580743,-0.4414378956070553,0.23744357912241404,0.565882233802471,-1.4537368232448615,-0.3928064280712824,-0.5403655950553611,1.5032156945366153,-1.2813707408278914,0.3790274581122027,0.8030625060619568,0.5778619862717127,0.8821066931085245,1.6011202145953622,0.1494411676678207,-1.2175021564890365,-0.29325724113695045,-2.1132575093678168,-0.9418299903447851,-0.09413179117591249,-0.2212747045116899,0.7746388970054674,-0.8135424045456192,0.12425271139672092,-1.7624704443807377,-0.43129804068089106,-0.20701415863099415,0.1362581079714989,1.0213604292746619,1.4639234917681077,0.06314136905130897,-0.3384283258846109,-1.1690531466628162,0.22232591791165796,-0.5567602604223021,-0.23226829270222443,0.07840895108426076,1.1997614062549575,-0.061344339620039934,-0.39606237695467916,0.03725642793693573,1.2294394862034583,-1.7313239545247834,-0.7441425575409852,-0.7939011286891274,-0.04435819607299003,0.2152874644731718,-2.0602841032029353,0.5644320334268482,-1.659620457878419,0.4784268388998683,0.33245834317874495,1.3878741299306154,0.29292368114595657,1.0201915408457543,0.03445988614890572,0.345844164372107,0.8119328705027892,-0.4839815041109739,1.3833821707367373,0.3752824641912273,1.3529053280861845,0.7265165967816627,0.6486102939924626,0.045696646528161626,1.2169441234170144,1.2929966807127653,-0.33525951367360135,-0.38718286815465025,-0.8582896302412307,-1.2505385219437037,-1.0501771108401305,-0.5929062873971976,0.2823591333624237,0.6458494902237761,1.1087442383410073,-0.6843307181221185,-1.0429217420576782,-0.4615367754647887,-0.11068167099797399,-0.7038412804143902,-0.2936115839181303,-1.4586237497858365,1.1691072424789413,0.5852293860683341,-1.1572138935089535,-1.0601488924464997,-0.1955550192748439,-0.9876856722615701,-0.9680653493598178,0.17596996056280834,-0.5849896655419029,-0.14671716039599272,0.7243684341273524,0.11233490876531009],\"yaxis\":\"y3\",\"type\":\"scatter\"},{\"line\":{\"color\":\"rgba(128, 128, 128, 1.0)\",\"dash\":\"solid\",\"shape\":\"linear\",\"width\":1.3},\"marker\":{\"size\":2,\"symbol\":\"circle\"},\"mode\":\"markers\",\"name\":\"A\",\"text\":\"\",\"x\":[-1.019845215214495,0.9877365302007481,-0.0002414153394359693,-0.3009501718907436,0.1528442192960556,1.7890215572223451,-0.3454828690527688,-0.7593304970099077,-0.2775213687255191,-0.47532516608440006,-0.9407390147047427,-1.0174709109479707,-1.5410786576195166,1.9010489460488615,1.1669329183116255,0.4698063482772931,0.6334745645586914,0.7395872832006877,1.2240932267865363,0.28419099859882874,-0.38261827168055274,-1.5730169000129444,-0.7944902925941919,-0.2528416989339552,0.02980206847738622,-0.422520505014938,0.7580509845907341,0.6295685319924799,0.531485957750703,0.9878349474892661,1.3805586170671806,-0.12134514520015137,-0.5134730868306024,-0.942085599306493,-0.8881506155594552,0.4380161427336133,-0.4193809036577704,0.16270549763488104,0.2949415737555115,-1.8002092129017204,1.0325806898691992,0.00670669274356046,-0.9302179219499509,-0.13934945945801333,0.8072901555704782,0.6953197102896636,-0.06345113597472722,0.1705548052314656,1.5922627470855404,0.27453688113298574,2.2978586259985168,0.8046195688779062,-1.2925537502223432,-0.08416500059625354,-0.282181149795798,-1.0964464318109248,0.5751885156977874,-0.7090710518256257,-2.3148965073348706,1.0734728539838683,-0.9651651899106336,-0.7988245009921736,-1.3406970075836449,0.3404527867871523,0.9651042611806991,0.336691888685937,-0.20854625034952354,-0.13576762613536608,-1.0655860987956474,-0.7184186018795983,0.8931288460174328,0.21132906888006356,-0.826753661948601,-0.6415012829267738,0.3163592292991244,0.05455705196080712,0.3185440413231679,-0.2920006159839012,-0.5405940340260305,-0.2698694977749048,0.5135443132670185,-0.1493646484760646,-1.4159736412253023,-3.396788844648568,0.6305244952795435,0.5389014723629197,0.17390008991304848,0.48318593385141073,-0.6581825518735038,0.20347503426314736,0.521692767296515,-0.4220964590807706,1.0860742448184495,2.2496905794227464,0.7415155182863553,2.107259003062655,0.646663661925784,-0.32273258499387286,-1.274840474845461,-1.4040423165244331],\"xaxis\":\"x4\",\"y\":[-1.344681348367679,-0.25990777378562724,0.615954219350596,-0.3257161686937772,-1.1045124407249927,0.9518151688580743,-0.4414378956070553,0.23744357912241404,0.565882233802471,-1.4537368232448615,-0.3928064280712824,-0.5403655950553611,1.5032156945366153,-1.2813707408278914,0.3790274581122027,0.8030625060619568,0.5778619862717127,0.8821066931085245,1.6011202145953622,0.1494411676678207,-1.2175021564890365,-0.29325724113695045,-2.1132575093678168,-0.9418299903447851,-0.09413179117591249,-0.2212747045116899,0.7746388970054674,-0.8135424045456192,0.12425271139672092,-1.7624704443807377,-0.43129804068089106,-0.20701415863099415,0.1362581079714989,1.0213604292746619,1.4639234917681077,0.06314136905130897,-0.3384283258846109,-1.1690531466628162,0.22232591791165796,-0.5567602604223021,-0.23226829270222443,0.07840895108426076,1.1997614062549575,-0.061344339620039934,-0.39606237695467916,0.03725642793693573,1.2294394862034583,-1.7313239545247834,-0.7441425575409852,-0.7939011286891274,-0.04435819607299003,0.2152874644731718,-2.0602841032029353,0.5644320334268482,-1.659620457878419,0.4784268388998683,0.33245834317874495,1.3878741299306154,0.29292368114595657,1.0201915408457543,0.03445988614890572,0.345844164372107,0.8119328705027892,-0.4839815041109739,1.3833821707367373,0.3752824641912273,1.3529053280861845,0.7265165967816627,0.6486102939924626,0.045696646528161626,1.2169441234170144,1.2929966807127653,-0.33525951367360135,-0.38718286815465025,-0.8582896302412307,-1.2505385219437037,-1.0501771108401305,-0.5929062873971976,0.2823591333624237,0.6458494902237761,1.1087442383410073,-0.6843307181221185,-1.0429217420576782,-0.4615367754647887,-0.11068167099797399,-0.7038412804143902,-0.2936115839181303,-1.4586237497858365,1.1691072424789413,0.5852293860683341,-1.1572138935089535,-1.0601488924464997,-0.1955550192748439,-0.9876856722615701,-0.9680653493598178,0.17596996056280834,-0.5849896655419029,-0.14671716039599272,0.7243684341273524,0.11233490876531009],\"yaxis\":\"y4\",\"type\":\"scatter\"},{\"line\":{\"color\":\"rgba(128, 128, 128, 1.0)\",\"dash\":\"solid\",\"shape\":\"linear\",\"width\":1.3},\"marker\":{\"size\":2,\"symbol\":\"circle\"},\"mode\":\"markers\",\"name\":\"B\",\"text\":\"\",\"x\":[-1.344681348367679,-0.25990777378562724,0.615954219350596,-0.3257161686937772,-1.1045124407249927,0.9518151688580743,-0.4414378956070553,0.23744357912241404,0.565882233802471,-1.4537368232448615,-0.3928064280712824,-0.5403655950553611,1.5032156945366153,-1.2813707408278914,0.3790274581122027,0.8030625060619568,0.5778619862717127,0.8821066931085245,1.6011202145953622,0.1494411676678207,-1.2175021564890365,-0.29325724113695045,-2.1132575093678168,-0.9418299903447851,-0.09413179117591249,-0.2212747045116899,0.7746388970054674,-0.8135424045456192,0.12425271139672092,-1.7624704443807377,-0.43129804068089106,-0.20701415863099415,0.1362581079714989,1.0213604292746619,1.4639234917681077,0.06314136905130897,-0.3384283258846109,-1.1690531466628162,0.22232591791165796,-0.5567602604223021,-0.23226829270222443,0.07840895108426076,1.1997614062549575,-0.061344339620039934,-0.39606237695467916,0.03725642793693573,1.2294394862034583,-1.7313239545247834,-0.7441425575409852,-0.7939011286891274,-0.04435819607299003,0.2152874644731718,-2.0602841032029353,0.5644320334268482,-1.659620457878419,0.4784268388998683,0.33245834317874495,1.3878741299306154,0.29292368114595657,1.0201915408457543,0.03445988614890572,0.345844164372107,0.8119328705027892,-0.4839815041109739,1.3833821707367373,0.3752824641912273,1.3529053280861845,0.7265165967816627,0.6486102939924626,0.045696646528161626,1.2169441234170144,1.2929966807127653,-0.33525951367360135,-0.38718286815465025,-0.8582896302412307,-1.2505385219437037,-1.0501771108401305,-0.5929062873971976,0.2823591333624237,0.6458494902237761,1.1087442383410073,-0.6843307181221185,-1.0429217420576782,-0.4615367754647887,-0.11068167099797399,-0.7038412804143902,-0.2936115839181303,-1.4586237497858365,1.1691072424789413,0.5852293860683341,-1.1572138935089535,-1.0601488924464997,-0.1955550192748439,-0.9876856722615701,-0.9680653493598178,0.17596996056280834,-0.5849896655419029,-0.14671716039599272,0.7243684341273524,0.11233490876531009],\"xaxis\":\"x5\",\"y\":[-0.6141524354932701,-0.42820766641829233,1.560949685067526,-0.016366876742454278,-0.201557182599476,0.9034252832480001,1.1385890108482881,0.4997120911452794,-0.6431276327177393,1.211243606751715,0.2980918040802568,1.6882964191964656,-0.9499289520197146,1.3777101777879859,1.0133737656196418,0.04615459993434687,-0.23562220624719996,-0.8472394318161616,0.9754077003636352,-2.029101759723629,-1.1458437397532513,0.2918229495301508,0.42434195105328415,0.25507369160860566,-1.3105165158007956,0.8056262517408992,2.5038411972897276,0.4425422857014533,0.6834958460784702,-0.8559521501021329,0.704226306192486,0.7689311364426078,-0.1795506562591025,2.478306088606201,-0.2542547549818018,-1.1130974246268486,-0.42565330900895,-0.7882386369038422,-0.6640291687247452,0.263840738476896,1.0077497246504774,1.2773429952090538,0.13115443067251445,0.8818786793607682,2.309893637608007,0.5362686094806232,-1.0308434428294522,0.6849550586723251,-0.3254428018017996,-0.21699088590695828,1.912387014170751,0.17316749761022943,0.28761426771826504,-0.23278602894871162,-0.963319393098557,-0.3489916955291253,0.26012760903033044,-0.835833333730869,-1.5623598399882572,-0.48015350615792085,-0.11944754740327732,0.026295999513213333,-1.6066286927087363,0.5199063448102765,0.8664172542597003,-1.1601858683315638,-0.5774002796857021,-1.8834974470349524,-0.15062404083992648,0.05426744786494283,-0.5972182687637029,0.35686556322641216,0.48590074900782715,-2.071759239609643,0.7618499638282232,0.7723607083493977,-0.7630381986102769,0.7214067351798614,-0.6321096643468237,0.9400889761716075,-0.40196691099382936,0.5046896317639424,-0.7693827819522933,1.9337472141346586,1.59623155576546,-0.19753941417329646,1.3088444111805233,0.33406737873388115,-0.38386304887850126,-1.0559312901442477,1.477786415541574,-0.8874523338969589,0.05986850818355528,-1.4419205278408251,1.2693587674606999,-0.16826747808312903,0.7558397102656929,-0.04481720578448385,0.12303505012631975,0.1151332956318505],\"yaxis\":\"y5\",\"type\":\"scatter\"},{\"histfunc\":\"count\",\"histnorm\":\"\",\"marker\":{\"color\":\"rgba(55, 128, 191, 1.0)\",\"line\":{\"color\":\"#4D5663\",\"width\":1.3}},\"name\":\"B\",\"nbinsx\":10,\"opacity\":0.8,\"orientation\":\"v\",\"x\":[-0.6141524354932701,-0.42820766641829233,1.560949685067526,-0.016366876742454278,-0.201557182599476,0.9034252832480001,1.1385890108482881,0.4997120911452794,-0.6431276327177393,1.211243606751715,0.2980918040802568,1.6882964191964656,-0.9499289520197146,1.3777101777879859,1.0133737656196418,0.04615459993434687,-0.23562220624719996,-0.8472394318161616,0.9754077003636352,-2.029101759723629,-1.1458437397532513,0.2918229495301508,0.42434195105328415,0.25507369160860566,-1.3105165158007956,0.8056262517408992,2.5038411972897276,0.4425422857014533,0.6834958460784702,-0.8559521501021329,0.704226306192486,0.7689311364426078,-0.1795506562591025,2.478306088606201,-0.2542547549818018,-1.1130974246268486,-0.42565330900895,-0.7882386369038422,-0.6640291687247452,0.263840738476896,1.0077497246504774,1.2773429952090538,0.13115443067251445,0.8818786793607682,2.309893637608007,0.5362686094806232,-1.0308434428294522,0.6849550586723251,-0.3254428018017996,-0.21699088590695828,1.912387014170751,0.17316749761022943,0.28761426771826504,-0.23278602894871162,-0.963319393098557,-0.3489916955291253,0.26012760903033044,-0.835833333730869,-1.5623598399882572,-0.48015350615792085,-0.11944754740327732,0.026295999513213333,-1.6066286927087363,0.5199063448102765,0.8664172542597003,-1.1601858683315638,-0.5774002796857021,-1.8834974470349524,-0.15062404083992648,0.05426744786494283,-0.5972182687637029,0.35686556322641216,0.48590074900782715,-2.071759239609643,0.7618499638282232,0.7723607083493977,-0.7630381986102769,0.7214067351798614,-0.6321096643468237,0.9400889761716075,-0.40196691099382936,0.5046896317639424,-0.7693827819522933,1.9337472141346586,1.59623155576546,-0.19753941417329646,1.3088444111805233,0.33406737873388115,-0.38386304887850126,-1.0559312901442477,1.477786415541574,-0.8874523338969589,0.05986850818355528,-1.4419205278408251,1.2693587674606999,-0.16826747808312903,0.7558397102656929,-0.04481720578448385,0.12303505012631975,0.1151332956318505],\"xaxis\":\"x6\",\"yaxis\":\"y6\",\"type\":\"histogram\"},{\"line\":{\"color\":\"rgba(128, 128, 128, 1.0)\",\"dash\":\"solid\",\"shape\":\"linear\",\"width\":1.3},\"marker\":{\"size\":2,\"symbol\":\"circle\"},\"mode\":\"markers\",\"name\":\"B\",\"text\":\"\",\"x\":[-0.004602126376671534,0.7906478443511011,-0.035907055804841416,0.6162073812205189,-0.15411786141920017,1.0432325764890658,0.15875089933699738,1.0485903404209278,1.3584688101500115,-0.18568863866363708,1.024429069478142,0.03508335587091298,0.12680148268351565,-0.8381025346208154,1.6509853528724419,-2.610416885100769,0.1911872787595519,-0.7307750804771178,-0.5047936592518879,0.5076199743661762,-1.10909545136408,-0.707829744050525,-0.8166326868067334,0.7389768468667057,0.5341624279288895,-0.35574788492921,-0.5091770344246631,0.06883626868889432,-0.3219552863613442,-1.8424635663226514,0.705487546787549,0.3839234179789261,-1.722276908165648,1.1775778569296815,-0.2317496548327862,-2.0089607177490874,-0.3013666179623187,0.17486062905347513,-1.7600340542851998,0.45900617777975394,-1.440096654501015,0.425913569227976,-1.0277964739925105,-1.1191267067330761,-0.7001824962208916,-0.1267048764023624,-1.2017618350835702,0.07055781999006643,1.0347918650088845,-0.6745460377394736,-1.1730293777437337,-0.8961721931428671,-1.5149779998004103,0.9532291580822488,-0.6090837124882493,0.3227411219291712,-0.7102963110757138,0.9685976917922305,-1.6273564555122586,-0.26997632232261687,0.4664305003984084,-1.7148980989186615,-2.085838693728071,-0.47981762591576077,-1.4309049091324033,1.0607521681543464,-0.6815143040753355,0.6645812603974416,0.9860810645643229,0.2563569447942735,-2.1423037111768606,-1.0732088115948388,0.7108485369044182,-0.8731263881570848,0.5153511281340232,-1.3326420229312512,0.6345748561404732,0.6747922312219352,0.9220435111487199,0.8145414998684721,1.4494024251322482,-0.4046105499541477,0.9709078148000081,0.4560123319181205,-1.1688834854598367,-1.2339339772171016,-0.6403237776679068,1.6006853725989272,2.142474940540785,0.8456718040154797,-1.297547299398099,-1.7842878023837354,0.3158782098881666,0.733343427543188,-0.6303723424382413,0.6706642674342359,-0.2017611276899,-0.9683908013715276,0.15720943472838078,-1.050330114936557],\"xaxis\":\"x7\",\"y\":[-0.6141524354932701,-0.42820766641829233,1.560949685067526,-0.016366876742454278,-0.201557182599476,0.9034252832480001,1.1385890108482881,0.4997120911452794,-0.6431276327177393,1.211243606751715,0.2980918040802568,1.6882964191964656,-0.9499289520197146,1.3777101777879859,1.0133737656196418,0.04615459993434687,-0.23562220624719996,-0.8472394318161616,0.9754077003636352,-2.029101759723629,-1.1458437397532513,0.2918229495301508,0.42434195105328415,0.25507369160860566,-1.3105165158007956,0.8056262517408992,2.5038411972897276,0.4425422857014533,0.6834958460784702,-0.8559521501021329,0.704226306192486,0.7689311364426078,-0.1795506562591025,2.478306088606201,-0.2542547549818018,-1.1130974246268486,-0.42565330900895,-0.7882386369038422,-0.6640291687247452,0.263840738476896,1.0077497246504774,1.2773429952090538,0.13115443067251445,0.8818786793607682,2.309893637608007,0.5362686094806232,-1.0308434428294522,0.6849550586723251,-0.3254428018017996,-0.21699088590695828,1.912387014170751,0.17316749761022943,0.28761426771826504,-0.23278602894871162,-0.963319393098557,-0.3489916955291253,0.26012760903033044,-0.835833333730869,-1.5623598399882572,-0.48015350615792085,-0.11944754740327732,0.026295999513213333,-1.6066286927087363,0.5199063448102765,0.8664172542597003,-1.1601858683315638,-0.5774002796857021,-1.8834974470349524,-0.15062404083992648,0.05426744786494283,-0.5972182687637029,0.35686556322641216,0.48590074900782715,-2.071759239609643,0.7618499638282232,0.7723607083493977,-0.7630381986102769,0.7214067351798614,-0.6321096643468237,0.9400889761716075,-0.40196691099382936,0.5046896317639424,-0.7693827819522933,1.9337472141346586,1.59623155576546,-0.19753941417329646,1.3088444111805233,0.33406737873388115,-0.38386304887850126,-1.0559312901442477,1.477786415541574,-0.8874523338969589,0.05986850818355528,-1.4419205278408251,1.2693587674606999,-0.16826747808312903,0.7558397102656929,-0.04481720578448385,0.12303505012631975,0.1151332956318505],\"yaxis\":\"y7\",\"type\":\"scatter\"},{\"line\":{\"color\":\"rgba(128, 128, 128, 1.0)\",\"dash\":\"solid\",\"shape\":\"linear\",\"width\":1.3},\"marker\":{\"size\":2,\"symbol\":\"circle\"},\"mode\":\"markers\",\"name\":\"B\",\"text\":\"\",\"x\":[-1.019845215214495,0.9877365302007481,-0.0002414153394359693,-0.3009501718907436,0.1528442192960556,1.7890215572223451,-0.3454828690527688,-0.7593304970099077,-0.2775213687255191,-0.47532516608440006,-0.9407390147047427,-1.0174709109479707,-1.5410786576195166,1.9010489460488615,1.1669329183116255,0.4698063482772931,0.6334745645586914,0.7395872832006877,1.2240932267865363,0.28419099859882874,-0.38261827168055274,-1.5730169000129444,-0.7944902925941919,-0.2528416989339552,0.02980206847738622,-0.422520505014938,0.7580509845907341,0.6295685319924799,0.531485957750703,0.9878349474892661,1.3805586170671806,-0.12134514520015137,-0.5134730868306024,-0.942085599306493,-0.8881506155594552,0.4380161427336133,-0.4193809036577704,0.16270549763488104,0.2949415737555115,-1.8002092129017204,1.0325806898691992,0.00670669274356046,-0.9302179219499509,-0.13934945945801333,0.8072901555704782,0.6953197102896636,-0.06345113597472722,0.1705548052314656,1.5922627470855404,0.27453688113298574,2.2978586259985168,0.8046195688779062,-1.2925537502223432,-0.08416500059625354,-0.282181149795798,-1.0964464318109248,0.5751885156977874,-0.7090710518256257,-2.3148965073348706,1.0734728539838683,-0.9651651899106336,-0.7988245009921736,-1.3406970075836449,0.3404527867871523,0.9651042611806991,0.336691888685937,-0.20854625034952354,-0.13576762613536608,-1.0655860987956474,-0.7184186018795983,0.8931288460174328,0.21132906888006356,-0.826753661948601,-0.6415012829267738,0.3163592292991244,0.05455705196080712,0.3185440413231679,-0.2920006159839012,-0.5405940340260305,-0.2698694977749048,0.5135443132670185,-0.1493646484760646,-1.4159736412253023,-3.396788844648568,0.6305244952795435,0.5389014723629197,0.17390008991304848,0.48318593385141073,-0.6581825518735038,0.20347503426314736,0.521692767296515,-0.4220964590807706,1.0860742448184495,2.2496905794227464,0.7415155182863553,2.107259003062655,0.646663661925784,-0.32273258499387286,-1.274840474845461,-1.4040423165244331],\"xaxis\":\"x8\",\"y\":[-0.6141524354932701,-0.42820766641829233,1.560949685067526,-0.016366876742454278,-0.201557182599476,0.9034252832480001,1.1385890108482881,0.4997120911452794,-0.6431276327177393,1.211243606751715,0.2980918040802568,1.6882964191964656,-0.9499289520197146,1.3777101777879859,1.0133737656196418,0.04615459993434687,-0.23562220624719996,-0.8472394318161616,0.9754077003636352,-2.029101759723629,-1.1458437397532513,0.2918229495301508,0.42434195105328415,0.25507369160860566,-1.3105165158007956,0.8056262517408992,2.5038411972897276,0.4425422857014533,0.6834958460784702,-0.8559521501021329,0.704226306192486,0.7689311364426078,-0.1795506562591025,2.478306088606201,-0.2542547549818018,-1.1130974246268486,-0.42565330900895,-0.7882386369038422,-0.6640291687247452,0.263840738476896,1.0077497246504774,1.2773429952090538,0.13115443067251445,0.8818786793607682,2.309893637608007,0.5362686094806232,-1.0308434428294522,0.6849550586723251,-0.3254428018017996,-0.21699088590695828,1.912387014170751,0.17316749761022943,0.28761426771826504,-0.23278602894871162,-0.963319393098557,-0.3489916955291253,0.26012760903033044,-0.835833333730869,-1.5623598399882572,-0.48015350615792085,-0.11944754740327732,0.026295999513213333,-1.6066286927087363,0.5199063448102765,0.8664172542597003,-1.1601858683315638,-0.5774002796857021,-1.8834974470349524,-0.15062404083992648,0.05426744786494283,-0.5972182687637029,0.35686556322641216,0.48590074900782715,-2.071759239609643,0.7618499638282232,0.7723607083493977,-0.7630381986102769,0.7214067351798614,-0.6321096643468237,0.9400889761716075,-0.40196691099382936,0.5046896317639424,-0.7693827819522933,1.9337472141346586,1.59623155576546,-0.19753941417329646,1.3088444111805233,0.33406737873388115,-0.38386304887850126,-1.0559312901442477,1.477786415541574,-0.8874523338969589,0.05986850818355528,-1.4419205278408251,1.2693587674606999,-0.16826747808312903,0.7558397102656929,-0.04481720578448385,0.12303505012631975,0.1151332956318505],\"yaxis\":\"y8\",\"type\":\"scatter\"},{\"line\":{\"color\":\"rgba(128, 128, 128, 1.0)\",\"dash\":\"solid\",\"shape\":\"linear\",\"width\":1.3},\"marker\":{\"size\":2,\"symbol\":\"circle\"},\"mode\":\"markers\",\"name\":\"C\",\"text\":\"\",\"x\":[-1.344681348367679,-0.25990777378562724,0.615954219350596,-0.3257161686937772,-1.1045124407249927,0.9518151688580743,-0.4414378956070553,0.23744357912241404,0.565882233802471,-1.4537368232448615,-0.3928064280712824,-0.5403655950553611,1.5032156945366153,-1.2813707408278914,0.3790274581122027,0.8030625060619568,0.5778619862717127,0.8821066931085245,1.6011202145953622,0.1494411676678207,-1.2175021564890365,-0.29325724113695045,-2.1132575093678168,-0.9418299903447851,-0.09413179117591249,-0.2212747045116899,0.7746388970054674,-0.8135424045456192,0.12425271139672092,-1.7624704443807377,-0.43129804068089106,-0.20701415863099415,0.1362581079714989,1.0213604292746619,1.4639234917681077,0.06314136905130897,-0.3384283258846109,-1.1690531466628162,0.22232591791165796,-0.5567602604223021,-0.23226829270222443,0.07840895108426076,1.1997614062549575,-0.061344339620039934,-0.39606237695467916,0.03725642793693573,1.2294394862034583,-1.7313239545247834,-0.7441425575409852,-0.7939011286891274,-0.04435819607299003,0.2152874644731718,-2.0602841032029353,0.5644320334268482,-1.659620457878419,0.4784268388998683,0.33245834317874495,1.3878741299306154,0.29292368114595657,1.0201915408457543,0.03445988614890572,0.345844164372107,0.8119328705027892,-0.4839815041109739,1.3833821707367373,0.3752824641912273,1.3529053280861845,0.7265165967816627,0.6486102939924626,0.045696646528161626,1.2169441234170144,1.2929966807127653,-0.33525951367360135,-0.38718286815465025,-0.8582896302412307,-1.2505385219437037,-1.0501771108401305,-0.5929062873971976,0.2823591333624237,0.6458494902237761,1.1087442383410073,-0.6843307181221185,-1.0429217420576782,-0.4615367754647887,-0.11068167099797399,-0.7038412804143902,-0.2936115839181303,-1.4586237497858365,1.1691072424789413,0.5852293860683341,-1.1572138935089535,-1.0601488924464997,-0.1955550192748439,-0.9876856722615701,-0.9680653493598178,0.17596996056280834,-0.5849896655419029,-0.14671716039599272,0.7243684341273524,0.11233490876531009],\"xaxis\":\"x9\",\"y\":[-0.004602126376671534,0.7906478443511011,-0.035907055804841416,0.6162073812205189,-0.15411786141920017,1.0432325764890658,0.15875089933699738,1.0485903404209278,1.3584688101500115,-0.18568863866363708,1.024429069478142,0.03508335587091298,0.12680148268351565,-0.8381025346208154,1.6509853528724419,-2.610416885100769,0.1911872787595519,-0.7307750804771178,-0.5047936592518879,0.5076199743661762,-1.10909545136408,-0.707829744050525,-0.8166326868067334,0.7389768468667057,0.5341624279288895,-0.35574788492921,-0.5091770344246631,0.06883626868889432,-0.3219552863613442,-1.8424635663226514,0.705487546787549,0.3839234179789261,-1.722276908165648,1.1775778569296815,-0.2317496548327862,-2.0089607177490874,-0.3013666179623187,0.17486062905347513,-1.7600340542851998,0.45900617777975394,-1.440096654501015,0.425913569227976,-1.0277964739925105,-1.1191267067330761,-0.7001824962208916,-0.1267048764023624,-1.2017618350835702,0.07055781999006643,1.0347918650088845,-0.6745460377394736,-1.1730293777437337,-0.8961721931428671,-1.5149779998004103,0.9532291580822488,-0.6090837124882493,0.3227411219291712,-0.7102963110757138,0.9685976917922305,-1.6273564555122586,-0.26997632232261687,0.4664305003984084,-1.7148980989186615,-2.085838693728071,-0.47981762591576077,-1.4309049091324033,1.0607521681543464,-0.6815143040753355,0.6645812603974416,0.9860810645643229,0.2563569447942735,-2.1423037111768606,-1.0732088115948388,0.7108485369044182,-0.8731263881570848,0.5153511281340232,-1.3326420229312512,0.6345748561404732,0.6747922312219352,0.9220435111487199,0.8145414998684721,1.4494024251322482,-0.4046105499541477,0.9709078148000081,0.4560123319181205,-1.1688834854598367,-1.2339339772171016,-0.6403237776679068,1.6006853725989272,2.142474940540785,0.8456718040154797,-1.297547299398099,-1.7842878023837354,0.3158782098881666,0.733343427543188,-0.6303723424382413,0.6706642674342359,-0.2017611276899,-0.9683908013715276,0.15720943472838078,-1.050330114936557],\"yaxis\":\"y9\",\"type\":\"scatter\"},{\"line\":{\"color\":\"rgba(128, 128, 128, 1.0)\",\"dash\":\"solid\",\"shape\":\"linear\",\"width\":1.3},\"marker\":{\"size\":2,\"symbol\":\"circle\"},\"mode\":\"markers\",\"name\":\"C\",\"text\":\"\",\"x\":[-0.6141524354932701,-0.42820766641829233,1.560949685067526,-0.016366876742454278,-0.201557182599476,0.9034252832480001,1.1385890108482881,0.4997120911452794,-0.6431276327177393,1.211243606751715,0.2980918040802568,1.6882964191964656,-0.9499289520197146,1.3777101777879859,1.0133737656196418,0.04615459993434687,-0.23562220624719996,-0.8472394318161616,0.9754077003636352,-2.029101759723629,-1.1458437397532513,0.2918229495301508,0.42434195105328415,0.25507369160860566,-1.3105165158007956,0.8056262517408992,2.5038411972897276,0.4425422857014533,0.6834958460784702,-0.8559521501021329,0.704226306192486,0.7689311364426078,-0.1795506562591025,2.478306088606201,-0.2542547549818018,-1.1130974246268486,-0.42565330900895,-0.7882386369038422,-0.6640291687247452,0.263840738476896,1.0077497246504774,1.2773429952090538,0.13115443067251445,0.8818786793607682,2.309893637608007,0.5362686094806232,-1.0308434428294522,0.6849550586723251,-0.3254428018017996,-0.21699088590695828,1.912387014170751,0.17316749761022943,0.28761426771826504,-0.23278602894871162,-0.963319393098557,-0.3489916955291253,0.26012760903033044,-0.835833333730869,-1.5623598399882572,-0.48015350615792085,-0.11944754740327732,0.026295999513213333,-1.6066286927087363,0.5199063448102765,0.8664172542597003,-1.1601858683315638,-0.5774002796857021,-1.8834974470349524,-0.15062404083992648,0.05426744786494283,-0.5972182687637029,0.35686556322641216,0.48590074900782715,-2.071759239609643,0.7618499638282232,0.7723607083493977,-0.7630381986102769,0.7214067351798614,-0.6321096643468237,0.9400889761716075,-0.40196691099382936,0.5046896317639424,-0.7693827819522933,1.9337472141346586,1.59623155576546,-0.19753941417329646,1.3088444111805233,0.33406737873388115,-0.38386304887850126,-1.0559312901442477,1.477786415541574,-0.8874523338969589,0.05986850818355528,-1.4419205278408251,1.2693587674606999,-0.16826747808312903,0.7558397102656929,-0.04481720578448385,0.12303505012631975,0.1151332956318505],\"xaxis\":\"x10\",\"y\":[-0.004602126376671534,0.7906478443511011,-0.035907055804841416,0.6162073812205189,-0.15411786141920017,1.0432325764890658,0.15875089933699738,1.0485903404209278,1.3584688101500115,-0.18568863866363708,1.024429069478142,0.03508335587091298,0.12680148268351565,-0.8381025346208154,1.6509853528724419,-2.610416885100769,0.1911872787595519,-0.7307750804771178,-0.5047936592518879,0.5076199743661762,-1.10909545136408,-0.707829744050525,-0.8166326868067334,0.7389768468667057,0.5341624279288895,-0.35574788492921,-0.5091770344246631,0.06883626868889432,-0.3219552863613442,-1.8424635663226514,0.705487546787549,0.3839234179789261,-1.722276908165648,1.1775778569296815,-0.2317496548327862,-2.0089607177490874,-0.3013666179623187,0.17486062905347513,-1.7600340542851998,0.45900617777975394,-1.440096654501015,0.425913569227976,-1.0277964739925105,-1.1191267067330761,-0.7001824962208916,-0.1267048764023624,-1.2017618350835702,0.07055781999006643,1.0347918650088845,-0.6745460377394736,-1.1730293777437337,-0.8961721931428671,-1.5149779998004103,0.9532291580822488,-0.6090837124882493,0.3227411219291712,-0.7102963110757138,0.9685976917922305,-1.6273564555122586,-0.26997632232261687,0.4664305003984084,-1.7148980989186615,-2.085838693728071,-0.47981762591576077,-1.4309049091324033,1.0607521681543464,-0.6815143040753355,0.6645812603974416,0.9860810645643229,0.2563569447942735,-2.1423037111768606,-1.0732088115948388,0.7108485369044182,-0.8731263881570848,0.5153511281340232,-1.3326420229312512,0.6345748561404732,0.6747922312219352,0.9220435111487199,0.8145414998684721,1.4494024251322482,-0.4046105499541477,0.9709078148000081,0.4560123319181205,-1.1688834854598367,-1.2339339772171016,-0.6403237776679068,1.6006853725989272,2.142474940540785,0.8456718040154797,-1.297547299398099,-1.7842878023837354,0.3158782098881666,0.733343427543188,-0.6303723424382413,0.6706642674342359,-0.2017611276899,-0.9683908013715276,0.15720943472838078,-1.050330114936557],\"yaxis\":\"y10\",\"type\":\"scatter\"},{\"histfunc\":\"count\",\"histnorm\":\"\",\"marker\":{\"color\":\"rgba(50, 171, 96, 1.0)\",\"line\":{\"color\":\"#4D5663\",\"width\":1.3}},\"name\":\"C\",\"nbinsx\":10,\"opacity\":0.8,\"orientation\":\"v\",\"x\":[-0.004602126376671534,0.7906478443511011,-0.035907055804841416,0.6162073812205189,-0.15411786141920017,1.0432325764890658,0.15875089933699738,1.0485903404209278,1.3584688101500115,-0.18568863866363708,1.024429069478142,0.03508335587091298,0.12680148268351565,-0.8381025346208154,1.6509853528724419,-2.610416885100769,0.1911872787595519,-0.7307750804771178,-0.5047936592518879,0.5076199743661762,-1.10909545136408,-0.707829744050525,-0.8166326868067334,0.7389768468667057,0.5341624279288895,-0.35574788492921,-0.5091770344246631,0.06883626868889432,-0.3219552863613442,-1.8424635663226514,0.705487546787549,0.3839234179789261,-1.722276908165648,1.1775778569296815,-0.2317496548327862,-2.0089607177490874,-0.3013666179623187,0.17486062905347513,-1.7600340542851998,0.45900617777975394,-1.440096654501015,0.425913569227976,-1.0277964739925105,-1.1191267067330761,-0.7001824962208916,-0.1267048764023624,-1.2017618350835702,0.07055781999006643,1.0347918650088845,-0.6745460377394736,-1.1730293777437337,-0.8961721931428671,-1.5149779998004103,0.9532291580822488,-0.6090837124882493,0.3227411219291712,-0.7102963110757138,0.9685976917922305,-1.6273564555122586,-0.26997632232261687,0.4664305003984084,-1.7148980989186615,-2.085838693728071,-0.47981762591576077,-1.4309049091324033,1.0607521681543464,-0.6815143040753355,0.6645812603974416,0.9860810645643229,0.2563569447942735,-2.1423037111768606,-1.0732088115948388,0.7108485369044182,-0.8731263881570848,0.5153511281340232,-1.3326420229312512,0.6345748561404732,0.6747922312219352,0.9220435111487199,0.8145414998684721,1.4494024251322482,-0.4046105499541477,0.9709078148000081,0.4560123319181205,-1.1688834854598367,-1.2339339772171016,-0.6403237776679068,1.6006853725989272,2.142474940540785,0.8456718040154797,-1.297547299398099,-1.7842878023837354,0.3158782098881666,0.733343427543188,-0.6303723424382413,0.6706642674342359,-0.2017611276899,-0.9683908013715276,0.15720943472838078,-1.050330114936557],\"xaxis\":\"x11\",\"yaxis\":\"y11\",\"type\":\"histogram\"},{\"line\":{\"color\":\"rgba(128, 128, 128, 1.0)\",\"dash\":\"solid\",\"shape\":\"linear\",\"width\":1.3},\"marker\":{\"size\":2,\"symbol\":\"circle\"},\"mode\":\"markers\",\"name\":\"C\",\"text\":\"\",\"x\":[-1.019845215214495,0.9877365302007481,-0.0002414153394359693,-0.3009501718907436,0.1528442192960556,1.7890215572223451,-0.3454828690527688,-0.7593304970099077,-0.2775213687255191,-0.47532516608440006,-0.9407390147047427,-1.0174709109479707,-1.5410786576195166,1.9010489460488615,1.1669329183116255,0.4698063482772931,0.6334745645586914,0.7395872832006877,1.2240932267865363,0.28419099859882874,-0.38261827168055274,-1.5730169000129444,-0.7944902925941919,-0.2528416989339552,0.02980206847738622,-0.422520505014938,0.7580509845907341,0.6295685319924799,0.531485957750703,0.9878349474892661,1.3805586170671806,-0.12134514520015137,-0.5134730868306024,-0.942085599306493,-0.8881506155594552,0.4380161427336133,-0.4193809036577704,0.16270549763488104,0.2949415737555115,-1.8002092129017204,1.0325806898691992,0.00670669274356046,-0.9302179219499509,-0.13934945945801333,0.8072901555704782,0.6953197102896636,-0.06345113597472722,0.1705548052314656,1.5922627470855404,0.27453688113298574,2.2978586259985168,0.8046195688779062,-1.2925537502223432,-0.08416500059625354,-0.282181149795798,-1.0964464318109248,0.5751885156977874,-0.7090710518256257,-2.3148965073348706,1.0734728539838683,-0.9651651899106336,-0.7988245009921736,-1.3406970075836449,0.3404527867871523,0.9651042611806991,0.336691888685937,-0.20854625034952354,-0.13576762613536608,-1.0655860987956474,-0.7184186018795983,0.8931288460174328,0.21132906888006356,-0.826753661948601,-0.6415012829267738,0.3163592292991244,0.05455705196080712,0.3185440413231679,-0.2920006159839012,-0.5405940340260305,-0.2698694977749048,0.5135443132670185,-0.1493646484760646,-1.4159736412253023,-3.396788844648568,0.6305244952795435,0.5389014723629197,0.17390008991304848,0.48318593385141073,-0.6581825518735038,0.20347503426314736,0.521692767296515,-0.4220964590807706,1.0860742448184495,2.2496905794227464,0.7415155182863553,2.107259003062655,0.646663661925784,-0.32273258499387286,-1.274840474845461,-1.4040423165244331],\"xaxis\":\"x12\",\"y\":[-0.004602126376671534,0.7906478443511011,-0.035907055804841416,0.6162073812205189,-0.15411786141920017,1.0432325764890658,0.15875089933699738,1.0485903404209278,1.3584688101500115,-0.18568863866363708,1.024429069478142,0.03508335587091298,0.12680148268351565,-0.8381025346208154,1.6509853528724419,-2.610416885100769,0.1911872787595519,-0.7307750804771178,-0.5047936592518879,0.5076199743661762,-1.10909545136408,-0.707829744050525,-0.8166326868067334,0.7389768468667057,0.5341624279288895,-0.35574788492921,-0.5091770344246631,0.06883626868889432,-0.3219552863613442,-1.8424635663226514,0.705487546787549,0.3839234179789261,-1.722276908165648,1.1775778569296815,-0.2317496548327862,-2.0089607177490874,-0.3013666179623187,0.17486062905347513,-1.7600340542851998,0.45900617777975394,-1.440096654501015,0.425913569227976,-1.0277964739925105,-1.1191267067330761,-0.7001824962208916,-0.1267048764023624,-1.2017618350835702,0.07055781999006643,1.0347918650088845,-0.6745460377394736,-1.1730293777437337,-0.8961721931428671,-1.5149779998004103,0.9532291580822488,-0.6090837124882493,0.3227411219291712,-0.7102963110757138,0.9685976917922305,-1.6273564555122586,-0.26997632232261687,0.4664305003984084,-1.7148980989186615,-2.085838693728071,-0.47981762591576077,-1.4309049091324033,1.0607521681543464,-0.6815143040753355,0.6645812603974416,0.9860810645643229,0.2563569447942735,-2.1423037111768606,-1.0732088115948388,0.7108485369044182,-0.8731263881570848,0.5153511281340232,-1.3326420229312512,0.6345748561404732,0.6747922312219352,0.9220435111487199,0.8145414998684721,1.4494024251322482,-0.4046105499541477,0.9709078148000081,0.4560123319181205,-1.1688834854598367,-1.2339339772171016,-0.6403237776679068,1.6006853725989272,2.142474940540785,0.8456718040154797,-1.297547299398099,-1.7842878023837354,0.3158782098881666,0.733343427543188,-0.6303723424382413,0.6706642674342359,-0.2017611276899,-0.9683908013715276,0.15720943472838078,-1.050330114936557],\"yaxis\":\"y12\",\"type\":\"scatter\"},{\"line\":{\"color\":\"rgba(128, 128, 128, 1.0)\",\"dash\":\"solid\",\"shape\":\"linear\",\"width\":1.3},\"marker\":{\"size\":2,\"symbol\":\"circle\"},\"mode\":\"markers\",\"name\":\"D\",\"text\":\"\",\"x\":[-1.344681348367679,-0.25990777378562724,0.615954219350596,-0.3257161686937772,-1.1045124407249927,0.9518151688580743,-0.4414378956070553,0.23744357912241404,0.565882233802471,-1.4537368232448615,-0.3928064280712824,-0.5403655950553611,1.5032156945366153,-1.2813707408278914,0.3790274581122027,0.8030625060619568,0.5778619862717127,0.8821066931085245,1.6011202145953622,0.1494411676678207,-1.2175021564890365,-0.29325724113695045,-2.1132575093678168,-0.9418299903447851,-0.09413179117591249,-0.2212747045116899,0.7746388970054674,-0.8135424045456192,0.12425271139672092,-1.7624704443807377,-0.43129804068089106,-0.20701415863099415,0.1362581079714989,1.0213604292746619,1.4639234917681077,0.06314136905130897,-0.3384283258846109,-1.1690531466628162,0.22232591791165796,-0.5567602604223021,-0.23226829270222443,0.07840895108426076,1.1997614062549575,-0.061344339620039934,-0.39606237695467916,0.03725642793693573,1.2294394862034583,-1.7313239545247834,-0.7441425575409852,-0.7939011286891274,-0.04435819607299003,0.2152874644731718,-2.0602841032029353,0.5644320334268482,-1.659620457878419,0.4784268388998683,0.33245834317874495,1.3878741299306154,0.29292368114595657,1.0201915408457543,0.03445988614890572,0.345844164372107,0.8119328705027892,-0.4839815041109739,1.3833821707367373,0.3752824641912273,1.3529053280861845,0.7265165967816627,0.6486102939924626,0.045696646528161626,1.2169441234170144,1.2929966807127653,-0.33525951367360135,-0.38718286815465025,-0.8582896302412307,-1.2505385219437037,-1.0501771108401305,-0.5929062873971976,0.2823591333624237,0.6458494902237761,1.1087442383410073,-0.6843307181221185,-1.0429217420576782,-0.4615367754647887,-0.11068167099797399,-0.7038412804143902,-0.2936115839181303,-1.4586237497858365,1.1691072424789413,0.5852293860683341,-1.1572138935089535,-1.0601488924464997,-0.1955550192748439,-0.9876856722615701,-0.9680653493598178,0.17596996056280834,-0.5849896655419029,-0.14671716039599272,0.7243684341273524,0.11233490876531009],\"xaxis\":\"x13\",\"y\":[-1.019845215214495,0.9877365302007481,-0.0002414153394359693,-0.3009501718907436,0.1528442192960556,1.7890215572223451,-0.3454828690527688,-0.7593304970099077,-0.2775213687255191,-0.47532516608440006,-0.9407390147047427,-1.0174709109479707,-1.5410786576195166,1.9010489460488615,1.1669329183116255,0.4698063482772931,0.6334745645586914,0.7395872832006877,1.2240932267865363,0.28419099859882874,-0.38261827168055274,-1.5730169000129444,-0.7944902925941919,-0.2528416989339552,0.02980206847738622,-0.422520505014938,0.7580509845907341,0.6295685319924799,0.531485957750703,0.9878349474892661,1.3805586170671806,-0.12134514520015137,-0.5134730868306024,-0.942085599306493,-0.8881506155594552,0.4380161427336133,-0.4193809036577704,0.16270549763488104,0.2949415737555115,-1.8002092129017204,1.0325806898691992,0.00670669274356046,-0.9302179219499509,-0.13934945945801333,0.8072901555704782,0.6953197102896636,-0.06345113597472722,0.1705548052314656,1.5922627470855404,0.27453688113298574,2.2978586259985168,0.8046195688779062,-1.2925537502223432,-0.08416500059625354,-0.282181149795798,-1.0964464318109248,0.5751885156977874,-0.7090710518256257,-2.3148965073348706,1.0734728539838683,-0.9651651899106336,-0.7988245009921736,-1.3406970075836449,0.3404527867871523,0.9651042611806991,0.336691888685937,-0.20854625034952354,-0.13576762613536608,-1.0655860987956474,-0.7184186018795983,0.8931288460174328,0.21132906888006356,-0.826753661948601,-0.6415012829267738,0.3163592292991244,0.05455705196080712,0.3185440413231679,-0.2920006159839012,-0.5405940340260305,-0.2698694977749048,0.5135443132670185,-0.1493646484760646,-1.4159736412253023,-3.396788844648568,0.6305244952795435,0.5389014723629197,0.17390008991304848,0.48318593385141073,-0.6581825518735038,0.20347503426314736,0.521692767296515,-0.4220964590807706,1.0860742448184495,2.2496905794227464,0.7415155182863553,2.107259003062655,0.646663661925784,-0.32273258499387286,-1.274840474845461,-1.4040423165244331],\"yaxis\":\"y13\",\"type\":\"scatter\"},{\"line\":{\"color\":\"rgba(128, 128, 128, 1.0)\",\"dash\":\"solid\",\"shape\":\"linear\",\"width\":1.3},\"marker\":{\"size\":2,\"symbol\":\"circle\"},\"mode\":\"markers\",\"name\":\"D\",\"text\":\"\",\"x\":[-0.6141524354932701,-0.42820766641829233,1.560949685067526,-0.016366876742454278,-0.201557182599476,0.9034252832480001,1.1385890108482881,0.4997120911452794,-0.6431276327177393,1.211243606751715,0.2980918040802568,1.6882964191964656,-0.9499289520197146,1.3777101777879859,1.0133737656196418,0.04615459993434687,-0.23562220624719996,-0.8472394318161616,0.9754077003636352,-2.029101759723629,-1.1458437397532513,0.2918229495301508,0.42434195105328415,0.25507369160860566,-1.3105165158007956,0.8056262517408992,2.5038411972897276,0.4425422857014533,0.6834958460784702,-0.8559521501021329,0.704226306192486,0.7689311364426078,-0.1795506562591025,2.478306088606201,-0.2542547549818018,-1.1130974246268486,-0.42565330900895,-0.7882386369038422,-0.6640291687247452,0.263840738476896,1.0077497246504774,1.2773429952090538,0.13115443067251445,0.8818786793607682,2.309893637608007,0.5362686094806232,-1.0308434428294522,0.6849550586723251,-0.3254428018017996,-0.21699088590695828,1.912387014170751,0.17316749761022943,0.28761426771826504,-0.23278602894871162,-0.963319393098557,-0.3489916955291253,0.26012760903033044,-0.835833333730869,-1.5623598399882572,-0.48015350615792085,-0.11944754740327732,0.026295999513213333,-1.6066286927087363,0.5199063448102765,0.8664172542597003,-1.1601858683315638,-0.5774002796857021,-1.8834974470349524,-0.15062404083992648,0.05426744786494283,-0.5972182687637029,0.35686556322641216,0.48590074900782715,-2.071759239609643,0.7618499638282232,0.7723607083493977,-0.7630381986102769,0.7214067351798614,-0.6321096643468237,0.9400889761716075,-0.40196691099382936,0.5046896317639424,-0.7693827819522933,1.9337472141346586,1.59623155576546,-0.19753941417329646,1.3088444111805233,0.33406737873388115,-0.38386304887850126,-1.0559312901442477,1.477786415541574,-0.8874523338969589,0.05986850818355528,-1.4419205278408251,1.2693587674606999,-0.16826747808312903,0.7558397102656929,-0.04481720578448385,0.12303505012631975,0.1151332956318505],\"xaxis\":\"x14\",\"y\":[-1.019845215214495,0.9877365302007481,-0.0002414153394359693,-0.3009501718907436,0.1528442192960556,1.7890215572223451,-0.3454828690527688,-0.7593304970099077,-0.2775213687255191,-0.47532516608440006,-0.9407390147047427,-1.0174709109479707,-1.5410786576195166,1.9010489460488615,1.1669329183116255,0.4698063482772931,0.6334745645586914,0.7395872832006877,1.2240932267865363,0.28419099859882874,-0.38261827168055274,-1.5730169000129444,-0.7944902925941919,-0.2528416989339552,0.02980206847738622,-0.422520505014938,0.7580509845907341,0.6295685319924799,0.531485957750703,0.9878349474892661,1.3805586170671806,-0.12134514520015137,-0.5134730868306024,-0.942085599306493,-0.8881506155594552,0.4380161427336133,-0.4193809036577704,0.16270549763488104,0.2949415737555115,-1.8002092129017204,1.0325806898691992,0.00670669274356046,-0.9302179219499509,-0.13934945945801333,0.8072901555704782,0.6953197102896636,-0.06345113597472722,0.1705548052314656,1.5922627470855404,0.27453688113298574,2.2978586259985168,0.8046195688779062,-1.2925537502223432,-0.08416500059625354,-0.282181149795798,-1.0964464318109248,0.5751885156977874,-0.7090710518256257,-2.3148965073348706,1.0734728539838683,-0.9651651899106336,-0.7988245009921736,-1.3406970075836449,0.3404527867871523,0.9651042611806991,0.336691888685937,-0.20854625034952354,-0.13576762613536608,-1.0655860987956474,-0.7184186018795983,0.8931288460174328,0.21132906888006356,-0.826753661948601,-0.6415012829267738,0.3163592292991244,0.05455705196080712,0.3185440413231679,-0.2920006159839012,-0.5405940340260305,-0.2698694977749048,0.5135443132670185,-0.1493646484760646,-1.4159736412253023,-3.396788844648568,0.6305244952795435,0.5389014723629197,0.17390008991304848,0.48318593385141073,-0.6581825518735038,0.20347503426314736,0.521692767296515,-0.4220964590807706,1.0860742448184495,2.2496905794227464,0.7415155182863553,2.107259003062655,0.646663661925784,-0.32273258499387286,-1.274840474845461,-1.4040423165244331],\"yaxis\":\"y14\",\"type\":\"scatter\"},{\"line\":{\"color\":\"rgba(128, 128, 128, 1.0)\",\"dash\":\"solid\",\"shape\":\"linear\",\"width\":1.3},\"marker\":{\"size\":2,\"symbol\":\"circle\"},\"mode\":\"markers\",\"name\":\"D\",\"text\":\"\",\"x\":[-0.004602126376671534,0.7906478443511011,-0.035907055804841416,0.6162073812205189,-0.15411786141920017,1.0432325764890658,0.15875089933699738,1.0485903404209278,1.3584688101500115,-0.18568863866363708,1.024429069478142,0.03508335587091298,0.12680148268351565,-0.8381025346208154,1.6509853528724419,-2.610416885100769,0.1911872787595519,-0.7307750804771178,-0.5047936592518879,0.5076199743661762,-1.10909545136408,-0.707829744050525,-0.8166326868067334,0.7389768468667057,0.5341624279288895,-0.35574788492921,-0.5091770344246631,0.06883626868889432,-0.3219552863613442,-1.8424635663226514,0.705487546787549,0.3839234179789261,-1.722276908165648,1.1775778569296815,-0.2317496548327862,-2.0089607177490874,-0.3013666179623187,0.17486062905347513,-1.7600340542851998,0.45900617777975394,-1.440096654501015,0.425913569227976,-1.0277964739925105,-1.1191267067330761,-0.7001824962208916,-0.1267048764023624,-1.2017618350835702,0.07055781999006643,1.0347918650088845,-0.6745460377394736,-1.1730293777437337,-0.8961721931428671,-1.5149779998004103,0.9532291580822488,-0.6090837124882493,0.3227411219291712,-0.7102963110757138,0.9685976917922305,-1.6273564555122586,-0.26997632232261687,0.4664305003984084,-1.7148980989186615,-2.085838693728071,-0.47981762591576077,-1.4309049091324033,1.0607521681543464,-0.6815143040753355,0.6645812603974416,0.9860810645643229,0.2563569447942735,-2.1423037111768606,-1.0732088115948388,0.7108485369044182,-0.8731263881570848,0.5153511281340232,-1.3326420229312512,0.6345748561404732,0.6747922312219352,0.9220435111487199,0.8145414998684721,1.4494024251322482,-0.4046105499541477,0.9709078148000081,0.4560123319181205,-1.1688834854598367,-1.2339339772171016,-0.6403237776679068,1.6006853725989272,2.142474940540785,0.8456718040154797,-1.297547299398099,-1.7842878023837354,0.3158782098881666,0.733343427543188,-0.6303723424382413,0.6706642674342359,-0.2017611276899,-0.9683908013715276,0.15720943472838078,-1.050330114936557],\"xaxis\":\"x15\",\"y\":[-1.019845215214495,0.9877365302007481,-0.0002414153394359693,-0.3009501718907436,0.1528442192960556,1.7890215572223451,-0.3454828690527688,-0.7593304970099077,-0.2775213687255191,-0.47532516608440006,-0.9407390147047427,-1.0174709109479707,-1.5410786576195166,1.9010489460488615,1.1669329183116255,0.4698063482772931,0.6334745645586914,0.7395872832006877,1.2240932267865363,0.28419099859882874,-0.38261827168055274,-1.5730169000129444,-0.7944902925941919,-0.2528416989339552,0.02980206847738622,-0.422520505014938,0.7580509845907341,0.6295685319924799,0.531485957750703,0.9878349474892661,1.3805586170671806,-0.12134514520015137,-0.5134730868306024,-0.942085599306493,-0.8881506155594552,0.4380161427336133,-0.4193809036577704,0.16270549763488104,0.2949415737555115,-1.8002092129017204,1.0325806898691992,0.00670669274356046,-0.9302179219499509,-0.13934945945801333,0.8072901555704782,0.6953197102896636,-0.06345113597472722,0.1705548052314656,1.5922627470855404,0.27453688113298574,2.2978586259985168,0.8046195688779062,-1.2925537502223432,-0.08416500059625354,-0.282181149795798,-1.0964464318109248,0.5751885156977874,-0.7090710518256257,-2.3148965073348706,1.0734728539838683,-0.9651651899106336,-0.7988245009921736,-1.3406970075836449,0.3404527867871523,0.9651042611806991,0.336691888685937,-0.20854625034952354,-0.13576762613536608,-1.0655860987956474,-0.7184186018795983,0.8931288460174328,0.21132906888006356,-0.826753661948601,-0.6415012829267738,0.3163592292991244,0.05455705196080712,0.3185440413231679,-0.2920006159839012,-0.5405940340260305,-0.2698694977749048,0.5135443132670185,-0.1493646484760646,-1.4159736412253023,-3.396788844648568,0.6305244952795435,0.5389014723629197,0.17390008991304848,0.48318593385141073,-0.6581825518735038,0.20347503426314736,0.521692767296515,-0.4220964590807706,1.0860742448184495,2.2496905794227464,0.7415155182863553,2.107259003062655,0.646663661925784,-0.32273258499387286,-1.274840474845461,-1.4040423165244331],\"yaxis\":\"y15\",\"type\":\"scatter\"},{\"histfunc\":\"count\",\"histnorm\":\"\",\"marker\":{\"color\":\"rgba(128, 0, 128, 1.0)\",\"line\":{\"color\":\"#4D5663\",\"width\":1.3}},\"name\":\"D\",\"nbinsx\":10,\"opacity\":0.8,\"orientation\":\"v\",\"x\":[-1.019845215214495,0.9877365302007481,-0.0002414153394359693,-0.3009501718907436,0.1528442192960556,1.7890215572223451,-0.3454828690527688,-0.7593304970099077,-0.2775213687255191,-0.47532516608440006,-0.9407390147047427,-1.0174709109479707,-1.5410786576195166,1.9010489460488615,1.1669329183116255,0.4698063482772931,0.6334745645586914,0.7395872832006877,1.2240932267865363,0.28419099859882874,-0.38261827168055274,-1.5730169000129444,-0.7944902925941919,-0.2528416989339552,0.02980206847738622,-0.422520505014938,0.7580509845907341,0.6295685319924799,0.531485957750703,0.9878349474892661,1.3805586170671806,-0.12134514520015137,-0.5134730868306024,-0.942085599306493,-0.8881506155594552,0.4380161427336133,-0.4193809036577704,0.16270549763488104,0.2949415737555115,-1.8002092129017204,1.0325806898691992,0.00670669274356046,-0.9302179219499509,-0.13934945945801333,0.8072901555704782,0.6953197102896636,-0.06345113597472722,0.1705548052314656,1.5922627470855404,0.27453688113298574,2.2978586259985168,0.8046195688779062,-1.2925537502223432,-0.08416500059625354,-0.282181149795798,-1.0964464318109248,0.5751885156977874,-0.7090710518256257,-2.3148965073348706,1.0734728539838683,-0.9651651899106336,-0.7988245009921736,-1.3406970075836449,0.3404527867871523,0.9651042611806991,0.336691888685937,-0.20854625034952354,-0.13576762613536608,-1.0655860987956474,-0.7184186018795983,0.8931288460174328,0.21132906888006356,-0.826753661948601,-0.6415012829267738,0.3163592292991244,0.05455705196080712,0.3185440413231679,-0.2920006159839012,-0.5405940340260305,-0.2698694977749048,0.5135443132670185,-0.1493646484760646,-1.4159736412253023,-3.396788844648568,0.6305244952795435,0.5389014723629197,0.17390008991304848,0.48318593385141073,-0.6581825518735038,0.20347503426314736,0.521692767296515,-0.4220964590807706,1.0860742448184495,2.2496905794227464,0.7415155182863553,2.107259003062655,0.646663661925784,-0.32273258499387286,-1.274840474845461,-1.4040423165244331],\"xaxis\":\"x16\",\"yaxis\":\"y16\",\"type\":\"histogram\"}],                        {\"bargap\":0.02,\"legend\":{\"bgcolor\":\"#F5F6F9\",\"font\":{\"color\":\"#4D5663\"}},\"paper_bgcolor\":\"#F5F6F9\",\"plot_bgcolor\":\"#F5F6F9\",\"showlegend\":false,\"template\":{\"data\":{\"barpolar\":[{\"marker\":{\"line\":{\"color\":\"#E5ECF6\",\"width\":0.5},\"pattern\":{\"fillmode\":\"overlay\",\"size\":10,\"solidity\":0.2}},\"type\":\"barpolar\"}],\"bar\":[{\"error_x\":{\"color\":\"#2a3f5f\"},\"error_y\":{\"color\":\"#2a3f5f\"},\"marker\":{\"line\":{\"color\":\"#E5ECF6\",\"width\":0.5},\"pattern\":{\"fillmode\":\"overlay\",\"size\":10,\"solidity\":0.2}},\"type\":\"bar\"}],\"carpet\":[{\"aaxis\":{\"endlinecolor\":\"#2a3f5f\",\"gridcolor\":\"white\",\"linecolor\":\"white\",\"minorgridcolor\":\"white\",\"startlinecolor\":\"#2a3f5f\"},\"baxis\":{\"endlinecolor\":\"#2a3f5f\",\"gridcolor\":\"white\",\"linecolor\":\"white\",\"minorgridcolor\":\"white\",\"startlinecolor\":\"#2a3f5f\"},\"type\":\"carpet\"}],\"choropleth\":[{\"colorbar\":{\"outlinewidth\":0,\"ticks\":\"\"},\"type\":\"choropleth\"}],\"contourcarpet\":[{\"colorbar\":{\"outlinewidth\":0,\"ticks\":\"\"},\"type\":\"contourcarpet\"}],\"contour\":[{\"colorbar\":{\"outlinewidth\":0,\"ticks\":\"\"},\"colorscale\":[[0.0,\"#0d0887\"],[0.1111111111111111,\"#46039f\"],[0.2222222222222222,\"#7201a8\"],[0.3333333333333333,\"#9c179e\"],[0.4444444444444444,\"#bd3786\"],[0.5555555555555556,\"#d8576b\"],[0.6666666666666666,\"#ed7953\"],[0.7777777777777778,\"#fb9f3a\"],[0.8888888888888888,\"#fdca26\"],[1.0,\"#f0f921\"]],\"type\":\"contour\"}],\"heatmapgl\":[{\"colorbar\":{\"outlinewidth\":0,\"ticks\":\"\"},\"colorscale\":[[0.0,\"#0d0887\"],[0.1111111111111111,\"#46039f\"],[0.2222222222222222,\"#7201a8\"],[0.3333333333333333,\"#9c179e\"],[0.4444444444444444,\"#bd3786\"],[0.5555555555555556,\"#d8576b\"],[0.6666666666666666,\"#ed7953\"],[0.7777777777777778,\"#fb9f3a\"],[0.8888888888888888,\"#fdca26\"],[1.0,\"#f0f921\"]],\"type\":\"heatmapgl\"}],\"heatmap\":[{\"colorbar\":{\"outlinewidth\":0,\"ticks\":\"\"},\"colorscale\":[[0.0,\"#0d0887\"],[0.1111111111111111,\"#46039f\"],[0.2222222222222222,\"#7201a8\"],[0.3333333333333333,\"#9c179e\"],[0.4444444444444444,\"#bd3786\"],[0.5555555555555556,\"#d8576b\"],[0.6666666666666666,\"#ed7953\"],[0.7777777777777778,\"#fb9f3a\"],[0.8888888888888888,\"#fdca26\"],[1.0,\"#f0f921\"]],\"type\":\"heatmap\"}],\"histogram2dcontour\":[{\"colorbar\":{\"outlinewidth\":0,\"ticks\":\"\"},\"colorscale\":[[0.0,\"#0d0887\"],[0.1111111111111111,\"#46039f\"],[0.2222222222222222,\"#7201a8\"],[0.3333333333333333,\"#9c179e\"],[0.4444444444444444,\"#bd3786\"],[0.5555555555555556,\"#d8576b\"],[0.6666666666666666,\"#ed7953\"],[0.7777777777777778,\"#fb9f3a\"],[0.8888888888888888,\"#fdca26\"],[1.0,\"#f0f921\"]],\"type\":\"histogram2dcontour\"}],\"histogram2d\":[{\"colorbar\":{\"outlinewidth\":0,\"ticks\":\"\"},\"colorscale\":[[0.0,\"#0d0887\"],[0.1111111111111111,\"#46039f\"],[0.2222222222222222,\"#7201a8\"],[0.3333333333333333,\"#9c179e\"],[0.4444444444444444,\"#bd3786\"],[0.5555555555555556,\"#d8576b\"],[0.6666666666666666,\"#ed7953\"],[0.7777777777777778,\"#fb9f3a\"],[0.8888888888888888,\"#fdca26\"],[1.0,\"#f0f921\"]],\"type\":\"histogram2d\"}],\"histogram\":[{\"marker\":{\"pattern\":{\"fillmode\":\"overlay\",\"size\":10,\"solidity\":0.2}},\"type\":\"histogram\"}],\"mesh3d\":[{\"colorbar\":{\"outlinewidth\":0,\"ticks\":\"\"},\"type\":\"mesh3d\"}],\"parcoords\":[{\"line\":{\"colorbar\":{\"outlinewidth\":0,\"ticks\":\"\"}},\"type\":\"parcoords\"}],\"pie\":[{\"automargin\":true,\"type\":\"pie\"}],\"scatter3d\":[{\"line\":{\"colorbar\":{\"outlinewidth\":0,\"ticks\":\"\"}},\"marker\":{\"colorbar\":{\"outlinewidth\":0,\"ticks\":\"\"}},\"type\":\"scatter3d\"}],\"scattercarpet\":[{\"marker\":{\"colorbar\":{\"outlinewidth\":0,\"ticks\":\"\"}},\"type\":\"scattercarpet\"}],\"scattergeo\":[{\"marker\":{\"colorbar\":{\"outlinewidth\":0,\"ticks\":\"\"}},\"type\":\"scattergeo\"}],\"scattergl\":[{\"marker\":{\"colorbar\":{\"outlinewidth\":0,\"ticks\":\"\"}},\"type\":\"scattergl\"}],\"scattermapbox\":[{\"marker\":{\"colorbar\":{\"outlinewidth\":0,\"ticks\":\"\"}},\"type\":\"scattermapbox\"}],\"scatterpolargl\":[{\"marker\":{\"colorbar\":{\"outlinewidth\":0,\"ticks\":\"\"}},\"type\":\"scatterpolargl\"}],\"scatterpolar\":[{\"marker\":{\"colorbar\":{\"outlinewidth\":0,\"ticks\":\"\"}},\"type\":\"scatterpolar\"}],\"scatter\":[{\"fillpattern\":{\"fillmode\":\"overlay\",\"size\":10,\"solidity\":0.2},\"type\":\"scatter\"}],\"scatterternary\":[{\"marker\":{\"colorbar\":{\"outlinewidth\":0,\"ticks\":\"\"}},\"type\":\"scatterternary\"}],\"surface\":[{\"colorbar\":{\"outlinewidth\":0,\"ticks\":\"\"},\"colorscale\":[[0.0,\"#0d0887\"],[0.1111111111111111,\"#46039f\"],[0.2222222222222222,\"#7201a8\"],[0.3333333333333333,\"#9c179e\"],[0.4444444444444444,\"#bd3786\"],[0.5555555555555556,\"#d8576b\"],[0.6666666666666666,\"#ed7953\"],[0.7777777777777778,\"#fb9f3a\"],[0.8888888888888888,\"#fdca26\"],[1.0,\"#f0f921\"]],\"type\":\"surface\"}],\"table\":[{\"cells\":{\"fill\":{\"color\":\"#EBF0F8\"},\"line\":{\"color\":\"white\"}},\"header\":{\"fill\":{\"color\":\"#C8D4E3\"},\"line\":{\"color\":\"white\"}},\"type\":\"table\"}]},\"layout\":{\"annotationdefaults\":{\"arrowcolor\":\"#2a3f5f\",\"arrowhead\":0,\"arrowwidth\":1},\"autotypenumbers\":\"strict\",\"coloraxis\":{\"colorbar\":{\"outlinewidth\":0,\"ticks\":\"\"}},\"colorscale\":{\"diverging\":[[0,\"#8e0152\"],[0.1,\"#c51b7d\"],[0.2,\"#de77ae\"],[0.3,\"#f1b6da\"],[0.4,\"#fde0ef\"],[0.5,\"#f7f7f7\"],[0.6,\"#e6f5d0\"],[0.7,\"#b8e186\"],[0.8,\"#7fbc41\"],[0.9,\"#4d9221\"],[1,\"#276419\"]],\"sequential\":[[0.0,\"#0d0887\"],[0.1111111111111111,\"#46039f\"],[0.2222222222222222,\"#7201a8\"],[0.3333333333333333,\"#9c179e\"],[0.4444444444444444,\"#bd3786\"],[0.5555555555555556,\"#d8576b\"],[0.6666666666666666,\"#ed7953\"],[0.7777777777777778,\"#fb9f3a\"],[0.8888888888888888,\"#fdca26\"],[1.0,\"#f0f921\"]],\"sequentialminus\":[[0.0,\"#0d0887\"],[0.1111111111111111,\"#46039f\"],[0.2222222222222222,\"#7201a8\"],[0.3333333333333333,\"#9c179e\"],[0.4444444444444444,\"#bd3786\"],[0.5555555555555556,\"#d8576b\"],[0.6666666666666666,\"#ed7953\"],[0.7777777777777778,\"#fb9f3a\"],[0.8888888888888888,\"#fdca26\"],[1.0,\"#f0f921\"]]},\"colorway\":[\"#636efa\",\"#EF553B\",\"#00cc96\",\"#ab63fa\",\"#FFA15A\",\"#19d3f3\",\"#FF6692\",\"#B6E880\",\"#FF97FF\",\"#FECB52\"],\"font\":{\"color\":\"#2a3f5f\"},\"geo\":{\"bgcolor\":\"white\",\"lakecolor\":\"white\",\"landcolor\":\"#E5ECF6\",\"showlakes\":true,\"showland\":true,\"subunitcolor\":\"white\"},\"hoverlabel\":{\"align\":\"left\"},\"hovermode\":\"closest\",\"mapbox\":{\"style\":\"light\"},\"paper_bgcolor\":\"white\",\"plot_bgcolor\":\"#E5ECF6\",\"polar\":{\"angularaxis\":{\"gridcolor\":\"white\",\"linecolor\":\"white\",\"ticks\":\"\"},\"bgcolor\":\"#E5ECF6\",\"radialaxis\":{\"gridcolor\":\"white\",\"linecolor\":\"white\",\"ticks\":\"\"}},\"scene\":{\"xaxis\":{\"backgroundcolor\":\"#E5ECF6\",\"gridcolor\":\"white\",\"gridwidth\":2,\"linecolor\":\"white\",\"showbackground\":true,\"ticks\":\"\",\"zerolinecolor\":\"white\"},\"yaxis\":{\"backgroundcolor\":\"#E5ECF6\",\"gridcolor\":\"white\",\"gridwidth\":2,\"linecolor\":\"white\",\"showbackground\":true,\"ticks\":\"\",\"zerolinecolor\":\"white\"},\"zaxis\":{\"backgroundcolor\":\"#E5ECF6\",\"gridcolor\":\"white\",\"gridwidth\":2,\"linecolor\":\"white\",\"showbackground\":true,\"ticks\":\"\",\"zerolinecolor\":\"white\"}},\"shapedefaults\":{\"line\":{\"color\":\"#2a3f5f\"}},\"ternary\":{\"aaxis\":{\"gridcolor\":\"white\",\"linecolor\":\"white\",\"ticks\":\"\"},\"baxis\":{\"gridcolor\":\"white\",\"linecolor\":\"white\",\"ticks\":\"\"},\"bgcolor\":\"#E5ECF6\",\"caxis\":{\"gridcolor\":\"white\",\"linecolor\":\"white\",\"ticks\":\"\"}},\"title\":{\"x\":0.05},\"xaxis\":{\"automargin\":true,\"gridcolor\":\"white\",\"linecolor\":\"white\",\"ticks\":\"\",\"title\":{\"standoff\":15},\"zerolinecolor\":\"white\",\"zerolinewidth\":2},\"yaxis\":{\"automargin\":true,\"gridcolor\":\"white\",\"linecolor\":\"white\",\"ticks\":\"\",\"title\":{\"standoff\":15},\"zerolinecolor\":\"white\",\"zerolinewidth\":2}}},\"title\":{\"font\":{\"color\":\"#4D5663\"}},\"xaxis\":{\"anchor\":\"y\",\"domain\":[0.0,0.2125],\"gridcolor\":\"#E1E5ED\",\"showgrid\":false,\"tickfont\":{\"color\":\"#4D5663\"},\"title\":{\"font\":{\"color\":\"#4D5663\"},\"text\":\"\"},\"zerolinecolor\":\"#E1E5ED\"},\"yaxis\":{\"anchor\":\"x\",\"domain\":[0.8025,1.0],\"gridcolor\":\"#E1E5ED\",\"showgrid\":false,\"tickfont\":{\"color\":\"#4D5663\"},\"title\":{\"font\":{\"color\":\"#4D5663\"},\"text\":\"\"},\"zerolinecolor\":\"#E1E5ED\"},\"xaxis2\":{\"anchor\":\"y2\",\"domain\":[0.2625,0.475],\"gridcolor\":\"#E1E5ED\",\"showgrid\":false,\"tickfont\":{\"color\":\"#4D5663\"},\"title\":{\"font\":{\"color\":\"#4D5663\"},\"text\":\"\"},\"zerolinecolor\":\"#E1E5ED\"},\"yaxis2\":{\"anchor\":\"x2\",\"domain\":[0.8025,1.0],\"gridcolor\":\"#E1E5ED\",\"showgrid\":false,\"tickfont\":{\"color\":\"#4D5663\"},\"title\":{\"font\":{\"color\":\"#4D5663\"},\"text\":\"\"},\"zerolinecolor\":\"#E1E5ED\"},\"xaxis3\":{\"anchor\":\"y3\",\"domain\":[0.525,0.7375],\"gridcolor\":\"#E1E5ED\",\"showgrid\":false,\"tickfont\":{\"color\":\"#4D5663\"},\"title\":{\"font\":{\"color\":\"#4D5663\"},\"text\":\"\"},\"zerolinecolor\":\"#E1E5ED\"},\"yaxis3\":{\"anchor\":\"x3\",\"domain\":[0.8025,1.0],\"gridcolor\":\"#E1E5ED\",\"showgrid\":false,\"tickfont\":{\"color\":\"#4D5663\"},\"title\":{\"font\":{\"color\":\"#4D5663\"},\"text\":\"\"},\"zerolinecolor\":\"#E1E5ED\"},\"xaxis4\":{\"anchor\":\"y4\",\"domain\":[0.7875,1.0],\"gridcolor\":\"#E1E5ED\",\"showgrid\":false,\"tickfont\":{\"color\":\"#4D5663\"},\"title\":{\"font\":{\"color\":\"#4D5663\"},\"text\":\"\"},\"zerolinecolor\":\"#E1E5ED\"},\"yaxis4\":{\"anchor\":\"x4\",\"domain\":[0.8025,1.0],\"gridcolor\":\"#E1E5ED\",\"showgrid\":false,\"tickfont\":{\"color\":\"#4D5663\"},\"title\":{\"font\":{\"color\":\"#4D5663\"},\"text\":\"\"},\"zerolinecolor\":\"#E1E5ED\"},\"xaxis5\":{\"anchor\":\"y5\",\"domain\":[0.0,0.2125],\"gridcolor\":\"#E1E5ED\",\"showgrid\":false,\"tickfont\":{\"color\":\"#4D5663\"},\"title\":{\"font\":{\"color\":\"#4D5663\"},\"text\":\"\"},\"zerolinecolor\":\"#E1E5ED\"},\"yaxis5\":{\"anchor\":\"x5\",\"domain\":[0.535,0.7325],\"gridcolor\":\"#E1E5ED\",\"showgrid\":false,\"tickfont\":{\"color\":\"#4D5663\"},\"title\":{\"font\":{\"color\":\"#4D5663\"},\"text\":\"\"},\"zerolinecolor\":\"#E1E5ED\"},\"xaxis6\":{\"anchor\":\"y6\",\"domain\":[0.2625,0.475],\"gridcolor\":\"#E1E5ED\",\"showgrid\":false,\"tickfont\":{\"color\":\"#4D5663\"},\"title\":{\"font\":{\"color\":\"#4D5663\"},\"text\":\"\"},\"zerolinecolor\":\"#E1E5ED\"},\"yaxis6\":{\"anchor\":\"x6\",\"domain\":[0.535,0.7325],\"gridcolor\":\"#E1E5ED\",\"showgrid\":false,\"tickfont\":{\"color\":\"#4D5663\"},\"title\":{\"font\":{\"color\":\"#4D5663\"},\"text\":\"\"},\"zerolinecolor\":\"#E1E5ED\"},\"xaxis7\":{\"anchor\":\"y7\",\"domain\":[0.525,0.7375],\"gridcolor\":\"#E1E5ED\",\"showgrid\":false,\"tickfont\":{\"color\":\"#4D5663\"},\"title\":{\"font\":{\"color\":\"#4D5663\"},\"text\":\"\"},\"zerolinecolor\":\"#E1E5ED\"},\"yaxis7\":{\"anchor\":\"x7\",\"domain\":[0.535,0.7325],\"gridcolor\":\"#E1E5ED\",\"showgrid\":false,\"tickfont\":{\"color\":\"#4D5663\"},\"title\":{\"font\":{\"color\":\"#4D5663\"},\"text\":\"\"},\"zerolinecolor\":\"#E1E5ED\"},\"xaxis8\":{\"anchor\":\"y8\",\"domain\":[0.7875,1.0],\"gridcolor\":\"#E1E5ED\",\"showgrid\":false,\"tickfont\":{\"color\":\"#4D5663\"},\"title\":{\"font\":{\"color\":\"#4D5663\"},\"text\":\"\"},\"zerolinecolor\":\"#E1E5ED\"},\"yaxis8\":{\"anchor\":\"x8\",\"domain\":[0.535,0.7325],\"gridcolor\":\"#E1E5ED\",\"showgrid\":false,\"tickfont\":{\"color\":\"#4D5663\"},\"title\":{\"font\":{\"color\":\"#4D5663\"},\"text\":\"\"},\"zerolinecolor\":\"#E1E5ED\"},\"xaxis9\":{\"anchor\":\"y9\",\"domain\":[0.0,0.2125],\"gridcolor\":\"#E1E5ED\",\"showgrid\":false,\"tickfont\":{\"color\":\"#4D5663\"},\"title\":{\"font\":{\"color\":\"#4D5663\"},\"text\":\"\"},\"zerolinecolor\":\"#E1E5ED\"},\"yaxis9\":{\"anchor\":\"x9\",\"domain\":[0.2675,0.465],\"gridcolor\":\"#E1E5ED\",\"showgrid\":false,\"tickfont\":{\"color\":\"#4D5663\"},\"title\":{\"font\":{\"color\":\"#4D5663\"},\"text\":\"\"},\"zerolinecolor\":\"#E1E5ED\"},\"xaxis10\":{\"anchor\":\"y10\",\"domain\":[0.2625,0.475],\"gridcolor\":\"#E1E5ED\",\"showgrid\":false,\"tickfont\":{\"color\":\"#4D5663\"},\"title\":{\"font\":{\"color\":\"#4D5663\"},\"text\":\"\"},\"zerolinecolor\":\"#E1E5ED\"},\"yaxis10\":{\"anchor\":\"x10\",\"domain\":[0.2675,0.465],\"gridcolor\":\"#E1E5ED\",\"showgrid\":false,\"tickfont\":{\"color\":\"#4D5663\"},\"title\":{\"font\":{\"color\":\"#4D5663\"},\"text\":\"\"},\"zerolinecolor\":\"#E1E5ED\"},\"xaxis11\":{\"anchor\":\"y11\",\"domain\":[0.525,0.7375],\"gridcolor\":\"#E1E5ED\",\"showgrid\":false,\"tickfont\":{\"color\":\"#4D5663\"},\"title\":{\"font\":{\"color\":\"#4D5663\"},\"text\":\"\"},\"zerolinecolor\":\"#E1E5ED\"},\"yaxis11\":{\"anchor\":\"x11\",\"domain\":[0.2675,0.465],\"gridcolor\":\"#E1E5ED\",\"showgrid\":false,\"tickfont\":{\"color\":\"#4D5663\"},\"title\":{\"font\":{\"color\":\"#4D5663\"},\"text\":\"\"},\"zerolinecolor\":\"#E1E5ED\"},\"xaxis12\":{\"anchor\":\"y12\",\"domain\":[0.7875,1.0],\"gridcolor\":\"#E1E5ED\",\"showgrid\":false,\"tickfont\":{\"color\":\"#4D5663\"},\"title\":{\"font\":{\"color\":\"#4D5663\"},\"text\":\"\"},\"zerolinecolor\":\"#E1E5ED\"},\"yaxis12\":{\"anchor\":\"x12\",\"domain\":[0.2675,0.465],\"gridcolor\":\"#E1E5ED\",\"showgrid\":false,\"tickfont\":{\"color\":\"#4D5663\"},\"title\":{\"font\":{\"color\":\"#4D5663\"},\"text\":\"\"},\"zerolinecolor\":\"#E1E5ED\"},\"xaxis13\":{\"anchor\":\"y13\",\"domain\":[0.0,0.2125],\"gridcolor\":\"#E1E5ED\",\"showgrid\":false,\"tickfont\":{\"color\":\"#4D5663\"},\"title\":{\"font\":{\"color\":\"#4D5663\"},\"text\":\"\"},\"zerolinecolor\":\"#E1E5ED\"},\"yaxis13\":{\"anchor\":\"x13\",\"domain\":[0.0,0.1975],\"gridcolor\":\"#E1E5ED\",\"showgrid\":false,\"tickfont\":{\"color\":\"#4D5663\"},\"title\":{\"font\":{\"color\":\"#4D5663\"},\"text\":\"\"},\"zerolinecolor\":\"#E1E5ED\"},\"xaxis14\":{\"anchor\":\"y14\",\"domain\":[0.2625,0.475],\"gridcolor\":\"#E1E5ED\",\"showgrid\":false,\"tickfont\":{\"color\":\"#4D5663\"},\"title\":{\"font\":{\"color\":\"#4D5663\"},\"text\":\"\"},\"zerolinecolor\":\"#E1E5ED\"},\"yaxis14\":{\"anchor\":\"x14\",\"domain\":[0.0,0.1975],\"gridcolor\":\"#E1E5ED\",\"showgrid\":false,\"tickfont\":{\"color\":\"#4D5663\"},\"title\":{\"font\":{\"color\":\"#4D5663\"},\"text\":\"\"},\"zerolinecolor\":\"#E1E5ED\"},\"xaxis15\":{\"anchor\":\"y15\",\"domain\":[0.525,0.7375],\"gridcolor\":\"#E1E5ED\",\"showgrid\":false,\"tickfont\":{\"color\":\"#4D5663\"},\"title\":{\"font\":{\"color\":\"#4D5663\"},\"text\":\"\"},\"zerolinecolor\":\"#E1E5ED\"},\"yaxis15\":{\"anchor\":\"x15\",\"domain\":[0.0,0.1975],\"gridcolor\":\"#E1E5ED\",\"showgrid\":false,\"tickfont\":{\"color\":\"#4D5663\"},\"title\":{\"font\":{\"color\":\"#4D5663\"},\"text\":\"\"},\"zerolinecolor\":\"#E1E5ED\"},\"xaxis16\":{\"anchor\":\"y16\",\"domain\":[0.7875,1.0],\"gridcolor\":\"#E1E5ED\",\"showgrid\":false,\"tickfont\":{\"color\":\"#4D5663\"},\"title\":{\"font\":{\"color\":\"#4D5663\"},\"text\":\"\"},\"zerolinecolor\":\"#E1E5ED\"},\"yaxis16\":{\"anchor\":\"x16\",\"domain\":[0.0,0.1975],\"gridcolor\":\"#E1E5ED\",\"showgrid\":false,\"tickfont\":{\"color\":\"#4D5663\"},\"title\":{\"font\":{\"color\":\"#4D5663\"},\"text\":\"\"},\"zerolinecolor\":\"#E1E5ED\"}},                        {\"showLink\": true, \"linkText\": \"Export to plot.ly\", \"plotlyServerURL\": \"https://plot.ly\", \"responsive\": true}                    ).then(function(){\n",
       "                            \n",
       "var gd = document.getElementById('775d0641-89ec-4ade-8c2a-136e2ec81a4d');\n",
       "var x = new MutationObserver(function (mutations, observer) {{\n",
       "        var display = window.getComputedStyle(gd).display;\n",
       "        if (!display || display === 'none') {{\n",
       "            console.log([gd, 'removed!']);\n",
       "            Plotly.purge(gd);\n",
       "            observer.disconnect();\n",
       "        }}\n",
       "}});\n",
       "\n",
       "// Listen for the removal of the full notebook cells\n",
       "var notebookContainer = gd.closest('#notebook-container');\n",
       "if (notebookContainer) {{\n",
       "    x.observe(notebookContainer, {childList: true});\n",
       "}}\n",
       "\n",
       "// Listen for the clearing of the current output cell\n",
       "var outputEl = gd.closest('.output');\n",
       "if (outputEl) {{\n",
       "    x.observe(outputEl, {childList: true});\n",
       "}}\n",
       "\n",
       "                        })                };                });            </script>        </div>"
      ]
     },
     "metadata": {},
     "output_type": "display_data"
    }
   ],
   "source": [
    "df.scatter_matrix()\n",
    "#need all numeric data, like pair plot"
   ]
  }
 ],
 "metadata": {
  "kernelspec": {
   "display_name": "Python 3 (ipykernel)",
   "language": "python",
   "name": "python3"
  },
  "language_info": {
   "codemirror_mode": {
    "name": "ipython",
    "version": 3
   },
   "file_extension": ".py",
   "mimetype": "text/x-python",
   "name": "python",
   "nbconvert_exporter": "python",
   "pygments_lexer": "ipython3",
   "version": "3.11.4"
  }
 },
 "nbformat": 4,
 "nbformat_minor": 1
}
